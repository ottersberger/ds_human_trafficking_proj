{
 "cells": [
  {
   "cell_type": "markdown",
   "metadata": {},
   "source": [
    "# Human Trafficking and Victim Exploitation"
   ]
  },
  {
   "cell_type": "markdown",
   "metadata": {},
   "source": [
    "### Import Project libraries"
   ]
  },
  {
   "cell_type": "code",
   "execution_count": 1,
   "metadata": {},
   "outputs": [],
   "source": [
    "import pandas as pd\n",
    "import numpy as np\n",
    "import seaborn as sns; sns.set_theme()\n",
    "import matplotlib.pyplot as plt\n",
    "import plotly\n",
    "import plotly.express as px\n",
    "import plotly.graph_objects as go\n",
    "\n",
    "from sklearn import tree\n",
    "from sklearn.tree import DecisionTreeClassifier\n",
    "from sklearn import preprocessing\n",
    "import graphviz\n",
    "\n",
    "import warnings\n",
    "warnings.filterwarnings('ignore')\n",
    "\n",
    "#!pip install --quiet jupyterlab==1.2 \"ipywidgets==7.5\"\n",
    "#!pip install --quiet -U plotly\n",
    "#!pip install --quiet pycountry_convert\n",
    "from pycountry_convert import country_alpha2_to_country_name, country_name_to_country_alpha3\n",
    "import os\n",
    "\n",
    "\n",
    "%matplotlib inline"
   ]
  },
  {
   "cell_type": "markdown",
   "metadata": {},
   "source": [
    "### Loading project data\n",
    "The data used for the project will be obtained in url from https://www.ctdatacollaborative.org"
   ]
  },
  {
   "cell_type": "code",
   "execution_count": 2,
   "metadata": {
    "scrolled": true
   },
   "outputs": [],
   "source": [
    "df = pd.read_csv('https://www.ctdatacollaborative.org/sites/default/files/The%20Global%20Dataset%2014%20Apr%202020.csv', dtype = 'object')"
   ]
  },
  {
   "cell_type": "markdown",
   "metadata": {},
   "source": [
    "# Data Cleaning"
   ]
  },
  {
   "cell_type": "markdown",
   "metadata": {},
   "source": [
    "### Remove an unrequired index column"
   ]
  },
  {
   "cell_type": "code",
   "execution_count": 3,
   "metadata": {
    "scrolled": true
   },
   "outputs": [],
   "source": [
    "df.drop(df.columns[0], axis=1, inplace=True)"
   ]
  },
  {
   "cell_type": "markdown",
   "metadata": {},
   "source": [
    "### Columns, Row Count and Type\n",
    "\n",
    "We now have 63 different columns and some missing data in across the columns"
   ]
  },
  {
   "cell_type": "markdown",
   "metadata": {},
   "source": [
    "### Show the DataFrame"
   ]
  },
  {
   "cell_type": "code",
   "execution_count": 4,
   "metadata": {
    "scrolled": true
   },
   "outputs": [
    {
     "name": "stdout",
     "output_type": "stream",
     "text": [
      "<class 'pandas.core.frame.DataFrame'>\n",
      "RangeIndex: 48801 entries, 0 to 48800\n",
      "Data columns (total 63 columns):\n",
      " #   Column                                  Non-Null Count  Dtype \n",
      "---  ------                                  --------------  ----- \n",
      " 0   yearOfRegistration                      48801 non-null  object\n",
      " 1   Datasource                              48801 non-null  object\n",
      " 2   gender                                  48801 non-null  object\n",
      " 3   ageBroad                                48801 non-null  object\n",
      " 4   majorityStatus                          48801 non-null  object\n",
      " 5   majorityStatusAtExploit                 48801 non-null  object\n",
      " 6   majorityEntry                           48801 non-null  object\n",
      " 7   citizenship                             48801 non-null  object\n",
      " 8   meansOfControlDebtBondage               48801 non-null  object\n",
      " 9   meansOfControlTakesEarnings             48801 non-null  object\n",
      " 10  meansOfControlRestrictsFinancialAccess  48801 non-null  object\n",
      " 11  meansOfControlThreats                   48801 non-null  object\n",
      " 12  meansOfControlPsychologicalAbuse        48801 non-null  object\n",
      " 13  meansOfControlPhysicalAbuse             48801 non-null  object\n",
      " 14  meansOfControlSexualAbuse               48801 non-null  object\n",
      " 15  meansOfControlFalsePromises             48801 non-null  object\n",
      " 16  meansOfControlPsychoactiveSubstances    48801 non-null  object\n",
      " 17  meansOfControlRestrictsMovement         48801 non-null  object\n",
      " 18  meansOfControlRestrictsMedicalCare      48801 non-null  object\n",
      " 19  meansOfControlExcessiveWorkingHours     48801 non-null  object\n",
      " 20  meansOfControlUsesChildren              48801 non-null  object\n",
      " 21  meansOfControlThreatOfLawEnforcement    48801 non-null  object\n",
      " 22  meansOfControlWithholdsNecessities      48801 non-null  object\n",
      " 23  meansOfControlWithholdsDocuments        48801 non-null  object\n",
      " 24  meansOfControlOther                     48801 non-null  object\n",
      " 25  meansOfControlNotSpecified              48801 non-null  object\n",
      " 26  meansOfControlConcatenated              48801 non-null  object\n",
      " 27  isForcedLabour                          48801 non-null  object\n",
      " 28  isSexualExploit                         48801 non-null  object\n",
      " 29  isOtherExploit                          48801 non-null  object\n",
      " 30  isSexAndLabour                          48801 non-null  object\n",
      " 31  isForcedMarriage                        48801 non-null  object\n",
      " 32  isForcedMilitary                        48801 non-null  object\n",
      " 33  isOrganRemoval                          48801 non-null  object\n",
      " 34  isSlaveryAndPractices                   48801 non-null  object\n",
      " 35  typeOfExploitConcatenated               48801 non-null  object\n",
      " 36  typeOfLabourAgriculture                 48801 non-null  object\n",
      " 37  typeOfLabourAquafarming                 48801 non-null  object\n",
      " 38  typeOfLabourBegging                     48801 non-null  object\n",
      " 39  typeOfLabourConstruction                48801 non-null  object\n",
      " 40  typeOfLabourDomesticWork                48801 non-null  object\n",
      " 41  typeOfLabourHospitality                 48801 non-null  object\n",
      " 42  typeOfLabourIllicitActivities           48801 non-null  object\n",
      " 43  typeOfLabourManufacturing               48801 non-null  object\n",
      " 44  typeOfLabourMiningOrDrilling            48801 non-null  object\n",
      " 45  typeOfLabourPeddling                    48801 non-null  object\n",
      " 46  typeOfLabourTransportation              48801 non-null  object\n",
      " 47  typeOfLabourOther                       48801 non-null  object\n",
      " 48  typeOfLabourNotSpecified                48801 non-null  object\n",
      " 49  typeOfLabourConcatenated                48801 non-null  object\n",
      " 50  typeOfSexProstitution                   48801 non-null  object\n",
      " 51  typeOfSexPornography                    48801 non-null  object\n",
      " 52  typeOfSexRemoteInteractiveServices      48801 non-null  object\n",
      " 53  typeOfSexPrivateSexualServices          48801 non-null  object\n",
      " 54  typeOfSexConcatenated                   48801 non-null  object\n",
      " 55  isAbduction                             48801 non-null  object\n",
      " 56  RecruiterRelationship                   48801 non-null  object\n",
      " 57  CountryOfExploitation                   48801 non-null  object\n",
      " 58  recruiterRelationIntimatePartner        48801 non-null  object\n",
      " 59  recruiterRelationFriend                 48801 non-null  object\n",
      " 60  recruiterRelationFamily                 48801 non-null  object\n",
      " 61  recruiterRelationOther                  48801 non-null  object\n",
      " 62  recruiterRelationUnknown                48801 non-null  object\n",
      "dtypes: object(63)\n",
      "memory usage: 23.5+ MB\n"
     ]
    }
   ],
   "source": [
    "df.info()"
   ]
  },
  {
   "cell_type": "markdown",
   "metadata": {},
   "source": [
    "### Let's check our data again\n",
    "This is the new DataFrame. Notice that the original index colums has been dropped, and we now have 63 columns left from the original 64 columns"
   ]
  },
  {
   "cell_type": "code",
   "execution_count": 5,
   "metadata": {},
   "outputs": [
    {
     "data": {
      "text/html": [
       "<div>\n",
       "<style scoped>\n",
       "    .dataframe tbody tr th:only-of-type {\n",
       "        vertical-align: middle;\n",
       "    }\n",
       "\n",
       "    .dataframe tbody tr th {\n",
       "        vertical-align: top;\n",
       "    }\n",
       "\n",
       "    .dataframe thead th {\n",
       "        text-align: right;\n",
       "    }\n",
       "</style>\n",
       "<table border=\"1\" class=\"dataframe\">\n",
       "  <thead>\n",
       "    <tr style=\"text-align: right;\">\n",
       "      <th></th>\n",
       "      <th>yearOfRegistration</th>\n",
       "      <th>Datasource</th>\n",
       "      <th>gender</th>\n",
       "      <th>ageBroad</th>\n",
       "      <th>majorityStatus</th>\n",
       "      <th>majorityStatusAtExploit</th>\n",
       "      <th>majorityEntry</th>\n",
       "      <th>citizenship</th>\n",
       "      <th>meansOfControlDebtBondage</th>\n",
       "      <th>meansOfControlTakesEarnings</th>\n",
       "      <th>...</th>\n",
       "      <th>typeOfSexPrivateSexualServices</th>\n",
       "      <th>typeOfSexConcatenated</th>\n",
       "      <th>isAbduction</th>\n",
       "      <th>RecruiterRelationship</th>\n",
       "      <th>CountryOfExploitation</th>\n",
       "      <th>recruiterRelationIntimatePartner</th>\n",
       "      <th>recruiterRelationFriend</th>\n",
       "      <th>recruiterRelationFamily</th>\n",
       "      <th>recruiterRelationOther</th>\n",
       "      <th>recruiterRelationUnknown</th>\n",
       "    </tr>\n",
       "  </thead>\n",
       "  <tbody>\n",
       "    <tr>\n",
       "      <th>0</th>\n",
       "      <td>2002</td>\n",
       "      <td>Case Management</td>\n",
       "      <td>Female</td>\n",
       "      <td>18--20</td>\n",
       "      <td>Adult</td>\n",
       "      <td>-99</td>\n",
       "      <td>-99</td>\n",
       "      <td>CO</td>\n",
       "      <td>-99</td>\n",
       "      <td>-99</td>\n",
       "      <td>...</td>\n",
       "      <td>-99</td>\n",
       "      <td>-99</td>\n",
       "      <td>-99</td>\n",
       "      <td>-99</td>\n",
       "      <td>-99</td>\n",
       "      <td>0</td>\n",
       "      <td>0</td>\n",
       "      <td>0</td>\n",
       "      <td>0</td>\n",
       "      <td>1</td>\n",
       "    </tr>\n",
       "    <tr>\n",
       "      <th>1</th>\n",
       "      <td>2002</td>\n",
       "      <td>Case Management</td>\n",
       "      <td>Female</td>\n",
       "      <td>18--20</td>\n",
       "      <td>Adult</td>\n",
       "      <td>-99</td>\n",
       "      <td>-99</td>\n",
       "      <td>CO</td>\n",
       "      <td>-99</td>\n",
       "      <td>-99</td>\n",
       "      <td>...</td>\n",
       "      <td>-99</td>\n",
       "      <td>-99</td>\n",
       "      <td>-99</td>\n",
       "      <td>-99</td>\n",
       "      <td>-99</td>\n",
       "      <td>0</td>\n",
       "      <td>0</td>\n",
       "      <td>0</td>\n",
       "      <td>0</td>\n",
       "      <td>1</td>\n",
       "    </tr>\n",
       "    <tr>\n",
       "      <th>2</th>\n",
       "      <td>2002</td>\n",
       "      <td>Case Management</td>\n",
       "      <td>Female</td>\n",
       "      <td>18--20</td>\n",
       "      <td>Adult</td>\n",
       "      <td>-99</td>\n",
       "      <td>-99</td>\n",
       "      <td>CO</td>\n",
       "      <td>-99</td>\n",
       "      <td>-99</td>\n",
       "      <td>...</td>\n",
       "      <td>-99</td>\n",
       "      <td>-99</td>\n",
       "      <td>-99</td>\n",
       "      <td>-99</td>\n",
       "      <td>-99</td>\n",
       "      <td>0</td>\n",
       "      <td>0</td>\n",
       "      <td>0</td>\n",
       "      <td>0</td>\n",
       "      <td>1</td>\n",
       "    </tr>\n",
       "    <tr>\n",
       "      <th>3</th>\n",
       "      <td>2002</td>\n",
       "      <td>Case Management</td>\n",
       "      <td>Female</td>\n",
       "      <td>18--20</td>\n",
       "      <td>Adult</td>\n",
       "      <td>-99</td>\n",
       "      <td>-99</td>\n",
       "      <td>CO</td>\n",
       "      <td>-99</td>\n",
       "      <td>-99</td>\n",
       "      <td>...</td>\n",
       "      <td>-99</td>\n",
       "      <td>-99</td>\n",
       "      <td>-99</td>\n",
       "      <td>-99</td>\n",
       "      <td>-99</td>\n",
       "      <td>0</td>\n",
       "      <td>0</td>\n",
       "      <td>0</td>\n",
       "      <td>0</td>\n",
       "      <td>1</td>\n",
       "    </tr>\n",
       "    <tr>\n",
       "      <th>4</th>\n",
       "      <td>2002</td>\n",
       "      <td>Case Management</td>\n",
       "      <td>Female</td>\n",
       "      <td>18--20</td>\n",
       "      <td>Adult</td>\n",
       "      <td>-99</td>\n",
       "      <td>-99</td>\n",
       "      <td>CO</td>\n",
       "      <td>-99</td>\n",
       "      <td>-99</td>\n",
       "      <td>...</td>\n",
       "      <td>-99</td>\n",
       "      <td>-99</td>\n",
       "      <td>-99</td>\n",
       "      <td>-99</td>\n",
       "      <td>-99</td>\n",
       "      <td>0</td>\n",
       "      <td>0</td>\n",
       "      <td>0</td>\n",
       "      <td>0</td>\n",
       "      <td>1</td>\n",
       "    </tr>\n",
       "  </tbody>\n",
       "</table>\n",
       "<p>5 rows × 63 columns</p>\n",
       "</div>"
      ],
      "text/plain": [
       "  yearOfRegistration       Datasource  gender ageBroad majorityStatus  \\\n",
       "0               2002  Case Management  Female   18--20          Adult   \n",
       "1               2002  Case Management  Female   18--20          Adult   \n",
       "2               2002  Case Management  Female   18--20          Adult   \n",
       "3               2002  Case Management  Female   18--20          Adult   \n",
       "4               2002  Case Management  Female   18--20          Adult   \n",
       "\n",
       "  majorityStatusAtExploit majorityEntry citizenship meansOfControlDebtBondage  \\\n",
       "0                     -99           -99          CO                       -99   \n",
       "1                     -99           -99          CO                       -99   \n",
       "2                     -99           -99          CO                       -99   \n",
       "3                     -99           -99          CO                       -99   \n",
       "4                     -99           -99          CO                       -99   \n",
       "\n",
       "  meansOfControlTakesEarnings  ... typeOfSexPrivateSexualServices  \\\n",
       "0                         -99  ...                            -99   \n",
       "1                         -99  ...                            -99   \n",
       "2                         -99  ...                            -99   \n",
       "3                         -99  ...                            -99   \n",
       "4                         -99  ...                            -99   \n",
       "\n",
       "  typeOfSexConcatenated isAbduction RecruiterRelationship  \\\n",
       "0                   -99         -99                   -99   \n",
       "1                   -99         -99                   -99   \n",
       "2                   -99         -99                   -99   \n",
       "3                   -99         -99                   -99   \n",
       "4                   -99         -99                   -99   \n",
       "\n",
       "  CountryOfExploitation recruiterRelationIntimatePartner  \\\n",
       "0                   -99                                0   \n",
       "1                   -99                                0   \n",
       "2                   -99                                0   \n",
       "3                   -99                                0   \n",
       "4                   -99                                0   \n",
       "\n",
       "  recruiterRelationFriend recruiterRelationFamily recruiterRelationOther  \\\n",
       "0                       0                       0                      0   \n",
       "1                       0                       0                      0   \n",
       "2                       0                       0                      0   \n",
       "3                       0                       0                      0   \n",
       "4                       0                       0                      0   \n",
       "\n",
       "  recruiterRelationUnknown  \n",
       "0                        1  \n",
       "1                        1  \n",
       "2                        1  \n",
       "3                        1  \n",
       "4                        1  \n",
       "\n",
       "[5 rows x 63 columns]"
      ]
     },
     "execution_count": 5,
     "metadata": {},
     "output_type": "execute_result"
    }
   ],
   "source": [
    "df.head()"
   ]
  },
  {
   "cell_type": "markdown",
   "metadata": {},
   "source": [
    "### Lets's handle missing values"
   ]
  },
  {
   "cell_type": "code",
   "execution_count": 6,
   "metadata": {},
   "outputs": [],
   "source": [
    "df.replace('-99', np.nan, inplace=True)\n",
    "df.replace(-99, np.nan, inplace=True)\n",
    "df.replace('00', np.nan, inplace=True)"
   ]
  },
  {
   "cell_type": "markdown",
   "metadata": {},
   "source": [
    "# Exploratory Data Analysis\n",
    "\n",
    "Lets go ahead and look at what is hidden insde the data."
   ]
  },
  {
   "cell_type": "markdown",
   "metadata": {},
   "source": [
    "### To See columns in the DataFrame\n",
    "\n",
    "We can extract all column information by using include='all' parameter. Otherwise it would be just non-object columns."
   ]
  },
  {
   "cell_type": "code",
   "execution_count": 7,
   "metadata": {
    "scrolled": false
   },
   "outputs": [
    {
     "data": {
      "text/html": [
       "<div>\n",
       "<style scoped>\n",
       "    .dataframe tbody tr th:only-of-type {\n",
       "        vertical-align: middle;\n",
       "    }\n",
       "\n",
       "    .dataframe tbody tr th {\n",
       "        vertical-align: top;\n",
       "    }\n",
       "\n",
       "    .dataframe thead th {\n",
       "        text-align: right;\n",
       "    }\n",
       "</style>\n",
       "<table border=\"1\" class=\"dataframe\">\n",
       "  <thead>\n",
       "    <tr style=\"text-align: right;\">\n",
       "      <th></th>\n",
       "      <th>yearOfRegistration</th>\n",
       "      <th>Datasource</th>\n",
       "      <th>gender</th>\n",
       "      <th>ageBroad</th>\n",
       "      <th>majorityStatus</th>\n",
       "      <th>majorityStatusAtExploit</th>\n",
       "      <th>majorityEntry</th>\n",
       "      <th>citizenship</th>\n",
       "      <th>meansOfControlDebtBondage</th>\n",
       "      <th>meansOfControlTakesEarnings</th>\n",
       "      <th>...</th>\n",
       "      <th>typeOfSexPrivateSexualServices</th>\n",
       "      <th>typeOfSexConcatenated</th>\n",
       "      <th>isAbduction</th>\n",
       "      <th>RecruiterRelationship</th>\n",
       "      <th>CountryOfExploitation</th>\n",
       "      <th>recruiterRelationIntimatePartner</th>\n",
       "      <th>recruiterRelationFriend</th>\n",
       "      <th>recruiterRelationFamily</th>\n",
       "      <th>recruiterRelationOther</th>\n",
       "      <th>recruiterRelationUnknown</th>\n",
       "    </tr>\n",
       "  </thead>\n",
       "  <tbody>\n",
       "    <tr>\n",
       "      <th>count</th>\n",
       "      <td>48801</td>\n",
       "      <td>48801</td>\n",
       "      <td>48801</td>\n",
       "      <td>36439</td>\n",
       "      <td>36439</td>\n",
       "      <td>9290</td>\n",
       "      <td>6491</td>\n",
       "      <td>39665</td>\n",
       "      <td>2496</td>\n",
       "      <td>3997</td>\n",
       "      <td>...</td>\n",
       "      <td>5215</td>\n",
       "      <td>4589</td>\n",
       "      <td>16371</td>\n",
       "      <td>18120</td>\n",
       "      <td>37782</td>\n",
       "      <td>39994</td>\n",
       "      <td>39994</td>\n",
       "      <td>39994</td>\n",
       "      <td>39994</td>\n",
       "      <td>48724</td>\n",
       "    </tr>\n",
       "    <tr>\n",
       "      <th>unique</th>\n",
       "      <td>18</td>\n",
       "      <td>2</td>\n",
       "      <td>2</td>\n",
       "      <td>9</td>\n",
       "      <td>2</td>\n",
       "      <td>2</td>\n",
       "      <td>2</td>\n",
       "      <td>44</td>\n",
       "      <td>2</td>\n",
       "      <td>2</td>\n",
       "      <td>...</td>\n",
       "      <td>2</td>\n",
       "      <td>3</td>\n",
       "      <td>2</td>\n",
       "      <td>20</td>\n",
       "      <td>58</td>\n",
       "      <td>2</td>\n",
       "      <td>2</td>\n",
       "      <td>2</td>\n",
       "      <td>2</td>\n",
       "      <td>2</td>\n",
       "    </tr>\n",
       "    <tr>\n",
       "      <th>top</th>\n",
       "      <td>2016</td>\n",
       "      <td>Case Management</td>\n",
       "      <td>Female</td>\n",
       "      <td>9--17</td>\n",
       "      <td>Adult</td>\n",
       "      <td>Minor</td>\n",
       "      <td>Adult</td>\n",
       "      <td>PH</td>\n",
       "      <td>1</td>\n",
       "      <td>1</td>\n",
       "      <td>...</td>\n",
       "      <td>0</td>\n",
       "      <td>Prostitution</td>\n",
       "      <td>0</td>\n",
       "      <td>Not Specified</td>\n",
       "      <td>US</td>\n",
       "      <td>0</td>\n",
       "      <td>0</td>\n",
       "      <td>0</td>\n",
       "      <td>0</td>\n",
       "      <td>1</td>\n",
       "    </tr>\n",
       "    <tr>\n",
       "      <th>freq</th>\n",
       "      <td>16399</td>\n",
       "      <td>36289</td>\n",
       "      <td>35534</td>\n",
       "      <td>8645</td>\n",
       "      <td>26238</td>\n",
       "      <td>7044</td>\n",
       "      <td>5438</td>\n",
       "      <td>11365</td>\n",
       "      <td>1281</td>\n",
       "      <td>2776</td>\n",
       "      <td>...</td>\n",
       "      <td>5172</td>\n",
       "      <td>4386</td>\n",
       "      <td>16332</td>\n",
       "      <td>8730</td>\n",
       "      <td>12512</td>\n",
       "      <td>38369</td>\n",
       "      <td>37898</td>\n",
       "      <td>38115</td>\n",
       "      <td>35514</td>\n",
       "      <td>39207</td>\n",
       "    </tr>\n",
       "  </tbody>\n",
       "</table>\n",
       "<p>4 rows × 63 columns</p>\n",
       "</div>"
      ],
      "text/plain": [
       "       yearOfRegistration       Datasource  gender ageBroad majorityStatus  \\\n",
       "count               48801            48801   48801    36439          36439   \n",
       "unique                 18                2       2        9              2   \n",
       "top                  2016  Case Management  Female    9--17          Adult   \n",
       "freq                16399            36289   35534     8645          26238   \n",
       "\n",
       "       majorityStatusAtExploit majorityEntry citizenship  \\\n",
       "count                     9290          6491       39665   \n",
       "unique                       2             2          44   \n",
       "top                      Minor         Adult          PH   \n",
       "freq                      7044          5438       11365   \n",
       "\n",
       "       meansOfControlDebtBondage meansOfControlTakesEarnings  ...  \\\n",
       "count                       2496                        3997  ...   \n",
       "unique                         2                           2  ...   \n",
       "top                            1                           1  ...   \n",
       "freq                        1281                        2776  ...   \n",
       "\n",
       "       typeOfSexPrivateSexualServices typeOfSexConcatenated isAbduction  \\\n",
       "count                            5215                  4589       16371   \n",
       "unique                              2                     3           2   \n",
       "top                                 0          Prostitution           0   \n",
       "freq                             5172                  4386       16332   \n",
       "\n",
       "       RecruiterRelationship CountryOfExploitation  \\\n",
       "count                  18120                 37782   \n",
       "unique                    20                    58   \n",
       "top            Not Specified                    US   \n",
       "freq                    8730                 12512   \n",
       "\n",
       "       recruiterRelationIntimatePartner recruiterRelationFriend  \\\n",
       "count                             39994                   39994   \n",
       "unique                                2                       2   \n",
       "top                                   0                       0   \n",
       "freq                              38369                   37898   \n",
       "\n",
       "       recruiterRelationFamily recruiterRelationOther recruiterRelationUnknown  \n",
       "count                    39994                  39994                    48724  \n",
       "unique                       2                      2                        2  \n",
       "top                          0                      0                        1  \n",
       "freq                     38115                  35514                    39207  \n",
       "\n",
       "[4 rows x 63 columns]"
      ]
     },
     "execution_count": 7,
     "metadata": {},
     "output_type": "execute_result"
    }
   ],
   "source": [
    "df.describe(include='all')"
   ]
  },
  {
   "cell_type": "markdown",
   "metadata": {},
   "source": [
    "### In what year was most cases recorded?\n",
    "\n",
    "###### We see that most cases were recorded in the year 2016"
   ]
  },
  {
   "cell_type": "code",
   "execution_count": 8,
   "metadata": {},
   "outputs": [
    {
     "data": {
      "text/plain": [
       "2016    16399\n",
       "2017     6508\n",
       "2018     5818\n",
       "2015     4276\n",
       "2014     3000\n",
       "2013     1832\n",
       "2005     1455\n",
       "2006     1423\n",
       "2007     1417\n",
       "2012     1367\n",
       "2011     1340\n",
       "2002     1026\n",
       "2010      943\n",
       "2008      802\n",
       "2009      587\n",
       "2003      357\n",
       "2004      223\n",
       "2019       28\n",
       "Name: yearOfRegistration, dtype: int64"
      ]
     },
     "execution_count": 8,
     "metadata": {},
     "output_type": "execute_result"
    }
   ],
   "source": [
    "df['yearOfRegistration'].value_counts()"
   ]
  },
  {
   "cell_type": "markdown",
   "metadata": {},
   "source": [
    "### What types of sexual Exploitation were forced on the victims?"
   ]
  },
  {
   "cell_type": "code",
   "execution_count": 9,
   "metadata": {},
   "outputs": [
    {
     "data": {
      "text/html": [
       "<div>\n",
       "<style scoped>\n",
       "    .dataframe tbody tr th:only-of-type {\n",
       "        vertical-align: middle;\n",
       "    }\n",
       "\n",
       "    .dataframe tbody tr th {\n",
       "        vertical-align: top;\n",
       "    }\n",
       "\n",
       "    .dataframe thead th {\n",
       "        text-align: right;\n",
       "    }\n",
       "</style>\n",
       "<table border=\"1\" class=\"dataframe\">\n",
       "  <thead>\n",
       "    <tr style=\"text-align: right;\">\n",
       "      <th></th>\n",
       "      <th>0</th>\n",
       "    </tr>\n",
       "  </thead>\n",
       "  <tbody>\n",
       "    <tr>\n",
       "      <th>1</th>\n",
       "      <td>Prostitution</td>\n",
       "    </tr>\n",
       "    <tr>\n",
       "      <th>2</th>\n",
       "      <td>Pornography</td>\n",
       "    </tr>\n",
       "    <tr>\n",
       "      <th>3</th>\n",
       "      <td>Private sexual services</td>\n",
       "    </tr>\n",
       "  </tbody>\n",
       "</table>\n",
       "</div>"
      ],
      "text/plain": [
       "                         0\n",
       "1             Prostitution\n",
       "2              Pornography\n",
       "3  Private sexual services"
      ]
     },
     "execution_count": 9,
     "metadata": {},
     "output_type": "execute_result"
    }
   ],
   "source": [
    "gh=df.typeOfSexConcatenated.unique()\n",
    "df_sample=pd.DataFrame(gh)\n",
    "udf_sample = df_sample.drop(0)\n",
    "udf_sample"
   ]
  },
  {
   "cell_type": "markdown",
   "metadata": {},
   "source": [
    "### Which types of Victim Exploitation Practiced"
   ]
  },
  {
   "cell_type": "code",
   "execution_count": 16,
   "metadata": {
    "scrolled": true
   },
   "outputs": [
    {
     "data": {
      "text/html": [
       "<div>\n",
       "<style scoped>\n",
       "    .dataframe tbody tr th:only-of-type {\n",
       "        vertical-align: middle;\n",
       "    }\n",
       "\n",
       "    .dataframe tbody tr th {\n",
       "        vertical-align: top;\n",
       "    }\n",
       "\n",
       "    .dataframe thead th {\n",
       "        text-align: right;\n",
       "    }\n",
       "</style>\n",
       "<table border=\"1\" class=\"dataframe\">\n",
       "  <thead>\n",
       "    <tr style=\"text-align: right;\">\n",
       "      <th></th>\n",
       "      <th>0</th>\n",
       "    </tr>\n",
       "  </thead>\n",
       "  <tbody>\n",
       "    <tr>\n",
       "      <th>0</th>\n",
       "      <td>Sexual exploitation</td>\n",
       "    </tr>\n",
       "    <tr>\n",
       "      <th>2</th>\n",
       "      <td>Forced labour</td>\n",
       "    </tr>\n",
       "    <tr>\n",
       "      <th>3</th>\n",
       "      <td>Other</td>\n",
       "    </tr>\n",
       "    <tr>\n",
       "      <th>4</th>\n",
       "      <td>Forced labour;Other</td>\n",
       "    </tr>\n",
       "    <tr>\n",
       "      <th>5</th>\n",
       "      <td>Slavery and similar practices</td>\n",
       "    </tr>\n",
       "    <tr>\n",
       "      <th>6</th>\n",
       "      <td>Forced marriage</td>\n",
       "    </tr>\n",
       "    <tr>\n",
       "      <th>7</th>\n",
       "      <td>Forced labour;Sexual exploitation;Combined sex...</td>\n",
       "    </tr>\n",
       "  </tbody>\n",
       "</table>\n",
       "</div>"
      ],
      "text/plain": [
       "                                                   0\n",
       "0                                Sexual exploitation\n",
       "2                                      Forced labour\n",
       "3                                              Other\n",
       "4                                Forced labour;Other\n",
       "5                      Slavery and similar practices\n",
       "6                                    Forced marriage\n",
       "7  Forced labour;Sexual exploitation;Combined sex..."
      ]
     },
     "execution_count": 16,
     "metadata": {},
     "output_type": "execute_result"
    }
   ],
   "source": [
    "explo=df.typeOfExploitConcatenated.unique()\n",
    "df_sample=pd.DataFrame(explo)\n",
    "udf_sample = df_sample.drop(1)\n",
    "udf_sample"
   ]
  },
  {
   "cell_type": "markdown",
   "metadata": {},
   "source": [
    "### In What forced labour occupations were victims engaged?"
   ]
  },
  {
   "cell_type": "code",
   "execution_count": 11,
   "metadata": {
    "scrolled": true
   },
   "outputs": [
    {
     "data": {
      "text/html": [
       "<div>\n",
       "<style scoped>\n",
       "    .dataframe tbody tr th:only-of-type {\n",
       "        vertical-align: middle;\n",
       "    }\n",
       "\n",
       "    .dataframe tbody tr th {\n",
       "        vertical-align: top;\n",
       "    }\n",
       "\n",
       "    .dataframe thead th {\n",
       "        text-align: right;\n",
       "    }\n",
       "</style>\n",
       "<table border=\"1\" class=\"dataframe\">\n",
       "  <thead>\n",
       "    <tr style=\"text-align: right;\">\n",
       "      <th></th>\n",
       "      <th>0</th>\n",
       "    </tr>\n",
       "  </thead>\n",
       "  <tbody>\n",
       "    <tr>\n",
       "      <th>1</th>\n",
       "      <td>Not specified</td>\n",
       "    </tr>\n",
       "    <tr>\n",
       "      <th>2</th>\n",
       "      <td>Other;Not specified</td>\n",
       "    </tr>\n",
       "    <tr>\n",
       "      <th>3</th>\n",
       "      <td>Hospitality</td>\n",
       "    </tr>\n",
       "    <tr>\n",
       "      <th>4</th>\n",
       "      <td>Domestic work</td>\n",
       "    </tr>\n",
       "    <tr>\n",
       "      <th>5</th>\n",
       "      <td>Domestic work;Not specified</td>\n",
       "    </tr>\n",
       "    <tr>\n",
       "      <th>6</th>\n",
       "      <td>Begging</td>\n",
       "    </tr>\n",
       "    <tr>\n",
       "      <th>7</th>\n",
       "      <td>Agriculture</td>\n",
       "    </tr>\n",
       "    <tr>\n",
       "      <th>8</th>\n",
       "      <td>Construction</td>\n",
       "    </tr>\n",
       "    <tr>\n",
       "      <th>9</th>\n",
       "      <td>Manufacturing</td>\n",
       "    </tr>\n",
       "    <tr>\n",
       "      <th>10</th>\n",
       "      <td>Construction;Not specified</td>\n",
       "    </tr>\n",
       "    <tr>\n",
       "      <th>11</th>\n",
       "      <td>Agriculture;Not specified</td>\n",
       "    </tr>\n",
       "    <tr>\n",
       "      <th>12</th>\n",
       "      <td>Other</td>\n",
       "    </tr>\n",
       "    <tr>\n",
       "      <th>13</th>\n",
       "      <td>Aquafarming</td>\n",
       "    </tr>\n",
       "    <tr>\n",
       "      <th>14</th>\n",
       "      <td>Peddling</td>\n",
       "    </tr>\n",
       "    <tr>\n",
       "      <th>15</th>\n",
       "      <td>Domestic work;Other</td>\n",
       "    </tr>\n",
       "  </tbody>\n",
       "</table>\n",
       "</div>"
      ],
      "text/plain": [
       "                              0\n",
       "1                 Not specified\n",
       "2           Other;Not specified\n",
       "3                   Hospitality\n",
       "4                 Domestic work\n",
       "5   Domestic work;Not specified\n",
       "6                       Begging\n",
       "7                   Agriculture\n",
       "8                  Construction\n",
       "9                 Manufacturing\n",
       "10   Construction;Not specified\n",
       "11    Agriculture;Not specified\n",
       "12                        Other\n",
       "13                  Aquafarming\n",
       "14                     Peddling\n",
       "15          Domestic work;Other"
      ]
     },
     "execution_count": 11,
     "metadata": {},
     "output_type": "execute_result"
    }
   ],
   "source": [
    "explo=df.typeOfLabourConcatenated.unique()\n",
    "df_sample=pd.DataFrame(explo)\n",
    "udf_sample = df_sample.drop(0)\n",
    "udf_sample\n"
   ]
  },
  {
   "cell_type": "markdown",
   "metadata": {},
   "source": [
    "### How many Victims reported themselves as abducted?"
   ]
  },
  {
   "cell_type": "code",
   "execution_count": 14,
   "metadata": {},
   "outputs": [
    {
     "data": {
      "text/plain": [
       "16371"
      ]
     },
     "execution_count": 14,
     "metadata": {},
     "output_type": "execute_result"
    }
   ],
   "source": [
    "df.isAbduction.count()"
   ]
  },
  {
   "cell_type": "markdown",
   "metadata": {},
   "source": [
    "### In Which Countries were Victims Exploited"
   ]
  },
  {
   "cell_type": "code",
   "execution_count": 15,
   "metadata": {},
   "outputs": [
    {
     "data": {
      "text/html": [
       "<div>\n",
       "<style scoped>\n",
       "    .dataframe tbody tr th:only-of-type {\n",
       "        vertical-align: middle;\n",
       "    }\n",
       "\n",
       "    .dataframe tbody tr th {\n",
       "        vertical-align: top;\n",
       "    }\n",
       "\n",
       "    .dataframe thead th {\n",
       "        text-align: right;\n",
       "    }\n",
       "</style>\n",
       "<table border=\"1\" class=\"dataframe\">\n",
       "  <thead>\n",
       "    <tr style=\"text-align: right;\">\n",
       "      <th></th>\n",
       "      <th>0</th>\n",
       "    </tr>\n",
       "  </thead>\n",
       "  <tbody>\n",
       "    <tr>\n",
       "      <th>1</th>\n",
       "      <td>Not specified</td>\n",
       "    </tr>\n",
       "    <tr>\n",
       "      <th>2</th>\n",
       "      <td>Other;Not specified</td>\n",
       "    </tr>\n",
       "    <tr>\n",
       "      <th>3</th>\n",
       "      <td>Hospitality</td>\n",
       "    </tr>\n",
       "    <tr>\n",
       "      <th>4</th>\n",
       "      <td>Domestic work</td>\n",
       "    </tr>\n",
       "    <tr>\n",
       "      <th>5</th>\n",
       "      <td>Domestic work;Not specified</td>\n",
       "    </tr>\n",
       "    <tr>\n",
       "      <th>6</th>\n",
       "      <td>Begging</td>\n",
       "    </tr>\n",
       "    <tr>\n",
       "      <th>7</th>\n",
       "      <td>Agriculture</td>\n",
       "    </tr>\n",
       "    <tr>\n",
       "      <th>8</th>\n",
       "      <td>Construction</td>\n",
       "    </tr>\n",
       "    <tr>\n",
       "      <th>9</th>\n",
       "      <td>Manufacturing</td>\n",
       "    </tr>\n",
       "    <tr>\n",
       "      <th>10</th>\n",
       "      <td>Construction;Not specified</td>\n",
       "    </tr>\n",
       "    <tr>\n",
       "      <th>11</th>\n",
       "      <td>Agriculture;Not specified</td>\n",
       "    </tr>\n",
       "    <tr>\n",
       "      <th>12</th>\n",
       "      <td>Other</td>\n",
       "    </tr>\n",
       "    <tr>\n",
       "      <th>13</th>\n",
       "      <td>Aquafarming</td>\n",
       "    </tr>\n",
       "    <tr>\n",
       "      <th>14</th>\n",
       "      <td>Peddling</td>\n",
       "    </tr>\n",
       "    <tr>\n",
       "      <th>15</th>\n",
       "      <td>Domestic work;Other</td>\n",
       "    </tr>\n",
       "  </tbody>\n",
       "</table>\n",
       "</div>"
      ],
      "text/plain": [
       "                              0\n",
       "1                 Not specified\n",
       "2           Other;Not specified\n",
       "3                   Hospitality\n",
       "4                 Domestic work\n",
       "5   Domestic work;Not specified\n",
       "6                       Begging\n",
       "7                   Agriculture\n",
       "8                  Construction\n",
       "9                 Manufacturing\n",
       "10   Construction;Not specified\n",
       "11    Agriculture;Not specified\n",
       "12                        Other\n",
       "13                  Aquafarming\n",
       "14                     Peddling\n",
       "15          Domestic work;Other"
      ]
     },
     "execution_count": 15,
     "metadata": {},
     "output_type": "execute_result"
    }
   ],
   "source": [
    "df.CountryOfExploitation.unique()\n",
    "df_sample=pd.DataFrame(explo)\n",
    "udf_sample = df_sample.drop(0)\n",
    "udf_sample\n",
    "\n"
   ]
  },
  {
   "cell_type": "markdown",
   "metadata": {},
   "source": [
    "### Countries in the Dataset\n",
    "\n",
    "What we've got here:\n",
    "\n",
    "There are 48801 data.\n",
    "We have 44 identified countries.\n",
    "There are 63 different questions asked, and their responses.\n",
    "Let's take a look at these countries.\n",
    "\n",
    "Alpha-2 codes of Countries"
   ]
  },
  {
   "cell_type": "code",
   "execution_count": 17,
   "metadata": {
    "scrolled": false
   },
   "outputs": [
    {
     "data": {
      "text/plain": [
       "array(['CO', 'MD', 'RO', 'UA', 'BY', 'GH', 'AL', 'BG', 'UZ', 'ID', 'TJ',\n",
       "       'CD', 'ML', 'GW', 'CI', 'SN', 'SL', 'KG', 'GN', 'KH', 'LA', 'KZ',\n",
       "       'TM', 'BF', 'NE', 'HT', 'LK', 'BO', 'MM', 'AF', 'UG', 'ER', 'NG',\n",
       "       'NP', 'PH', 'BD', nan, 'US', 'TH', 'KR', 'VN', 'KE', 'CN', 'MX',\n",
       "       'MG'], dtype=object)"
      ]
     },
     "execution_count": 17,
     "metadata": {},
     "output_type": "execute_result"
    }
   ],
   "source": [
    "df.citizenship.unique()"
   ]
  },
  {
   "cell_type": "markdown",
   "metadata": {},
   "source": [
    "### How was the dataset information acquire?"
   ]
  },
  {
   "cell_type": "code",
   "execution_count": 18,
   "metadata": {},
   "outputs": [
    {
     "data": {
      "text/plain": [
       "['Case Management', 'Hotline']"
      ]
     },
     "execution_count": 18,
     "metadata": {},
     "output_type": "execute_result"
    }
   ],
   "source": [
    "df['Datasource'].unique().tolist()"
   ]
  },
  {
   "cell_type": "markdown",
   "metadata": {},
   "source": [
    "### What number of Trafficked Victims are of unknown Citizenship\n",
    "\n",
    "The number of Trafficked Victims of unknown Citizenship are 9136, representing 18.72% of the sample size"
   ]
  },
  {
   "cell_type": "code",
   "execution_count": 19,
   "metadata": {
    "scrolled": true
   },
   "outputs": [
    {
     "name": "stdout",
     "output_type": "stream",
     "text": [
      "Trafficked Victims of unknown Citizenship are:\n",
      "\n",
      "9136 (18.72%)\n"
     ]
    }
   ],
   "source": [
    "print('Trafficked Victims of unknown Citizenship are:\\n')\n",
    "nullNumb = len(df[df.citizenship.isnull()])\n",
    "print(str(nullNumb) +' ({:.2%})'.format(nullNumb / len(df)))"
   ]
  },
  {
   "cell_type": "markdown",
   "metadata": {},
   "source": [
    "### What number of Victims were exploited in Unknown Countries\n",
    "\n",
    "###### At the same time, number of Trafficked Victims of country of exploitation are 11019 persons. They made up 22.58% of our data sample size"
   ]
  },
  {
   "cell_type": "code",
   "execution_count": 20,
   "metadata": {},
   "outputs": [
    {
     "name": "stdout",
     "output_type": "stream",
     "text": [
      "11019 (22.58%)\n"
     ]
    }
   ],
   "source": [
    "num_null = len(df[df.CountryOfExploitation.isnull()])\n",
    "print(str(num_null) + \" ({:.2%})\".format(num_null / len(df)))"
   ]
  },
  {
   "cell_type": "markdown",
   "metadata": {},
   "source": [
    "### Victims Gender Distribution.\n",
    "\n",
    "The measurement of  gender distribution among identified victims suggests that females victims are in the majority at 35534 or 72.8141 percent, while male victims represents 13267 of the sample size or 27.1859 percent. "
   ]
  },
  {
   "cell_type": "code",
   "execution_count": 21,
   "metadata": {
    "scrolled": true
   },
   "outputs": [
    {
     "data": {
      "text/plain": [
       "Female    35534\n",
       "Male      13267\n",
       "Name: gender, dtype: int64"
      ]
     },
     "execution_count": 21,
     "metadata": {},
     "output_type": "execute_result"
    }
   ],
   "source": [
    "df.gender.value_counts()"
   ]
  },
  {
   "cell_type": "markdown",
   "metadata": {},
   "source": [
    "### Number of reported cases by Country"
   ]
  },
  {
   "cell_type": "code",
   "execution_count": 22,
   "metadata": {},
   "outputs": [
    {
     "data": {
      "text/plain": [
       "PH    11365\n",
       "UA     7761\n",
       "MD     5901\n",
       "US     3636\n",
       "KH     1979\n",
       "ID     1971\n",
       "BY     1463\n",
       "MM     1250\n",
       "RO      655\n",
       "GH      544\n",
       "KG      437\n",
       "BG      342\n",
       "HT      339\n",
       "UZ      261\n",
       "VN      170\n",
       "GW      145\n",
       "LA      126\n",
       "CO      124\n",
       "NG      108\n",
       "UG       98\n",
       "AF       97\n",
       "MG       94\n",
       "LK       85\n",
       "SL       81\n",
       "SN       70\n",
       "TH       55\n",
       "KZ       54\n",
       "CD       53\n",
       "ML       45\n",
       "TJ       43\n",
       "BF       33\n",
       "KE       32\n",
       "CI       31\n",
       "NE       31\n",
       "NP       27\n",
       "TM       26\n",
       "CN       23\n",
       "AL       22\n",
       "MX       19\n",
       "BO       18\n",
       "GN       15\n",
       "ER       13\n",
       "KR       12\n",
       "BD       11\n",
       "Name: citizenship, dtype: int64"
      ]
     },
     "execution_count": 22,
     "metadata": {},
     "output_type": "execute_result"
    }
   ],
   "source": [
    "df.citizenship.value_counts().sort_values(ascending=False)"
   ]
  },
  {
   "cell_type": "markdown",
   "metadata": {},
   "source": [
    "### Victims Age and Gender Distribution.\n",
    "\n",
    "The folllowing values represent the sum victims age group classified by gender. We continue to observe that more females are trafficked over time and in this gender group, the most trafficked age range are 09--17 year olds, and 30--38 for males."
   ]
  },
  {
   "cell_type": "code",
   "execution_count": 23,
   "metadata": {},
   "outputs": [
    {
     "name": "stdout",
     "output_type": "stream",
     "text": [
      "    gender ageBroad  Number of Trafficked Individuals\n",
      "0   Female     0--8                               841\n",
      "1   Female   18--20                              4227\n",
      "2   Female   21--23                              3734\n",
      "3   Female   24--26                              2816\n",
      "4   Female   27--29                              1869\n",
      "5   Female   30--38                              4222\n",
      "6   Female   39--47                              1366\n",
      "7   Female      48+                               865\n",
      "8   Female    9--17                              6754\n",
      "9     Male     0--8                               715\n",
      "10    Male   18--20                               221\n",
      "11    Male   21--23                               479\n",
      "12    Male   24--26                               648\n",
      "13    Male   27--29                               772\n",
      "14    Male   30--38                              2869\n",
      "15    Male   39--47                              1455\n",
      "16    Male      48+                               695\n",
      "17    Male    9--17                              1891\n"
     ]
    },
    {
     "data": {
      "text/plain": [
       "'Age and Gender distribution of Trafficked persons'"
      ]
     },
     "metadata": {},
     "output_type": "display_data"
    }
   ],
   "source": [
    "dFage = df.groupby(['gender', 'ageBroad']).size().reset_index()\n",
    "dFage.rename(columns={0: 'Number of Trafficked Individuals'}, inplace=True)\n",
    "print(dFage)\n",
    "\n",
    "display('Age and Gender distribution of Trafficked persons')\n"
   ]
  },
  {
   "cell_type": "markdown",
   "metadata": {},
   "source": [
    "### Cumulative Victims Age Distribution\n",
    "\n",
    "This is a sum of all victims grouped by their age range. Again, we see clearly that The most trafficked age groups are 9--17  followed by 30--38  ."
   ]
  },
  {
   "cell_type": "code",
   "execution_count": 24,
   "metadata": {
    "scrolled": true
   },
   "outputs": [
    {
     "data": {
      "text/plain": [
       "00--08    1556\n",
       "09--17    8645\n",
       "18--20    4448\n",
       "21--23    4213\n",
       "24--26    3464\n",
       "27--29    2641\n",
       "30--38    7091\n",
       "39--47    2821\n",
       "48+       1560\n",
       "Name: ageBroad, dtype: int64"
      ]
     },
     "execution_count": 24,
     "metadata": {},
     "output_type": "execute_result"
    }
   ],
   "source": [
    "df.loc[df.ageBroad == '0--8', 'ageBroad'] = '00--08'\n",
    "df.loc[df.ageBroad == '9--17', 'ageBroad'] = '09--17'\n",
    "ageDist=df.ageBroad.value_counts().sort_index()\n",
    "\n",
    "ageDist\n"
   ]
  },
  {
   "cell_type": "markdown",
   "metadata": {},
   "source": [
    "# Visualization"
   ]
  },
  {
   "cell_type": "markdown",
   "metadata": {},
   "source": [
    "The Following barplot shows that females are disproportionately trafficked and exploitated than males. For the most part, they are exploited in the sex trade, household labour etc. A number also end up as unwilling organ donors as we will learn as we progress."
   ]
  },
  {
   "cell_type": "code",
   "execution_count": 25,
   "metadata": {},
   "outputs": [
    {
     "data": {
      "image/png": "[encoded data removed]",
      "text/plain": [
       "<Figure size 576x360 with 1 Axes>"
      ]
     },
     "metadata": {
      "needs_background": "light"
     },
     "output_type": "display_data"
    }
   ],
   "source": [
    "plt.figure(figsize=(8, 5))\n",
    "nonNan=df.gender.value_counts().plot(kind='bar', fontsize=14, edgecolor='green', linewidth=4)\n",
    "plt.title('Trafficked Victims Gender Distribution', fontsize=15)\n",
    "plt.xlabel('Gender')\n",
    "plt.legend(loc='upper right')\n",
    "\n",
    "plt.show()\n",
    "\n",
    "#plt.savefig(\"bar_plot.png\")"
   ]
  },
  {
   "cell_type": "code",
   "execution_count": null,
   "metadata": {},
   "outputs": [],
   "source": [
    "dFage = df.groupby(['gender', 'ageBroad']).size().reset_index()\n",
    "dFage.rename(columns={0: 'Trafficked Persons'},\n",
    "             inplace=True)  # Number of Trafficked Individuals\n",
    "\n",
    "fig = px.bar(dFage, x='ageBroad', y='Trafficked Persons', color='gender',title='Victims Age and Gender Distribution', height=600, width=800,\n",
    "             category_orders={'ageBroad': ['0--8', '9--17', '18--20', '21--23', '24--26', '27--29', '30--38', '39--47', '48+']})\n",
    "fig.show()"
   ]
  },
  {
   "cell_type": "markdown",
   "metadata": {},
   "source": [
    "### Here, we see a near 75 percentage gender skew ratio"
   ]
  },
  {
   "cell_type": "markdown",
   "metadata": {},
   "source": [
    "### Gender and Age of Victims"
   ]
  },
  {
   "cell_type": "code",
   "execution_count": 37,
   "metadata": {
    "scrolled": true
   },
   "outputs": [
    {
     "data": {
      "application/vnd.plotly.v1+json": {
       "config": {
        "plotlyServerURL": "https://plot.ly"
       },
       "data": [
        {
         "alignmentgroup": "True",
         "hovertemplate": "gender=Female<br>ageBroad=%{x}<br>Trafficked Persons=%{y}<extra></extra>",
         "legendgroup": "Female",
         "marker": {
          "color": "#636efa"
         },
         "name": "Female",
         "offsetgroup": "Female",
         "orientation": "v",
         "showlegend": true,
         "textposition": "auto",
         "type": "bar",
         "x": [
          "00--08",
          "09--17",
          "18--20",
          "21--23",
          "24--26",
          "27--29",
          "30--38",
          "39--47",
          "48+"
         ],
         "xaxis": "x",
         "y": [
          841,
          6754,
          4227,
          3734,
          2816,
          1869,
          4222,
          1366,
          865
         ],
         "yaxis": "y"
        },
        {
         "alignmentgroup": "True",
         "hovertemplate": "gender=Male<br>ageBroad=%{x}<br>Trafficked Persons=%{y}<extra></extra>",
         "legendgroup": "Male",
         "marker": {
          "color": "#EF553B"
         },
         "name": "Male",
         "offsetgroup": "Male",
         "orientation": "v",
         "showlegend": true,
         "textposition": "auto",
         "type": "bar",
         "x": [
          "00--08",
          "09--17",
          "18--20",
          "21--23",
          "24--26",
          "27--29",
          "30--38",
          "39--47",
          "48+"
         ],
         "xaxis": "x",
         "y": [
          715,
          1891,
          221,
          479,
          648,
          772,
          2869,
          1455,
          695
         ],
         "yaxis": "y"
        }
       ],
       "layout": {
        "barmode": "relative",
        "height": 400,
        "legend": {
         "title": {
          "text": "gender"
         },
         "tracegroupgap": 0
        },
        "template": {
         "data": {
          "bar": [
           {
            "error_x": {
             "color": "#2a3f5f"
            },
            "error_y": {
             "color": "#2a3f5f"
            },
            "marker": {
             "line": {
              "color": "#E5ECF6",
              "width": 0.5
             }
            },
            "type": "bar"
           }
          ],
          "barpolar": [
           {
            "marker": {
             "line": {
              "color": "#E5ECF6",
              "width": 0.5
             }
            },
            "type": "barpolar"
           }
          ],
          "carpet": [
           {
            "aaxis": {
             "endlinecolor": "#2a3f5f",
             "gridcolor": "white",
             "linecolor": "white",
             "minorgridcolor": "white",
             "startlinecolor": "#2a3f5f"
            },
            "baxis": {
             "endlinecolor": "#2a3f5f",
             "gridcolor": "white",
             "linecolor": "white",
             "minorgridcolor": "white",
             "startlinecolor": "#2a3f5f"
            },
            "type": "carpet"
           }
          ],
          "choropleth": [
           {
            "colorbar": {
             "outlinewidth": 0,
             "ticks": ""
            },
            "type": "choropleth"
           }
          ],
          "contour": [
           {
            "colorbar": {
             "outlinewidth": 0,
             "ticks": ""
            },
            "colorscale": [
             [
              0,
              "#0d0887"
             ],
             [
              0.1111111111111111,
              "#46039f"
             ],
             [
              0.2222222222222222,
              "#7201a8"
             ],
             [
              0.3333333333333333,
              "#9c179e"
             ],
             [
              0.4444444444444444,
              "#bd3786"
             ],
             [
              0.5555555555555556,
              "#d8576b"
             ],
             [
              0.6666666666666666,
              "#ed7953"
             ],
             [
              0.7777777777777778,
              "#fb9f3a"
             ],
             [
              0.8888888888888888,
              "#fdca26"
             ],
             [
              1,
              "#f0f921"
             ]
            ],
            "type": "contour"
           }
          ],
          "contourcarpet": [
           {
            "colorbar": {
             "outlinewidth": 0,
             "ticks": ""
            },
            "type": "contourcarpet"
           }
          ],
          "heatmap": [
           {
            "colorbar": {
             "outlinewidth": 0,
             "ticks": ""
            },
            "colorscale": [
             [
              0,
              "#0d0887"
             ],
             [
              0.1111111111111111,
              "#46039f"
             ],
             [
              0.2222222222222222,
              "#7201a8"
             ],
             [
              0.3333333333333333,
              "#9c179e"
             ],
             [
              0.4444444444444444,
              "#bd3786"
             ],
             [
              0.5555555555555556,
              "#d8576b"
             ],
             [
              0.6666666666666666,
              "#ed7953"
             ],
             [
              0.7777777777777778,
              "#fb9f3a"
             ],
             [
              0.8888888888888888,
              "#fdca26"
             ],
             [
              1,
              "#f0f921"
             ]
            ],
            "type": "heatmap"
           }
          ],
          "heatmapgl": [
           {
            "colorbar": {
             "outlinewidth": 0,
             "ticks": ""
            },
            "colorscale": [
             [
              0,
              "#0d0887"
             ],
             [
              0.1111111111111111,
              "#46039f"
             ],
             [
              0.2222222222222222,
              "#7201a8"
             ],
             [
              0.3333333333333333,
              "#9c179e"
             ],
             [
              0.4444444444444444,
              "#bd3786"
             ],
             [
              0.5555555555555556,
              "#d8576b"
             ],
             [
              0.6666666666666666,
              "#ed7953"
             ],
             [
              0.7777777777777778,
              "#fb9f3a"
             ],
             [
              0.8888888888888888,
              "#fdca26"
             ],
             [
              1,
              "#f0f921"
             ]
            ],
            "type": "heatmapgl"
           }
          ],
          "histogram": [
           {
            "marker": {
             "colorbar": {
              "outlinewidth": 0,
              "ticks": ""
             }
            },
            "type": "histogram"
           }
          ],
          "histogram2d": [
           {
            "colorbar": {
             "outlinewidth": 0,
             "ticks": ""
            },
            "colorscale": [
             [
              0,
              "#0d0887"
             ],
             [
              0.1111111111111111,
              "#46039f"
             ],
             [
              0.2222222222222222,
              "#7201a8"
             ],
             [
              0.3333333333333333,
              "#9c179e"
             ],
             [
              0.4444444444444444,
              "#bd3786"
             ],
             [
              0.5555555555555556,
              "#d8576b"
             ],
             [
              0.6666666666666666,
              "#ed7953"
             ],
             [
              0.7777777777777778,
              "#fb9f3a"
             ],
             [
              0.8888888888888888,
              "#fdca26"
             ],
             [
              1,
              "#f0f921"
             ]
            ],
            "type": "histogram2d"
           }
          ],
          "histogram2dcontour": [
           {
            "colorbar": {
             "outlinewidth": 0,
             "ticks": ""
            },
            "colorscale": [
             [
              0,
              "#0d0887"
             ],
             [
              0.1111111111111111,
              "#46039f"
             ],
             [
              0.2222222222222222,
              "#7201a8"
             ],
             [
              0.3333333333333333,
              "#9c179e"
             ],
             [
              0.4444444444444444,
              "#bd3786"
             ],
             [
              0.5555555555555556,
              "#d8576b"
             ],
             [
              0.6666666666666666,
              "#ed7953"
             ],
             [
              0.7777777777777778,
              "#fb9f3a"
             ],
             [
              0.8888888888888888,
              "#fdca26"
             ],
             [
              1,
              "#f0f921"
             ]
            ],
            "type": "histogram2dcontour"
           }
          ],
          "mesh3d": [
           {
            "colorbar": {
             "outlinewidth": 0,
             "ticks": ""
            },
            "type": "mesh3d"
           }
          ],
          "parcoords": [
           {
            "line": {
             "colorbar": {
              "outlinewidth": 0,
              "ticks": ""
             }
            },
            "type": "parcoords"
           }
          ],
          "pie": [
           {
            "automargin": true,
            "type": "pie"
           }
          ],
          "scatter": [
           {
            "marker": {
             "colorbar": {
              "outlinewidth": 0,
              "ticks": ""
             }
            },
            "type": "scatter"
           }
          ],
          "scatter3d": [
           {
            "line": {
             "colorbar": {
              "outlinewidth": 0,
              "ticks": ""
             }
            },
            "marker": {
             "colorbar": {
              "outlinewidth": 0,
              "ticks": ""
             }
            },
            "type": "scatter3d"
           }
          ],
          "scattercarpet": [
           {
            "marker": {
             "colorbar": {
              "outlinewidth": 0,
              "ticks": ""
             }
            },
            "type": "scattercarpet"
           }
          ],
          "scattergeo": [
           {
            "marker": {
             "colorbar": {
              "outlinewidth": 0,
              "ticks": ""
             }
            },
            "type": "scattergeo"
           }
          ],
          "scattergl": [
           {
            "marker": {
             "colorbar": {
              "outlinewidth": 0,
              "ticks": ""
             }
            },
            "type": "scattergl"
           }
          ],
          "scattermapbox": [
           {
            "marker": {
             "colorbar": {
              "outlinewidth": 0,
              "ticks": ""
             }
            },
            "type": "scattermapbox"
           }
          ],
          "scatterpolar": [
           {
            "marker": {
             "colorbar": {
              "outlinewidth": 0,
              "ticks": ""
             }
            },
            "type": "scatterpolar"
           }
          ],
          "scatterpolargl": [
           {
            "marker": {
             "colorbar": {
              "outlinewidth": 0,
              "ticks": ""
             }
            },
            "type": "scatterpolargl"
           }
          ],
          "scatterternary": [
           {
            "marker": {
             "colorbar": {
              "outlinewidth": 0,
              "ticks": ""
             }
            },
            "type": "scatterternary"
           }
          ],
          "surface": [
           {
            "colorbar": {
             "outlinewidth": 0,
             "ticks": ""
            },
            "colorscale": [
             [
              0,
              "#0d0887"
             ],
             [
              0.1111111111111111,
              "#46039f"
             ],
             [
              0.2222222222222222,
              "#7201a8"
             ],
             [
              0.3333333333333333,
              "#9c179e"
             ],
             [
              0.4444444444444444,
              "#bd3786"
             ],
             [
              0.5555555555555556,
              "#d8576b"
             ],
             [
              0.6666666666666666,
              "#ed7953"
             ],
             [
              0.7777777777777778,
              "#fb9f3a"
             ],
             [
              0.8888888888888888,
              "#fdca26"
             ],
             [
              1,
              "#f0f921"
             ]
            ],
            "type": "surface"
           }
          ],
          "table": [
           {
            "cells": {
             "fill": {
              "color": "#EBF0F8"
             },
             "line": {
              "color": "white"
             }
            },
            "header": {
             "fill": {
              "color": "#C8D4E3"
             },
             "line": {
              "color": "white"
             }
            },
            "type": "table"
           }
          ]
         },
         "layout": {
          "annotationdefaults": {
           "arrowcolor": "#2a3f5f",
           "arrowhead": 0,
           "arrowwidth": 1
          },
          "autotypenumbers": "strict",
          "coloraxis": {
           "colorbar": {
            "outlinewidth": 0,
            "ticks": ""
           }
          },
          "colorscale": {
           "diverging": [
            [
             0,
             "#8e0152"
            ],
            [
             0.1,
             "#c51b7d"
            ],
            [
             0.2,
             "#de77ae"
            ],
            [
             0.3,
             "#f1b6da"
            ],
            [
             0.4,
             "#fde0ef"
            ],
            [
             0.5,
             "#f7f7f7"
            ],
            [
             0.6,
             "#e6f5d0"
            ],
            [
             0.7,
             "#b8e186"
            ],
            [
             0.8,
             "#7fbc41"
            ],
            [
             0.9,
             "#4d9221"
            ],
            [
             1,
             "#276419"
            ]
           ],
           "sequential": [
            [
             0,
             "#0d0887"
            ],
            [
             0.1111111111111111,
             "#46039f"
            ],
            [
             0.2222222222222222,
             "#7201a8"
            ],
            [
             0.3333333333333333,
             "#9c179e"
            ],
            [
             0.4444444444444444,
             "#bd3786"
            ],
            [
             0.5555555555555556,
             "#d8576b"
            ],
            [
             0.6666666666666666,
             "#ed7953"
            ],
            [
             0.7777777777777778,
             "#fb9f3a"
            ],
            [
             0.8888888888888888,
             "#fdca26"
            ],
            [
             1,
             "#f0f921"
            ]
           ],
           "sequentialminus": [
            [
             0,
             "#0d0887"
            ],
            [
             0.1111111111111111,
             "#46039f"
            ],
            [
             0.2222222222222222,
             "#7201a8"
            ],
            [
             0.3333333333333333,
             "#9c179e"
            ],
            [
             0.4444444444444444,
             "#bd3786"
            ],
            [
             0.5555555555555556,
             "#d8576b"
            ],
            [
             0.6666666666666666,
             "#ed7953"
            ],
            [
             0.7777777777777778,
             "#fb9f3a"
            ],
            [
             0.8888888888888888,
             "#fdca26"
            ],
            [
             1,
             "#f0f921"
            ]
           ]
          },
          "colorway": [
           "#636efa",
           "#EF553B",
           "#00cc96",
           "#ab63fa",
           "#FFA15A",
           "#19d3f3",
           "#FF6692",
           "#B6E880",
           "#FF97FF",
           "#FECB52"
          ],
          "font": {
           "color": "#2a3f5f"
          },
          "geo": {
           "bgcolor": "white",
           "lakecolor": "white",
           "landcolor": "#E5ECF6",
           "showlakes": true,
           "showland": true,
           "subunitcolor": "white"
          },
          "hoverlabel": {
           "align": "left"
          },
          "hovermode": "closest",
          "mapbox": {
           "style": "light"
          },
          "paper_bgcolor": "white",
          "plot_bgcolor": "#E5ECF6",
          "polar": {
           "angularaxis": {
            "gridcolor": "white",
            "linecolor": "white",
            "ticks": ""
           },
           "bgcolor": "#E5ECF6",
           "radialaxis": {
            "gridcolor": "white",
            "linecolor": "white",
            "ticks": ""
           }
          },
          "scene": {
           "xaxis": {
            "backgroundcolor": "#E5ECF6",
            "gridcolor": "white",
            "gridwidth": 2,
            "linecolor": "white",
            "showbackground": true,
            "ticks": "",
            "zerolinecolor": "white"
           },
           "yaxis": {
            "backgroundcolor": "#E5ECF6",
            "gridcolor": "white",
            "gridwidth": 2,
            "linecolor": "white",
            "showbackground": true,
            "ticks": "",
            "zerolinecolor": "white"
           },
           "zaxis": {
            "backgroundcolor": "#E5ECF6",
            "gridcolor": "white",
            "gridwidth": 2,
            "linecolor": "white",
            "showbackground": true,
            "ticks": "",
            "zerolinecolor": "white"
           }
          },
          "shapedefaults": {
           "line": {
            "color": "#2a3f5f"
           }
          },
          "ternary": {
           "aaxis": {
            "gridcolor": "white",
            "linecolor": "white",
            "ticks": ""
           },
           "baxis": {
            "gridcolor": "white",
            "linecolor": "white",
            "ticks": ""
           },
           "bgcolor": "#E5ECF6",
           "caxis": {
            "gridcolor": "white",
            "linecolor": "white",
            "ticks": ""
           }
          },
          "title": {
           "x": 0.05
          },
          "xaxis": {
           "automargin": true,
           "gridcolor": "white",
           "linecolor": "white",
           "ticks": "",
           "title": {
            "standoff": 15
           },
           "zerolinecolor": "white",
           "zerolinewidth": 2
          },
          "yaxis": {
           "automargin": true,
           "gridcolor": "white",
           "linecolor": "white",
           "ticks": "",
           "title": {
            "standoff": 15
           },
           "zerolinecolor": "white",
           "zerolinewidth": 2
          }
         }
        },
        "title": {
         "text": "Victims Age and Gender Distribution"
        },
        "width": 550,
        "xaxis": {
         "anchor": "y",
         "categoryarray": [
          "0--8",
          "9--17",
          "18--20",
          "21--23",
          "24--26",
          "27--29",
          "30--38",
          "39--47",
          "48+"
         ],
         "categoryorder": "array",
         "domain": [
          0,
          1
         ],
         "title": {
          "text": "ageBroad"
         }
        },
        "yaxis": {
         "anchor": "x",
         "domain": [
          0,
          1
         ],
         "title": {
          "text": "Trafficked Persons"
         }
        }
       }
      },
      "text/html": [
       "<div>                            <div id=\"9e350f47-33fa-42d6-a968-8138d5d7bac4\" class=\"plotly-graph-div\" style=\"height:400px; width:550px;\"></div>            <script type=\"text/javascript\">                require([\"plotly\"], function(Plotly) {                    window.PLOTLYENV=window.PLOTLYENV || {};                                    if (document.getElementById(\"9e350f47-33fa-42d6-a968-8138d5d7bac4\")) {                    Plotly.newPlot(                        \"9e350f47-33fa-42d6-a968-8138d5d7bac4\",                        [{\"alignmentgroup\": \"True\", \"hovertemplate\": \"gender=Female<br>ageBroad=%{x}<br>Trafficked Persons=%{y}<extra></extra>\", \"legendgroup\": \"Female\", \"marker\": {\"color\": \"#636efa\"}, \"name\": \"Female\", \"offsetgroup\": \"Female\", \"orientation\": \"v\", \"showlegend\": true, \"textposition\": \"auto\", \"type\": \"bar\", \"x\": [\"00--08\", \"09--17\", \"18--20\", \"21--23\", \"24--26\", \"27--29\", \"30--38\", \"39--47\", \"48+\"], \"xaxis\": \"x\", \"y\": [841, 6754, 4227, 3734, 2816, 1869, 4222, 1366, 865], \"yaxis\": \"y\"}, {\"alignmentgroup\": \"True\", \"hovertemplate\": \"gender=Male<br>ageBroad=%{x}<br>Trafficked Persons=%{y}<extra></extra>\", \"legendgroup\": \"Male\", \"marker\": {\"color\": \"#EF553B\"}, \"name\": \"Male\", \"offsetgroup\": \"Male\", \"orientation\": \"v\", \"showlegend\": true, \"textposition\": \"auto\", \"type\": \"bar\", \"x\": [\"00--08\", \"09--17\", \"18--20\", \"21--23\", \"24--26\", \"27--29\", \"30--38\", \"39--47\", \"48+\"], \"xaxis\": \"x\", \"y\": [715, 1891, 221, 479, 648, 772, 2869, 1455, 695], \"yaxis\": \"y\"}],                        {\"barmode\": \"relative\", \"height\": 400, \"legend\": {\"title\": {\"text\": \"gender\"}, \"tracegroupgap\": 0}, \"template\": {\"data\": {\"bar\": [{\"error_x\": {\"color\": \"#2a3f5f\"}, \"error_y\": {\"color\": \"#2a3f5f\"}, \"marker\": {\"line\": {\"color\": \"#E5ECF6\", \"width\": 0.5}}, \"type\": \"bar\"}], \"barpolar\": [{\"marker\": {\"line\": {\"color\": \"#E5ECF6\", \"width\": 0.5}}, \"type\": \"barpolar\"}], \"carpet\": [{\"aaxis\": {\"endlinecolor\": \"#2a3f5f\", \"gridcolor\": \"white\", \"linecolor\": \"white\", \"minorgridcolor\": \"white\", \"startlinecolor\": \"#2a3f5f\"}, \"baxis\": {\"endlinecolor\": \"#2a3f5f\", \"gridcolor\": \"white\", \"linecolor\": \"white\", \"minorgridcolor\": \"white\", \"startlinecolor\": \"#2a3f5f\"}, \"type\": \"carpet\"}], \"choropleth\": [{\"colorbar\": {\"outlinewidth\": 0, \"ticks\": \"\"}, \"type\": \"choropleth\"}], \"contour\": [{\"colorbar\": {\"outlinewidth\": 0, \"ticks\": \"\"}, \"colorscale\": [[0.0, \"#0d0887\"], [0.1111111111111111, \"#46039f\"], [0.2222222222222222, \"#7201a8\"], [0.3333333333333333, \"#9c179e\"], [0.4444444444444444, \"#bd3786\"], [0.5555555555555556, \"#d8576b\"], [0.6666666666666666, \"#ed7953\"], [0.7777777777777778, \"#fb9f3a\"], [0.8888888888888888, \"#fdca26\"], [1.0, \"#f0f921\"]], \"type\": \"contour\"}], \"contourcarpet\": [{\"colorbar\": {\"outlinewidth\": 0, \"ticks\": \"\"}, \"type\": \"contourcarpet\"}], \"heatmap\": [{\"colorbar\": {\"outlinewidth\": 0, \"ticks\": \"\"}, \"colorscale\": [[0.0, \"#0d0887\"], [0.1111111111111111, \"#46039f\"], [0.2222222222222222, \"#7201a8\"], [0.3333333333333333, \"#9c179e\"], [0.4444444444444444, \"#bd3786\"], [0.5555555555555556, \"#d8576b\"], [0.6666666666666666, \"#ed7953\"], [0.7777777777777778, \"#fb9f3a\"], [0.8888888888888888, \"#fdca26\"], [1.0, \"#f0f921\"]], \"type\": \"heatmap\"}], \"heatmapgl\": [{\"colorbar\": {\"outlinewidth\": 0, \"ticks\": \"\"}, \"colorscale\": [[0.0, \"#0d0887\"], [0.1111111111111111, \"#46039f\"], [0.2222222222222222, \"#7201a8\"], [0.3333333333333333, \"#9c179e\"], [0.4444444444444444, \"#bd3786\"], [0.5555555555555556, \"#d8576b\"], [0.6666666666666666, \"#ed7953\"], [0.7777777777777778, \"#fb9f3a\"], [0.8888888888888888, \"#fdca26\"], [1.0, \"#f0f921\"]], \"type\": \"heatmapgl\"}], \"histogram\": [{\"marker\": {\"colorbar\": {\"outlinewidth\": 0, \"ticks\": \"\"}}, \"type\": \"histogram\"}], \"histogram2d\": [{\"colorbar\": {\"outlinewidth\": 0, \"ticks\": \"\"}, \"colorscale\": [[0.0, \"#0d0887\"], [0.1111111111111111, \"#46039f\"], [0.2222222222222222, \"#7201a8\"], [0.3333333333333333, \"#9c179e\"], [0.4444444444444444, \"#bd3786\"], [0.5555555555555556, \"#d8576b\"], [0.6666666666666666, \"#ed7953\"], [0.7777777777777778, \"#fb9f3a\"], [0.8888888888888888, \"#fdca26\"], [1.0, \"#f0f921\"]], \"type\": \"histogram2d\"}], \"histogram2dcontour\": [{\"colorbar\": {\"outlinewidth\": 0, \"ticks\": \"\"}, \"colorscale\": [[0.0, \"#0d0887\"], [0.1111111111111111, \"#46039f\"], [0.2222222222222222, \"#7201a8\"], [0.3333333333333333, \"#9c179e\"], [0.4444444444444444, \"#bd3786\"], [0.5555555555555556, \"#d8576b\"], [0.6666666666666666, \"#ed7953\"], [0.7777777777777778, \"#fb9f3a\"], [0.8888888888888888, \"#fdca26\"], [1.0, \"#f0f921\"]], \"type\": \"histogram2dcontour\"}], \"mesh3d\": [{\"colorbar\": {\"outlinewidth\": 0, \"ticks\": \"\"}, \"type\": \"mesh3d\"}], \"parcoords\": [{\"line\": {\"colorbar\": {\"outlinewidth\": 0, \"ticks\": \"\"}}, \"type\": \"parcoords\"}], \"pie\": [{\"automargin\": true, \"type\": \"pie\"}], \"scatter\": [{\"marker\": {\"colorbar\": {\"outlinewidth\": 0, \"ticks\": \"\"}}, \"type\": \"scatter\"}], \"scatter3d\": [{\"line\": {\"colorbar\": {\"outlinewidth\": 0, \"ticks\": \"\"}}, \"marker\": {\"colorbar\": {\"outlinewidth\": 0, \"ticks\": \"\"}}, \"type\": \"scatter3d\"}], \"scattercarpet\": [{\"marker\": {\"colorbar\": {\"outlinewidth\": 0, \"ticks\": \"\"}}, \"type\": \"scattercarpet\"}], \"scattergeo\": [{\"marker\": {\"colorbar\": {\"outlinewidth\": 0, \"ticks\": \"\"}}, \"type\": \"scattergeo\"}], \"scattergl\": [{\"marker\": {\"colorbar\": {\"outlinewidth\": 0, \"ticks\": \"\"}}, \"type\": \"scattergl\"}], \"scattermapbox\": [{\"marker\": {\"colorbar\": {\"outlinewidth\": 0, \"ticks\": \"\"}}, \"type\": \"scattermapbox\"}], \"scatterpolar\": [{\"marker\": {\"colorbar\": {\"outlinewidth\": 0, \"ticks\": \"\"}}, \"type\": \"scatterpolar\"}], \"scatterpolargl\": [{\"marker\": {\"colorbar\": {\"outlinewidth\": 0, \"ticks\": \"\"}}, \"type\": \"scatterpolargl\"}], \"scatterternary\": [{\"marker\": {\"colorbar\": {\"outlinewidth\": 0, \"ticks\": \"\"}}, \"type\": \"scatterternary\"}], \"surface\": [{\"colorbar\": {\"outlinewidth\": 0, \"ticks\": \"\"}, \"colorscale\": [[0.0, \"#0d0887\"], [0.1111111111111111, \"#46039f\"], [0.2222222222222222, \"#7201a8\"], [0.3333333333333333, \"#9c179e\"], [0.4444444444444444, \"#bd3786\"], [0.5555555555555556, \"#d8576b\"], [0.6666666666666666, \"#ed7953\"], [0.7777777777777778, \"#fb9f3a\"], [0.8888888888888888, \"#fdca26\"], [1.0, \"#f0f921\"]], \"type\": \"surface\"}], \"table\": [{\"cells\": {\"fill\": {\"color\": \"#EBF0F8\"}, \"line\": {\"color\": \"white\"}}, \"header\": {\"fill\": {\"color\": \"#C8D4E3\"}, \"line\": {\"color\": \"white\"}}, \"type\": \"table\"}]}, \"layout\": {\"annotationdefaults\": {\"arrowcolor\": \"#2a3f5f\", \"arrowhead\": 0, \"arrowwidth\": 1}, \"autotypenumbers\": \"strict\", \"coloraxis\": {\"colorbar\": {\"outlinewidth\": 0, \"ticks\": \"\"}}, \"colorscale\": {\"diverging\": [[0, \"#8e0152\"], [0.1, \"#c51b7d\"], [0.2, \"#de77ae\"], [0.3, \"#f1b6da\"], [0.4, \"#fde0ef\"], [0.5, \"#f7f7f7\"], [0.6, \"#e6f5d0\"], [0.7, \"#b8e186\"], [0.8, \"#7fbc41\"], [0.9, \"#4d9221\"], [1, \"#276419\"]], \"sequential\": [[0.0, \"#0d0887\"], [0.1111111111111111, \"#46039f\"], [0.2222222222222222, \"#7201a8\"], [0.3333333333333333, \"#9c179e\"], [0.4444444444444444, \"#bd3786\"], [0.5555555555555556, \"#d8576b\"], [0.6666666666666666, \"#ed7953\"], [0.7777777777777778, \"#fb9f3a\"], [0.8888888888888888, \"#fdca26\"], [1.0, \"#f0f921\"]], \"sequentialminus\": [[0.0, \"#0d0887\"], [0.1111111111111111, \"#46039f\"], [0.2222222222222222, \"#7201a8\"], [0.3333333333333333, \"#9c179e\"], [0.4444444444444444, \"#bd3786\"], [0.5555555555555556, \"#d8576b\"], [0.6666666666666666, \"#ed7953\"], [0.7777777777777778, \"#fb9f3a\"], [0.8888888888888888, \"#fdca26\"], [1.0, \"#f0f921\"]]}, \"colorway\": [\"#636efa\", \"#EF553B\", \"#00cc96\", \"#ab63fa\", \"#FFA15A\", \"#19d3f3\", \"#FF6692\", \"#B6E880\", \"#FF97FF\", \"#FECB52\"], \"font\": {\"color\": \"#2a3f5f\"}, \"geo\": {\"bgcolor\": \"white\", \"lakecolor\": \"white\", \"landcolor\": \"#E5ECF6\", \"showlakes\": true, \"showland\": true, \"subunitcolor\": \"white\"}, \"hoverlabel\": {\"align\": \"left\"}, \"hovermode\": \"closest\", \"mapbox\": {\"style\": \"light\"}, \"paper_bgcolor\": \"white\", \"plot_bgcolor\": \"#E5ECF6\", \"polar\": {\"angularaxis\": {\"gridcolor\": \"white\", \"linecolor\": \"white\", \"ticks\": \"\"}, \"bgcolor\": \"#E5ECF6\", \"radialaxis\": {\"gridcolor\": \"white\", \"linecolor\": \"white\", \"ticks\": \"\"}}, \"scene\": {\"xaxis\": {\"backgroundcolor\": \"#E5ECF6\", \"gridcolor\": \"white\", \"gridwidth\": 2, \"linecolor\": \"white\", \"showbackground\": true, \"ticks\": \"\", \"zerolinecolor\": \"white\"}, \"yaxis\": {\"backgroundcolor\": \"#E5ECF6\", \"gridcolor\": \"white\", \"gridwidth\": 2, \"linecolor\": \"white\", \"showbackground\": true, \"ticks\": \"\", \"zerolinecolor\": \"white\"}, \"zaxis\": {\"backgroundcolor\": \"#E5ECF6\", \"gridcolor\": \"white\", \"gridwidth\": 2, \"linecolor\": \"white\", \"showbackground\": true, \"ticks\": \"\", \"zerolinecolor\": \"white\"}}, \"shapedefaults\": {\"line\": {\"color\": \"#2a3f5f\"}}, \"ternary\": {\"aaxis\": {\"gridcolor\": \"white\", \"linecolor\": \"white\", \"ticks\": \"\"}, \"baxis\": {\"gridcolor\": \"white\", \"linecolor\": \"white\", \"ticks\": \"\"}, \"bgcolor\": \"#E5ECF6\", \"caxis\": {\"gridcolor\": \"white\", \"linecolor\": \"white\", \"ticks\": \"\"}}, \"title\": {\"x\": 0.05}, \"xaxis\": {\"automargin\": true, \"gridcolor\": \"white\", \"linecolor\": \"white\", \"ticks\": \"\", \"title\": {\"standoff\": 15}, \"zerolinecolor\": \"white\", \"zerolinewidth\": 2}, \"yaxis\": {\"automargin\": true, \"gridcolor\": \"white\", \"linecolor\": \"white\", \"ticks\": \"\", \"title\": {\"standoff\": 15}, \"zerolinecolor\": \"white\", \"zerolinewidth\": 2}}}, \"title\": {\"text\": \"Victims Age and Gender Distribution\"}, \"width\": 550, \"xaxis\": {\"anchor\": \"y\", \"categoryarray\": [\"0--8\", \"9--17\", \"18--20\", \"21--23\", \"24--26\", \"27--29\", \"30--38\", \"39--47\", \"48+\"], \"categoryorder\": \"array\", \"domain\": [0.0, 1.0], \"title\": {\"text\": \"ageBroad\"}}, \"yaxis\": {\"anchor\": \"x\", \"domain\": [0.0, 1.0], \"title\": {\"text\": \"Trafficked Persons\"}}},                        {\"responsive\": true}                    ).then(function(){\n",
       "                            \n",
       "var gd = document.getElementById('9e350f47-33fa-42d6-a968-8138d5d7bac4');\n",
       "var x = new MutationObserver(function (mutations, observer) {{\n",
       "        var display = window.getComputedStyle(gd).display;\n",
       "        if (!display || display === 'none') {{\n",
       "            console.log([gd, 'removed!']);\n",
       "            Plotly.purge(gd);\n",
       "            observer.disconnect();\n",
       "        }}\n",
       "}});\n",
       "\n",
       "// Listen for the removal of the full notebook cells\n",
       "var notebookContainer = gd.closest('#notebook-container');\n",
       "if (notebookContainer) {{\n",
       "    x.observe(notebookContainer, {childList: true});\n",
       "}}\n",
       "\n",
       "// Listen for the clearing of the current output cell\n",
       "var outputEl = gd.closest('.output');\n",
       "if (outputEl) {{\n",
       "    x.observe(outputEl, {childList: true});\n",
       "}}\n",
       "\n",
       "                        })                };                });            </script>        </div>"
      ]
     },
     "metadata": {},
     "output_type": "display_data"
    }
   ],
   "source": [
    "dFage = df.groupby(['gender', 'ageBroad']).size().reset_index()\n",
    "dFage.rename(columns={0: 'Trafficked Persons'},\n",
    "             inplace=True)  # Number of Trafficked Individuals\n",
    "\n",
    "fig = px.bar(dFage, x='ageBroad', y='Trafficked Persons', color='gender',title='Victims Age and Gender Distribution', height=400, width=550,\n",
    "             category_orders={'ageBroad': ['0--8', '9--17', '18--20', '21--23', '24--26', '27--29', '30--38', '39--47', '48+']})\n",
    "fig.show()"
   ]
  },
  {
   "cell_type": "markdown",
   "metadata": {},
   "source": [
    "### Human trafficking development over time\n",
    "\n",
    "###### The following graph shows the time development of trafficking in Humans  between 2003 and 2018. We continue to observe the incremental lopsidedness in victims population against females plateauing in 2018. Conversely, the male graph plateaued two years earlier in 2016."
   ]
  },
  {
   "cell_type": "code",
   "execution_count": 39,
   "metadata": {
    "scrolled": false
   },
   "outputs": [
    {
     "data": {
      "text/plain": [
       "<seaborn.axisgrid.FacetGrid at 0x262698df400>"
      ]
     },
     "execution_count": 39,
     "metadata": {},
     "output_type": "execute_result"
    },
    {
     "data": {
      "image/png": "[encoded data removed]",
      "text/plain": [
       "<Figure size 1086.91x452.88 with 2 Axes>"
      ]
     },
     "metadata": {},
     "output_type": "display_data"
    }
   ],
   "source": [
    "sns.set_theme()\n",
    "\n",
    "df_1 = sns.FacetGrid(df, col='gender', height=6.29, aspect=1.2)\n",
    "df_1.map(sns.histplot, 'yearOfRegistration', kde = True, color='navy', edgecolor='red', linewidth=2)\n",
    "\n",
    "#df_1.savefig('facet_plot1.png')"
   ]
  },
  {
   "cell_type": "markdown",
   "metadata": {},
   "source": [
    "### Victims age range and Gender Disparity"
   ]
  },
  {
   "cell_type": "code",
   "execution_count": 40,
   "metadata": {},
   "outputs": [
    {
     "data": {
      "text/plain": [
       "Text(0, 0.5, 'Victim Count')"
      ]
     },
     "execution_count": 40,
     "metadata": {},
     "output_type": "execute_result"
    },
    {
     "data": {
      "image/png": "[encoded data removed]",
      "text/plain": [
       "<Figure size 720x504 with 1 Axes>"
      ]
     },
     "metadata": {},
     "output_type": "display_data"
    }
   ],
   "source": [
    "sns.set_style(\"whitegrid\")\n",
    "plt.figure(figsize=(10, 7))\n",
    "sns.histplot(df, x='gender', hue='ageBroad', multiple='dodge')\n",
    "plt.title('Age and Gender Dispatity')\n",
    "plt.xlabel('Gender')\n",
    "plt.ylabel('Victim Count')"
   ]
  },
  {
   "cell_type": "markdown",
   "metadata": {},
   "source": [
    "### Gender and Age of Victims"
   ]
  },
  {
   "cell_type": "code",
   "execution_count": 43,
   "metadata": {},
   "outputs": [
    {
     "data": {
      "application/vnd.plotly.v1+json": {
       "config": {
        "plotlyServerURL": "https://plot.ly"
       },
       "data": [
        {
         "domain": {
          "x": [
           0,
           1
          ],
          "y": [
           0,
           1
          ]
         },
         "hovertemplate": "gender=%{label}<br>Trafficked Persons=%{value}<extra></extra>",
         "labels": [
          "Female",
          "Male"
         ],
         "legendgroup": "",
         "name": "",
         "showlegend": true,
         "type": "pie",
         "values": [
          26694,
          9745
         ]
        }
       ],
       "layout": {
        "height": 550,
        "legend": {
         "tracegroupgap": 0
        },
        "template": {
         "data": {
          "bar": [
           {
            "error_x": {
             "color": "#2a3f5f"
            },
            "error_y": {
             "color": "#2a3f5f"
            },
            "marker": {
             "line": {
              "color": "#E5ECF6",
              "width": 0.5
             }
            },
            "type": "bar"
           }
          ],
          "barpolar": [
           {
            "marker": {
             "line": {
              "color": "#E5ECF6",
              "width": 0.5
             }
            },
            "type": "barpolar"
           }
          ],
          "carpet": [
           {
            "aaxis": {
             "endlinecolor": "#2a3f5f",
             "gridcolor": "white",
             "linecolor": "white",
             "minorgridcolor": "white",
             "startlinecolor": "#2a3f5f"
            },
            "baxis": {
             "endlinecolor": "#2a3f5f",
             "gridcolor": "white",
             "linecolor": "white",
             "minorgridcolor": "white",
             "startlinecolor": "#2a3f5f"
            },
            "type": "carpet"
           }
          ],
          "choropleth": [
           {
            "colorbar": {
             "outlinewidth": 0,
             "ticks": ""
            },
            "type": "choropleth"
           }
          ],
          "contour": [
           {
            "colorbar": {
             "outlinewidth": 0,
             "ticks": ""
            },
            "colorscale": [
             [
              0,
              "#0d0887"
             ],
             [
              0.1111111111111111,
              "#46039f"
             ],
             [
              0.2222222222222222,
              "#7201a8"
             ],
             [
              0.3333333333333333,
              "#9c179e"
             ],
             [
              0.4444444444444444,
              "#bd3786"
             ],
             [
              0.5555555555555556,
              "#d8576b"
             ],
             [
              0.6666666666666666,
              "#ed7953"
             ],
             [
              0.7777777777777778,
              "#fb9f3a"
             ],
             [
              0.8888888888888888,
              "#fdca26"
             ],
             [
              1,
              "#f0f921"
             ]
            ],
            "type": "contour"
           }
          ],
          "contourcarpet": [
           {
            "colorbar": {
             "outlinewidth": 0,
             "ticks": ""
            },
            "type": "contourcarpet"
           }
          ],
          "heatmap": [
           {
            "colorbar": {
             "outlinewidth": 0,
             "ticks": ""
            },
            "colorscale": [
             [
              0,
              "#0d0887"
             ],
             [
              0.1111111111111111,
              "#46039f"
             ],
             [
              0.2222222222222222,
              "#7201a8"
             ],
             [
              0.3333333333333333,
              "#9c179e"
             ],
             [
              0.4444444444444444,
              "#bd3786"
             ],
             [
              0.5555555555555556,
              "#d8576b"
             ],
             [
              0.6666666666666666,
              "#ed7953"
             ],
             [
              0.7777777777777778,
              "#fb9f3a"
             ],
             [
              0.8888888888888888,
              "#fdca26"
             ],
             [
              1,
              "#f0f921"
             ]
            ],
            "type": "heatmap"
           }
          ],
          "heatmapgl": [
           {
            "colorbar": {
             "outlinewidth": 0,
             "ticks": ""
            },
            "colorscale": [
             [
              0,
              "#0d0887"
             ],
             [
              0.1111111111111111,
              "#46039f"
             ],
             [
              0.2222222222222222,
              "#7201a8"
             ],
             [
              0.3333333333333333,
              "#9c179e"
             ],
             [
              0.4444444444444444,
              "#bd3786"
             ],
             [
              0.5555555555555556,
              "#d8576b"
             ],
             [
              0.6666666666666666,
              "#ed7953"
             ],
             [
              0.7777777777777778,
              "#fb9f3a"
             ],
             [
              0.8888888888888888,
              "#fdca26"
             ],
             [
              1,
              "#f0f921"
             ]
            ],
            "type": "heatmapgl"
           }
          ],
          "histogram": [
           {
            "marker": {
             "colorbar": {
              "outlinewidth": 0,
              "ticks": ""
             }
            },
            "type": "histogram"
           }
          ],
          "histogram2d": [
           {
            "colorbar": {
             "outlinewidth": 0,
             "ticks": ""
            },
            "colorscale": [
             [
              0,
              "#0d0887"
             ],
             [
              0.1111111111111111,
              "#46039f"
             ],
             [
              0.2222222222222222,
              "#7201a8"
             ],
             [
              0.3333333333333333,
              "#9c179e"
             ],
             [
              0.4444444444444444,
              "#bd3786"
             ],
             [
              0.5555555555555556,
              "#d8576b"
             ],
             [
              0.6666666666666666,
              "#ed7953"
             ],
             [
              0.7777777777777778,
              "#fb9f3a"
             ],
             [
              0.8888888888888888,
              "#fdca26"
             ],
             [
              1,
              "#f0f921"
             ]
            ],
            "type": "histogram2d"
           }
          ],
          "histogram2dcontour": [
           {
            "colorbar": {
             "outlinewidth": 0,
             "ticks": ""
            },
            "colorscale": [
             [
              0,
              "#0d0887"
             ],
             [
              0.1111111111111111,
              "#46039f"
             ],
             [
              0.2222222222222222,
              "#7201a8"
             ],
             [
              0.3333333333333333,
              "#9c179e"
             ],
             [
              0.4444444444444444,
              "#bd3786"
             ],
             [
              0.5555555555555556,
              "#d8576b"
             ],
             [
              0.6666666666666666,
              "#ed7953"
             ],
             [
              0.7777777777777778,
              "#fb9f3a"
             ],
             [
              0.8888888888888888,
              "#fdca26"
             ],
             [
              1,
              "#f0f921"
             ]
            ],
            "type": "histogram2dcontour"
           }
          ],
          "mesh3d": [
           {
            "colorbar": {
             "outlinewidth": 0,
             "ticks": ""
            },
            "type": "mesh3d"
           }
          ],
          "parcoords": [
           {
            "line": {
             "colorbar": {
              "outlinewidth": 0,
              "ticks": ""
             }
            },
            "type": "parcoords"
           }
          ],
          "pie": [
           {
            "automargin": true,
            "type": "pie"
           }
          ],
          "scatter": [
           {
            "marker": {
             "colorbar": {
              "outlinewidth": 0,
              "ticks": ""
             }
            },
            "type": "scatter"
           }
          ],
          "scatter3d": [
           {
            "line": {
             "colorbar": {
              "outlinewidth": 0,
              "ticks": ""
             }
            },
            "marker": {
             "colorbar": {
              "outlinewidth": 0,
              "ticks": ""
             }
            },
            "type": "scatter3d"
           }
          ],
          "scattercarpet": [
           {
            "marker": {
             "colorbar": {
              "outlinewidth": 0,
              "ticks": ""
             }
            },
            "type": "scattercarpet"
           }
          ],
          "scattergeo": [
           {
            "marker": {
             "colorbar": {
              "outlinewidth": 0,
              "ticks": ""
             }
            },
            "type": "scattergeo"
           }
          ],
          "scattergl": [
           {
            "marker": {
             "colorbar": {
              "outlinewidth": 0,
              "ticks": ""
             }
            },
            "type": "scattergl"
           }
          ],
          "scattermapbox": [
           {
            "marker": {
             "colorbar": {
              "outlinewidth": 0,
              "ticks": ""
             }
            },
            "type": "scattermapbox"
           }
          ],
          "scatterpolar": [
           {
            "marker": {
             "colorbar": {
              "outlinewidth": 0,
              "ticks": ""
             }
            },
            "type": "scatterpolar"
           }
          ],
          "scatterpolargl": [
           {
            "marker": {
             "colorbar": {
              "outlinewidth": 0,
              "ticks": ""
             }
            },
            "type": "scatterpolargl"
           }
          ],
          "scatterternary": [
           {
            "marker": {
             "colorbar": {
              "outlinewidth": 0,
              "ticks": ""
             }
            },
            "type": "scatterternary"
           }
          ],
          "surface": [
           {
            "colorbar": {
             "outlinewidth": 0,
             "ticks": ""
            },
            "colorscale": [
             [
              0,
              "#0d0887"
             ],
             [
              0.1111111111111111,
              "#46039f"
             ],
             [
              0.2222222222222222,
              "#7201a8"
             ],
             [
              0.3333333333333333,
              "#9c179e"
             ],
             [
              0.4444444444444444,
              "#bd3786"
             ],
             [
              0.5555555555555556,
              "#d8576b"
             ],
             [
              0.6666666666666666,
              "#ed7953"
             ],
             [
              0.7777777777777778,
              "#fb9f3a"
             ],
             [
              0.8888888888888888,
              "#fdca26"
             ],
             [
              1,
              "#f0f921"
             ]
            ],
            "type": "surface"
           }
          ],
          "table": [
           {
            "cells": {
             "fill": {
              "color": "#EBF0F8"
             },
             "line": {
              "color": "white"
             }
            },
            "header": {
             "fill": {
              "color": "#C8D4E3"
             },
             "line": {
              "color": "white"
             }
            },
            "type": "table"
           }
          ]
         },
         "layout": {
          "annotationdefaults": {
           "arrowcolor": "#2a3f5f",
           "arrowhead": 0,
           "arrowwidth": 1
          },
          "autotypenumbers": "strict",
          "coloraxis": {
           "colorbar": {
            "outlinewidth": 0,
            "ticks": ""
           }
          },
          "colorscale": {
           "diverging": [
            [
             0,
             "#8e0152"
            ],
            [
             0.1,
             "#c51b7d"
            ],
            [
             0.2,
             "#de77ae"
            ],
            [
             0.3,
             "#f1b6da"
            ],
            [
             0.4,
             "#fde0ef"
            ],
            [
             0.5,
             "#f7f7f7"
            ],
            [
             0.6,
             "#e6f5d0"
            ],
            [
             0.7,
             "#b8e186"
            ],
            [
             0.8,
             "#7fbc41"
            ],
            [
             0.9,
             "#4d9221"
            ],
            [
             1,
             "#276419"
            ]
           ],
           "sequential": [
            [
             0,
             "#0d0887"
            ],
            [
             0.1111111111111111,
             "#46039f"
            ],
            [
             0.2222222222222222,
             "#7201a8"
            ],
            [
             0.3333333333333333,
             "#9c179e"
            ],
            [
             0.4444444444444444,
             "#bd3786"
            ],
            [
             0.5555555555555556,
             "#d8576b"
            ],
            [
             0.6666666666666666,
             "#ed7953"
            ],
            [
             0.7777777777777778,
             "#fb9f3a"
            ],
            [
             0.8888888888888888,
             "#fdca26"
            ],
            [
             1,
             "#f0f921"
            ]
           ],
           "sequentialminus": [
            [
             0,
             "#0d0887"
            ],
            [
             0.1111111111111111,
             "#46039f"
            ],
            [
             0.2222222222222222,
             "#7201a8"
            ],
            [
             0.3333333333333333,
             "#9c179e"
            ],
            [
             0.4444444444444444,
             "#bd3786"
            ],
            [
             0.5555555555555556,
             "#d8576b"
            ],
            [
             0.6666666666666666,
             "#ed7953"
            ],
            [
             0.7777777777777778,
             "#fb9f3a"
            ],
            [
             0.8888888888888888,
             "#fdca26"
            ],
            [
             1,
             "#f0f921"
            ]
           ]
          },
          "colorway": [
           "#636efa",
           "#EF553B",
           "#00cc96",
           "#ab63fa",
           "#FFA15A",
           "#19d3f3",
           "#FF6692",
           "#B6E880",
           "#FF97FF",
           "#FECB52"
          ],
          "font": {
           "color": "#2a3f5f"
          },
          "geo": {
           "bgcolor": "white",
           "lakecolor": "white",
           "landcolor": "#E5ECF6",
           "showlakes": true,
           "showland": true,
           "subunitcolor": "white"
          },
          "hoverlabel": {
           "align": "left"
          },
          "hovermode": "closest",
          "mapbox": {
           "style": "light"
          },
          "paper_bgcolor": "white",
          "plot_bgcolor": "#E5ECF6",
          "polar": {
           "angularaxis": {
            "gridcolor": "white",
            "linecolor": "white",
            "ticks": ""
           },
           "bgcolor": "#E5ECF6",
           "radialaxis": {
            "gridcolor": "white",
            "linecolor": "white",
            "ticks": ""
           }
          },
          "scene": {
           "xaxis": {
            "backgroundcolor": "#E5ECF6",
            "gridcolor": "white",
            "gridwidth": 2,
            "linecolor": "white",
            "showbackground": true,
            "ticks": "",
            "zerolinecolor": "white"
           },
           "yaxis": {
            "backgroundcolor": "#E5ECF6",
            "gridcolor": "white",
            "gridwidth": 2,
            "linecolor": "white",
            "showbackground": true,
            "ticks": "",
            "zerolinecolor": "white"
           },
           "zaxis": {
            "backgroundcolor": "#E5ECF6",
            "gridcolor": "white",
            "gridwidth": 2,
            "linecolor": "white",
            "showbackground": true,
            "ticks": "",
            "zerolinecolor": "white"
           }
          },
          "shapedefaults": {
           "line": {
            "color": "#2a3f5f"
           }
          },
          "ternary": {
           "aaxis": {
            "gridcolor": "white",
            "linecolor": "white",
            "ticks": ""
           },
           "baxis": {
            "gridcolor": "white",
            "linecolor": "white",
            "ticks": ""
           },
           "bgcolor": "#E5ECF6",
           "caxis": {
            "gridcolor": "white",
            "linecolor": "white",
            "ticks": ""
           }
          },
          "title": {
           "x": 0.05
          },
          "xaxis": {
           "automargin": true,
           "gridcolor": "white",
           "linecolor": "white",
           "ticks": "",
           "title": {
            "standoff": 15
           },
           "zerolinecolor": "white",
           "zerolinewidth": 2
          },
          "yaxis": {
           "automargin": true,
           "gridcolor": "white",
           "linecolor": "white",
           "ticks": "",
           "title": {
            "standoff": 15
           },
           "zerolinecolor": "white",
           "zerolinewidth": 2
          }
         }
        },
        "title": {
         "text": "Victims Gender Distribution"
        },
        "width": 700
       }
      },
      "text/html": [
       "<div>                            <div id=\"c43c6eef-b4d6-43a7-bb86-738740245da2\" class=\"plotly-graph-div\" style=\"height:550px; width:700px;\"></div>            <script type=\"text/javascript\">                require([\"plotly\"], function(Plotly) {                    window.PLOTLYENV=window.PLOTLYENV || {};                                    if (document.getElementById(\"c43c6eef-b4d6-43a7-bb86-738740245da2\")) {                    Plotly.newPlot(                        \"c43c6eef-b4d6-43a7-bb86-738740245da2\",                        [{\"domain\": {\"x\": [0.0, 1.0], \"y\": [0.0, 1.0]}, \"hovertemplate\": \"gender=%{label}<br>Trafficked Persons=%{value}<extra></extra>\", \"labels\": [\"Female\", \"Male\"], \"legendgroup\": \"\", \"name\": \"\", \"showlegend\": true, \"type\": \"pie\", \"values\": [26694, 9745]}],                        {\"height\": 550, \"legend\": {\"tracegroupgap\": 0}, \"template\": {\"data\": {\"bar\": [{\"error_x\": {\"color\": \"#2a3f5f\"}, \"error_y\": {\"color\": \"#2a3f5f\"}, \"marker\": {\"line\": {\"color\": \"#E5ECF6\", \"width\": 0.5}}, \"type\": \"bar\"}], \"barpolar\": [{\"marker\": {\"line\": {\"color\": \"#E5ECF6\", \"width\": 0.5}}, \"type\": \"barpolar\"}], \"carpet\": [{\"aaxis\": {\"endlinecolor\": \"#2a3f5f\", \"gridcolor\": \"white\", \"linecolor\": \"white\", \"minorgridcolor\": \"white\", \"startlinecolor\": \"#2a3f5f\"}, \"baxis\": {\"endlinecolor\": \"#2a3f5f\", \"gridcolor\": \"white\", \"linecolor\": \"white\", \"minorgridcolor\": \"white\", \"startlinecolor\": \"#2a3f5f\"}, \"type\": \"carpet\"}], \"choropleth\": [{\"colorbar\": {\"outlinewidth\": 0, \"ticks\": \"\"}, \"type\": \"choropleth\"}], \"contour\": [{\"colorbar\": {\"outlinewidth\": 0, \"ticks\": \"\"}, \"colorscale\": [[0.0, \"#0d0887\"], [0.1111111111111111, \"#46039f\"], [0.2222222222222222, \"#7201a8\"], [0.3333333333333333, \"#9c179e\"], [0.4444444444444444, \"#bd3786\"], [0.5555555555555556, \"#d8576b\"], [0.6666666666666666, \"#ed7953\"], [0.7777777777777778, \"#fb9f3a\"], [0.8888888888888888, \"#fdca26\"], [1.0, \"#f0f921\"]], \"type\": \"contour\"}], \"contourcarpet\": [{\"colorbar\": {\"outlinewidth\": 0, \"ticks\": \"\"}, \"type\": \"contourcarpet\"}], \"heatmap\": [{\"colorbar\": {\"outlinewidth\": 0, \"ticks\": \"\"}, \"colorscale\": [[0.0, \"#0d0887\"], [0.1111111111111111, \"#46039f\"], [0.2222222222222222, \"#7201a8\"], [0.3333333333333333, \"#9c179e\"], [0.4444444444444444, \"#bd3786\"], [0.5555555555555556, \"#d8576b\"], [0.6666666666666666, \"#ed7953\"], [0.7777777777777778, \"#fb9f3a\"], [0.8888888888888888, \"#fdca26\"], [1.0, \"#f0f921\"]], \"type\": \"heatmap\"}], \"heatmapgl\": [{\"colorbar\": {\"outlinewidth\": 0, \"ticks\": \"\"}, \"colorscale\": [[0.0, \"#0d0887\"], [0.1111111111111111, \"#46039f\"], [0.2222222222222222, \"#7201a8\"], [0.3333333333333333, \"#9c179e\"], [0.4444444444444444, \"#bd3786\"], [0.5555555555555556, \"#d8576b\"], [0.6666666666666666, \"#ed7953\"], [0.7777777777777778, \"#fb9f3a\"], [0.8888888888888888, \"#fdca26\"], [1.0, \"#f0f921\"]], \"type\": \"heatmapgl\"}], \"histogram\": [{\"marker\": {\"colorbar\": {\"outlinewidth\": 0, \"ticks\": \"\"}}, \"type\": \"histogram\"}], \"histogram2d\": [{\"colorbar\": {\"outlinewidth\": 0, \"ticks\": \"\"}, \"colorscale\": [[0.0, \"#0d0887\"], [0.1111111111111111, \"#46039f\"], [0.2222222222222222, \"#7201a8\"], [0.3333333333333333, \"#9c179e\"], [0.4444444444444444, \"#bd3786\"], [0.5555555555555556, \"#d8576b\"], [0.6666666666666666, \"#ed7953\"], [0.7777777777777778, \"#fb9f3a\"], [0.8888888888888888, \"#fdca26\"], [1.0, \"#f0f921\"]], \"type\": \"histogram2d\"}], \"histogram2dcontour\": [{\"colorbar\": {\"outlinewidth\": 0, \"ticks\": \"\"}, \"colorscale\": [[0.0, \"#0d0887\"], [0.1111111111111111, \"#46039f\"], [0.2222222222222222, \"#7201a8\"], [0.3333333333333333, \"#9c179e\"], [0.4444444444444444, \"#bd3786\"], [0.5555555555555556, \"#d8576b\"], [0.6666666666666666, \"#ed7953\"], [0.7777777777777778, \"#fb9f3a\"], [0.8888888888888888, \"#fdca26\"], [1.0, \"#f0f921\"]], \"type\": \"histogram2dcontour\"}], \"mesh3d\": [{\"colorbar\": {\"outlinewidth\": 0, \"ticks\": \"\"}, \"type\": \"mesh3d\"}], \"parcoords\": [{\"line\": {\"colorbar\": {\"outlinewidth\": 0, \"ticks\": \"\"}}, \"type\": \"parcoords\"}], \"pie\": [{\"automargin\": true, \"type\": \"pie\"}], \"scatter\": [{\"marker\": {\"colorbar\": {\"outlinewidth\": 0, \"ticks\": \"\"}}, \"type\": \"scatter\"}], \"scatter3d\": [{\"line\": {\"colorbar\": {\"outlinewidth\": 0, \"ticks\": \"\"}}, \"marker\": {\"colorbar\": {\"outlinewidth\": 0, \"ticks\": \"\"}}, \"type\": \"scatter3d\"}], \"scattercarpet\": [{\"marker\": {\"colorbar\": {\"outlinewidth\": 0, \"ticks\": \"\"}}, \"type\": \"scattercarpet\"}], \"scattergeo\": [{\"marker\": {\"colorbar\": {\"outlinewidth\": 0, \"ticks\": \"\"}}, \"type\": \"scattergeo\"}], \"scattergl\": [{\"marker\": {\"colorbar\": {\"outlinewidth\": 0, \"ticks\": \"\"}}, \"type\": \"scattergl\"}], \"scattermapbox\": [{\"marker\": {\"colorbar\": {\"outlinewidth\": 0, \"ticks\": \"\"}}, \"type\": \"scattermapbox\"}], \"scatterpolar\": [{\"marker\": {\"colorbar\": {\"outlinewidth\": 0, \"ticks\": \"\"}}, \"type\": \"scatterpolar\"}], \"scatterpolargl\": [{\"marker\": {\"colorbar\": {\"outlinewidth\": 0, \"ticks\": \"\"}}, \"type\": \"scatterpolargl\"}], \"scatterternary\": [{\"marker\": {\"colorbar\": {\"outlinewidth\": 0, \"ticks\": \"\"}}, \"type\": \"scatterternary\"}], \"surface\": [{\"colorbar\": {\"outlinewidth\": 0, \"ticks\": \"\"}, \"colorscale\": [[0.0, \"#0d0887\"], [0.1111111111111111, \"#46039f\"], [0.2222222222222222, \"#7201a8\"], [0.3333333333333333, \"#9c179e\"], [0.4444444444444444, \"#bd3786\"], [0.5555555555555556, \"#d8576b\"], [0.6666666666666666, \"#ed7953\"], [0.7777777777777778, \"#fb9f3a\"], [0.8888888888888888, \"#fdca26\"], [1.0, \"#f0f921\"]], \"type\": \"surface\"}], \"table\": [{\"cells\": {\"fill\": {\"color\": \"#EBF0F8\"}, \"line\": {\"color\": \"white\"}}, \"header\": {\"fill\": {\"color\": \"#C8D4E3\"}, \"line\": {\"color\": \"white\"}}, \"type\": \"table\"}]}, \"layout\": {\"annotationdefaults\": {\"arrowcolor\": \"#2a3f5f\", \"arrowhead\": 0, \"arrowwidth\": 1}, \"autotypenumbers\": \"strict\", \"coloraxis\": {\"colorbar\": {\"outlinewidth\": 0, \"ticks\": \"\"}}, \"colorscale\": {\"diverging\": [[0, \"#8e0152\"], [0.1, \"#c51b7d\"], [0.2, \"#de77ae\"], [0.3, \"#f1b6da\"], [0.4, \"#fde0ef\"], [0.5, \"#f7f7f7\"], [0.6, \"#e6f5d0\"], [0.7, \"#b8e186\"], [0.8, \"#7fbc41\"], [0.9, \"#4d9221\"], [1, \"#276419\"]], \"sequential\": [[0.0, \"#0d0887\"], [0.1111111111111111, \"#46039f\"], [0.2222222222222222, \"#7201a8\"], [0.3333333333333333, \"#9c179e\"], [0.4444444444444444, \"#bd3786\"], [0.5555555555555556, \"#d8576b\"], [0.6666666666666666, \"#ed7953\"], [0.7777777777777778, \"#fb9f3a\"], [0.8888888888888888, \"#fdca26\"], [1.0, \"#f0f921\"]], \"sequentialminus\": [[0.0, \"#0d0887\"], [0.1111111111111111, \"#46039f\"], [0.2222222222222222, \"#7201a8\"], [0.3333333333333333, \"#9c179e\"], [0.4444444444444444, \"#bd3786\"], [0.5555555555555556, \"#d8576b\"], [0.6666666666666666, \"#ed7953\"], [0.7777777777777778, \"#fb9f3a\"], [0.8888888888888888, \"#fdca26\"], [1.0, \"#f0f921\"]]}, \"colorway\": [\"#636efa\", \"#EF553B\", \"#00cc96\", \"#ab63fa\", \"#FFA15A\", \"#19d3f3\", \"#FF6692\", \"#B6E880\", \"#FF97FF\", \"#FECB52\"], \"font\": {\"color\": \"#2a3f5f\"}, \"geo\": {\"bgcolor\": \"white\", \"lakecolor\": \"white\", \"landcolor\": \"#E5ECF6\", \"showlakes\": true, \"showland\": true, \"subunitcolor\": \"white\"}, \"hoverlabel\": {\"align\": \"left\"}, \"hovermode\": \"closest\", \"mapbox\": {\"style\": \"light\"}, \"paper_bgcolor\": \"white\", \"plot_bgcolor\": \"#E5ECF6\", \"polar\": {\"angularaxis\": {\"gridcolor\": \"white\", \"linecolor\": \"white\", \"ticks\": \"\"}, \"bgcolor\": \"#E5ECF6\", \"radialaxis\": {\"gridcolor\": \"white\", \"linecolor\": \"white\", \"ticks\": \"\"}}, \"scene\": {\"xaxis\": {\"backgroundcolor\": \"#E5ECF6\", \"gridcolor\": \"white\", \"gridwidth\": 2, \"linecolor\": \"white\", \"showbackground\": true, \"ticks\": \"\", \"zerolinecolor\": \"white\"}, \"yaxis\": {\"backgroundcolor\": \"#E5ECF6\", \"gridcolor\": \"white\", \"gridwidth\": 2, \"linecolor\": \"white\", \"showbackground\": true, \"ticks\": \"\", \"zerolinecolor\": \"white\"}, \"zaxis\": {\"backgroundcolor\": \"#E5ECF6\", \"gridcolor\": \"white\", \"gridwidth\": 2, \"linecolor\": \"white\", \"showbackground\": true, \"ticks\": \"\", \"zerolinecolor\": \"white\"}}, \"shapedefaults\": {\"line\": {\"color\": \"#2a3f5f\"}}, \"ternary\": {\"aaxis\": {\"gridcolor\": \"white\", \"linecolor\": \"white\", \"ticks\": \"\"}, \"baxis\": {\"gridcolor\": \"white\", \"linecolor\": \"white\", \"ticks\": \"\"}, \"bgcolor\": \"#E5ECF6\", \"caxis\": {\"gridcolor\": \"white\", \"linecolor\": \"white\", \"ticks\": \"\"}}, \"title\": {\"x\": 0.05}, \"xaxis\": {\"automargin\": true, \"gridcolor\": \"white\", \"linecolor\": \"white\", \"ticks\": \"\", \"title\": {\"standoff\": 15}, \"zerolinecolor\": \"white\", \"zerolinewidth\": 2}, \"yaxis\": {\"automargin\": true, \"gridcolor\": \"white\", \"linecolor\": \"white\", \"ticks\": \"\", \"title\": {\"standoff\": 15}, \"zerolinecolor\": \"white\", \"zerolinewidth\": 2}}}, \"title\": {\"text\": \"Victims Gender Distribution\"}, \"width\": 700},                        {\"responsive\": true}                    ).then(function(){\n",
       "                            \n",
       "var gd = document.getElementById('c43c6eef-b4d6-43a7-bb86-738740245da2');\n",
       "var x = new MutationObserver(function (mutations, observer) {{\n",
       "        var display = window.getComputedStyle(gd).display;\n",
       "        if (!display || display === 'none') {{\n",
       "            console.log([gd, 'removed!']);\n",
       "            Plotly.purge(gd);\n",
       "            observer.disconnect();\n",
       "        }}\n",
       "}});\n",
       "\n",
       "// Listen for the removal of the full notebook cells\n",
       "var notebookContainer = gd.closest('#notebook-container');\n",
       "if (notebookContainer) {{\n",
       "    x.observe(notebookContainer, {childList: true});\n",
       "}}\n",
       "\n",
       "// Listen for the clearing of the current output cell\n",
       "var outputEl = gd.closest('.output');\n",
       "if (outputEl) {{\n",
       "    x.observe(outputEl, {childList: true});\n",
       "}}\n",
       "\n",
       "                        })                };                });            </script>        </div>"
      ]
     },
     "metadata": {},
     "output_type": "display_data"
    }
   ],
   "source": [
    "fig = px.pie(dFage.groupby('gender').sum().reset_index(),\n",
    "             values='Trafficked Persons',\n",
    "             names='gender',\n",
    "             title='Victims Gender Distribution',\n",
    "             height=550,\n",
    "             width=700)\n",
    "\n",
    "fig.show()\n"
   ]
  },
  {
   "cell_type": "markdown",
   "metadata": {},
   "source": [
    "# Countries of Exploitation"
   ]
  },
  {
   "cell_type": "code",
   "execution_count": 44,
   "metadata": {
    "scrolled": false
   },
   "outputs": [
    {
     "data": {
      "application/vnd.plotly.v1+json": {
       "config": {
        "plotlyServerURL": "https://plot.ly"
       },
       "data": [
        {
         "coloraxis": "coloraxis",
         "geo": "geo",
         "hovertemplate": "<b>%{hovertext}</b><br><br>destination_iso3=%{location}<br>Number of Victims=%{z}<extra></extra>",
         "hovertext": [
          "Afghanistan",
          "Albania",
          "United Arab Emirates",
          "Argentina",
          "Austria",
          "Bangladesh",
          "Bulgaria",
          "Bahrain",
          "Bosnia and Herzegovina",
          "Belarus",
          "China",
          "Cyprus",
          "Czechia",
          "Denmark",
          "Ecuador",
          "Egypt",
          "Ghana",
          "Hong Kong",
          "Haiti",
          "Indonesia",
          "India",
          "Italy",
          "Jordan",
          "Japan",
          "Kazakhstan",
          "Cambodia",
          "Kuwait",
          "Lebanon",
          "Libya",
          "Moldova, Republic of",
          "Madagascar",
          "North Macedonia",
          "Mauritius",
          "Malaysia",
          "Oman",
          "Philippines",
          "Poland",
          "Qatar",
          "Romania",
          "Russian Federation",
          "Saudi Arabia",
          "Senegal",
          "Singapore",
          "Sierra Leone",
          "Serbia",
          "Syrian Arab Republic",
          "Thailand",
          "Tajikistan",
          "Turkmenistan",
          "Trinidad and Tobago",
          "Turkey",
          "Taiwan, Province of China",
          "Uganda",
          "Ukraine",
          "United States",
          "Uzbekistan",
          "Viet Nam",
          "South Africa"
         ],
         "locations": [
          "AFG",
          "ALB",
          "ARE",
          "ARG",
          "AUT",
          "BGD",
          "BGR",
          "BHR",
          "BIH",
          "BLR",
          "CHN",
          "CYP",
          "CZE",
          "DNK",
          "ECU",
          "EGY",
          "GHA",
          "HKG",
          "HTI",
          "IDN",
          "IND",
          "ITA",
          "JOR",
          "JPN",
          "KAZ",
          "KHM",
          "KWT",
          "LBN",
          "LBY",
          "MDA",
          "MDG",
          "MKD",
          "MUS",
          "MYS",
          "OMN",
          "PHL",
          "POL",
          "QAT",
          "ROU",
          "RUS",
          "SAU",
          "SEN",
          "SGP",
          "SLE",
          "SRB",
          "SYR",
          "THA",
          "TJK",
          "TKM",
          "TTO",
          "TUR",
          "TWN",
          "UGA",
          "UKR",
          "USA",
          "UZB",
          "VNM",
          "ZAF"
         ],
         "name": "",
         "type": "choropleth",
         "z": [
          83,
          22,
          504,
          18,
          24,
          26,
          356,
          22,
          127,
          400,
          79,
          11,
          38,
          17,
          13,
          13,
          544,
          31,
          339,
          1777,
          46,
          24,
          108,
          111,
          222,
          1000,
          209,
          73,
          11,
          4504,
          94,
          194,
          20,
          930,
          94,
          1988,
          326,
          239,
          259,
          2738,
          278,
          370,
          37,
          81,
          248,
          41,
          391,
          54,
          26,
          85,
          197,
          33,
          151,
          5399,
          12512,
          193,
          16,
          36
         ]
        }
       ],
       "layout": {
        "coloraxis": {
         "colorbar": {
          "title": {
           "text": "Number of Victims"
          }
         },
         "colorscale": [
          [
           0,
           "#0d0887"
          ],
          [
           0.1111111111111111,
           "#46039f"
          ],
          [
           0.2222222222222222,
           "#7201a8"
          ],
          [
           0.3333333333333333,
           "#9c179e"
          ],
          [
           0.4444444444444444,
           "#bd3786"
          ],
          [
           0.5555555555555556,
           "#d8576b"
          ],
          [
           0.6666666666666666,
           "#ed7953"
          ],
          [
           0.7777777777777778,
           "#fb9f3a"
          ],
          [
           0.8888888888888888,
           "#fdca26"
          ],
          [
           1,
           "#f0f921"
          ]
         ]
        },
        "geo": {
         "center": {},
         "domain": {
          "x": [
           0,
           1
          ],
          "y": [
           0,
           1
          ]
         }
        },
        "legend": {
         "tracegroupgap": 0
        },
        "template": {
         "data": {
          "bar": [
           {
            "error_x": {
             "color": "#2a3f5f"
            },
            "error_y": {
             "color": "#2a3f5f"
            },
            "marker": {
             "line": {
              "color": "#E5ECF6",
              "width": 0.5
             }
            },
            "type": "bar"
           }
          ],
          "barpolar": [
           {
            "marker": {
             "line": {
              "color": "#E5ECF6",
              "width": 0.5
             }
            },
            "type": "barpolar"
           }
          ],
          "carpet": [
           {
            "aaxis": {
             "endlinecolor": "#2a3f5f",
             "gridcolor": "white",
             "linecolor": "white",
             "minorgridcolor": "white",
             "startlinecolor": "#2a3f5f"
            },
            "baxis": {
             "endlinecolor": "#2a3f5f",
             "gridcolor": "white",
             "linecolor": "white",
             "minorgridcolor": "white",
             "startlinecolor": "#2a3f5f"
            },
            "type": "carpet"
           }
          ],
          "choropleth": [
           {
            "colorbar": {
             "outlinewidth": 0,
             "ticks": ""
            },
            "type": "choropleth"
           }
          ],
          "contour": [
           {
            "colorbar": {
             "outlinewidth": 0,
             "ticks": ""
            },
            "colorscale": [
             [
              0,
              "#0d0887"
             ],
             [
              0.1111111111111111,
              "#46039f"
             ],
             [
              0.2222222222222222,
              "#7201a8"
             ],
             [
              0.3333333333333333,
              "#9c179e"
             ],
             [
              0.4444444444444444,
              "#bd3786"
             ],
             [
              0.5555555555555556,
              "#d8576b"
             ],
             [
              0.6666666666666666,
              "#ed7953"
             ],
             [
              0.7777777777777778,
              "#fb9f3a"
             ],
             [
              0.8888888888888888,
              "#fdca26"
             ],
             [
              1,
              "#f0f921"
             ]
            ],
            "type": "contour"
           }
          ],
          "contourcarpet": [
           {
            "colorbar": {
             "outlinewidth": 0,
             "ticks": ""
            },
            "type": "contourcarpet"
           }
          ],
          "heatmap": [
           {
            "colorbar": {
             "outlinewidth": 0,
             "ticks": ""
            },
            "colorscale": [
             [
              0,
              "#0d0887"
             ],
             [
              0.1111111111111111,
              "#46039f"
             ],
             [
              0.2222222222222222,
              "#7201a8"
             ],
             [
              0.3333333333333333,
              "#9c179e"
             ],
             [
              0.4444444444444444,
              "#bd3786"
             ],
             [
              0.5555555555555556,
              "#d8576b"
             ],
             [
              0.6666666666666666,
              "#ed7953"
             ],
             [
              0.7777777777777778,
              "#fb9f3a"
             ],
             [
              0.8888888888888888,
              "#fdca26"
             ],
             [
              1,
              "#f0f921"
             ]
            ],
            "type": "heatmap"
           }
          ],
          "heatmapgl": [
           {
            "colorbar": {
             "outlinewidth": 0,
             "ticks": ""
            },
            "colorscale": [
             [
              0,
              "#0d0887"
             ],
             [
              0.1111111111111111,
              "#46039f"
             ],
             [
              0.2222222222222222,
              "#7201a8"
             ],
             [
              0.3333333333333333,
              "#9c179e"
             ],
             [
              0.4444444444444444,
              "#bd3786"
             ],
             [
              0.5555555555555556,
              "#d8576b"
             ],
             [
              0.6666666666666666,
              "#ed7953"
             ],
             [
              0.7777777777777778,
              "#fb9f3a"
             ],
             [
              0.8888888888888888,
              "#fdca26"
             ],
             [
              1,
              "#f0f921"
             ]
            ],
            "type": "heatmapgl"
           }
          ],
          "histogram": [
           {
            "marker": {
             "colorbar": {
              "outlinewidth": 0,
              "ticks": ""
             }
            },
            "type": "histogram"
           }
          ],
          "histogram2d": [
           {
            "colorbar": {
             "outlinewidth": 0,
             "ticks": ""
            },
            "colorscale": [
             [
              0,
              "#0d0887"
             ],
             [
              0.1111111111111111,
              "#46039f"
             ],
             [
              0.2222222222222222,
              "#7201a8"
             ],
             [
              0.3333333333333333,
              "#9c179e"
             ],
             [
              0.4444444444444444,
              "#bd3786"
             ],
             [
              0.5555555555555556,
              "#d8576b"
             ],
             [
              0.6666666666666666,
              "#ed7953"
             ],
             [
              0.7777777777777778,
              "#fb9f3a"
             ],
             [
              0.8888888888888888,
              "#fdca26"
             ],
             [
              1,
              "#f0f921"
             ]
            ],
            "type": "histogram2d"
           }
          ],
          "histogram2dcontour": [
           {
            "colorbar": {
             "outlinewidth": 0,
             "ticks": ""
            },
            "colorscale": [
             [
              0,
              "#0d0887"
             ],
             [
              0.1111111111111111,
              "#46039f"
             ],
             [
              0.2222222222222222,
              "#7201a8"
             ],
             [
              0.3333333333333333,
              "#9c179e"
             ],
             [
              0.4444444444444444,
              "#bd3786"
             ],
             [
              0.5555555555555556,
              "#d8576b"
             ],
             [
              0.6666666666666666,
              "#ed7953"
             ],
             [
              0.7777777777777778,
              "#fb9f3a"
             ],
             [
              0.8888888888888888,
              "#fdca26"
             ],
             [
              1,
              "#f0f921"
             ]
            ],
            "type": "histogram2dcontour"
           }
          ],
          "mesh3d": [
           {
            "colorbar": {
             "outlinewidth": 0,
             "ticks": ""
            },
            "type": "mesh3d"
           }
          ],
          "parcoords": [
           {
            "line": {
             "colorbar": {
              "outlinewidth": 0,
              "ticks": ""
             }
            },
            "type": "parcoords"
           }
          ],
          "pie": [
           {
            "automargin": true,
            "type": "pie"
           }
          ],
          "scatter": [
           {
            "marker": {
             "colorbar": {
              "outlinewidth": 0,
              "ticks": ""
             }
            },
            "type": "scatter"
           }
          ],
          "scatter3d": [
           {
            "line": {
             "colorbar": {
              "outlinewidth": 0,
              "ticks": ""
             }
            },
            "marker": {
             "colorbar": {
              "outlinewidth": 0,
              "ticks": ""
             }
            },
            "type": "scatter3d"
           }
          ],
          "scattercarpet": [
           {
            "marker": {
             "colorbar": {
              "outlinewidth": 0,
              "ticks": ""
             }
            },
            "type": "scattercarpet"
           }
          ],
          "scattergeo": [
           {
            "marker": {
             "colorbar": {
              "outlinewidth": 0,
              "ticks": ""
             }
            },
            "type": "scattergeo"
           }
          ],
          "scattergl": [
           {
            "marker": {
             "colorbar": {
              "outlinewidth": 0,
              "ticks": ""
             }
            },
            "type": "scattergl"
           }
          ],
          "scattermapbox": [
           {
            "marker": {
             "colorbar": {
              "outlinewidth": 0,
              "ticks": ""
             }
            },
            "type": "scattermapbox"
           }
          ],
          "scatterpolar": [
           {
            "marker": {
             "colorbar": {
              "outlinewidth": 0,
              "ticks": ""
             }
            },
            "type": "scatterpolar"
           }
          ],
          "scatterpolargl": [
           {
            "marker": {
             "colorbar": {
              "outlinewidth": 0,
              "ticks": ""
             }
            },
            "type": "scatterpolargl"
           }
          ],
          "scatterternary": [
           {
            "marker": {
             "colorbar": {
              "outlinewidth": 0,
              "ticks": ""
             }
            },
            "type": "scatterternary"
           }
          ],
          "surface": [
           {
            "colorbar": {
             "outlinewidth": 0,
             "ticks": ""
            },
            "colorscale": [
             [
              0,
              "#0d0887"
             ],
             [
              0.1111111111111111,
              "#46039f"
             ],
             [
              0.2222222222222222,
              "#7201a8"
             ],
             [
              0.3333333333333333,
              "#9c179e"
             ],
             [
              0.4444444444444444,
              "#bd3786"
             ],
             [
              0.5555555555555556,
              "#d8576b"
             ],
             [
              0.6666666666666666,
              "#ed7953"
             ],
             [
              0.7777777777777778,
              "#fb9f3a"
             ],
             [
              0.8888888888888888,
              "#fdca26"
             ],
             [
              1,
              "#f0f921"
             ]
            ],
            "type": "surface"
           }
          ],
          "table": [
           {
            "cells": {
             "fill": {
              "color": "#EBF0F8"
             },
             "line": {
              "color": "white"
             }
            },
            "header": {
             "fill": {
              "color": "#C8D4E3"
             },
             "line": {
              "color": "white"
             }
            },
            "type": "table"
           }
          ]
         },
         "layout": {
          "annotationdefaults": {
           "arrowcolor": "#2a3f5f",
           "arrowhead": 0,
           "arrowwidth": 1
          },
          "autotypenumbers": "strict",
          "coloraxis": {
           "colorbar": {
            "outlinewidth": 0,
            "ticks": ""
           }
          },
          "colorscale": {
           "diverging": [
            [
             0,
             "#8e0152"
            ],
            [
             0.1,
             "#c51b7d"
            ],
            [
             0.2,
             "#de77ae"
            ],
            [
             0.3,
             "#f1b6da"
            ],
            [
             0.4,
             "#fde0ef"
            ],
            [
             0.5,
             "#f7f7f7"
            ],
            [
             0.6,
             "#e6f5d0"
            ],
            [
             0.7,
             "#b8e186"
            ],
            [
             0.8,
             "#7fbc41"
            ],
            [
             0.9,
             "#4d9221"
            ],
            [
             1,
             "#276419"
            ]
           ],
           "sequential": [
            [
             0,
             "#0d0887"
            ],
            [
             0.1111111111111111,
             "#46039f"
            ],
            [
             0.2222222222222222,
             "#7201a8"
            ],
            [
             0.3333333333333333,
             "#9c179e"
            ],
            [
             0.4444444444444444,
             "#bd3786"
            ],
            [
             0.5555555555555556,
             "#d8576b"
            ],
            [
             0.6666666666666666,
             "#ed7953"
            ],
            [
             0.7777777777777778,
             "#fb9f3a"
            ],
            [
             0.8888888888888888,
             "#fdca26"
            ],
            [
             1,
             "#f0f921"
            ]
           ],
           "sequentialminus": [
            [
             0,
             "#0d0887"
            ],
            [
             0.1111111111111111,
             "#46039f"
            ],
            [
             0.2222222222222222,
             "#7201a8"
            ],
            [
             0.3333333333333333,
             "#9c179e"
            ],
            [
             0.4444444444444444,
             "#bd3786"
            ],
            [
             0.5555555555555556,
             "#d8576b"
            ],
            [
             0.6666666666666666,
             "#ed7953"
            ],
            [
             0.7777777777777778,
             "#fb9f3a"
            ],
            [
             0.8888888888888888,
             "#fdca26"
            ],
            [
             1,
             "#f0f921"
            ]
           ]
          },
          "colorway": [
           "#636efa",
           "#EF553B",
           "#00cc96",
           "#ab63fa",
           "#FFA15A",
           "#19d3f3",
           "#FF6692",
           "#B6E880",
           "#FF97FF",
           "#FECB52"
          ],
          "font": {
           "color": "#2a3f5f"
          },
          "geo": {
           "bgcolor": "white",
           "lakecolor": "white",
           "landcolor": "#E5ECF6",
           "showlakes": true,
           "showland": true,
           "subunitcolor": "white"
          },
          "hoverlabel": {
           "align": "left"
          },
          "hovermode": "closest",
          "mapbox": {
           "style": "light"
          },
          "paper_bgcolor": "white",
          "plot_bgcolor": "#E5ECF6",
          "polar": {
           "angularaxis": {
            "gridcolor": "white",
            "linecolor": "white",
            "ticks": ""
           },
           "bgcolor": "#E5ECF6",
           "radialaxis": {
            "gridcolor": "white",
            "linecolor": "white",
            "ticks": ""
           }
          },
          "scene": {
           "xaxis": {
            "backgroundcolor": "#E5ECF6",
            "gridcolor": "white",
            "gridwidth": 2,
            "linecolor": "white",
            "showbackground": true,
            "ticks": "",
            "zerolinecolor": "white"
           },
           "yaxis": {
            "backgroundcolor": "#E5ECF6",
            "gridcolor": "white",
            "gridwidth": 2,
            "linecolor": "white",
            "showbackground": true,
            "ticks": "",
            "zerolinecolor": "white"
           },
           "zaxis": {
            "backgroundcolor": "#E5ECF6",
            "gridcolor": "white",
            "gridwidth": 2,
            "linecolor": "white",
            "showbackground": true,
            "ticks": "",
            "zerolinecolor": "white"
           }
          },
          "shapedefaults": {
           "line": {
            "color": "#2a3f5f"
           }
          },
          "ternary": {
           "aaxis": {
            "gridcolor": "white",
            "linecolor": "white",
            "ticks": ""
           },
           "baxis": {
            "gridcolor": "white",
            "linecolor": "white",
            "ticks": ""
           },
           "bgcolor": "#E5ECF6",
           "caxis": {
            "gridcolor": "white",
            "linecolor": "white",
            "ticks": ""
           }
          },
          "title": {
           "x": 0.05
          },
          "xaxis": {
           "automargin": true,
           "gridcolor": "white",
           "linecolor": "white",
           "ticks": "",
           "title": {
            "standoff": 15
           },
           "zerolinecolor": "white",
           "zerolinewidth": 2
          },
          "yaxis": {
           "automargin": true,
           "gridcolor": "white",
           "linecolor": "white",
           "ticks": "",
           "title": {
            "standoff": 15
           },
           "zerolinecolor": "white",
           "zerolinewidth": 2
          }
         }
        },
        "title": {
         "text": "Reported Countries of Exploitation and Victims Count"
        }
       }
      },
      "text/html": [
       "<div>                            <div id=\"82eef544-1e51-4c1d-80a5-cc3835ed68d3\" class=\"plotly-graph-div\" style=\"height:525px; width:100%;\"></div>            <script type=\"text/javascript\">                require([\"plotly\"], function(Plotly) {                    window.PLOTLYENV=window.PLOTLYENV || {};                                    if (document.getElementById(\"82eef544-1e51-4c1d-80a5-cc3835ed68d3\")) {                    Plotly.newPlot(                        \"82eef544-1e51-4c1d-80a5-cc3835ed68d3\",                        [{\"coloraxis\": \"coloraxis\", \"geo\": \"geo\", \"hovertemplate\": \"<b>%{hovertext}</b><br><br>destination_iso3=%{location}<br>Number of Victims=%{z}<extra></extra>\", \"hovertext\": [\"Afghanistan\", \"Albania\", \"United Arab Emirates\", \"Argentina\", \"Austria\", \"Bangladesh\", \"Bulgaria\", \"Bahrain\", \"Bosnia and Herzegovina\", \"Belarus\", \"China\", \"Cyprus\", \"Czechia\", \"Denmark\", \"Ecuador\", \"Egypt\", \"Ghana\", \"Hong Kong\", \"Haiti\", \"Indonesia\", \"India\", \"Italy\", \"Jordan\", \"Japan\", \"Kazakhstan\", \"Cambodia\", \"Kuwait\", \"Lebanon\", \"Libya\", \"Moldova, Republic of\", \"Madagascar\", \"North Macedonia\", \"Mauritius\", \"Malaysia\", \"Oman\", \"Philippines\", \"Poland\", \"Qatar\", \"Romania\", \"Russian Federation\", \"Saudi Arabia\", \"Senegal\", \"Singapore\", \"Sierra Leone\", \"Serbia\", \"Syrian Arab Republic\", \"Thailand\", \"Tajikistan\", \"Turkmenistan\", \"Trinidad and Tobago\", \"Turkey\", \"Taiwan, Province of China\", \"Uganda\", \"Ukraine\", \"United States\", \"Uzbekistan\", \"Viet Nam\", \"South Africa\"], \"locations\": [\"AFG\", \"ALB\", \"ARE\", \"ARG\", \"AUT\", \"BGD\", \"BGR\", \"BHR\", \"BIH\", \"BLR\", \"CHN\", \"CYP\", \"CZE\", \"DNK\", \"ECU\", \"EGY\", \"GHA\", \"HKG\", \"HTI\", \"IDN\", \"IND\", \"ITA\", \"JOR\", \"JPN\", \"KAZ\", \"KHM\", \"KWT\", \"LBN\", \"LBY\", \"MDA\", \"MDG\", \"MKD\", \"MUS\", \"MYS\", \"OMN\", \"PHL\", \"POL\", \"QAT\", \"ROU\", \"RUS\", \"SAU\", \"SEN\", \"SGP\", \"SLE\", \"SRB\", \"SYR\", \"THA\", \"TJK\", \"TKM\", \"TTO\", \"TUR\", \"TWN\", \"UGA\", \"UKR\", \"USA\", \"UZB\", \"VNM\", \"ZAF\"], \"name\": \"\", \"type\": \"choropleth\", \"z\": [83, 22, 504, 18, 24, 26, 356, 22, 127, 400, 79, 11, 38, 17, 13, 13, 544, 31, 339, 1777, 46, 24, 108, 111, 222, 1000, 209, 73, 11, 4504, 94, 194, 20, 930, 94, 1988, 326, 239, 259, 2738, 278, 370, 37, 81, 248, 41, 391, 54, 26, 85, 197, 33, 151, 5399, 12512, 193, 16, 36]}],                        {\"coloraxis\": {\"colorbar\": {\"title\": {\"text\": \"Number of Victims\"}}, \"colorscale\": [[0.0, \"#0d0887\"], [0.1111111111111111, \"#46039f\"], [0.2222222222222222, \"#7201a8\"], [0.3333333333333333, \"#9c179e\"], [0.4444444444444444, \"#bd3786\"], [0.5555555555555556, \"#d8576b\"], [0.6666666666666666, \"#ed7953\"], [0.7777777777777778, \"#fb9f3a\"], [0.8888888888888888, \"#fdca26\"], [1.0, \"#f0f921\"]]}, \"geo\": {\"center\": {}, \"domain\": {\"x\": [0.0, 1.0], \"y\": [0.0, 1.0]}}, \"legend\": {\"tracegroupgap\": 0}, \"template\": {\"data\": {\"bar\": [{\"error_x\": {\"color\": \"#2a3f5f\"}, \"error_y\": {\"color\": \"#2a3f5f\"}, \"marker\": {\"line\": {\"color\": \"#E5ECF6\", \"width\": 0.5}}, \"type\": \"bar\"}], \"barpolar\": [{\"marker\": {\"line\": {\"color\": \"#E5ECF6\", \"width\": 0.5}}, \"type\": \"barpolar\"}], \"carpet\": [{\"aaxis\": {\"endlinecolor\": \"#2a3f5f\", \"gridcolor\": \"white\", \"linecolor\": \"white\", \"minorgridcolor\": \"white\", \"startlinecolor\": \"#2a3f5f\"}, \"baxis\": {\"endlinecolor\": \"#2a3f5f\", \"gridcolor\": \"white\", \"linecolor\": \"white\", \"minorgridcolor\": \"white\", \"startlinecolor\": \"#2a3f5f\"}, \"type\": \"carpet\"}], \"choropleth\": [{\"colorbar\": {\"outlinewidth\": 0, \"ticks\": \"\"}, \"type\": \"choropleth\"}], \"contour\": [{\"colorbar\": {\"outlinewidth\": 0, \"ticks\": \"\"}, \"colorscale\": [[0.0, \"#0d0887\"], [0.1111111111111111, \"#46039f\"], [0.2222222222222222, \"#7201a8\"], [0.3333333333333333, \"#9c179e\"], [0.4444444444444444, \"#bd3786\"], [0.5555555555555556, \"#d8576b\"], [0.6666666666666666, \"#ed7953\"], [0.7777777777777778, \"#fb9f3a\"], [0.8888888888888888, \"#fdca26\"], [1.0, \"#f0f921\"]], \"type\": \"contour\"}], \"contourcarpet\": [{\"colorbar\": {\"outlinewidth\": 0, \"ticks\": \"\"}, \"type\": \"contourcarpet\"}], \"heatmap\": [{\"colorbar\": {\"outlinewidth\": 0, \"ticks\": \"\"}, \"colorscale\": [[0.0, \"#0d0887\"], [0.1111111111111111, \"#46039f\"], [0.2222222222222222, \"#7201a8\"], [0.3333333333333333, \"#9c179e\"], [0.4444444444444444, \"#bd3786\"], [0.5555555555555556, \"#d8576b\"], [0.6666666666666666, \"#ed7953\"], [0.7777777777777778, \"#fb9f3a\"], [0.8888888888888888, \"#fdca26\"], [1.0, \"#f0f921\"]], \"type\": \"heatmap\"}], \"heatmapgl\": [{\"colorbar\": {\"outlinewidth\": 0, \"ticks\": \"\"}, \"colorscale\": [[0.0, \"#0d0887\"], [0.1111111111111111, \"#46039f\"], [0.2222222222222222, \"#7201a8\"], [0.3333333333333333, \"#9c179e\"], [0.4444444444444444, \"#bd3786\"], [0.5555555555555556, \"#d8576b\"], [0.6666666666666666, \"#ed7953\"], [0.7777777777777778, \"#fb9f3a\"], [0.8888888888888888, \"#fdca26\"], [1.0, \"#f0f921\"]], \"type\": \"heatmapgl\"}], \"histogram\": [{\"marker\": {\"colorbar\": {\"outlinewidth\": 0, \"ticks\": \"\"}}, \"type\": \"histogram\"}], \"histogram2d\": [{\"colorbar\": {\"outlinewidth\": 0, \"ticks\": \"\"}, \"colorscale\": [[0.0, \"#0d0887\"], [0.1111111111111111, \"#46039f\"], [0.2222222222222222, \"#7201a8\"], [0.3333333333333333, \"#9c179e\"], [0.4444444444444444, \"#bd3786\"], [0.5555555555555556, \"#d8576b\"], [0.6666666666666666, \"#ed7953\"], [0.7777777777777778, \"#fb9f3a\"], [0.8888888888888888, \"#fdca26\"], [1.0, \"#f0f921\"]], \"type\": \"histogram2d\"}], \"histogram2dcontour\": [{\"colorbar\": {\"outlinewidth\": 0, \"ticks\": \"\"}, \"colorscale\": [[0.0, \"#0d0887\"], [0.1111111111111111, \"#46039f\"], [0.2222222222222222, \"#7201a8\"], [0.3333333333333333, \"#9c179e\"], [0.4444444444444444, \"#bd3786\"], [0.5555555555555556, \"#d8576b\"], [0.6666666666666666, \"#ed7953\"], [0.7777777777777778, \"#fb9f3a\"], [0.8888888888888888, \"#fdca26\"], [1.0, \"#f0f921\"]], \"type\": \"histogram2dcontour\"}], \"mesh3d\": [{\"colorbar\": {\"outlinewidth\": 0, \"ticks\": \"\"}, \"type\": \"mesh3d\"}], \"parcoords\": [{\"line\": {\"colorbar\": {\"outlinewidth\": 0, \"ticks\": \"\"}}, \"type\": \"parcoords\"}], \"pie\": [{\"automargin\": true, \"type\": \"pie\"}], \"scatter\": [{\"marker\": {\"colorbar\": {\"outlinewidth\": 0, \"ticks\": \"\"}}, \"type\": \"scatter\"}], \"scatter3d\": [{\"line\": {\"colorbar\": {\"outlinewidth\": 0, \"ticks\": \"\"}}, \"marker\": {\"colorbar\": {\"outlinewidth\": 0, \"ticks\": \"\"}}, \"type\": \"scatter3d\"}], \"scattercarpet\": [{\"marker\": {\"colorbar\": {\"outlinewidth\": 0, \"ticks\": \"\"}}, \"type\": \"scattercarpet\"}], \"scattergeo\": [{\"marker\": {\"colorbar\": {\"outlinewidth\": 0, \"ticks\": \"\"}}, \"type\": \"scattergeo\"}], \"scattergl\": [{\"marker\": {\"colorbar\": {\"outlinewidth\": 0, \"ticks\": \"\"}}, \"type\": \"scattergl\"}], \"scattermapbox\": [{\"marker\": {\"colorbar\": {\"outlinewidth\": 0, \"ticks\": \"\"}}, \"type\": \"scattermapbox\"}], \"scatterpolar\": [{\"marker\": {\"colorbar\": {\"outlinewidth\": 0, \"ticks\": \"\"}}, \"type\": \"scatterpolar\"}], \"scatterpolargl\": [{\"marker\": {\"colorbar\": {\"outlinewidth\": 0, \"ticks\": \"\"}}, \"type\": \"scatterpolargl\"}], \"scatterternary\": [{\"marker\": {\"colorbar\": {\"outlinewidth\": 0, \"ticks\": \"\"}}, \"type\": \"scatterternary\"}], \"surface\": [{\"colorbar\": {\"outlinewidth\": 0, \"ticks\": \"\"}, \"colorscale\": [[0.0, \"#0d0887\"], [0.1111111111111111, \"#46039f\"], [0.2222222222222222, \"#7201a8\"], [0.3333333333333333, \"#9c179e\"], [0.4444444444444444, \"#bd3786\"], [0.5555555555555556, \"#d8576b\"], [0.6666666666666666, \"#ed7953\"], [0.7777777777777778, \"#fb9f3a\"], [0.8888888888888888, \"#fdca26\"], [1.0, \"#f0f921\"]], \"type\": \"surface\"}], \"table\": [{\"cells\": {\"fill\": {\"color\": \"#EBF0F8\"}, \"line\": {\"color\": \"white\"}}, \"header\": {\"fill\": {\"color\": \"#C8D4E3\"}, \"line\": {\"color\": \"white\"}}, \"type\": \"table\"}]}, \"layout\": {\"annotationdefaults\": {\"arrowcolor\": \"#2a3f5f\", \"arrowhead\": 0, \"arrowwidth\": 1}, \"autotypenumbers\": \"strict\", \"coloraxis\": {\"colorbar\": {\"outlinewidth\": 0, \"ticks\": \"\"}}, \"colorscale\": {\"diverging\": [[0, \"#8e0152\"], [0.1, \"#c51b7d\"], [0.2, \"#de77ae\"], [0.3, \"#f1b6da\"], [0.4, \"#fde0ef\"], [0.5, \"#f7f7f7\"], [0.6, \"#e6f5d0\"], [0.7, \"#b8e186\"], [0.8, \"#7fbc41\"], [0.9, \"#4d9221\"], [1, \"#276419\"]], \"sequential\": [[0.0, \"#0d0887\"], [0.1111111111111111, \"#46039f\"], [0.2222222222222222, \"#7201a8\"], [0.3333333333333333, \"#9c179e\"], [0.4444444444444444, \"#bd3786\"], [0.5555555555555556, \"#d8576b\"], [0.6666666666666666, \"#ed7953\"], [0.7777777777777778, \"#fb9f3a\"], [0.8888888888888888, \"#fdca26\"], [1.0, \"#f0f921\"]], \"sequentialminus\": [[0.0, \"#0d0887\"], [0.1111111111111111, \"#46039f\"], [0.2222222222222222, \"#7201a8\"], [0.3333333333333333, \"#9c179e\"], [0.4444444444444444, \"#bd3786\"], [0.5555555555555556, \"#d8576b\"], [0.6666666666666666, \"#ed7953\"], [0.7777777777777778, \"#fb9f3a\"], [0.8888888888888888, \"#fdca26\"], [1.0, \"#f0f921\"]]}, \"colorway\": [\"#636efa\", \"#EF553B\", \"#00cc96\", \"#ab63fa\", \"#FFA15A\", \"#19d3f3\", \"#FF6692\", \"#B6E880\", \"#FF97FF\", \"#FECB52\"], \"font\": {\"color\": \"#2a3f5f\"}, \"geo\": {\"bgcolor\": \"white\", \"lakecolor\": \"white\", \"landcolor\": \"#E5ECF6\", \"showlakes\": true, \"showland\": true, \"subunitcolor\": \"white\"}, \"hoverlabel\": {\"align\": \"left\"}, \"hovermode\": \"closest\", \"mapbox\": {\"style\": \"light\"}, \"paper_bgcolor\": \"white\", \"plot_bgcolor\": \"#E5ECF6\", \"polar\": {\"angularaxis\": {\"gridcolor\": \"white\", \"linecolor\": \"white\", \"ticks\": \"\"}, \"bgcolor\": \"#E5ECF6\", \"radialaxis\": {\"gridcolor\": \"white\", \"linecolor\": \"white\", \"ticks\": \"\"}}, \"scene\": {\"xaxis\": {\"backgroundcolor\": \"#E5ECF6\", \"gridcolor\": \"white\", \"gridwidth\": 2, \"linecolor\": \"white\", \"showbackground\": true, \"ticks\": \"\", \"zerolinecolor\": \"white\"}, \"yaxis\": {\"backgroundcolor\": \"#E5ECF6\", \"gridcolor\": \"white\", \"gridwidth\": 2, \"linecolor\": \"white\", \"showbackground\": true, \"ticks\": \"\", \"zerolinecolor\": \"white\"}, \"zaxis\": {\"backgroundcolor\": \"#E5ECF6\", \"gridcolor\": \"white\", \"gridwidth\": 2, \"linecolor\": \"white\", \"showbackground\": true, \"ticks\": \"\", \"zerolinecolor\": \"white\"}}, \"shapedefaults\": {\"line\": {\"color\": \"#2a3f5f\"}}, \"ternary\": {\"aaxis\": {\"gridcolor\": \"white\", \"linecolor\": \"white\", \"ticks\": \"\"}, \"baxis\": {\"gridcolor\": \"white\", \"linecolor\": \"white\", \"ticks\": \"\"}, \"bgcolor\": \"#E5ECF6\", \"caxis\": {\"gridcolor\": \"white\", \"linecolor\": \"white\", \"ticks\": \"\"}}, \"title\": {\"x\": 0.05}, \"xaxis\": {\"automargin\": true, \"gridcolor\": \"white\", \"linecolor\": \"white\", \"ticks\": \"\", \"title\": {\"standoff\": 15}, \"zerolinecolor\": \"white\", \"zerolinewidth\": 2}, \"yaxis\": {\"automargin\": true, \"gridcolor\": \"white\", \"linecolor\": \"white\", \"ticks\": \"\", \"title\": {\"standoff\": 15}, \"zerolinecolor\": \"white\", \"zerolinewidth\": 2}}}, \"title\": {\"text\": \"Reported Countries of Exploitation and Victims Count\"}},                        {\"responsive\": true}                    ).then(function(){\n",
       "                            \n",
       "var gd = document.getElementById('82eef544-1e51-4c1d-80a5-cc3835ed68d3');\n",
       "var x = new MutationObserver(function (mutations, observer) {{\n",
       "        var display = window.getComputedStyle(gd).display;\n",
       "        if (!display || display === 'none') {{\n",
       "            console.log([gd, 'removed!']);\n",
       "            Plotly.purge(gd);\n",
       "            observer.disconnect();\n",
       "        }}\n",
       "}});\n",
       "\n",
       "// Listen for the removal of the full notebook cells\n",
       "var notebookContainer = gd.closest('#notebook-container');\n",
       "if (notebookContainer) {{\n",
       "    x.observe(notebookContainer, {childList: true});\n",
       "}}\n",
       "\n",
       "// Listen for the clearing of the current output cell\n",
       "var outputEl = gd.closest('.output');\n",
       "if (outputEl) {{\n",
       "    x.observe(outputEl, {childList: true});\n",
       "}}\n",
       "\n",
       "                        })                };                });            </script>        </div>"
      ]
     },
     "metadata": {},
     "output_type": "display_data"
    }
   ],
   "source": [
    "\n",
    "#num_null = len(df[df.CountryOfExploitation.isnull()])\n",
    "#print(str(num_null) +\" ({:.2%})\".format(num_null / len(df)))\n",
    "\n",
    "\n",
    "df_destination = df.copy()\n",
    "df_destination.dropna(subset = ['CountryOfExploitation'], inplace=True)\n",
    "df_destination['destination_iso3'] = df_destination['CountryOfExploitation'].apply(lambda x: country_name_to_country_alpha3\n",
    "                                                                                   (country_alpha2_to_country_name(x)))\n",
    "df_destination['destination_name'] = df_destination['CountryOfExploitation'].apply(lambda x: country_alpha2_to_country_name(x))\n",
    "\n",
    "df_wmap = pd.DataFrame(df_destination.groupby(['destination_iso3', 'destination_name']).size()).reset_index()\n",
    "df_wmap.rename(columns = {0:'Number of Victims'}, inplace=True)\n",
    "\n",
    "fig = px.choropleth(df_wmap, locations='destination_iso3',\n",
    "                    color='Number of Victims',\n",
    "                    hover_name='destination_name',\n",
    "                    title = 'Reported Countries of Exploitation and Victims Count',\n",
    "                    color_continuous_scale=px.colors.sequential.Plasma)\n",
    "fig.show()"
   ]
  },
  {
   "cell_type": "markdown",
   "metadata": {},
   "source": [
    "### Victims Ages when trafficked"
   ]
  },
  {
   "cell_type": "code",
   "execution_count": 103,
   "metadata": {},
   "outputs": [
    {
     "data": {
      "image/png": "[encoded data removed]",
      "text/plain": [
       "<Figure size 864x576 with 1 Axes>"
      ]
     },
     "metadata": {},
     "output_type": "display_data"
    },
    {
     "data": {
      "text/plain": [
       "<Figure size 1008x864 with 0 Axes>"
      ]
     },
     "metadata": {},
     "output_type": "display_data"
    },
    {
     "data": {
      "image/png": "[encoded data removed]",
      "text/plain": [
       "<Figure size 432x288 with 1 Axes>"
      ]
     },
     "metadata": {},
     "output_type": "display_data"
    }
   ],
   "source": [
    "df.loc[df.ageBroad == '0--8', 'ageBroad'] = '00--08'\n",
    "df.loc[df.ageBroad == '9--17', 'ageBroad'] = '09--17'\n",
    "\n",
    "#plt.figure()\n",
    "plt.figure(figsize=(12, 8))\n",
    "df.ageBroad.value_counts().sort_index().plot(kind='pie')\n",
    "plt.title('Trafficked Victims Ages Range')\n",
    "plt.xlabel('Ages')\n",
    " \n",
    "plt.legend(loc='center')\n",
    "\n",
    "plt.show()\n",
    "\n",
    "plt.figure(figsize=(14, 12))\n",
    "df.loc[df.ageBroad == '0--8', 'ageBroad'] = '00--08'\n",
    "df.loc[df.ageBroad == '9--17', 'ageBroad'] = '09--17'\n",
    "plt.figure()\n",
    "df.ageBroad.value_counts().sort_index().plot(kind='bar')\n",
    "plt.title('Trafficked Victims Ages Range')\n",
    "plt.xlabel('Ages')\n",
    "\n",
    "plt.show()\n"
   ]
  },
  {
   "cell_type": "markdown",
   "metadata": {},
   "source": [
    "### Victims Destination and Exploitation Countries"
   ]
  },
  {
   "cell_type": "code",
   "execution_count": 45,
   "metadata": {},
   "outputs": [
    {
     "data": {
      "text/html": [
       "<style  type=\"text/css\" >\n",
       "#T_06569e4d_3aee_11eb_84db_cc3d8232bb20row0_col0,#T_06569e4d_3aee_11eb_84db_cc3d8232bb20row0_col1,#T_06569e4d_3aee_11eb_84db_cc3d8232bb20row0_col2,#T_06569e4d_3aee_11eb_84db_cc3d8232bb20row0_col3,#T_06569e4d_3aee_11eb_84db_cc3d8232bb20row0_col4,#T_06569e4d_3aee_11eb_84db_cc3d8232bb20row0_col6,#T_06569e4d_3aee_11eb_84db_cc3d8232bb20row0_col7,#T_06569e4d_3aee_11eb_84db_cc3d8232bb20row0_col8,#T_06569e4d_3aee_11eb_84db_cc3d8232bb20row0_col9,#T_06569e4d_3aee_11eb_84db_cc3d8232bb20row0_col10,#T_06569e4d_3aee_11eb_84db_cc3d8232bb20row0_col11,#T_06569e4d_3aee_11eb_84db_cc3d8232bb20row0_col12,#T_06569e4d_3aee_11eb_84db_cc3d8232bb20row0_col13,#T_06569e4d_3aee_11eb_84db_cc3d8232bb20row0_col14,#T_06569e4d_3aee_11eb_84db_cc3d8232bb20row0_col15,#T_06569e4d_3aee_11eb_84db_cc3d8232bb20row0_col16,#T_06569e4d_3aee_11eb_84db_cc3d8232bb20row0_col17,#T_06569e4d_3aee_11eb_84db_cc3d8232bb20row0_col18,#T_06569e4d_3aee_11eb_84db_cc3d8232bb20row0_col19,#T_06569e4d_3aee_11eb_84db_cc3d8232bb20row0_col20,#T_06569e4d_3aee_11eb_84db_cc3d8232bb20row0_col21,#T_06569e4d_3aee_11eb_84db_cc3d8232bb20row0_col22,#T_06569e4d_3aee_11eb_84db_cc3d8232bb20row0_col23,#T_06569e4d_3aee_11eb_84db_cc3d8232bb20row0_col24,#T_06569e4d_3aee_11eb_84db_cc3d8232bb20row0_col25,#T_06569e4d_3aee_11eb_84db_cc3d8232bb20row0_col26,#T_06569e4d_3aee_11eb_84db_cc3d8232bb20row0_col27,#T_06569e4d_3aee_11eb_84db_cc3d8232bb20row0_col28,#T_06569e4d_3aee_11eb_84db_cc3d8232bb20row0_col29,#T_06569e4d_3aee_11eb_84db_cc3d8232bb20row0_col30,#T_06569e4d_3aee_11eb_84db_cc3d8232bb20row0_col32,#T_06569e4d_3aee_11eb_84db_cc3d8232bb20row0_col33,#T_06569e4d_3aee_11eb_84db_cc3d8232bb20row0_col34,#T_06569e4d_3aee_11eb_84db_cc3d8232bb20row0_col35,#T_06569e4d_3aee_11eb_84db_cc3d8232bb20row0_col36,#T_06569e4d_3aee_11eb_84db_cc3d8232bb20row0_col37,#T_06569e4d_3aee_11eb_84db_cc3d8232bb20row0_col38,#T_06569e4d_3aee_11eb_84db_cc3d8232bb20row0_col40,#T_06569e4d_3aee_11eb_84db_cc3d8232bb20row0_col41,#T_06569e4d_3aee_11eb_84db_cc3d8232bb20row0_col42,#T_06569e4d_3aee_11eb_84db_cc3d8232bb20row0_col43,#T_06569e4d_3aee_11eb_84db_cc3d8232bb20row0_col44,#T_06569e4d_3aee_11eb_84db_cc3d8232bb20row0_col45,#T_06569e4d_3aee_11eb_84db_cc3d8232bb20row0_col46,#T_06569e4d_3aee_11eb_84db_cc3d8232bb20row0_col47,#T_06569e4d_3aee_11eb_84db_cc3d8232bb20row0_col48,#T_06569e4d_3aee_11eb_84db_cc3d8232bb20row0_col49,#T_06569e4d_3aee_11eb_84db_cc3d8232bb20row0_col50,#T_06569e4d_3aee_11eb_84db_cc3d8232bb20row0_col51,#T_06569e4d_3aee_11eb_84db_cc3d8232bb20row0_col52,#T_06569e4d_3aee_11eb_84db_cc3d8232bb20row0_col53,#T_06569e4d_3aee_11eb_84db_cc3d8232bb20row0_col54,#T_06569e4d_3aee_11eb_84db_cc3d8232bb20row0_col55,#T_06569e4d_3aee_11eb_84db_cc3d8232bb20row0_col56,#T_06569e4d_3aee_11eb_84db_cc3d8232bb20row0_col57,#T_06569e4d_3aee_11eb_84db_cc3d8232bb20row1_col0,#T_06569e4d_3aee_11eb_84db_cc3d8232bb20row1_col1,#T_06569e4d_3aee_11eb_84db_cc3d8232bb20row1_col2,#T_06569e4d_3aee_11eb_84db_cc3d8232bb20row1_col3,#T_06569e4d_3aee_11eb_84db_cc3d8232bb20row1_col4,#T_06569e4d_3aee_11eb_84db_cc3d8232bb20row1_col6,#T_06569e4d_3aee_11eb_84db_cc3d8232bb20row1_col7,#T_06569e4d_3aee_11eb_84db_cc3d8232bb20row1_col8,#T_06569e4d_3aee_11eb_84db_cc3d8232bb20row1_col9,#T_06569e4d_3aee_11eb_84db_cc3d8232bb20row1_col10,#T_06569e4d_3aee_11eb_84db_cc3d8232bb20row1_col11,#T_06569e4d_3aee_11eb_84db_cc3d8232bb20row1_col12,#T_06569e4d_3aee_11eb_84db_cc3d8232bb20row1_col13,#T_06569e4d_3aee_11eb_84db_cc3d8232bb20row1_col14,#T_06569e4d_3aee_11eb_84db_cc3d8232bb20row1_col15,#T_06569e4d_3aee_11eb_84db_cc3d8232bb20row1_col16,#T_06569e4d_3aee_11eb_84db_cc3d8232bb20row1_col17,#T_06569e4d_3aee_11eb_84db_cc3d8232bb20row1_col18,#T_06569e4d_3aee_11eb_84db_cc3d8232bb20row1_col19,#T_06569e4d_3aee_11eb_84db_cc3d8232bb20row1_col20,#T_06569e4d_3aee_11eb_84db_cc3d8232bb20row1_col21,#T_06569e4d_3aee_11eb_84db_cc3d8232bb20row1_col22,#T_06569e4d_3aee_11eb_84db_cc3d8232bb20row1_col23,#T_06569e4d_3aee_11eb_84db_cc3d8232bb20row1_col24,#T_06569e4d_3aee_11eb_84db_cc3d8232bb20row1_col25,#T_06569e4d_3aee_11eb_84db_cc3d8232bb20row1_col26,#T_06569e4d_3aee_11eb_84db_cc3d8232bb20row1_col27,#T_06569e4d_3aee_11eb_84db_cc3d8232bb20row1_col28,#T_06569e4d_3aee_11eb_84db_cc3d8232bb20row1_col29,#T_06569e4d_3aee_11eb_84db_cc3d8232bb20row1_col30,#T_06569e4d_3aee_11eb_84db_cc3d8232bb20row1_col32,#T_06569e4d_3aee_11eb_84db_cc3d8232bb20row1_col33,#T_06569e4d_3aee_11eb_84db_cc3d8232bb20row1_col34,#T_06569e4d_3aee_11eb_84db_cc3d8232bb20row1_col35,#T_06569e4d_3aee_11eb_84db_cc3d8232bb20row1_col36,#T_06569e4d_3aee_11eb_84db_cc3d8232bb20row1_col37,#T_06569e4d_3aee_11eb_84db_cc3d8232bb20row1_col38,#T_06569e4d_3aee_11eb_84db_cc3d8232bb20row1_col39,#T_06569e4d_3aee_11eb_84db_cc3d8232bb20row1_col40,#T_06569e4d_3aee_11eb_84db_cc3d8232bb20row1_col41,#T_06569e4d_3aee_11eb_84db_cc3d8232bb20row1_col42,#T_06569e4d_3aee_11eb_84db_cc3d8232bb20row1_col43,#T_06569e4d_3aee_11eb_84db_cc3d8232bb20row1_col44,#T_06569e4d_3aee_11eb_84db_cc3d8232bb20row1_col45,#T_06569e4d_3aee_11eb_84db_cc3d8232bb20row1_col46,#T_06569e4d_3aee_11eb_84db_cc3d8232bb20row1_col47,#T_06569e4d_3aee_11eb_84db_cc3d8232bb20row1_col48,#T_06569e4d_3aee_11eb_84db_cc3d8232bb20row1_col49,#T_06569e4d_3aee_11eb_84db_cc3d8232bb20row1_col50,#T_06569e4d_3aee_11eb_84db_cc3d8232bb20row1_col51,#T_06569e4d_3aee_11eb_84db_cc3d8232bb20row1_col52,#T_06569e4d_3aee_11eb_84db_cc3d8232bb20row1_col53,#T_06569e4d_3aee_11eb_84db_cc3d8232bb20row1_col54,#T_06569e4d_3aee_11eb_84db_cc3d8232bb20row1_col55,#T_06569e4d_3aee_11eb_84db_cc3d8232bb20row1_col56,#T_06569e4d_3aee_11eb_84db_cc3d8232bb20row1_col57,#T_06569e4d_3aee_11eb_84db_cc3d8232bb20row2_col1,#T_06569e4d_3aee_11eb_84db_cc3d8232bb20row2_col2,#T_06569e4d_3aee_11eb_84db_cc3d8232bb20row2_col3,#T_06569e4d_3aee_11eb_84db_cc3d8232bb20row2_col4,#T_06569e4d_3aee_11eb_84db_cc3d8232bb20row2_col5,#T_06569e4d_3aee_11eb_84db_cc3d8232bb20row2_col6,#T_06569e4d_3aee_11eb_84db_cc3d8232bb20row2_col7,#T_06569e4d_3aee_11eb_84db_cc3d8232bb20row2_col8,#T_06569e4d_3aee_11eb_84db_cc3d8232bb20row2_col9,#T_06569e4d_3aee_11eb_84db_cc3d8232bb20row2_col10,#T_06569e4d_3aee_11eb_84db_cc3d8232bb20row2_col12,#T_06569e4d_3aee_11eb_84db_cc3d8232bb20row2_col13,#T_06569e4d_3aee_11eb_84db_cc3d8232bb20row2_col14,#T_06569e4d_3aee_11eb_84db_cc3d8232bb20row2_col15,#T_06569e4d_3aee_11eb_84db_cc3d8232bb20row2_col16,#T_06569e4d_3aee_11eb_84db_cc3d8232bb20row2_col17,#T_06569e4d_3aee_11eb_84db_cc3d8232bb20row2_col18,#T_06569e4d_3aee_11eb_84db_cc3d8232bb20row2_col19,#T_06569e4d_3aee_11eb_84db_cc3d8232bb20row2_col20,#T_06569e4d_3aee_11eb_84db_cc3d8232bb20row2_col21,#T_06569e4d_3aee_11eb_84db_cc3d8232bb20row2_col22,#T_06569e4d_3aee_11eb_84db_cc3d8232bb20row2_col23,#T_06569e4d_3aee_11eb_84db_cc3d8232bb20row2_col24,#T_06569e4d_3aee_11eb_84db_cc3d8232bb20row2_col25,#T_06569e4d_3aee_11eb_84db_cc3d8232bb20row2_col26,#T_06569e4d_3aee_11eb_84db_cc3d8232bb20row2_col27,#T_06569e4d_3aee_11eb_84db_cc3d8232bb20row2_col28,#T_06569e4d_3aee_11eb_84db_cc3d8232bb20row2_col30,#T_06569e4d_3aee_11eb_84db_cc3d8232bb20row2_col31,#T_06569e4d_3aee_11eb_84db_cc3d8232bb20row2_col32,#T_06569e4d_3aee_11eb_84db_cc3d8232bb20row2_col33,#T_06569e4d_3aee_11eb_84db_cc3d8232bb20row2_col34,#T_06569e4d_3aee_11eb_84db_cc3d8232bb20row2_col35,#T_06569e4d_3aee_11eb_84db_cc3d8232bb20row2_col36,#T_06569e4d_3aee_11eb_84db_cc3d8232bb20row2_col37,#T_06569e4d_3aee_11eb_84db_cc3d8232bb20row2_col38,#T_06569e4d_3aee_11eb_84db_cc3d8232bb20row2_col39,#T_06569e4d_3aee_11eb_84db_cc3d8232bb20row2_col41,#T_06569e4d_3aee_11eb_84db_cc3d8232bb20row2_col42,#T_06569e4d_3aee_11eb_84db_cc3d8232bb20row2_col43,#T_06569e4d_3aee_11eb_84db_cc3d8232bb20row2_col44,#T_06569e4d_3aee_11eb_84db_cc3d8232bb20row2_col45,#T_06569e4d_3aee_11eb_84db_cc3d8232bb20row2_col46,#T_06569e4d_3aee_11eb_84db_cc3d8232bb20row2_col47,#T_06569e4d_3aee_11eb_84db_cc3d8232bb20row2_col48,#T_06569e4d_3aee_11eb_84db_cc3d8232bb20row2_col49,#T_06569e4d_3aee_11eb_84db_cc3d8232bb20row2_col50,#T_06569e4d_3aee_11eb_84db_cc3d8232bb20row2_col51,#T_06569e4d_3aee_11eb_84db_cc3d8232bb20row2_col52,#T_06569e4d_3aee_11eb_84db_cc3d8232bb20row2_col53,#T_06569e4d_3aee_11eb_84db_cc3d8232bb20row2_col54,#T_06569e4d_3aee_11eb_84db_cc3d8232bb20row2_col55,#T_06569e4d_3aee_11eb_84db_cc3d8232bb20row2_col56,#T_06569e4d_3aee_11eb_84db_cc3d8232bb20row2_col57,#T_06569e4d_3aee_11eb_84db_cc3d8232bb20row3_col1,#T_06569e4d_3aee_11eb_84db_cc3d8232bb20row3_col3,#T_06569e4d_3aee_11eb_84db_cc3d8232bb20row3_col4,#T_06569e4d_3aee_11eb_84db_cc3d8232bb20row3_col5,#T_06569e4d_3aee_11eb_84db_cc3d8232bb20row3_col6,#T_06569e4d_3aee_11eb_84db_cc3d8232bb20row3_col8,#T_06569e4d_3aee_11eb_84db_cc3d8232bb20row3_col9,#T_06569e4d_3aee_11eb_84db_cc3d8232bb20row3_col10,#T_06569e4d_3aee_11eb_84db_cc3d8232bb20row3_col11,#T_06569e4d_3aee_11eb_84db_cc3d8232bb20row3_col12,#T_06569e4d_3aee_11eb_84db_cc3d8232bb20row3_col13,#T_06569e4d_3aee_11eb_84db_cc3d8232bb20row3_col14,#T_06569e4d_3aee_11eb_84db_cc3d8232bb20row3_col15,#T_06569e4d_3aee_11eb_84db_cc3d8232bb20row3_col17,#T_06569e4d_3aee_11eb_84db_cc3d8232bb20row3_col18,#T_06569e4d_3aee_11eb_84db_cc3d8232bb20row3_col19,#T_06569e4d_3aee_11eb_84db_cc3d8232bb20row3_col20,#T_06569e4d_3aee_11eb_84db_cc3d8232bb20row3_col22,#T_06569e4d_3aee_11eb_84db_cc3d8232bb20row3_col23,#T_06569e4d_3aee_11eb_84db_cc3d8232bb20row3_col24,#T_06569e4d_3aee_11eb_84db_cc3d8232bb20row3_col25,#T_06569e4d_3aee_11eb_84db_cc3d8232bb20row3_col26,#T_06569e4d_3aee_11eb_84db_cc3d8232bb20row3_col27,#T_06569e4d_3aee_11eb_84db_cc3d8232bb20row3_col28,#T_06569e4d_3aee_11eb_84db_cc3d8232bb20row3_col30,#T_06569e4d_3aee_11eb_84db_cc3d8232bb20row3_col31,#T_06569e4d_3aee_11eb_84db_cc3d8232bb20row3_col32,#T_06569e4d_3aee_11eb_84db_cc3d8232bb20row3_col34,#T_06569e4d_3aee_11eb_84db_cc3d8232bb20row3_col35,#T_06569e4d_3aee_11eb_84db_cc3d8232bb20row3_col36,#T_06569e4d_3aee_11eb_84db_cc3d8232bb20row3_col37,#T_06569e4d_3aee_11eb_84db_cc3d8232bb20row3_col39,#T_06569e4d_3aee_11eb_84db_cc3d8232bb20row3_col41,#T_06569e4d_3aee_11eb_84db_cc3d8232bb20row3_col42,#T_06569e4d_3aee_11eb_84db_cc3d8232bb20row3_col43,#T_06569e4d_3aee_11eb_84db_cc3d8232bb20row3_col44,#T_06569e4d_3aee_11eb_84db_cc3d8232bb20row3_col45,#T_06569e4d_3aee_11eb_84db_cc3d8232bb20row3_col46,#T_06569e4d_3aee_11eb_84db_cc3d8232bb20row3_col48,#T_06569e4d_3aee_11eb_84db_cc3d8232bb20row3_col50,#T_06569e4d_3aee_11eb_84db_cc3d8232bb20row3_col51,#T_06569e4d_3aee_11eb_84db_cc3d8232bb20row3_col52,#T_06569e4d_3aee_11eb_84db_cc3d8232bb20row3_col53,#T_06569e4d_3aee_11eb_84db_cc3d8232bb20row3_col54,#T_06569e4d_3aee_11eb_84db_cc3d8232bb20row3_col56,#T_06569e4d_3aee_11eb_84db_cc3d8232bb20row3_col57,#T_06569e4d_3aee_11eb_84db_cc3d8232bb20row4_col1,#T_06569e4d_3aee_11eb_84db_cc3d8232bb20row4_col2,#T_06569e4d_3aee_11eb_84db_cc3d8232bb20row4_col3,#T_06569e4d_3aee_11eb_84db_cc3d8232bb20row4_col4,#T_06569e4d_3aee_11eb_84db_cc3d8232bb20row4_col5,#T_06569e4d_3aee_11eb_84db_cc3d8232bb20row4_col6,#T_06569e4d_3aee_11eb_84db_cc3d8232bb20row4_col7,#T_06569e4d_3aee_11eb_84db_cc3d8232bb20row4_col8,#T_06569e4d_3aee_11eb_84db_cc3d8232bb20row4_col9,#T_06569e4d_3aee_11eb_84db_cc3d8232bb20row4_col10,#T_06569e4d_3aee_11eb_84db_cc3d8232bb20row4_col11,#T_06569e4d_3aee_11eb_84db_cc3d8232bb20row4_col13,#T_06569e4d_3aee_11eb_84db_cc3d8232bb20row4_col14,#T_06569e4d_3aee_11eb_84db_cc3d8232bb20row4_col15,#T_06569e4d_3aee_11eb_84db_cc3d8232bb20row4_col17,#T_06569e4d_3aee_11eb_84db_cc3d8232bb20row4_col18,#T_06569e4d_3aee_11eb_84db_cc3d8232bb20row4_col20,#T_06569e4d_3aee_11eb_84db_cc3d8232bb20row4_col21,#T_06569e4d_3aee_11eb_84db_cc3d8232bb20row4_col22,#T_06569e4d_3aee_11eb_84db_cc3d8232bb20row4_col23,#T_06569e4d_3aee_11eb_84db_cc3d8232bb20row4_col24,#T_06569e4d_3aee_11eb_84db_cc3d8232bb20row4_col25,#T_06569e4d_3aee_11eb_84db_cc3d8232bb20row4_col26,#T_06569e4d_3aee_11eb_84db_cc3d8232bb20row4_col27,#T_06569e4d_3aee_11eb_84db_cc3d8232bb20row4_col28,#T_06569e4d_3aee_11eb_84db_cc3d8232bb20row4_col30,#T_06569e4d_3aee_11eb_84db_cc3d8232bb20row4_col31,#T_06569e4d_3aee_11eb_84db_cc3d8232bb20row4_col32,#T_06569e4d_3aee_11eb_84db_cc3d8232bb20row4_col34,#T_06569e4d_3aee_11eb_84db_cc3d8232bb20row4_col35,#T_06569e4d_3aee_11eb_84db_cc3d8232bb20row4_col37,#T_06569e4d_3aee_11eb_84db_cc3d8232bb20row4_col39,#T_06569e4d_3aee_11eb_84db_cc3d8232bb20row4_col41,#T_06569e4d_3aee_11eb_84db_cc3d8232bb20row4_col42,#T_06569e4d_3aee_11eb_84db_cc3d8232bb20row4_col43,#T_06569e4d_3aee_11eb_84db_cc3d8232bb20row4_col44,#T_06569e4d_3aee_11eb_84db_cc3d8232bb20row4_col45,#T_06569e4d_3aee_11eb_84db_cc3d8232bb20row4_col46,#T_06569e4d_3aee_11eb_84db_cc3d8232bb20row4_col47,#T_06569e4d_3aee_11eb_84db_cc3d8232bb20row4_col48,#T_06569e4d_3aee_11eb_84db_cc3d8232bb20row4_col50,#T_06569e4d_3aee_11eb_84db_cc3d8232bb20row4_col51,#T_06569e4d_3aee_11eb_84db_cc3d8232bb20row4_col52,#T_06569e4d_3aee_11eb_84db_cc3d8232bb20row4_col53,#T_06569e4d_3aee_11eb_84db_cc3d8232bb20row4_col54,#T_06569e4d_3aee_11eb_84db_cc3d8232bb20row4_col55,#T_06569e4d_3aee_11eb_84db_cc3d8232bb20row4_col56,#T_06569e4d_3aee_11eb_84db_cc3d8232bb20row4_col57,#T_06569e4d_3aee_11eb_84db_cc3d8232bb20row5_col1,#T_06569e4d_3aee_11eb_84db_cc3d8232bb20row5_col2,#T_06569e4d_3aee_11eb_84db_cc3d8232bb20row5_col3,#T_06569e4d_3aee_11eb_84db_cc3d8232bb20row5_col5,#T_06569e4d_3aee_11eb_84db_cc3d8232bb20row5_col6,#T_06569e4d_3aee_11eb_84db_cc3d8232bb20row5_col8,#T_06569e4d_3aee_11eb_84db_cc3d8232bb20row5_col9,#T_06569e4d_3aee_11eb_84db_cc3d8232bb20row5_col10,#T_06569e4d_3aee_11eb_84db_cc3d8232bb20row5_col11,#T_06569e4d_3aee_11eb_84db_cc3d8232bb20row5_col13,#T_06569e4d_3aee_11eb_84db_cc3d8232bb20row5_col14,#T_06569e4d_3aee_11eb_84db_cc3d8232bb20row5_col15,#T_06569e4d_3aee_11eb_84db_cc3d8232bb20row5_col16,#T_06569e4d_3aee_11eb_84db_cc3d8232bb20row5_col17,#T_06569e4d_3aee_11eb_84db_cc3d8232bb20row5_col18,#T_06569e4d_3aee_11eb_84db_cc3d8232bb20row5_col19,#T_06569e4d_3aee_11eb_84db_cc3d8232bb20row5_col20,#T_06569e4d_3aee_11eb_84db_cc3d8232bb20row5_col21,#T_06569e4d_3aee_11eb_84db_cc3d8232bb20row5_col22,#T_06569e4d_3aee_11eb_84db_cc3d8232bb20row5_col23,#T_06569e4d_3aee_11eb_84db_cc3d8232bb20row5_col24,#T_06569e4d_3aee_11eb_84db_cc3d8232bb20row5_col25,#T_06569e4d_3aee_11eb_84db_cc3d8232bb20row5_col26,#T_06569e4d_3aee_11eb_84db_cc3d8232bb20row5_col27,#T_06569e4d_3aee_11eb_84db_cc3d8232bb20row5_col28,#T_06569e4d_3aee_11eb_84db_cc3d8232bb20row5_col30,#T_06569e4d_3aee_11eb_84db_cc3d8232bb20row5_col31,#T_06569e4d_3aee_11eb_84db_cc3d8232bb20row5_col32,#T_06569e4d_3aee_11eb_84db_cc3d8232bb20row5_col34,#T_06569e4d_3aee_11eb_84db_cc3d8232bb20row5_col35,#T_06569e4d_3aee_11eb_84db_cc3d8232bb20row5_col37,#T_06569e4d_3aee_11eb_84db_cc3d8232bb20row5_col39,#T_06569e4d_3aee_11eb_84db_cc3d8232bb20row5_col41,#T_06569e4d_3aee_11eb_84db_cc3d8232bb20row5_col42,#T_06569e4d_3aee_11eb_84db_cc3d8232bb20row5_col43,#T_06569e4d_3aee_11eb_84db_cc3d8232bb20row5_col45,#T_06569e4d_3aee_11eb_84db_cc3d8232bb20row5_col46,#T_06569e4d_3aee_11eb_84db_cc3d8232bb20row5_col47,#T_06569e4d_3aee_11eb_84db_cc3d8232bb20row5_col48,#T_06569e4d_3aee_11eb_84db_cc3d8232bb20row5_col50,#T_06569e4d_3aee_11eb_84db_cc3d8232bb20row5_col51,#T_06569e4d_3aee_11eb_84db_cc3d8232bb20row5_col54,#T_06569e4d_3aee_11eb_84db_cc3d8232bb20row5_col55,#T_06569e4d_3aee_11eb_84db_cc3d8232bb20row5_col56,#T_06569e4d_3aee_11eb_84db_cc3d8232bb20row5_col57,#T_06569e4d_3aee_11eb_84db_cc3d8232bb20row6_col0,#T_06569e4d_3aee_11eb_84db_cc3d8232bb20row6_col1,#T_06569e4d_3aee_11eb_84db_cc3d8232bb20row6_col2,#T_06569e4d_3aee_11eb_84db_cc3d8232bb20row6_col3,#T_06569e4d_3aee_11eb_84db_cc3d8232bb20row6_col4,#T_06569e4d_3aee_11eb_84db_cc3d8232bb20row6_col5,#T_06569e4d_3aee_11eb_84db_cc3d8232bb20row6_col6,#T_06569e4d_3aee_11eb_84db_cc3d8232bb20row6_col7,#T_06569e4d_3aee_11eb_84db_cc3d8232bb20row6_col8,#T_06569e4d_3aee_11eb_84db_cc3d8232bb20row6_col9,#T_06569e4d_3aee_11eb_84db_cc3d8232bb20row6_col10,#T_06569e4d_3aee_11eb_84db_cc3d8232bb20row6_col11,#T_06569e4d_3aee_11eb_84db_cc3d8232bb20row6_col12,#T_06569e4d_3aee_11eb_84db_cc3d8232bb20row6_col13,#T_06569e4d_3aee_11eb_84db_cc3d8232bb20row6_col14,#T_06569e4d_3aee_11eb_84db_cc3d8232bb20row6_col15,#T_06569e4d_3aee_11eb_84db_cc3d8232bb20row6_col16,#T_06569e4d_3aee_11eb_84db_cc3d8232bb20row6_col17,#T_06569e4d_3aee_11eb_84db_cc3d8232bb20row6_col18,#T_06569e4d_3aee_11eb_84db_cc3d8232bb20row6_col19,#T_06569e4d_3aee_11eb_84db_cc3d8232bb20row6_col20,#T_06569e4d_3aee_11eb_84db_cc3d8232bb20row6_col22,#T_06569e4d_3aee_11eb_84db_cc3d8232bb20row6_col23,#T_06569e4d_3aee_11eb_84db_cc3d8232bb20row6_col24,#T_06569e4d_3aee_11eb_84db_cc3d8232bb20row6_col25,#T_06569e4d_3aee_11eb_84db_cc3d8232bb20row6_col27,#T_06569e4d_3aee_11eb_84db_cc3d8232bb20row6_col28,#T_06569e4d_3aee_11eb_84db_cc3d8232bb20row6_col30,#T_06569e4d_3aee_11eb_84db_cc3d8232bb20row6_col31,#T_06569e4d_3aee_11eb_84db_cc3d8232bb20row6_col32,#T_06569e4d_3aee_11eb_84db_cc3d8232bb20row6_col33,#T_06569e4d_3aee_11eb_84db_cc3d8232bb20row6_col34,#T_06569e4d_3aee_11eb_84db_cc3d8232bb20row6_col35,#T_06569e4d_3aee_11eb_84db_cc3d8232bb20row6_col36,#T_06569e4d_3aee_11eb_84db_cc3d8232bb20row6_col37,#T_06569e4d_3aee_11eb_84db_cc3d8232bb20row6_col38,#T_06569e4d_3aee_11eb_84db_cc3d8232bb20row6_col39,#T_06569e4d_3aee_11eb_84db_cc3d8232bb20row6_col41,#T_06569e4d_3aee_11eb_84db_cc3d8232bb20row6_col42,#T_06569e4d_3aee_11eb_84db_cc3d8232bb20row6_col45,#T_06569e4d_3aee_11eb_84db_cc3d8232bb20row6_col46,#T_06569e4d_3aee_11eb_84db_cc3d8232bb20row6_col47,#T_06569e4d_3aee_11eb_84db_cc3d8232bb20row6_col48,#T_06569e4d_3aee_11eb_84db_cc3d8232bb20row6_col49,#T_06569e4d_3aee_11eb_84db_cc3d8232bb20row6_col50,#T_06569e4d_3aee_11eb_84db_cc3d8232bb20row6_col51,#T_06569e4d_3aee_11eb_84db_cc3d8232bb20row6_col53,#T_06569e4d_3aee_11eb_84db_cc3d8232bb20row6_col54,#T_06569e4d_3aee_11eb_84db_cc3d8232bb20row6_col55,#T_06569e4d_3aee_11eb_84db_cc3d8232bb20row6_col56,#T_06569e4d_3aee_11eb_84db_cc3d8232bb20row6_col57,#T_06569e4d_3aee_11eb_84db_cc3d8232bb20row7_col0,#T_06569e4d_3aee_11eb_84db_cc3d8232bb20row7_col1,#T_06569e4d_3aee_11eb_84db_cc3d8232bb20row7_col2,#T_06569e4d_3aee_11eb_84db_cc3d8232bb20row7_col3,#T_06569e4d_3aee_11eb_84db_cc3d8232bb20row7_col4,#T_06569e4d_3aee_11eb_84db_cc3d8232bb20row7_col5,#T_06569e4d_3aee_11eb_84db_cc3d8232bb20row7_col6,#T_06569e4d_3aee_11eb_84db_cc3d8232bb20row7_col7,#T_06569e4d_3aee_11eb_84db_cc3d8232bb20row7_col8,#T_06569e4d_3aee_11eb_84db_cc3d8232bb20row7_col9,#T_06569e4d_3aee_11eb_84db_cc3d8232bb20row7_col10,#T_06569e4d_3aee_11eb_84db_cc3d8232bb20row7_col11,#T_06569e4d_3aee_11eb_84db_cc3d8232bb20row7_col12,#T_06569e4d_3aee_11eb_84db_cc3d8232bb20row7_col13,#T_06569e4d_3aee_11eb_84db_cc3d8232bb20row7_col14,#T_06569e4d_3aee_11eb_84db_cc3d8232bb20row7_col15,#T_06569e4d_3aee_11eb_84db_cc3d8232bb20row7_col16,#T_06569e4d_3aee_11eb_84db_cc3d8232bb20row7_col17,#T_06569e4d_3aee_11eb_84db_cc3d8232bb20row7_col18,#T_06569e4d_3aee_11eb_84db_cc3d8232bb20row7_col19,#T_06569e4d_3aee_11eb_84db_cc3d8232bb20row7_col20,#T_06569e4d_3aee_11eb_84db_cc3d8232bb20row7_col21,#T_06569e4d_3aee_11eb_84db_cc3d8232bb20row7_col22,#T_06569e4d_3aee_11eb_84db_cc3d8232bb20row7_col23,#T_06569e4d_3aee_11eb_84db_cc3d8232bb20row7_col24,#T_06569e4d_3aee_11eb_84db_cc3d8232bb20row7_col25,#T_06569e4d_3aee_11eb_84db_cc3d8232bb20row7_col26,#T_06569e4d_3aee_11eb_84db_cc3d8232bb20row7_col27,#T_06569e4d_3aee_11eb_84db_cc3d8232bb20row7_col28,#T_06569e4d_3aee_11eb_84db_cc3d8232bb20row7_col30,#T_06569e4d_3aee_11eb_84db_cc3d8232bb20row7_col31,#T_06569e4d_3aee_11eb_84db_cc3d8232bb20row7_col32,#T_06569e4d_3aee_11eb_84db_cc3d8232bb20row7_col33,#T_06569e4d_3aee_11eb_84db_cc3d8232bb20row7_col34,#T_06569e4d_3aee_11eb_84db_cc3d8232bb20row7_col35,#T_06569e4d_3aee_11eb_84db_cc3d8232bb20row7_col36,#T_06569e4d_3aee_11eb_84db_cc3d8232bb20row7_col37,#T_06569e4d_3aee_11eb_84db_cc3d8232bb20row7_col38,#T_06569e4d_3aee_11eb_84db_cc3d8232bb20row7_col39,#T_06569e4d_3aee_11eb_84db_cc3d8232bb20row7_col41,#T_06569e4d_3aee_11eb_84db_cc3d8232bb20row7_col42,#T_06569e4d_3aee_11eb_84db_cc3d8232bb20row7_col43,#T_06569e4d_3aee_11eb_84db_cc3d8232bb20row7_col44,#T_06569e4d_3aee_11eb_84db_cc3d8232bb20row7_col45,#T_06569e4d_3aee_11eb_84db_cc3d8232bb20row7_col46,#T_06569e4d_3aee_11eb_84db_cc3d8232bb20row7_col47,#T_06569e4d_3aee_11eb_84db_cc3d8232bb20row7_col48,#T_06569e4d_3aee_11eb_84db_cc3d8232bb20row7_col49,#T_06569e4d_3aee_11eb_84db_cc3d8232bb20row7_col50,#T_06569e4d_3aee_11eb_84db_cc3d8232bb20row7_col51,#T_06569e4d_3aee_11eb_84db_cc3d8232bb20row7_col53,#T_06569e4d_3aee_11eb_84db_cc3d8232bb20row7_col54,#T_06569e4d_3aee_11eb_84db_cc3d8232bb20row7_col55,#T_06569e4d_3aee_11eb_84db_cc3d8232bb20row7_col56,#T_06569e4d_3aee_11eb_84db_cc3d8232bb20row7_col57,#T_06569e4d_3aee_11eb_84db_cc3d8232bb20row8_col0,#T_06569e4d_3aee_11eb_84db_cc3d8232bb20row8_col1,#T_06569e4d_3aee_11eb_84db_cc3d8232bb20row8_col2,#T_06569e4d_3aee_11eb_84db_cc3d8232bb20row8_col3,#T_06569e4d_3aee_11eb_84db_cc3d8232bb20row8_col4,#T_06569e4d_3aee_11eb_84db_cc3d8232bb20row8_col5,#T_06569e4d_3aee_11eb_84db_cc3d8232bb20row8_col6,#T_06569e4d_3aee_11eb_84db_cc3d8232bb20row8_col7,#T_06569e4d_3aee_11eb_84db_cc3d8232bb20row8_col8,#T_06569e4d_3aee_11eb_84db_cc3d8232bb20row8_col9,#T_06569e4d_3aee_11eb_84db_cc3d8232bb20row8_col10,#T_06569e4d_3aee_11eb_84db_cc3d8232bb20row8_col11,#T_06569e4d_3aee_11eb_84db_cc3d8232bb20row8_col12,#T_06569e4d_3aee_11eb_84db_cc3d8232bb20row8_col13,#T_06569e4d_3aee_11eb_84db_cc3d8232bb20row8_col15,#T_06569e4d_3aee_11eb_84db_cc3d8232bb20row8_col16,#T_06569e4d_3aee_11eb_84db_cc3d8232bb20row8_col17,#T_06569e4d_3aee_11eb_84db_cc3d8232bb20row8_col18,#T_06569e4d_3aee_11eb_84db_cc3d8232bb20row8_col19,#T_06569e4d_3aee_11eb_84db_cc3d8232bb20row8_col20,#T_06569e4d_3aee_11eb_84db_cc3d8232bb20row8_col21,#T_06569e4d_3aee_11eb_84db_cc3d8232bb20row8_col22,#T_06569e4d_3aee_11eb_84db_cc3d8232bb20row8_col23,#T_06569e4d_3aee_11eb_84db_cc3d8232bb20row8_col24,#T_06569e4d_3aee_11eb_84db_cc3d8232bb20row8_col25,#T_06569e4d_3aee_11eb_84db_cc3d8232bb20row8_col27,#T_06569e4d_3aee_11eb_84db_cc3d8232bb20row8_col28,#T_06569e4d_3aee_11eb_84db_cc3d8232bb20row8_col30,#T_06569e4d_3aee_11eb_84db_cc3d8232bb20row8_col31,#T_06569e4d_3aee_11eb_84db_cc3d8232bb20row8_col32,#T_06569e4d_3aee_11eb_84db_cc3d8232bb20row8_col33,#T_06569e4d_3aee_11eb_84db_cc3d8232bb20row8_col34,#T_06569e4d_3aee_11eb_84db_cc3d8232bb20row8_col35,#T_06569e4d_3aee_11eb_84db_cc3d8232bb20row8_col37,#T_06569e4d_3aee_11eb_84db_cc3d8232bb20row8_col38,#T_06569e4d_3aee_11eb_84db_cc3d8232bb20row8_col39,#T_06569e4d_3aee_11eb_84db_cc3d8232bb20row8_col41,#T_06569e4d_3aee_11eb_84db_cc3d8232bb20row8_col42,#T_06569e4d_3aee_11eb_84db_cc3d8232bb20row8_col43,#T_06569e4d_3aee_11eb_84db_cc3d8232bb20row8_col45,#T_06569e4d_3aee_11eb_84db_cc3d8232bb20row8_col47,#T_06569e4d_3aee_11eb_84db_cc3d8232bb20row8_col49,#T_06569e4d_3aee_11eb_84db_cc3d8232bb20row8_col50,#T_06569e4d_3aee_11eb_84db_cc3d8232bb20row8_col51,#T_06569e4d_3aee_11eb_84db_cc3d8232bb20row8_col53,#T_06569e4d_3aee_11eb_84db_cc3d8232bb20row8_col54,#T_06569e4d_3aee_11eb_84db_cc3d8232bb20row8_col55,#T_06569e4d_3aee_11eb_84db_cc3d8232bb20row8_col56,#T_06569e4d_3aee_11eb_84db_cc3d8232bb20row8_col57,#T_06569e4d_3aee_11eb_84db_cc3d8232bb20row9_col0,#T_06569e4d_3aee_11eb_84db_cc3d8232bb20row9_col1,#T_06569e4d_3aee_11eb_84db_cc3d8232bb20row9_col2,#T_06569e4d_3aee_11eb_84db_cc3d8232bb20row9_col3,#T_06569e4d_3aee_11eb_84db_cc3d8232bb20row9_col4,#T_06569e4d_3aee_11eb_84db_cc3d8232bb20row9_col5,#T_06569e4d_3aee_11eb_84db_cc3d8232bb20row9_col6,#T_06569e4d_3aee_11eb_84db_cc3d8232bb20row9_col7,#T_06569e4d_3aee_11eb_84db_cc3d8232bb20row9_col8,#T_06569e4d_3aee_11eb_84db_cc3d8232bb20row9_col9,#T_06569e4d_3aee_11eb_84db_cc3d8232bb20row9_col10,#T_06569e4d_3aee_11eb_84db_cc3d8232bb20row9_col11,#T_06569e4d_3aee_11eb_84db_cc3d8232bb20row9_col12,#T_06569e4d_3aee_11eb_84db_cc3d8232bb20row9_col13,#T_06569e4d_3aee_11eb_84db_cc3d8232bb20row9_col14,#T_06569e4d_3aee_11eb_84db_cc3d8232bb20row9_col15,#T_06569e4d_3aee_11eb_84db_cc3d8232bb20row9_col16,#T_06569e4d_3aee_11eb_84db_cc3d8232bb20row9_col17,#T_06569e4d_3aee_11eb_84db_cc3d8232bb20row9_col18,#T_06569e4d_3aee_11eb_84db_cc3d8232bb20row9_col19,#T_06569e4d_3aee_11eb_84db_cc3d8232bb20row9_col20,#T_06569e4d_3aee_11eb_84db_cc3d8232bb20row9_col21,#T_06569e4d_3aee_11eb_84db_cc3d8232bb20row9_col22,#T_06569e4d_3aee_11eb_84db_cc3d8232bb20row9_col23,#T_06569e4d_3aee_11eb_84db_cc3d8232bb20row9_col24,#T_06569e4d_3aee_11eb_84db_cc3d8232bb20row9_col25,#T_06569e4d_3aee_11eb_84db_cc3d8232bb20row9_col27,#T_06569e4d_3aee_11eb_84db_cc3d8232bb20row9_col28,#T_06569e4d_3aee_11eb_84db_cc3d8232bb20row9_col30,#T_06569e4d_3aee_11eb_84db_cc3d8232bb20row9_col31,#T_06569e4d_3aee_11eb_84db_cc3d8232bb20row9_col32,#T_06569e4d_3aee_11eb_84db_cc3d8232bb20row9_col33,#T_06569e4d_3aee_11eb_84db_cc3d8232bb20row9_col34,#T_06569e4d_3aee_11eb_84db_cc3d8232bb20row9_col35,#T_06569e4d_3aee_11eb_84db_cc3d8232bb20row9_col37,#T_06569e4d_3aee_11eb_84db_cc3d8232bb20row9_col38,#T_06569e4d_3aee_11eb_84db_cc3d8232bb20row9_col39,#T_06569e4d_3aee_11eb_84db_cc3d8232bb20row9_col41,#T_06569e4d_3aee_11eb_84db_cc3d8232bb20row9_col42,#T_06569e4d_3aee_11eb_84db_cc3d8232bb20row9_col43,#T_06569e4d_3aee_11eb_84db_cc3d8232bb20row9_col44,#T_06569e4d_3aee_11eb_84db_cc3d8232bb20row9_col45,#T_06569e4d_3aee_11eb_84db_cc3d8232bb20row9_col46,#T_06569e4d_3aee_11eb_84db_cc3d8232bb20row9_col49,#T_06569e4d_3aee_11eb_84db_cc3d8232bb20row9_col50,#T_06569e4d_3aee_11eb_84db_cc3d8232bb20row9_col51,#T_06569e4d_3aee_11eb_84db_cc3d8232bb20row9_col53,#T_06569e4d_3aee_11eb_84db_cc3d8232bb20row9_col54,#T_06569e4d_3aee_11eb_84db_cc3d8232bb20row9_col55,#T_06569e4d_3aee_11eb_84db_cc3d8232bb20row9_col56,#T_06569e4d_3aee_11eb_84db_cc3d8232bb20row9_col57,#T_06569e4d_3aee_11eb_84db_cc3d8232bb20row10_col0,#T_06569e4d_3aee_11eb_84db_cc3d8232bb20row10_col1,#T_06569e4d_3aee_11eb_84db_cc3d8232bb20row10_col2,#T_06569e4d_3aee_11eb_84db_cc3d8232bb20row10_col4,#T_06569e4d_3aee_11eb_84db_cc3d8232bb20row10_col5,#T_06569e4d_3aee_11eb_84db_cc3d8232bb20row10_col6,#T_06569e4d_3aee_11eb_84db_cc3d8232bb20row10_col7,#T_06569e4d_3aee_11eb_84db_cc3d8232bb20row10_col8,#T_06569e4d_3aee_11eb_84db_cc3d8232bb20row10_col9,#T_06569e4d_3aee_11eb_84db_cc3d8232bb20row10_col10,#T_06569e4d_3aee_11eb_84db_cc3d8232bb20row10_col11,#T_06569e4d_3aee_11eb_84db_cc3d8232bb20row10_col12,#T_06569e4d_3aee_11eb_84db_cc3d8232bb20row10_col13,#T_06569e4d_3aee_11eb_84db_cc3d8232bb20row10_col14,#T_06569e4d_3aee_11eb_84db_cc3d8232bb20row10_col15,#T_06569e4d_3aee_11eb_84db_cc3d8232bb20row10_col16,#T_06569e4d_3aee_11eb_84db_cc3d8232bb20row10_col17,#T_06569e4d_3aee_11eb_84db_cc3d8232bb20row10_col19,#T_06569e4d_3aee_11eb_84db_cc3d8232bb20row10_col20,#T_06569e4d_3aee_11eb_84db_cc3d8232bb20row10_col21,#T_06569e4d_3aee_11eb_84db_cc3d8232bb20row10_col23,#T_06569e4d_3aee_11eb_84db_cc3d8232bb20row10_col24,#T_06569e4d_3aee_11eb_84db_cc3d8232bb20row10_col25,#T_06569e4d_3aee_11eb_84db_cc3d8232bb20row10_col26,#T_06569e4d_3aee_11eb_84db_cc3d8232bb20row10_col27,#T_06569e4d_3aee_11eb_84db_cc3d8232bb20row10_col28,#T_06569e4d_3aee_11eb_84db_cc3d8232bb20row10_col29,#T_06569e4d_3aee_11eb_84db_cc3d8232bb20row10_col30,#T_06569e4d_3aee_11eb_84db_cc3d8232bb20row10_col31,#T_06569e4d_3aee_11eb_84db_cc3d8232bb20row10_col32,#T_06569e4d_3aee_11eb_84db_cc3d8232bb20row10_col33,#T_06569e4d_3aee_11eb_84db_cc3d8232bb20row10_col34,#T_06569e4d_3aee_11eb_84db_cc3d8232bb20row10_col35,#T_06569e4d_3aee_11eb_84db_cc3d8232bb20row10_col36,#T_06569e4d_3aee_11eb_84db_cc3d8232bb20row10_col37,#T_06569e4d_3aee_11eb_84db_cc3d8232bb20row10_col38,#T_06569e4d_3aee_11eb_84db_cc3d8232bb20row10_col39,#T_06569e4d_3aee_11eb_84db_cc3d8232bb20row10_col40,#T_06569e4d_3aee_11eb_84db_cc3d8232bb20row10_col41,#T_06569e4d_3aee_11eb_84db_cc3d8232bb20row10_col42,#T_06569e4d_3aee_11eb_84db_cc3d8232bb20row10_col43,#T_06569e4d_3aee_11eb_84db_cc3d8232bb20row10_col44,#T_06569e4d_3aee_11eb_84db_cc3d8232bb20row10_col45,#T_06569e4d_3aee_11eb_84db_cc3d8232bb20row10_col46,#T_06569e4d_3aee_11eb_84db_cc3d8232bb20row10_col47,#T_06569e4d_3aee_11eb_84db_cc3d8232bb20row10_col48,#T_06569e4d_3aee_11eb_84db_cc3d8232bb20row10_col49,#T_06569e4d_3aee_11eb_84db_cc3d8232bb20row10_col50,#T_06569e4d_3aee_11eb_84db_cc3d8232bb20row10_col51,#T_06569e4d_3aee_11eb_84db_cc3d8232bb20row10_col53,#T_06569e4d_3aee_11eb_84db_cc3d8232bb20row10_col54,#T_06569e4d_3aee_11eb_84db_cc3d8232bb20row10_col55,#T_06569e4d_3aee_11eb_84db_cc3d8232bb20row10_col56,#T_06569e4d_3aee_11eb_84db_cc3d8232bb20row10_col57,#T_06569e4d_3aee_11eb_84db_cc3d8232bb20row11_col0,#T_06569e4d_3aee_11eb_84db_cc3d8232bb20row11_col2,#T_06569e4d_3aee_11eb_84db_cc3d8232bb20row11_col3,#T_06569e4d_3aee_11eb_84db_cc3d8232bb20row11_col4,#T_06569e4d_3aee_11eb_84db_cc3d8232bb20row11_col5,#T_06569e4d_3aee_11eb_84db_cc3d8232bb20row11_col6,#T_06569e4d_3aee_11eb_84db_cc3d8232bb20row11_col7,#T_06569e4d_3aee_11eb_84db_cc3d8232bb20row11_col8,#T_06569e4d_3aee_11eb_84db_cc3d8232bb20row11_col10,#T_06569e4d_3aee_11eb_84db_cc3d8232bb20row11_col11,#T_06569e4d_3aee_11eb_84db_cc3d8232bb20row11_col12,#T_06569e4d_3aee_11eb_84db_cc3d8232bb20row11_col13,#T_06569e4d_3aee_11eb_84db_cc3d8232bb20row11_col14,#T_06569e4d_3aee_11eb_84db_cc3d8232bb20row11_col15,#T_06569e4d_3aee_11eb_84db_cc3d8232bb20row11_col16,#T_06569e4d_3aee_11eb_84db_cc3d8232bb20row11_col17,#T_06569e4d_3aee_11eb_84db_cc3d8232bb20row11_col20,#T_06569e4d_3aee_11eb_84db_cc3d8232bb20row11_col21,#T_06569e4d_3aee_11eb_84db_cc3d8232bb20row11_col23,#T_06569e4d_3aee_11eb_84db_cc3d8232bb20row11_col24,#T_06569e4d_3aee_11eb_84db_cc3d8232bb20row11_col25,#T_06569e4d_3aee_11eb_84db_cc3d8232bb20row11_col26,#T_06569e4d_3aee_11eb_84db_cc3d8232bb20row11_col27,#T_06569e4d_3aee_11eb_84db_cc3d8232bb20row11_col28,#T_06569e4d_3aee_11eb_84db_cc3d8232bb20row11_col30,#T_06569e4d_3aee_11eb_84db_cc3d8232bb20row11_col31,#T_06569e4d_3aee_11eb_84db_cc3d8232bb20row11_col32,#T_06569e4d_3aee_11eb_84db_cc3d8232bb20row11_col33,#T_06569e4d_3aee_11eb_84db_cc3d8232bb20row11_col34,#T_06569e4d_3aee_11eb_84db_cc3d8232bb20row11_col35,#T_06569e4d_3aee_11eb_84db_cc3d8232bb20row11_col36,#T_06569e4d_3aee_11eb_84db_cc3d8232bb20row11_col37,#T_06569e4d_3aee_11eb_84db_cc3d8232bb20row11_col38,#T_06569e4d_3aee_11eb_84db_cc3d8232bb20row11_col39,#T_06569e4d_3aee_11eb_84db_cc3d8232bb20row11_col41,#T_06569e4d_3aee_11eb_84db_cc3d8232bb20row11_col42,#T_06569e4d_3aee_11eb_84db_cc3d8232bb20row11_col43,#T_06569e4d_3aee_11eb_84db_cc3d8232bb20row11_col44,#T_06569e4d_3aee_11eb_84db_cc3d8232bb20row11_col45,#T_06569e4d_3aee_11eb_84db_cc3d8232bb20row11_col46,#T_06569e4d_3aee_11eb_84db_cc3d8232bb20row11_col47,#T_06569e4d_3aee_11eb_84db_cc3d8232bb20row11_col48,#T_06569e4d_3aee_11eb_84db_cc3d8232bb20row11_col49,#T_06569e4d_3aee_11eb_84db_cc3d8232bb20row11_col50,#T_06569e4d_3aee_11eb_84db_cc3d8232bb20row11_col51,#T_06569e4d_3aee_11eb_84db_cc3d8232bb20row11_col53,#T_06569e4d_3aee_11eb_84db_cc3d8232bb20row11_col54,#T_06569e4d_3aee_11eb_84db_cc3d8232bb20row11_col56,#T_06569e4d_3aee_11eb_84db_cc3d8232bb20row11_col57,#T_06569e4d_3aee_11eb_84db_cc3d8232bb20row12_col2,#T_06569e4d_3aee_11eb_84db_cc3d8232bb20row12_col3,#T_06569e4d_3aee_11eb_84db_cc3d8232bb20row12_col4,#T_06569e4d_3aee_11eb_84db_cc3d8232bb20row12_col5,#T_06569e4d_3aee_11eb_84db_cc3d8232bb20row12_col6,#T_06569e4d_3aee_11eb_84db_cc3d8232bb20row12_col7,#T_06569e4d_3aee_11eb_84db_cc3d8232bb20row12_col10,#T_06569e4d_3aee_11eb_84db_cc3d8232bb20row12_col11,#T_06569e4d_3aee_11eb_84db_cc3d8232bb20row12_col12,#T_06569e4d_3aee_11eb_84db_cc3d8232bb20row12_col13,#T_06569e4d_3aee_11eb_84db_cc3d8232bb20row12_col14,#T_06569e4d_3aee_11eb_84db_cc3d8232bb20row12_col16,#T_06569e4d_3aee_11eb_84db_cc3d8232bb20row12_col17,#T_06569e4d_3aee_11eb_84db_cc3d8232bb20row12_col18,#T_06569e4d_3aee_11eb_84db_cc3d8232bb20row12_col20,#T_06569e4d_3aee_11eb_84db_cc3d8232bb20row12_col21,#T_06569e4d_3aee_11eb_84db_cc3d8232bb20row12_col23,#T_06569e4d_3aee_11eb_84db_cc3d8232bb20row12_col24,#T_06569e4d_3aee_11eb_84db_cc3d8232bb20row12_col25,#T_06569e4d_3aee_11eb_84db_cc3d8232bb20row12_col27,#T_06569e4d_3aee_11eb_84db_cc3d8232bb20row12_col28,#T_06569e4d_3aee_11eb_84db_cc3d8232bb20row12_col30,#T_06569e4d_3aee_11eb_84db_cc3d8232bb20row12_col31,#T_06569e4d_3aee_11eb_84db_cc3d8232bb20row12_col32,#T_06569e4d_3aee_11eb_84db_cc3d8232bb20row12_col35,#T_06569e4d_3aee_11eb_84db_cc3d8232bb20row12_col36,#T_06569e4d_3aee_11eb_84db_cc3d8232bb20row12_col38,#T_06569e4d_3aee_11eb_84db_cc3d8232bb20row12_col39,#T_06569e4d_3aee_11eb_84db_cc3d8232bb20row12_col43,#T_06569e4d_3aee_11eb_84db_cc3d8232bb20row12_col44,#T_06569e4d_3aee_11eb_84db_cc3d8232bb20row12_col46,#T_06569e4d_3aee_11eb_84db_cc3d8232bb20row12_col47,#T_06569e4d_3aee_11eb_84db_cc3d8232bb20row12_col48,#T_06569e4d_3aee_11eb_84db_cc3d8232bb20row12_col49,#T_06569e4d_3aee_11eb_84db_cc3d8232bb20row12_col54,#T_06569e4d_3aee_11eb_84db_cc3d8232bb20row12_col55,#T_06569e4d_3aee_11eb_84db_cc3d8232bb20row12_col56,#T_06569e4d_3aee_11eb_84db_cc3d8232bb20row13_col0,#T_06569e4d_3aee_11eb_84db_cc3d8232bb20row13_col1,#T_06569e4d_3aee_11eb_84db_cc3d8232bb20row13_col2,#T_06569e4d_3aee_11eb_84db_cc3d8232bb20row13_col3,#T_06569e4d_3aee_11eb_84db_cc3d8232bb20row13_col4,#T_06569e4d_3aee_11eb_84db_cc3d8232bb20row13_col5,#T_06569e4d_3aee_11eb_84db_cc3d8232bb20row13_col6,#T_06569e4d_3aee_11eb_84db_cc3d8232bb20row13_col7,#T_06569e4d_3aee_11eb_84db_cc3d8232bb20row13_col8,#T_06569e4d_3aee_11eb_84db_cc3d8232bb20row13_col10,#T_06569e4d_3aee_11eb_84db_cc3d8232bb20row13_col11,#T_06569e4d_3aee_11eb_84db_cc3d8232bb20row13_col12,#T_06569e4d_3aee_11eb_84db_cc3d8232bb20row13_col14,#T_06569e4d_3aee_11eb_84db_cc3d8232bb20row13_col15,#T_06569e4d_3aee_11eb_84db_cc3d8232bb20row13_col16,#T_06569e4d_3aee_11eb_84db_cc3d8232bb20row13_col17,#T_06569e4d_3aee_11eb_84db_cc3d8232bb20row13_col18,#T_06569e4d_3aee_11eb_84db_cc3d8232bb20row13_col20,#T_06569e4d_3aee_11eb_84db_cc3d8232bb20row13_col21,#T_06569e4d_3aee_11eb_84db_cc3d8232bb20row13_col22,#T_06569e4d_3aee_11eb_84db_cc3d8232bb20row13_col23,#T_06569e4d_3aee_11eb_84db_cc3d8232bb20row13_col24,#T_06569e4d_3aee_11eb_84db_cc3d8232bb20row13_col25,#T_06569e4d_3aee_11eb_84db_cc3d8232bb20row13_col28,#T_06569e4d_3aee_11eb_84db_cc3d8232bb20row13_col30,#T_06569e4d_3aee_11eb_84db_cc3d8232bb20row13_col31,#T_06569e4d_3aee_11eb_84db_cc3d8232bb20row13_col32,#T_06569e4d_3aee_11eb_84db_cc3d8232bb20row13_col33,#T_06569e4d_3aee_11eb_84db_cc3d8232bb20row13_col34,#T_06569e4d_3aee_11eb_84db_cc3d8232bb20row13_col35,#T_06569e4d_3aee_11eb_84db_cc3d8232bb20row13_col37,#T_06569e4d_3aee_11eb_84db_cc3d8232bb20row13_col38,#T_06569e4d_3aee_11eb_84db_cc3d8232bb20row13_col39,#T_06569e4d_3aee_11eb_84db_cc3d8232bb20row13_col42,#T_06569e4d_3aee_11eb_84db_cc3d8232bb20row13_col43,#T_06569e4d_3aee_11eb_84db_cc3d8232bb20row13_col44,#T_06569e4d_3aee_11eb_84db_cc3d8232bb20row13_col45,#T_06569e4d_3aee_11eb_84db_cc3d8232bb20row13_col46,#T_06569e4d_3aee_11eb_84db_cc3d8232bb20row13_col48,#T_06569e4d_3aee_11eb_84db_cc3d8232bb20row13_col49,#T_06569e4d_3aee_11eb_84db_cc3d8232bb20row13_col50,#T_06569e4d_3aee_11eb_84db_cc3d8232bb20row13_col51,#T_06569e4d_3aee_11eb_84db_cc3d8232bb20row13_col53,#T_06569e4d_3aee_11eb_84db_cc3d8232bb20row13_col55,#T_06569e4d_3aee_11eb_84db_cc3d8232bb20row13_col56,#T_06569e4d_3aee_11eb_84db_cc3d8232bb20row13_col57,#T_06569e4d_3aee_11eb_84db_cc3d8232bb20row14_col1,#T_06569e4d_3aee_11eb_84db_cc3d8232bb20row14_col2,#T_06569e4d_3aee_11eb_84db_cc3d8232bb20row14_col3,#T_06569e4d_3aee_11eb_84db_cc3d8232bb20row14_col4,#T_06569e4d_3aee_11eb_84db_cc3d8232bb20row14_col5,#T_06569e4d_3aee_11eb_84db_cc3d8232bb20row14_col6,#T_06569e4d_3aee_11eb_84db_cc3d8232bb20row14_col7,#T_06569e4d_3aee_11eb_84db_cc3d8232bb20row14_col8,#T_06569e4d_3aee_11eb_84db_cc3d8232bb20row14_col9,#T_06569e4d_3aee_11eb_84db_cc3d8232bb20row14_col10,#T_06569e4d_3aee_11eb_84db_cc3d8232bb20row14_col11,#T_06569e4d_3aee_11eb_84db_cc3d8232bb20row14_col12,#T_06569e4d_3aee_11eb_84db_cc3d8232bb20row14_col13,#T_06569e4d_3aee_11eb_84db_cc3d8232bb20row14_col14,#T_06569e4d_3aee_11eb_84db_cc3d8232bb20row14_col15,#T_06569e4d_3aee_11eb_84db_cc3d8232bb20row14_col16,#T_06569e4d_3aee_11eb_84db_cc3d8232bb20row14_col17,#T_06569e4d_3aee_11eb_84db_cc3d8232bb20row14_col18,#T_06569e4d_3aee_11eb_84db_cc3d8232bb20row14_col20,#T_06569e4d_3aee_11eb_84db_cc3d8232bb20row14_col21,#T_06569e4d_3aee_11eb_84db_cc3d8232bb20row14_col22,#T_06569e4d_3aee_11eb_84db_cc3d8232bb20row14_col24,#T_06569e4d_3aee_11eb_84db_cc3d8232bb20row14_col26,#T_06569e4d_3aee_11eb_84db_cc3d8232bb20row14_col28,#T_06569e4d_3aee_11eb_84db_cc3d8232bb20row14_col30,#T_06569e4d_3aee_11eb_84db_cc3d8232bb20row14_col31,#T_06569e4d_3aee_11eb_84db_cc3d8232bb20row14_col34,#T_06569e4d_3aee_11eb_84db_cc3d8232bb20row14_col38,#T_06569e4d_3aee_11eb_84db_cc3d8232bb20row14_col39,#T_06569e4d_3aee_11eb_84db_cc3d8232bb20row14_col42,#T_06569e4d_3aee_11eb_84db_cc3d8232bb20row14_col43,#T_06569e4d_3aee_11eb_84db_cc3d8232bb20row14_col44,#T_06569e4d_3aee_11eb_84db_cc3d8232bb20row14_col45,#T_06569e4d_3aee_11eb_84db_cc3d8232bb20row14_col47,#T_06569e4d_3aee_11eb_84db_cc3d8232bb20row14_col48,#T_06569e4d_3aee_11eb_84db_cc3d8232bb20row14_col49,#T_06569e4d_3aee_11eb_84db_cc3d8232bb20row14_col50,#T_06569e4d_3aee_11eb_84db_cc3d8232bb20row14_col51,#T_06569e4d_3aee_11eb_84db_cc3d8232bb20row14_col53,#T_06569e4d_3aee_11eb_84db_cc3d8232bb20row14_col55,#T_06569e4d_3aee_11eb_84db_cc3d8232bb20row14_col56,#T_06569e4d_3aee_11eb_84db_cc3d8232bb20row14_col57,#T_06569e4d_3aee_11eb_84db_cc3d8232bb20row15_col1,#T_06569e4d_3aee_11eb_84db_cc3d8232bb20row15_col2,#T_06569e4d_3aee_11eb_84db_cc3d8232bb20row15_col3,#T_06569e4d_3aee_11eb_84db_cc3d8232bb20row15_col4,#T_06569e4d_3aee_11eb_84db_cc3d8232bb20row15_col5,#T_06569e4d_3aee_11eb_84db_cc3d8232bb20row15_col6,#T_06569e4d_3aee_11eb_84db_cc3d8232bb20row15_col7,#T_06569e4d_3aee_11eb_84db_cc3d8232bb20row15_col8,#T_06569e4d_3aee_11eb_84db_cc3d8232bb20row15_col9,#T_06569e4d_3aee_11eb_84db_cc3d8232bb20row15_col11,#T_06569e4d_3aee_11eb_84db_cc3d8232bb20row15_col12,#T_06569e4d_3aee_11eb_84db_cc3d8232bb20row15_col13,#T_06569e4d_3aee_11eb_84db_cc3d8232bb20row15_col14,#T_06569e4d_3aee_11eb_84db_cc3d8232bb20row15_col15,#T_06569e4d_3aee_11eb_84db_cc3d8232bb20row15_col16,#T_06569e4d_3aee_11eb_84db_cc3d8232bb20row15_col18,#T_06569e4d_3aee_11eb_84db_cc3d8232bb20row15_col19,#T_06569e4d_3aee_11eb_84db_cc3d8232bb20row15_col20,#T_06569e4d_3aee_11eb_84db_cc3d8232bb20row15_col21,#T_06569e4d_3aee_11eb_84db_cc3d8232bb20row15_col22,#T_06569e4d_3aee_11eb_84db_cc3d8232bb20row15_col23,#T_06569e4d_3aee_11eb_84db_cc3d8232bb20row15_col25,#T_06569e4d_3aee_11eb_84db_cc3d8232bb20row15_col27,#T_06569e4d_3aee_11eb_84db_cc3d8232bb20row15_col30,#T_06569e4d_3aee_11eb_84db_cc3d8232bb20row15_col31,#T_06569e4d_3aee_11eb_84db_cc3d8232bb20row15_col32,#T_06569e4d_3aee_11eb_84db_cc3d8232bb20row15_col34,#T_06569e4d_3aee_11eb_84db_cc3d8232bb20row15_col35,#T_06569e4d_3aee_11eb_84db_cc3d8232bb20row15_col36,#T_06569e4d_3aee_11eb_84db_cc3d8232bb20row15_col37,#T_06569e4d_3aee_11eb_84db_cc3d8232bb20row15_col38,#T_06569e4d_3aee_11eb_84db_cc3d8232bb20row15_col39,#T_06569e4d_3aee_11eb_84db_cc3d8232bb20row15_col42,#T_06569e4d_3aee_11eb_84db_cc3d8232bb20row15_col43,#T_06569e4d_3aee_11eb_84db_cc3d8232bb20row15_col44,#T_06569e4d_3aee_11eb_84db_cc3d8232bb20row15_col45,#T_06569e4d_3aee_11eb_84db_cc3d8232bb20row15_col47,#T_06569e4d_3aee_11eb_84db_cc3d8232bb20row15_col48,#T_06569e4d_3aee_11eb_84db_cc3d8232bb20row15_col49,#T_06569e4d_3aee_11eb_84db_cc3d8232bb20row15_col50,#T_06569e4d_3aee_11eb_84db_cc3d8232bb20row15_col51,#T_06569e4d_3aee_11eb_84db_cc3d8232bb20row15_col53,#T_06569e4d_3aee_11eb_84db_cc3d8232bb20row15_col55,#T_06569e4d_3aee_11eb_84db_cc3d8232bb20row15_col57,#T_06569e4d_3aee_11eb_84db_cc3d8232bb20row16_col0,#T_06569e4d_3aee_11eb_84db_cc3d8232bb20row16_col1,#T_06569e4d_3aee_11eb_84db_cc3d8232bb20row16_col2,#T_06569e4d_3aee_11eb_84db_cc3d8232bb20row16_col3,#T_06569e4d_3aee_11eb_84db_cc3d8232bb20row16_col4,#T_06569e4d_3aee_11eb_84db_cc3d8232bb20row16_col5,#T_06569e4d_3aee_11eb_84db_cc3d8232bb20row16_col7,#T_06569e4d_3aee_11eb_84db_cc3d8232bb20row16_col8,#T_06569e4d_3aee_11eb_84db_cc3d8232bb20row16_col11,#T_06569e4d_3aee_11eb_84db_cc3d8232bb20row16_col12,#T_06569e4d_3aee_11eb_84db_cc3d8232bb20row16_col13,#T_06569e4d_3aee_11eb_84db_cc3d8232bb20row16_col14,#T_06569e4d_3aee_11eb_84db_cc3d8232bb20row16_col15,#T_06569e4d_3aee_11eb_84db_cc3d8232bb20row16_col16,#T_06569e4d_3aee_11eb_84db_cc3d8232bb20row16_col17,#T_06569e4d_3aee_11eb_84db_cc3d8232bb20row16_col18,#T_06569e4d_3aee_11eb_84db_cc3d8232bb20row16_col19,#T_06569e4d_3aee_11eb_84db_cc3d8232bb20row16_col20,#T_06569e4d_3aee_11eb_84db_cc3d8232bb20row16_col21,#T_06569e4d_3aee_11eb_84db_cc3d8232bb20row16_col22,#T_06569e4d_3aee_11eb_84db_cc3d8232bb20row16_col23,#T_06569e4d_3aee_11eb_84db_cc3d8232bb20row16_col25,#T_06569e4d_3aee_11eb_84db_cc3d8232bb20row16_col26,#T_06569e4d_3aee_11eb_84db_cc3d8232bb20row16_col27,#T_06569e4d_3aee_11eb_84db_cc3d8232bb20row16_col28,#T_06569e4d_3aee_11eb_84db_cc3d8232bb20row16_col31,#T_06569e4d_3aee_11eb_84db_cc3d8232bb20row16_col32,#T_06569e4d_3aee_11eb_84db_cc3d8232bb20row16_col33,#T_06569e4d_3aee_11eb_84db_cc3d8232bb20row16_col34,#T_06569e4d_3aee_11eb_84db_cc3d8232bb20row16_col35,#T_06569e4d_3aee_11eb_84db_cc3d8232bb20row16_col36,#T_06569e4d_3aee_11eb_84db_cc3d8232bb20row16_col37,#T_06569e4d_3aee_11eb_84db_cc3d8232bb20row16_col38,#T_06569e4d_3aee_11eb_84db_cc3d8232bb20row16_col39,#T_06569e4d_3aee_11eb_84db_cc3d8232bb20row16_col40,#T_06569e4d_3aee_11eb_84db_cc3d8232bb20row16_col41,#T_06569e4d_3aee_11eb_84db_cc3d8232bb20row16_col42,#T_06569e4d_3aee_11eb_84db_cc3d8232bb20row16_col44,#T_06569e4d_3aee_11eb_84db_cc3d8232bb20row16_col45,#T_06569e4d_3aee_11eb_84db_cc3d8232bb20row16_col46,#T_06569e4d_3aee_11eb_84db_cc3d8232bb20row16_col47,#T_06569e4d_3aee_11eb_84db_cc3d8232bb20row16_col48,#T_06569e4d_3aee_11eb_84db_cc3d8232bb20row16_col49,#T_06569e4d_3aee_11eb_84db_cc3d8232bb20row16_col50,#T_06569e4d_3aee_11eb_84db_cc3d8232bb20row16_col51,#T_06569e4d_3aee_11eb_84db_cc3d8232bb20row16_col53,#T_06569e4d_3aee_11eb_84db_cc3d8232bb20row16_col55,#T_06569e4d_3aee_11eb_84db_cc3d8232bb20row16_col56,#T_06569e4d_3aee_11eb_84db_cc3d8232bb20row16_col57,#T_06569e4d_3aee_11eb_84db_cc3d8232bb20row17_col0,#T_06569e4d_3aee_11eb_84db_cc3d8232bb20row17_col1,#T_06569e4d_3aee_11eb_84db_cc3d8232bb20row17_col2,#T_06569e4d_3aee_11eb_84db_cc3d8232bb20row17_col3,#T_06569e4d_3aee_11eb_84db_cc3d8232bb20row17_col4,#T_06569e4d_3aee_11eb_84db_cc3d8232bb20row17_col5,#T_06569e4d_3aee_11eb_84db_cc3d8232bb20row17_col6,#T_06569e4d_3aee_11eb_84db_cc3d8232bb20row17_col7,#T_06569e4d_3aee_11eb_84db_cc3d8232bb20row17_col8,#T_06569e4d_3aee_11eb_84db_cc3d8232bb20row17_col9,#T_06569e4d_3aee_11eb_84db_cc3d8232bb20row17_col10,#T_06569e4d_3aee_11eb_84db_cc3d8232bb20row17_col11,#T_06569e4d_3aee_11eb_84db_cc3d8232bb20row17_col12,#T_06569e4d_3aee_11eb_84db_cc3d8232bb20row17_col13,#T_06569e4d_3aee_11eb_84db_cc3d8232bb20row17_col14,#T_06569e4d_3aee_11eb_84db_cc3d8232bb20row17_col15,#T_06569e4d_3aee_11eb_84db_cc3d8232bb20row17_col16,#T_06569e4d_3aee_11eb_84db_cc3d8232bb20row17_col17,#T_06569e4d_3aee_11eb_84db_cc3d8232bb20row17_col18,#T_06569e4d_3aee_11eb_84db_cc3d8232bb20row17_col19,#T_06569e4d_3aee_11eb_84db_cc3d8232bb20row17_col20,#T_06569e4d_3aee_11eb_84db_cc3d8232bb20row17_col21,#T_06569e4d_3aee_11eb_84db_cc3d8232bb20row17_col22,#T_06569e4d_3aee_11eb_84db_cc3d8232bb20row17_col23,#T_06569e4d_3aee_11eb_84db_cc3d8232bb20row17_col24,#T_06569e4d_3aee_11eb_84db_cc3d8232bb20row17_col25,#T_06569e4d_3aee_11eb_84db_cc3d8232bb20row17_col26,#T_06569e4d_3aee_11eb_84db_cc3d8232bb20row17_col27,#T_06569e4d_3aee_11eb_84db_cc3d8232bb20row17_col28,#T_06569e4d_3aee_11eb_84db_cc3d8232bb20row17_col29,#T_06569e4d_3aee_11eb_84db_cc3d8232bb20row17_col30,#T_06569e4d_3aee_11eb_84db_cc3d8232bb20row17_col31,#T_06569e4d_3aee_11eb_84db_cc3d8232bb20row17_col32,#T_06569e4d_3aee_11eb_84db_cc3d8232bb20row17_col33,#T_06569e4d_3aee_11eb_84db_cc3d8232bb20row17_col34,#T_06569e4d_3aee_11eb_84db_cc3d8232bb20row17_col35,#T_06569e4d_3aee_11eb_84db_cc3d8232bb20row17_col36,#T_06569e4d_3aee_11eb_84db_cc3d8232bb20row17_col37,#T_06569e4d_3aee_11eb_84db_cc3d8232bb20row17_col38,#T_06569e4d_3aee_11eb_84db_cc3d8232bb20row17_col39,#T_06569e4d_3aee_11eb_84db_cc3d8232bb20row17_col40,#T_06569e4d_3aee_11eb_84db_cc3d8232bb20row17_col41,#T_06569e4d_3aee_11eb_84db_cc3d8232bb20row17_col42,#T_06569e4d_3aee_11eb_84db_cc3d8232bb20row17_col43,#T_06569e4d_3aee_11eb_84db_cc3d8232bb20row17_col44,#T_06569e4d_3aee_11eb_84db_cc3d8232bb20row17_col45,#T_06569e4d_3aee_11eb_84db_cc3d8232bb20row17_col46,#T_06569e4d_3aee_11eb_84db_cc3d8232bb20row17_col47,#T_06569e4d_3aee_11eb_84db_cc3d8232bb20row17_col48,#T_06569e4d_3aee_11eb_84db_cc3d8232bb20row17_col49,#T_06569e4d_3aee_11eb_84db_cc3d8232bb20row17_col50,#T_06569e4d_3aee_11eb_84db_cc3d8232bb20row17_col51,#T_06569e4d_3aee_11eb_84db_cc3d8232bb20row17_col52,#T_06569e4d_3aee_11eb_84db_cc3d8232bb20row17_col54,#T_06569e4d_3aee_11eb_84db_cc3d8232bb20row17_col55,#T_06569e4d_3aee_11eb_84db_cc3d8232bb20row17_col56,#T_06569e4d_3aee_11eb_84db_cc3d8232bb20row17_col57{\n",
       "            background-color:  #f0f0f3;\n",
       "            color:  #000000;\n",
       "        }#T_06569e4d_3aee_11eb_84db_cc3d8232bb20row0_col5{\n",
       "            background-color:  #7d7df9;\n",
       "            color:  #000000;\n",
       "        }#T_06569e4d_3aee_11eb_84db_cc3d8232bb20row0_col31,#T_06569e4d_3aee_11eb_84db_cc3d8232bb20row0_col39,#T_06569e4d_3aee_11eb_84db_cc3d8232bb20row1_col5,#T_06569e4d_3aee_11eb_84db_cc3d8232bb20row2_col11,#T_06569e4d_3aee_11eb_84db_cc3d8232bb20row3_col2,#T_06569e4d_3aee_11eb_84db_cc3d8232bb20row3_col16,#T_06569e4d_3aee_11eb_84db_cc3d8232bb20row3_col21,#T_06569e4d_3aee_11eb_84db_cc3d8232bb20row3_col38,#T_06569e4d_3aee_11eb_84db_cc3d8232bb20row3_col49,#T_06569e4d_3aee_11eb_84db_cc3d8232bb20row4_col33,#T_06569e4d_3aee_11eb_84db_cc3d8232bb20row4_col36,#T_06569e4d_3aee_11eb_84db_cc3d8232bb20row5_col4,#T_06569e4d_3aee_11eb_84db_cc3d8232bb20row5_col7,#T_06569e4d_3aee_11eb_84db_cc3d8232bb20row5_col12,#T_06569e4d_3aee_11eb_84db_cc3d8232bb20row6_col21,#T_06569e4d_3aee_11eb_84db_cc3d8232bb20row6_col43,#T_06569e4d_3aee_11eb_84db_cc3d8232bb20row8_col14,#T_06569e4d_3aee_11eb_84db_cc3d8232bb20row8_col44,#T_06569e4d_3aee_11eb_84db_cc3d8232bb20row8_col46,#T_06569e4d_3aee_11eb_84db_cc3d8232bb20row8_col48,#T_06569e4d_3aee_11eb_84db_cc3d8232bb20row9_col26,#T_06569e4d_3aee_11eb_84db_cc3d8232bb20row9_col47,#T_06569e4d_3aee_11eb_84db_cc3d8232bb20row10_col3,#T_06569e4d_3aee_11eb_84db_cc3d8232bb20row10_col18,#T_06569e4d_3aee_11eb_84db_cc3d8232bb20row11_col9,#T_06569e4d_3aee_11eb_84db_cc3d8232bb20row11_col22,#T_06569e4d_3aee_11eb_84db_cc3d8232bb20row11_col55,#T_06569e4d_3aee_11eb_84db_cc3d8232bb20row12_col0,#T_06569e4d_3aee_11eb_84db_cc3d8232bb20row12_col1,#T_06569e4d_3aee_11eb_84db_cc3d8232bb20row12_col8,#T_06569e4d_3aee_11eb_84db_cc3d8232bb20row12_col15,#T_06569e4d_3aee_11eb_84db_cc3d8232bb20row12_col34,#T_06569e4d_3aee_11eb_84db_cc3d8232bb20row12_col37,#T_06569e4d_3aee_11eb_84db_cc3d8232bb20row12_col41,#T_06569e4d_3aee_11eb_84db_cc3d8232bb20row12_col42,#T_06569e4d_3aee_11eb_84db_cc3d8232bb20row12_col45,#T_06569e4d_3aee_11eb_84db_cc3d8232bb20row12_col50,#T_06569e4d_3aee_11eb_84db_cc3d8232bb20row12_col51,#T_06569e4d_3aee_11eb_84db_cc3d8232bb20row12_col53,#T_06569e4d_3aee_11eb_84db_cc3d8232bb20row12_col57,#T_06569e4d_3aee_11eb_84db_cc3d8232bb20row13_col13,#T_06569e4d_3aee_11eb_84db_cc3d8232bb20row13_col19,#T_06569e4d_3aee_11eb_84db_cc3d8232bb20row13_col27,#T_06569e4d_3aee_11eb_84db_cc3d8232bb20row13_col29,#T_06569e4d_3aee_11eb_84db_cc3d8232bb20row13_col40,#T_06569e4d_3aee_11eb_84db_cc3d8232bb20row14_col23,#T_06569e4d_3aee_11eb_84db_cc3d8232bb20row14_col25,#T_06569e4d_3aee_11eb_84db_cc3d8232bb20row14_col32,#T_06569e4d_3aee_11eb_84db_cc3d8232bb20row14_col35,#T_06569e4d_3aee_11eb_84db_cc3d8232bb20row14_col54,#T_06569e4d_3aee_11eb_84db_cc3d8232bb20row15_col10,#T_06569e4d_3aee_11eb_84db_cc3d8232bb20row15_col17,#T_06569e4d_3aee_11eb_84db_cc3d8232bb20row15_col28,#T_06569e4d_3aee_11eb_84db_cc3d8232bb20row15_col52,#T_06569e4d_3aee_11eb_84db_cc3d8232bb20row15_col56,#T_06569e4d_3aee_11eb_84db_cc3d8232bb20row16_col6,#T_06569e4d_3aee_11eb_84db_cc3d8232bb20row16_col24,#T_06569e4d_3aee_11eb_84db_cc3d8232bb20row16_col30{\n",
       "            background-color:  #0000ff;\n",
       "            color:  #f1f1f1;\n",
       "        }#T_06569e4d_3aee_11eb_84db_cc3d8232bb20row1_col31{\n",
       "            background-color:  #d7d7f4;\n",
       "            color:  #000000;\n",
       "        }#T_06569e4d_3aee_11eb_84db_cc3d8232bb20row2_col0{\n",
       "            background-color:  #e8e8f3;\n",
       "            color:  #000000;\n",
       "        }#T_06569e4d_3aee_11eb_84db_cc3d8232bb20row2_col29,#T_06569e4d_3aee_11eb_84db_cc3d8232bb20row11_col18{\n",
       "            background-color:  #c3c3f5;\n",
       "            color:  #000000;\n",
       "        }#T_06569e4d_3aee_11eb_84db_cc3d8232bb20row2_col40,#T_06569e4d_3aee_11eb_84db_cc3d8232bb20row4_col16{\n",
       "            background-color:  #e3e3f3;\n",
       "            color:  #000000;\n",
       "        }#T_06569e4d_3aee_11eb_84db_cc3d8232bb20row3_col0{\n",
       "            background-color:  #c4c4f5;\n",
       "            color:  #000000;\n",
       "        }#T_06569e4d_3aee_11eb_84db_cc3d8232bb20row3_col7,#T_06569e4d_3aee_11eb_84db_cc3d8232bb20row14_col41{\n",
       "            background-color:  #6666fa;\n",
       "            color:  #000000;\n",
       "        }#T_06569e4d_3aee_11eb_84db_cc3d8232bb20row3_col29{\n",
       "            background-color:  #b0b0f6;\n",
       "            color:  #000000;\n",
       "        }#T_06569e4d_3aee_11eb_84db_cc3d8232bb20row3_col33{\n",
       "            background-color:  #eaeaf3;\n",
       "            color:  #000000;\n",
       "        }#T_06569e4d_3aee_11eb_84db_cc3d8232bb20row3_col40{\n",
       "            background-color:  #8e8ef8;\n",
       "            color:  #000000;\n",
       "        }#T_06569e4d_3aee_11eb_84db_cc3d8232bb20row3_col47,#T_06569e4d_3aee_11eb_84db_cc3d8232bb20row13_col47{\n",
       "            background-color:  #9d9df7;\n",
       "            color:  #000000;\n",
       "        }#T_06569e4d_3aee_11eb_84db_cc3d8232bb20row3_col55{\n",
       "            background-color:  #4d4dfb;\n",
       "            color:  #f1f1f1;\n",
       "        }#T_06569e4d_3aee_11eb_84db_cc3d8232bb20row4_col0,#T_06569e4d_3aee_11eb_84db_cc3d8232bb20row6_col26,#T_06569e4d_3aee_11eb_84db_cc3d8232bb20row9_col36,#T_06569e4d_3aee_11eb_84db_cc3d8232bb20row12_col26{\n",
       "            background-color:  #d6d6f4;\n",
       "            color:  #000000;\n",
       "        }#T_06569e4d_3aee_11eb_84db_cc3d8232bb20row4_col12,#T_06569e4d_3aee_11eb_84db_cc3d8232bb20row8_col26{\n",
       "            background-color:  #6464fa;\n",
       "            color:  #000000;\n",
       "        }#T_06569e4d_3aee_11eb_84db_cc3d8232bb20row4_col19,#T_06569e4d_3aee_11eb_84db_cc3d8232bb20row6_col40,#T_06569e4d_3aee_11eb_84db_cc3d8232bb20row8_col29,#T_06569e4d_3aee_11eb_84db_cc3d8232bb20row15_col24{\n",
       "            background-color:  #ededf3;\n",
       "            color:  #000000;\n",
       "        }#T_06569e4d_3aee_11eb_84db_cc3d8232bb20row4_col29{\n",
       "            background-color:  #9a9af7;\n",
       "            color:  #000000;\n",
       "        }#T_06569e4d_3aee_11eb_84db_cc3d8232bb20row4_col38{\n",
       "            background-color:  #0808ff;\n",
       "            color:  #f1f1f1;\n",
       "        }#T_06569e4d_3aee_11eb_84db_cc3d8232bb20row4_col40{\n",
       "            background-color:  #5050fb;\n",
       "            color:  #f1f1f1;\n",
       "        }#T_06569e4d_3aee_11eb_84db_cc3d8232bb20row4_col49{\n",
       "            background-color:  #3333fc;\n",
       "            color:  #f1f1f1;\n",
       "        }#T_06569e4d_3aee_11eb_84db_cc3d8232bb20row5_col0{\n",
       "            background-color:  #b8b8f6;\n",
       "            color:  #000000;\n",
       "        }#T_06569e4d_3aee_11eb_84db_cc3d8232bb20row5_col29{\n",
       "            background-color:  #9191f8;\n",
       "            color:  #000000;\n",
       "        }#T_06569e4d_3aee_11eb_84db_cc3d8232bb20row5_col33{\n",
       "            background-color:  #acacf6;\n",
       "            color:  #000000;\n",
       "        }#T_06569e4d_3aee_11eb_84db_cc3d8232bb20row5_col36{\n",
       "            background-color:  #5959fa;\n",
       "            color:  #f1f1f1;\n",
       "        }#T_06569e4d_3aee_11eb_84db_cc3d8232bb20row5_col38,#T_06569e4d_3aee_11eb_84db_cc3d8232bb20row6_col29,#T_06569e4d_3aee_11eb_84db_cc3d8232bb20row14_col27{\n",
       "            background-color:  #a2a2f7;\n",
       "            color:  #000000;\n",
       "        }#T_06569e4d_3aee_11eb_84db_cc3d8232bb20row5_col40,#T_06569e4d_3aee_11eb_84db_cc3d8232bb20row17_col53{\n",
       "            background-color:  #9090f8;\n",
       "            color:  #000000;\n",
       "        }#T_06569e4d_3aee_11eb_84db_cc3d8232bb20row5_col44{\n",
       "            background-color:  #3838fc;\n",
       "            color:  #f1f1f1;\n",
       "        }#T_06569e4d_3aee_11eb_84db_cc3d8232bb20row5_col49{\n",
       "            background-color:  #4e4efb;\n",
       "            color:  #f1f1f1;\n",
       "        }#T_06569e4d_3aee_11eb_84db_cc3d8232bb20row5_col52,#T_06569e4d_3aee_11eb_84db_cc3d8232bb20row16_col9{\n",
       "            background-color:  #e1e1f4;\n",
       "            color:  #000000;\n",
       "        }#T_06569e4d_3aee_11eb_84db_cc3d8232bb20row5_col53,#T_06569e4d_3aee_11eb_84db_cc3d8232bb20row12_col29{\n",
       "            background-color:  #3a3afc;\n",
       "            color:  #f1f1f1;\n",
       "        }#T_06569e4d_3aee_11eb_84db_cc3d8232bb20row6_col44{\n",
       "            background-color:  #cfcff4;\n",
       "            color:  #000000;\n",
       "        }#T_06569e4d_3aee_11eb_84db_cc3d8232bb20row6_col52{\n",
       "            background-color:  #8c8cf8;\n",
       "            color:  #000000;\n",
       "        }#T_06569e4d_3aee_11eb_84db_cc3d8232bb20row7_col29{\n",
       "            background-color:  #9595f7;\n",
       "            color:  #000000;\n",
       "        }#T_06569e4d_3aee_11eb_84db_cc3d8232bb20row7_col40{\n",
       "            background-color:  #e0e0f4;\n",
       "            color:  #000000;\n",
       "        }#T_06569e4d_3aee_11eb_84db_cc3d8232bb20row7_col52{\n",
       "            background-color:  #b3b3f6;\n",
       "            color:  #000000;\n",
       "        }#T_06569e4d_3aee_11eb_84db_cc3d8232bb20row8_col36{\n",
       "            background-color:  #afaff6;\n",
       "            color:  #000000;\n",
       "        }#T_06569e4d_3aee_11eb_84db_cc3d8232bb20row8_col40{\n",
       "            background-color:  #a5a5f7;\n",
       "            color:  #000000;\n",
       "        }#T_06569e4d_3aee_11eb_84db_cc3d8232bb20row8_col52{\n",
       "            background-color:  #b9b9f6;\n",
       "            color:  #000000;\n",
       "        }#T_06569e4d_3aee_11eb_84db_cc3d8232bb20row9_col29{\n",
       "            background-color:  #e5e5f3;\n",
       "            color:  #000000;\n",
       "        }#T_06569e4d_3aee_11eb_84db_cc3d8232bb20row9_col40{\n",
       "            background-color:  #b1b1f6;\n",
       "            color:  #000000;\n",
       "        }#T_06569e4d_3aee_11eb_84db_cc3d8232bb20row9_col48{\n",
       "            background-color:  #4040fc;\n",
       "            color:  #f1f1f1;\n",
       "        }#T_06569e4d_3aee_11eb_84db_cc3d8232bb20row9_col52{\n",
       "            background-color:  #a6a6f7;\n",
       "            color:  #000000;\n",
       "        }#T_06569e4d_3aee_11eb_84db_cc3d8232bb20row10_col22{\n",
       "            background-color:  #5f5ffa;\n",
       "            color:  #000000;\n",
       "        }#T_06569e4d_3aee_11eb_84db_cc3d8232bb20row10_col52{\n",
       "            background-color:  #2828fd;\n",
       "            color:  #f1f1f1;\n",
       "        }#T_06569e4d_3aee_11eb_84db_cc3d8232bb20row11_col1{\n",
       "            background-color:  #c8c8f5;\n",
       "            color:  #000000;\n",
       "        }#T_06569e4d_3aee_11eb_84db_cc3d8232bb20row11_col19{\n",
       "            background-color:  #ececf3;\n",
       "            color:  #000000;\n",
       "        }#T_06569e4d_3aee_11eb_84db_cc3d8232bb20row11_col29{\n",
       "            background-color:  #2323fd;\n",
       "            color:  #f1f1f1;\n",
       "        }#T_06569e4d_3aee_11eb_84db_cc3d8232bb20row11_col40{\n",
       "            background-color:  #a8a8f6;\n",
       "            color:  #000000;\n",
       "        }#T_06569e4d_3aee_11eb_84db_cc3d8232bb20row11_col52{\n",
       "            background-color:  #8686f8;\n",
       "            color:  #000000;\n",
       "        }#T_06569e4d_3aee_11eb_84db_cc3d8232bb20row12_col9,#T_06569e4d_3aee_11eb_84db_cc3d8232bb20row14_col19{\n",
       "            background-color:  #c2c2f5;\n",
       "            color:  #000000;\n",
       "        }#T_06569e4d_3aee_11eb_84db_cc3d8232bb20row12_col19{\n",
       "            background-color:  #c0c0f5;\n",
       "            color:  #000000;\n",
       "        }#T_06569e4d_3aee_11eb_84db_cc3d8232bb20row12_col22{\n",
       "            background-color:  #8888f8;\n",
       "            color:  #000000;\n",
       "        }#T_06569e4d_3aee_11eb_84db_cc3d8232bb20row12_col33{\n",
       "            background-color:  #c6c6f5;\n",
       "            color:  #000000;\n",
       "        }#T_06569e4d_3aee_11eb_84db_cc3d8232bb20row12_col40{\n",
       "            background-color:  #b6b6f6;\n",
       "            color:  #000000;\n",
       "        }#T_06569e4d_3aee_11eb_84db_cc3d8232bb20row12_col52{\n",
       "            background-color:  #5a5afa;\n",
       "            color:  #f1f1f1;\n",
       "        }#T_06569e4d_3aee_11eb_84db_cc3d8232bb20row13_col9{\n",
       "            background-color:  #dfdff4;\n",
       "            color:  #000000;\n",
       "        }#T_06569e4d_3aee_11eb_84db_cc3d8232bb20row13_col26{\n",
       "            background-color:  #adadf6;\n",
       "            color:  #000000;\n",
       "        }#T_06569e4d_3aee_11eb_84db_cc3d8232bb20row13_col36{\n",
       "            background-color:  #dcdcf4;\n",
       "            color:  #000000;\n",
       "        }#T_06569e4d_3aee_11eb_84db_cc3d8232bb20row13_col41,#T_06569e4d_3aee_11eb_84db_cc3d8232bb20row16_col29{\n",
       "            background-color:  #dbdbf4;\n",
       "            color:  #000000;\n",
       "        }#T_06569e4d_3aee_11eb_84db_cc3d8232bb20row13_col52{\n",
       "            background-color:  #d8d8f4;\n",
       "            color:  #000000;\n",
       "        }#T_06569e4d_3aee_11eb_84db_cc3d8232bb20row13_col54{\n",
       "            background-color:  #7777f9;\n",
       "            color:  #000000;\n",
       "        }#T_06569e4d_3aee_11eb_84db_cc3d8232bb20row14_col0{\n",
       "            background-color:  #e6e6f3;\n",
       "            color:  #000000;\n",
       "        }#T_06569e4d_3aee_11eb_84db_cc3d8232bb20row14_col29{\n",
       "            background-color:  #3535fc;\n",
       "            color:  #f1f1f1;\n",
       "        }#T_06569e4d_3aee_11eb_84db_cc3d8232bb20row14_col33{\n",
       "            background-color:  #8080f8;\n",
       "            color:  #000000;\n",
       "        }#T_06569e4d_3aee_11eb_84db_cc3d8232bb20row14_col36{\n",
       "            background-color:  #aaaaf6;\n",
       "            color:  #000000;\n",
       "        }#T_06569e4d_3aee_11eb_84db_cc3d8232bb20row14_col37{\n",
       "            background-color:  #6767fa;\n",
       "            color:  #000000;\n",
       "        }#T_06569e4d_3aee_11eb_84db_cc3d8232bb20row14_col40{\n",
       "            background-color:  #4343fc;\n",
       "            color:  #f1f1f1;\n",
       "        }#T_06569e4d_3aee_11eb_84db_cc3d8232bb20row14_col46{\n",
       "            background-color:  #8a8af8;\n",
       "            color:  #000000;\n",
       "        }#T_06569e4d_3aee_11eb_84db_cc3d8232bb20row14_col52{\n",
       "            background-color:  #7e7ef9;\n",
       "            color:  #000000;\n",
       "        }#T_06569e4d_3aee_11eb_84db_cc3d8232bb20row15_col0{\n",
       "            background-color:  #d3d3f4;\n",
       "            color:  #000000;\n",
       "        }#T_06569e4d_3aee_11eb_84db_cc3d8232bb20row15_col26{\n",
       "            background-color:  #cdcdf5;\n",
       "            color:  #000000;\n",
       "        }#T_06569e4d_3aee_11eb_84db_cc3d8232bb20row15_col29{\n",
       "            background-color:  #5757fb;\n",
       "            color:  #f1f1f1;\n",
       "        }#T_06569e4d_3aee_11eb_84db_cc3d8232bb20row15_col33,#T_06569e4d_3aee_11eb_84db_cc3d8232bb20row16_col54{\n",
       "            background-color:  #6b6bfa;\n",
       "            color:  #000000;\n",
       "        }#T_06569e4d_3aee_11eb_84db_cc3d8232bb20row15_col40{\n",
       "            background-color:  #a9a9f6;\n",
       "            color:  #000000;\n",
       "        }#T_06569e4d_3aee_11eb_84db_cc3d8232bb20row15_col41{\n",
       "            background-color:  #d0d0f4;\n",
       "            color:  #000000;\n",
       "        }#T_06569e4d_3aee_11eb_84db_cc3d8232bb20row15_col46{\n",
       "            background-color:  #4646fb;\n",
       "            color:  #f1f1f1;\n",
       "        }#T_06569e4d_3aee_11eb_84db_cc3d8232bb20row15_col54{\n",
       "            background-color:  #1919fe;\n",
       "            color:  #f1f1f1;\n",
       "        }#T_06569e4d_3aee_11eb_84db_cc3d8232bb20row16_col10{\n",
       "            background-color:  #bdbdf5;\n",
       "            color:  #000000;\n",
       "        }#T_06569e4d_3aee_11eb_84db_cc3d8232bb20row16_col43{\n",
       "            background-color:  #b5b5f6;\n",
       "            color:  #000000;\n",
       "        }#T_06569e4d_3aee_11eb_84db_cc3d8232bb20row16_col52{\n",
       "            background-color:  #9696f7;\n",
       "            color:  #000000;\n",
       "        }</style><table id=\"T_06569e4d_3aee_11eb_84db_cc3d8232bb20\" ><thead>    <tr>        <th class=\"index_name level0\" >CountryOfExploitation</th>        <th class=\"col_heading level0 col0\" >AE</th>        <th class=\"col_heading level0 col1\" >AF</th>        <th class=\"col_heading level0 col2\" >AL</th>        <th class=\"col_heading level0 col3\" >AR</th>        <th class=\"col_heading level0 col4\" >AT</th>        <th class=\"col_heading level0 col5\" >BA</th>        <th class=\"col_heading level0 col6\" >BD</th>        <th class=\"col_heading level0 col7\" >BG</th>        <th class=\"col_heading level0 col8\" >BH</th>        <th class=\"col_heading level0 col9\" >BY</th>        <th class=\"col_heading level0 col10\" >CN</th>        <th class=\"col_heading level0 col11\" >CY</th>        <th class=\"col_heading level0 col12\" >CZ</th>        <th class=\"col_heading level0 col13\" >DK</th>        <th class=\"col_heading level0 col14\" >EC</th>        <th class=\"col_heading level0 col15\" >EG</th>        <th class=\"col_heading level0 col16\" >GH</th>        <th class=\"col_heading level0 col17\" >HK</th>        <th class=\"col_heading level0 col18\" >HT</th>        <th class=\"col_heading level0 col19\" >ID</th>        <th class=\"col_heading level0 col20\" >IN</th>        <th class=\"col_heading level0 col21\" >IT</th>        <th class=\"col_heading level0 col22\" >JO</th>        <th class=\"col_heading level0 col23\" >JP</th>        <th class=\"col_heading level0 col24\" >KH</th>        <th class=\"col_heading level0 col25\" >KW</th>        <th class=\"col_heading level0 col26\" >KZ</th>        <th class=\"col_heading level0 col27\" >LB</th>        <th class=\"col_heading level0 col28\" >LY</th>        <th class=\"col_heading level0 col29\" >MD</th>        <th class=\"col_heading level0 col30\" >MG</th>        <th class=\"col_heading level0 col31\" >MK</th>        <th class=\"col_heading level0 col32\" >MU</th>        <th class=\"col_heading level0 col33\" >MY</th>        <th class=\"col_heading level0 col34\" >OM</th>        <th class=\"col_heading level0 col35\" >PH</th>        <th class=\"col_heading level0 col36\" >PL</th>        <th class=\"col_heading level0 col37\" >QA</th>        <th class=\"col_heading level0 col38\" >RO</th>        <th class=\"col_heading level0 col39\" >RS</th>        <th class=\"col_heading level0 col40\" >RU</th>        <th class=\"col_heading level0 col41\" >SA</th>        <th class=\"col_heading level0 col42\" >SG</th>        <th class=\"col_heading level0 col43\" >SL</th>        <th class=\"col_heading level0 col44\" >SN</th>        <th class=\"col_heading level0 col45\" >SY</th>        <th class=\"col_heading level0 col46\" >TH</th>        <th class=\"col_heading level0 col47\" >TJ</th>        <th class=\"col_heading level0 col48\" >TM</th>        <th class=\"col_heading level0 col49\" >TR</th>        <th class=\"col_heading level0 col50\" >TT</th>        <th class=\"col_heading level0 col51\" >TW</th>        <th class=\"col_heading level0 col52\" >UA</th>        <th class=\"col_heading level0 col53\" >UG</th>        <th class=\"col_heading level0 col54\" >US</th>        <th class=\"col_heading level0 col55\" >UZ</th>        <th class=\"col_heading level0 col56\" >VN</th>        <th class=\"col_heading level0 col57\" >ZA</th>    </tr>    <tr>        <th class=\"index_name level0\" >yearOfRegistration</th>        <th class=\"blank\" ></th>        <th class=\"blank\" ></th>        <th class=\"blank\" ></th>        <th class=\"blank\" ></th>        <th class=\"blank\" ></th>        <th class=\"blank\" ></th>        <th class=\"blank\" ></th>        <th class=\"blank\" ></th>        <th class=\"blank\" ></th>        <th class=\"blank\" ></th>        <th class=\"blank\" ></th>        <th class=\"blank\" ></th>        <th class=\"blank\" ></th>        <th class=\"blank\" ></th>        <th class=\"blank\" ></th>        <th class=\"blank\" ></th>        <th class=\"blank\" ></th>        <th class=\"blank\" ></th>        <th class=\"blank\" ></th>        <th class=\"blank\" ></th>        <th class=\"blank\" ></th>        <th class=\"blank\" ></th>        <th class=\"blank\" ></th>        <th class=\"blank\" ></th>        <th class=\"blank\" ></th>        <th class=\"blank\" ></th>        <th class=\"blank\" ></th>        <th class=\"blank\" ></th>        <th class=\"blank\" ></th>        <th class=\"blank\" ></th>        <th class=\"blank\" ></th>        <th class=\"blank\" ></th>        <th class=\"blank\" ></th>        <th class=\"blank\" ></th>        <th class=\"blank\" ></th>        <th class=\"blank\" ></th>        <th class=\"blank\" ></th>        <th class=\"blank\" ></th>        <th class=\"blank\" ></th>        <th class=\"blank\" ></th>        <th class=\"blank\" ></th>        <th class=\"blank\" ></th>        <th class=\"blank\" ></th>        <th class=\"blank\" ></th>        <th class=\"blank\" ></th>        <th class=\"blank\" ></th>        <th class=\"blank\" ></th>        <th class=\"blank\" ></th>        <th class=\"blank\" ></th>        <th class=\"blank\" ></th>        <th class=\"blank\" ></th>        <th class=\"blank\" ></th>        <th class=\"blank\" ></th>        <th class=\"blank\" ></th>        <th class=\"blank\" ></th>        <th class=\"blank\" ></th>        <th class=\"blank\" ></th>        <th class=\"blank\" ></th>    </tr></thead><tbody>\n",
       "                <tr>\n",
       "                        <th id=\"T_06569e4d_3aee_11eb_84db_cc3d8232bb20level0_row0\" class=\"row_heading level0 row0\" >2002</th>\n",
       "                        <td id=\"T_06569e4d_3aee_11eb_84db_cc3d8232bb20row0_col0\" class=\"data row0 col0\" >0</td>\n",
       "                        <td id=\"T_06569e4d_3aee_11eb_84db_cc3d8232bb20row0_col1\" class=\"data row0 col1\" >0</td>\n",
       "                        <td id=\"T_06569e4d_3aee_11eb_84db_cc3d8232bb20row0_col2\" class=\"data row0 col2\" >0</td>\n",
       "                        <td id=\"T_06569e4d_3aee_11eb_84db_cc3d8232bb20row0_col3\" class=\"data row0 col3\" >0</td>\n",
       "                        <td id=\"T_06569e4d_3aee_11eb_84db_cc3d8232bb20row0_col4\" class=\"data row0 col4\" >0</td>\n",
       "                        <td id=\"T_06569e4d_3aee_11eb_84db_cc3d8232bb20row0_col5\" class=\"data row0 col5\" >41</td>\n",
       "                        <td id=\"T_06569e4d_3aee_11eb_84db_cc3d8232bb20row0_col6\" class=\"data row0 col6\" >0</td>\n",
       "                        <td id=\"T_06569e4d_3aee_11eb_84db_cc3d8232bb20row0_col7\" class=\"data row0 col7\" >0</td>\n",
       "                        <td id=\"T_06569e4d_3aee_11eb_84db_cc3d8232bb20row0_col8\" class=\"data row0 col8\" >0</td>\n",
       "                        <td id=\"T_06569e4d_3aee_11eb_84db_cc3d8232bb20row0_col9\" class=\"data row0 col9\" >0</td>\n",
       "                        <td id=\"T_06569e4d_3aee_11eb_84db_cc3d8232bb20row0_col10\" class=\"data row0 col10\" >0</td>\n",
       "                        <td id=\"T_06569e4d_3aee_11eb_84db_cc3d8232bb20row0_col11\" class=\"data row0 col11\" >0</td>\n",
       "                        <td id=\"T_06569e4d_3aee_11eb_84db_cc3d8232bb20row0_col12\" class=\"data row0 col12\" >0</td>\n",
       "                        <td id=\"T_06569e4d_3aee_11eb_84db_cc3d8232bb20row0_col13\" class=\"data row0 col13\" >0</td>\n",
       "                        <td id=\"T_06569e4d_3aee_11eb_84db_cc3d8232bb20row0_col14\" class=\"data row0 col14\" >0</td>\n",
       "                        <td id=\"T_06569e4d_3aee_11eb_84db_cc3d8232bb20row0_col15\" class=\"data row0 col15\" >0</td>\n",
       "                        <td id=\"T_06569e4d_3aee_11eb_84db_cc3d8232bb20row0_col16\" class=\"data row0 col16\" >0</td>\n",
       "                        <td id=\"T_06569e4d_3aee_11eb_84db_cc3d8232bb20row0_col17\" class=\"data row0 col17\" >0</td>\n",
       "                        <td id=\"T_06569e4d_3aee_11eb_84db_cc3d8232bb20row0_col18\" class=\"data row0 col18\" >0</td>\n",
       "                        <td id=\"T_06569e4d_3aee_11eb_84db_cc3d8232bb20row0_col19\" class=\"data row0 col19\" >0</td>\n",
       "                        <td id=\"T_06569e4d_3aee_11eb_84db_cc3d8232bb20row0_col20\" class=\"data row0 col20\" >0</td>\n",
       "                        <td id=\"T_06569e4d_3aee_11eb_84db_cc3d8232bb20row0_col21\" class=\"data row0 col21\" >0</td>\n",
       "                        <td id=\"T_06569e4d_3aee_11eb_84db_cc3d8232bb20row0_col22\" class=\"data row0 col22\" >0</td>\n",
       "                        <td id=\"T_06569e4d_3aee_11eb_84db_cc3d8232bb20row0_col23\" class=\"data row0 col23\" >0</td>\n",
       "                        <td id=\"T_06569e4d_3aee_11eb_84db_cc3d8232bb20row0_col24\" class=\"data row0 col24\" >0</td>\n",
       "                        <td id=\"T_06569e4d_3aee_11eb_84db_cc3d8232bb20row0_col25\" class=\"data row0 col25\" >0</td>\n",
       "                        <td id=\"T_06569e4d_3aee_11eb_84db_cc3d8232bb20row0_col26\" class=\"data row0 col26\" >0</td>\n",
       "                        <td id=\"T_06569e4d_3aee_11eb_84db_cc3d8232bb20row0_col27\" class=\"data row0 col27\" >0</td>\n",
       "                        <td id=\"T_06569e4d_3aee_11eb_84db_cc3d8232bb20row0_col28\" class=\"data row0 col28\" >0</td>\n",
       "                        <td id=\"T_06569e4d_3aee_11eb_84db_cc3d8232bb20row0_col29\" class=\"data row0 col29\" >0</td>\n",
       "                        <td id=\"T_06569e4d_3aee_11eb_84db_cc3d8232bb20row0_col30\" class=\"data row0 col30\" >0</td>\n",
       "                        <td id=\"T_06569e4d_3aee_11eb_84db_cc3d8232bb20row0_col31\" class=\"data row0 col31\" >175</td>\n",
       "                        <td id=\"T_06569e4d_3aee_11eb_84db_cc3d8232bb20row0_col32\" class=\"data row0 col32\" >0</td>\n",
       "                        <td id=\"T_06569e4d_3aee_11eb_84db_cc3d8232bb20row0_col33\" class=\"data row0 col33\" >0</td>\n",
       "                        <td id=\"T_06569e4d_3aee_11eb_84db_cc3d8232bb20row0_col34\" class=\"data row0 col34\" >0</td>\n",
       "                        <td id=\"T_06569e4d_3aee_11eb_84db_cc3d8232bb20row0_col35\" class=\"data row0 col35\" >0</td>\n",
       "                        <td id=\"T_06569e4d_3aee_11eb_84db_cc3d8232bb20row0_col36\" class=\"data row0 col36\" >0</td>\n",
       "                        <td id=\"T_06569e4d_3aee_11eb_84db_cc3d8232bb20row0_col37\" class=\"data row0 col37\" >0</td>\n",
       "                        <td id=\"T_06569e4d_3aee_11eb_84db_cc3d8232bb20row0_col38\" class=\"data row0 col38\" >0</td>\n",
       "                        <td id=\"T_06569e4d_3aee_11eb_84db_cc3d8232bb20row0_col39\" class=\"data row0 col39\" >248</td>\n",
       "                        <td id=\"T_06569e4d_3aee_11eb_84db_cc3d8232bb20row0_col40\" class=\"data row0 col40\" >0</td>\n",
       "                        <td id=\"T_06569e4d_3aee_11eb_84db_cc3d8232bb20row0_col41\" class=\"data row0 col41\" >0</td>\n",
       "                        <td id=\"T_06569e4d_3aee_11eb_84db_cc3d8232bb20row0_col42\" class=\"data row0 col42\" >0</td>\n",
       "                        <td id=\"T_06569e4d_3aee_11eb_84db_cc3d8232bb20row0_col43\" class=\"data row0 col43\" >0</td>\n",
       "                        <td id=\"T_06569e4d_3aee_11eb_84db_cc3d8232bb20row0_col44\" class=\"data row0 col44\" >0</td>\n",
       "                        <td id=\"T_06569e4d_3aee_11eb_84db_cc3d8232bb20row0_col45\" class=\"data row0 col45\" >0</td>\n",
       "                        <td id=\"T_06569e4d_3aee_11eb_84db_cc3d8232bb20row0_col46\" class=\"data row0 col46\" >0</td>\n",
       "                        <td id=\"T_06569e4d_3aee_11eb_84db_cc3d8232bb20row0_col47\" class=\"data row0 col47\" >0</td>\n",
       "                        <td id=\"T_06569e4d_3aee_11eb_84db_cc3d8232bb20row0_col48\" class=\"data row0 col48\" >0</td>\n",
       "                        <td id=\"T_06569e4d_3aee_11eb_84db_cc3d8232bb20row0_col49\" class=\"data row0 col49\" >0</td>\n",
       "                        <td id=\"T_06569e4d_3aee_11eb_84db_cc3d8232bb20row0_col50\" class=\"data row0 col50\" >0</td>\n",
       "                        <td id=\"T_06569e4d_3aee_11eb_84db_cc3d8232bb20row0_col51\" class=\"data row0 col51\" >0</td>\n",
       "                        <td id=\"T_06569e4d_3aee_11eb_84db_cc3d8232bb20row0_col52\" class=\"data row0 col52\" >0</td>\n",
       "                        <td id=\"T_06569e4d_3aee_11eb_84db_cc3d8232bb20row0_col53\" class=\"data row0 col53\" >0</td>\n",
       "                        <td id=\"T_06569e4d_3aee_11eb_84db_cc3d8232bb20row0_col54\" class=\"data row0 col54\" >0</td>\n",
       "                        <td id=\"T_06569e4d_3aee_11eb_84db_cc3d8232bb20row0_col55\" class=\"data row0 col55\" >0</td>\n",
       "                        <td id=\"T_06569e4d_3aee_11eb_84db_cc3d8232bb20row0_col56\" class=\"data row0 col56\" >0</td>\n",
       "                        <td id=\"T_06569e4d_3aee_11eb_84db_cc3d8232bb20row0_col57\" class=\"data row0 col57\" >0</td>\n",
       "            </tr>\n",
       "            <tr>\n",
       "                        <th id=\"T_06569e4d_3aee_11eb_84db_cc3d8232bb20level0_row1\" class=\"row_heading level0 row1\" >2003</th>\n",
       "                        <td id=\"T_06569e4d_3aee_11eb_84db_cc3d8232bb20row1_col0\" class=\"data row1 col0\" >0</td>\n",
       "                        <td id=\"T_06569e4d_3aee_11eb_84db_cc3d8232bb20row1_col1\" class=\"data row1 col1\" >0</td>\n",
       "                        <td id=\"T_06569e4d_3aee_11eb_84db_cc3d8232bb20row1_col2\" class=\"data row1 col2\" >0</td>\n",
       "                        <td id=\"T_06569e4d_3aee_11eb_84db_cc3d8232bb20row1_col3\" class=\"data row1 col3\" >0</td>\n",
       "                        <td id=\"T_06569e4d_3aee_11eb_84db_cc3d8232bb20row1_col4\" class=\"data row1 col4\" >0</td>\n",
       "                        <td id=\"T_06569e4d_3aee_11eb_84db_cc3d8232bb20row1_col5\" class=\"data row1 col5\" >86</td>\n",
       "                        <td id=\"T_06569e4d_3aee_11eb_84db_cc3d8232bb20row1_col6\" class=\"data row1 col6\" >0</td>\n",
       "                        <td id=\"T_06569e4d_3aee_11eb_84db_cc3d8232bb20row1_col7\" class=\"data row1 col7\" >0</td>\n",
       "                        <td id=\"T_06569e4d_3aee_11eb_84db_cc3d8232bb20row1_col8\" class=\"data row1 col8\" >0</td>\n",
       "                        <td id=\"T_06569e4d_3aee_11eb_84db_cc3d8232bb20row1_col9\" class=\"data row1 col9\" >0</td>\n",
       "                        <td id=\"T_06569e4d_3aee_11eb_84db_cc3d8232bb20row1_col10\" class=\"data row1 col10\" >0</td>\n",
       "                        <td id=\"T_06569e4d_3aee_11eb_84db_cc3d8232bb20row1_col11\" class=\"data row1 col11\" >0</td>\n",
       "                        <td id=\"T_06569e4d_3aee_11eb_84db_cc3d8232bb20row1_col12\" class=\"data row1 col12\" >0</td>\n",
       "                        <td id=\"T_06569e4d_3aee_11eb_84db_cc3d8232bb20row1_col13\" class=\"data row1 col13\" >0</td>\n",
       "                        <td id=\"T_06569e4d_3aee_11eb_84db_cc3d8232bb20row1_col14\" class=\"data row1 col14\" >0</td>\n",
       "                        <td id=\"T_06569e4d_3aee_11eb_84db_cc3d8232bb20row1_col15\" class=\"data row1 col15\" >0</td>\n",
       "                        <td id=\"T_06569e4d_3aee_11eb_84db_cc3d8232bb20row1_col16\" class=\"data row1 col16\" >0</td>\n",
       "                        <td id=\"T_06569e4d_3aee_11eb_84db_cc3d8232bb20row1_col17\" class=\"data row1 col17\" >0</td>\n",
       "                        <td id=\"T_06569e4d_3aee_11eb_84db_cc3d8232bb20row1_col18\" class=\"data row1 col18\" >0</td>\n",
       "                        <td id=\"T_06569e4d_3aee_11eb_84db_cc3d8232bb20row1_col19\" class=\"data row1 col19\" >0</td>\n",
       "                        <td id=\"T_06569e4d_3aee_11eb_84db_cc3d8232bb20row1_col20\" class=\"data row1 col20\" >0</td>\n",
       "                        <td id=\"T_06569e4d_3aee_11eb_84db_cc3d8232bb20row1_col21\" class=\"data row1 col21\" >0</td>\n",
       "                        <td id=\"T_06569e4d_3aee_11eb_84db_cc3d8232bb20row1_col22\" class=\"data row1 col22\" >0</td>\n",
       "                        <td id=\"T_06569e4d_3aee_11eb_84db_cc3d8232bb20row1_col23\" class=\"data row1 col23\" >0</td>\n",
       "                        <td id=\"T_06569e4d_3aee_11eb_84db_cc3d8232bb20row1_col24\" class=\"data row1 col24\" >0</td>\n",
       "                        <td id=\"T_06569e4d_3aee_11eb_84db_cc3d8232bb20row1_col25\" class=\"data row1 col25\" >0</td>\n",
       "                        <td id=\"T_06569e4d_3aee_11eb_84db_cc3d8232bb20row1_col26\" class=\"data row1 col26\" >0</td>\n",
       "                        <td id=\"T_06569e4d_3aee_11eb_84db_cc3d8232bb20row1_col27\" class=\"data row1 col27\" >0</td>\n",
       "                        <td id=\"T_06569e4d_3aee_11eb_84db_cc3d8232bb20row1_col28\" class=\"data row1 col28\" >0</td>\n",
       "                        <td id=\"T_06569e4d_3aee_11eb_84db_cc3d8232bb20row1_col29\" class=\"data row1 col29\" >0</td>\n",
       "                        <td id=\"T_06569e4d_3aee_11eb_84db_cc3d8232bb20row1_col30\" class=\"data row1 col30\" >0</td>\n",
       "                        <td id=\"T_06569e4d_3aee_11eb_84db_cc3d8232bb20row1_col31\" class=\"data row1 col31\" >19</td>\n",
       "                        <td id=\"T_06569e4d_3aee_11eb_84db_cc3d8232bb20row1_col32\" class=\"data row1 col32\" >0</td>\n",
       "                        <td id=\"T_06569e4d_3aee_11eb_84db_cc3d8232bb20row1_col33\" class=\"data row1 col33\" >0</td>\n",
       "                        <td id=\"T_06569e4d_3aee_11eb_84db_cc3d8232bb20row1_col34\" class=\"data row1 col34\" >0</td>\n",
       "                        <td id=\"T_06569e4d_3aee_11eb_84db_cc3d8232bb20row1_col35\" class=\"data row1 col35\" >0</td>\n",
       "                        <td id=\"T_06569e4d_3aee_11eb_84db_cc3d8232bb20row1_col36\" class=\"data row1 col36\" >0</td>\n",
       "                        <td id=\"T_06569e4d_3aee_11eb_84db_cc3d8232bb20row1_col37\" class=\"data row1 col37\" >0</td>\n",
       "                        <td id=\"T_06569e4d_3aee_11eb_84db_cc3d8232bb20row1_col38\" class=\"data row1 col38\" >0</td>\n",
       "                        <td id=\"T_06569e4d_3aee_11eb_84db_cc3d8232bb20row1_col39\" class=\"data row1 col39\" >0</td>\n",
       "                        <td id=\"T_06569e4d_3aee_11eb_84db_cc3d8232bb20row1_col40\" class=\"data row1 col40\" >0</td>\n",
       "                        <td id=\"T_06569e4d_3aee_11eb_84db_cc3d8232bb20row1_col41\" class=\"data row1 col41\" >0</td>\n",
       "                        <td id=\"T_06569e4d_3aee_11eb_84db_cc3d8232bb20row1_col42\" class=\"data row1 col42\" >0</td>\n",
       "                        <td id=\"T_06569e4d_3aee_11eb_84db_cc3d8232bb20row1_col43\" class=\"data row1 col43\" >0</td>\n",
       "                        <td id=\"T_06569e4d_3aee_11eb_84db_cc3d8232bb20row1_col44\" class=\"data row1 col44\" >0</td>\n",
       "                        <td id=\"T_06569e4d_3aee_11eb_84db_cc3d8232bb20row1_col45\" class=\"data row1 col45\" >0</td>\n",
       "                        <td id=\"T_06569e4d_3aee_11eb_84db_cc3d8232bb20row1_col46\" class=\"data row1 col46\" >0</td>\n",
       "                        <td id=\"T_06569e4d_3aee_11eb_84db_cc3d8232bb20row1_col47\" class=\"data row1 col47\" >0</td>\n",
       "                        <td id=\"T_06569e4d_3aee_11eb_84db_cc3d8232bb20row1_col48\" class=\"data row1 col48\" >0</td>\n",
       "                        <td id=\"T_06569e4d_3aee_11eb_84db_cc3d8232bb20row1_col49\" class=\"data row1 col49\" >0</td>\n",
       "                        <td id=\"T_06569e4d_3aee_11eb_84db_cc3d8232bb20row1_col50\" class=\"data row1 col50\" >0</td>\n",
       "                        <td id=\"T_06569e4d_3aee_11eb_84db_cc3d8232bb20row1_col51\" class=\"data row1 col51\" >0</td>\n",
       "                        <td id=\"T_06569e4d_3aee_11eb_84db_cc3d8232bb20row1_col52\" class=\"data row1 col52\" >0</td>\n",
       "                        <td id=\"T_06569e4d_3aee_11eb_84db_cc3d8232bb20row1_col53\" class=\"data row1 col53\" >0</td>\n",
       "                        <td id=\"T_06569e4d_3aee_11eb_84db_cc3d8232bb20row1_col54\" class=\"data row1 col54\" >0</td>\n",
       "                        <td id=\"T_06569e4d_3aee_11eb_84db_cc3d8232bb20row1_col55\" class=\"data row1 col55\" >0</td>\n",
       "                        <td id=\"T_06569e4d_3aee_11eb_84db_cc3d8232bb20row1_col56\" class=\"data row1 col56\" >0</td>\n",
       "                        <td id=\"T_06569e4d_3aee_11eb_84db_cc3d8232bb20row1_col57\" class=\"data row1 col57\" >0</td>\n",
       "            </tr>\n",
       "            <tr>\n",
       "                        <th id=\"T_06569e4d_3aee_11eb_84db_cc3d8232bb20level0_row2\" class=\"row_heading level0 row2\" >2004</th>\n",
       "                        <td id=\"T_06569e4d_3aee_11eb_84db_cc3d8232bb20row2_col0\" class=\"data row2 col0\" >11</td>\n",
       "                        <td id=\"T_06569e4d_3aee_11eb_84db_cc3d8232bb20row2_col1\" class=\"data row2 col1\" >0</td>\n",
       "                        <td id=\"T_06569e4d_3aee_11eb_84db_cc3d8232bb20row2_col2\" class=\"data row2 col2\" >0</td>\n",
       "                        <td id=\"T_06569e4d_3aee_11eb_84db_cc3d8232bb20row2_col3\" class=\"data row2 col3\" >0</td>\n",
       "                        <td id=\"T_06569e4d_3aee_11eb_84db_cc3d8232bb20row2_col4\" class=\"data row2 col4\" >0</td>\n",
       "                        <td id=\"T_06569e4d_3aee_11eb_84db_cc3d8232bb20row2_col5\" class=\"data row2 col5\" >0</td>\n",
       "                        <td id=\"T_06569e4d_3aee_11eb_84db_cc3d8232bb20row2_col6\" class=\"data row2 col6\" >0</td>\n",
       "                        <td id=\"T_06569e4d_3aee_11eb_84db_cc3d8232bb20row2_col7\" class=\"data row2 col7\" >0</td>\n",
       "                        <td id=\"T_06569e4d_3aee_11eb_84db_cc3d8232bb20row2_col8\" class=\"data row2 col8\" >0</td>\n",
       "                        <td id=\"T_06569e4d_3aee_11eb_84db_cc3d8232bb20row2_col9\" class=\"data row2 col9\" >0</td>\n",
       "                        <td id=\"T_06569e4d_3aee_11eb_84db_cc3d8232bb20row2_col10\" class=\"data row2 col10\" >0</td>\n",
       "                        <td id=\"T_06569e4d_3aee_11eb_84db_cc3d8232bb20row2_col11\" class=\"data row2 col11\" >11</td>\n",
       "                        <td id=\"T_06569e4d_3aee_11eb_84db_cc3d8232bb20row2_col12\" class=\"data row2 col12\" >0</td>\n",
       "                        <td id=\"T_06569e4d_3aee_11eb_84db_cc3d8232bb20row2_col13\" class=\"data row2 col13\" >0</td>\n",
       "                        <td id=\"T_06569e4d_3aee_11eb_84db_cc3d8232bb20row2_col14\" class=\"data row2 col14\" >0</td>\n",
       "                        <td id=\"T_06569e4d_3aee_11eb_84db_cc3d8232bb20row2_col15\" class=\"data row2 col15\" >0</td>\n",
       "                        <td id=\"T_06569e4d_3aee_11eb_84db_cc3d8232bb20row2_col16\" class=\"data row2 col16\" >0</td>\n",
       "                        <td id=\"T_06569e4d_3aee_11eb_84db_cc3d8232bb20row2_col17\" class=\"data row2 col17\" >0</td>\n",
       "                        <td id=\"T_06569e4d_3aee_11eb_84db_cc3d8232bb20row2_col18\" class=\"data row2 col18\" >0</td>\n",
       "                        <td id=\"T_06569e4d_3aee_11eb_84db_cc3d8232bb20row2_col19\" class=\"data row2 col19\" >0</td>\n",
       "                        <td id=\"T_06569e4d_3aee_11eb_84db_cc3d8232bb20row2_col20\" class=\"data row2 col20\" >0</td>\n",
       "                        <td id=\"T_06569e4d_3aee_11eb_84db_cc3d8232bb20row2_col21\" class=\"data row2 col21\" >0</td>\n",
       "                        <td id=\"T_06569e4d_3aee_11eb_84db_cc3d8232bb20row2_col22\" class=\"data row2 col22\" >0</td>\n",
       "                        <td id=\"T_06569e4d_3aee_11eb_84db_cc3d8232bb20row2_col23\" class=\"data row2 col23\" >0</td>\n",
       "                        <td id=\"T_06569e4d_3aee_11eb_84db_cc3d8232bb20row2_col24\" class=\"data row2 col24\" >0</td>\n",
       "                        <td id=\"T_06569e4d_3aee_11eb_84db_cc3d8232bb20row2_col25\" class=\"data row2 col25\" >0</td>\n",
       "                        <td id=\"T_06569e4d_3aee_11eb_84db_cc3d8232bb20row2_col26\" class=\"data row2 col26\" >0</td>\n",
       "                        <td id=\"T_06569e4d_3aee_11eb_84db_cc3d8232bb20row2_col27\" class=\"data row2 col27\" >0</td>\n",
       "                        <td id=\"T_06569e4d_3aee_11eb_84db_cc3d8232bb20row2_col28\" class=\"data row2 col28\" >0</td>\n",
       "                        <td id=\"T_06569e4d_3aee_11eb_84db_cc3d8232bb20row2_col29\" class=\"data row2 col29\" >140</td>\n",
       "                        <td id=\"T_06569e4d_3aee_11eb_84db_cc3d8232bb20row2_col30\" class=\"data row2 col30\" >0</td>\n",
       "                        <td id=\"T_06569e4d_3aee_11eb_84db_cc3d8232bb20row2_col31\" class=\"data row2 col31\" >0</td>\n",
       "                        <td id=\"T_06569e4d_3aee_11eb_84db_cc3d8232bb20row2_col32\" class=\"data row2 col32\" >0</td>\n",
       "                        <td id=\"T_06569e4d_3aee_11eb_84db_cc3d8232bb20row2_col33\" class=\"data row2 col33\" >0</td>\n",
       "                        <td id=\"T_06569e4d_3aee_11eb_84db_cc3d8232bb20row2_col34\" class=\"data row2 col34\" >0</td>\n",
       "                        <td id=\"T_06569e4d_3aee_11eb_84db_cc3d8232bb20row2_col35\" class=\"data row2 col35\" >0</td>\n",
       "                        <td id=\"T_06569e4d_3aee_11eb_84db_cc3d8232bb20row2_col36\" class=\"data row2 col36\" >0</td>\n",
       "                        <td id=\"T_06569e4d_3aee_11eb_84db_cc3d8232bb20row2_col37\" class=\"data row2 col37\" >0</td>\n",
       "                        <td id=\"T_06569e4d_3aee_11eb_84db_cc3d8232bb20row2_col38\" class=\"data row2 col38\" >0</td>\n",
       "                        <td id=\"T_06569e4d_3aee_11eb_84db_cc3d8232bb20row2_col39\" class=\"data row2 col39\" >0</td>\n",
       "                        <td id=\"T_06569e4d_3aee_11eb_84db_cc3d8232bb20row2_col40\" class=\"data row2 col40\" >32</td>\n",
       "                        <td id=\"T_06569e4d_3aee_11eb_84db_cc3d8232bb20row2_col41\" class=\"data row2 col41\" >0</td>\n",
       "                        <td id=\"T_06569e4d_3aee_11eb_84db_cc3d8232bb20row2_col42\" class=\"data row2 col42\" >0</td>\n",
       "                        <td id=\"T_06569e4d_3aee_11eb_84db_cc3d8232bb20row2_col43\" class=\"data row2 col43\" >0</td>\n",
       "                        <td id=\"T_06569e4d_3aee_11eb_84db_cc3d8232bb20row2_col44\" class=\"data row2 col44\" >0</td>\n",
       "                        <td id=\"T_06569e4d_3aee_11eb_84db_cc3d8232bb20row2_col45\" class=\"data row2 col45\" >0</td>\n",
       "                        <td id=\"T_06569e4d_3aee_11eb_84db_cc3d8232bb20row2_col46\" class=\"data row2 col46\" >0</td>\n",
       "                        <td id=\"T_06569e4d_3aee_11eb_84db_cc3d8232bb20row2_col47\" class=\"data row2 col47\" >0</td>\n",
       "                        <td id=\"T_06569e4d_3aee_11eb_84db_cc3d8232bb20row2_col48\" class=\"data row2 col48\" >0</td>\n",
       "                        <td id=\"T_06569e4d_3aee_11eb_84db_cc3d8232bb20row2_col49\" class=\"data row2 col49\" >0</td>\n",
       "                        <td id=\"T_06569e4d_3aee_11eb_84db_cc3d8232bb20row2_col50\" class=\"data row2 col50\" >0</td>\n",
       "                        <td id=\"T_06569e4d_3aee_11eb_84db_cc3d8232bb20row2_col51\" class=\"data row2 col51\" >0</td>\n",
       "                        <td id=\"T_06569e4d_3aee_11eb_84db_cc3d8232bb20row2_col52\" class=\"data row2 col52\" >0</td>\n",
       "                        <td id=\"T_06569e4d_3aee_11eb_84db_cc3d8232bb20row2_col53\" class=\"data row2 col53\" >0</td>\n",
       "                        <td id=\"T_06569e4d_3aee_11eb_84db_cc3d8232bb20row2_col54\" class=\"data row2 col54\" >0</td>\n",
       "                        <td id=\"T_06569e4d_3aee_11eb_84db_cc3d8232bb20row2_col55\" class=\"data row2 col55\" >0</td>\n",
       "                        <td id=\"T_06569e4d_3aee_11eb_84db_cc3d8232bb20row2_col56\" class=\"data row2 col56\" >0</td>\n",
       "                        <td id=\"T_06569e4d_3aee_11eb_84db_cc3d8232bb20row2_col57\" class=\"data row2 col57\" >0</td>\n",
       "            </tr>\n",
       "            <tr>\n",
       "                        <th id=\"T_06569e4d_3aee_11eb_84db_cc3d8232bb20level0_row3\" class=\"row_heading level0 row3\" >2005</th>\n",
       "                        <td id=\"T_06569e4d_3aee_11eb_84db_cc3d8232bb20row3_col0\" class=\"data row3 col0\" >54</td>\n",
       "                        <td id=\"T_06569e4d_3aee_11eb_84db_cc3d8232bb20row3_col1\" class=\"data row3 col1\" >0</td>\n",
       "                        <td id=\"T_06569e4d_3aee_11eb_84db_cc3d8232bb20row3_col2\" class=\"data row3 col2\" >22</td>\n",
       "                        <td id=\"T_06569e4d_3aee_11eb_84db_cc3d8232bb20row3_col3\" class=\"data row3 col3\" >0</td>\n",
       "                        <td id=\"T_06569e4d_3aee_11eb_84db_cc3d8232bb20row3_col4\" class=\"data row3 col4\" >0</td>\n",
       "                        <td id=\"T_06569e4d_3aee_11eb_84db_cc3d8232bb20row3_col5\" class=\"data row3 col5\" >0</td>\n",
       "                        <td id=\"T_06569e4d_3aee_11eb_84db_cc3d8232bb20row3_col6\" class=\"data row3 col6\" >0</td>\n",
       "                        <td id=\"T_06569e4d_3aee_11eb_84db_cc3d8232bb20row3_col7\" class=\"data row3 col7\" >130</td>\n",
       "                        <td id=\"T_06569e4d_3aee_11eb_84db_cc3d8232bb20row3_col8\" class=\"data row3 col8\" >0</td>\n",
       "                        <td id=\"T_06569e4d_3aee_11eb_84db_cc3d8232bb20row3_col9\" class=\"data row3 col9\" >0</td>\n",
       "                        <td id=\"T_06569e4d_3aee_11eb_84db_cc3d8232bb20row3_col10\" class=\"data row3 col10\" >0</td>\n",
       "                        <td id=\"T_06569e4d_3aee_11eb_84db_cc3d8232bb20row3_col11\" class=\"data row3 col11\" >0</td>\n",
       "                        <td id=\"T_06569e4d_3aee_11eb_84db_cc3d8232bb20row3_col12\" class=\"data row3 col12\" >0</td>\n",
       "                        <td id=\"T_06569e4d_3aee_11eb_84db_cc3d8232bb20row3_col13\" class=\"data row3 col13\" >0</td>\n",
       "                        <td id=\"T_06569e4d_3aee_11eb_84db_cc3d8232bb20row3_col14\" class=\"data row3 col14\" >0</td>\n",
       "                        <td id=\"T_06569e4d_3aee_11eb_84db_cc3d8232bb20row3_col15\" class=\"data row3 col15\" >0</td>\n",
       "                        <td id=\"T_06569e4d_3aee_11eb_84db_cc3d8232bb20row3_col16\" class=\"data row3 col16\" >514</td>\n",
       "                        <td id=\"T_06569e4d_3aee_11eb_84db_cc3d8232bb20row3_col17\" class=\"data row3 col17\" >0</td>\n",
       "                        <td id=\"T_06569e4d_3aee_11eb_84db_cc3d8232bb20row3_col18\" class=\"data row3 col18\" >0</td>\n",
       "                        <td id=\"T_06569e4d_3aee_11eb_84db_cc3d8232bb20row3_col19\" class=\"data row3 col19\" >0</td>\n",
       "                        <td id=\"T_06569e4d_3aee_11eb_84db_cc3d8232bb20row3_col20\" class=\"data row3 col20\" >0</td>\n",
       "                        <td id=\"T_06569e4d_3aee_11eb_84db_cc3d8232bb20row3_col21\" class=\"data row3 col21\" >12</td>\n",
       "                        <td id=\"T_06569e4d_3aee_11eb_84db_cc3d8232bb20row3_col22\" class=\"data row3 col22\" >0</td>\n",
       "                        <td id=\"T_06569e4d_3aee_11eb_84db_cc3d8232bb20row3_col23\" class=\"data row3 col23\" >0</td>\n",
       "                        <td id=\"T_06569e4d_3aee_11eb_84db_cc3d8232bb20row3_col24\" class=\"data row3 col24\" >0</td>\n",
       "                        <td id=\"T_06569e4d_3aee_11eb_84db_cc3d8232bb20row3_col25\" class=\"data row3 col25\" >0</td>\n",
       "                        <td id=\"T_06569e4d_3aee_11eb_84db_cc3d8232bb20row3_col26\" class=\"data row3 col26\" >0</td>\n",
       "                        <td id=\"T_06569e4d_3aee_11eb_84db_cc3d8232bb20row3_col27\" class=\"data row3 col27\" >0</td>\n",
       "                        <td id=\"T_06569e4d_3aee_11eb_84db_cc3d8232bb20row3_col28\" class=\"data row3 col28\" >0</td>\n",
       "                        <td id=\"T_06569e4d_3aee_11eb_84db_cc3d8232bb20row3_col29\" class=\"data row3 col29\" >196</td>\n",
       "                        <td id=\"T_06569e4d_3aee_11eb_84db_cc3d8232bb20row3_col30\" class=\"data row3 col30\" >0</td>\n",
       "                        <td id=\"T_06569e4d_3aee_11eb_84db_cc3d8232bb20row3_col31\" class=\"data row3 col31\" >0</td>\n",
       "                        <td id=\"T_06569e4d_3aee_11eb_84db_cc3d8232bb20row3_col32\" class=\"data row3 col32\" >0</td>\n",
       "                        <td id=\"T_06569e4d_3aee_11eb_84db_cc3d8232bb20row3_col33\" class=\"data row3 col33\" >11</td>\n",
       "                        <td id=\"T_06569e4d_3aee_11eb_84db_cc3d8232bb20row3_col34\" class=\"data row3 col34\" >0</td>\n",
       "                        <td id=\"T_06569e4d_3aee_11eb_84db_cc3d8232bb20row3_col35\" class=\"data row3 col35\" >0</td>\n",
       "                        <td id=\"T_06569e4d_3aee_11eb_84db_cc3d8232bb20row3_col36\" class=\"data row3 col36\" >0</td>\n",
       "                        <td id=\"T_06569e4d_3aee_11eb_84db_cc3d8232bb20row3_col37\" class=\"data row3 col37\" >0</td>\n",
       "                        <td id=\"T_06569e4d_3aee_11eb_84db_cc3d8232bb20row3_col38\" class=\"data row3 col38\" >113</td>\n",
       "                        <td id=\"T_06569e4d_3aee_11eb_84db_cc3d8232bb20row3_col39\" class=\"data row3 col39\" >0</td>\n",
       "                        <td id=\"T_06569e4d_3aee_11eb_84db_cc3d8232bb20row3_col40\" class=\"data row3 col40\" >234</td>\n",
       "                        <td id=\"T_06569e4d_3aee_11eb_84db_cc3d8232bb20row3_col41\" class=\"data row3 col41\" >0</td>\n",
       "                        <td id=\"T_06569e4d_3aee_11eb_84db_cc3d8232bb20row3_col42\" class=\"data row3 col42\" >0</td>\n",
       "                        <td id=\"T_06569e4d_3aee_11eb_84db_cc3d8232bb20row3_col43\" class=\"data row3 col43\" >0</td>\n",
       "                        <td id=\"T_06569e4d_3aee_11eb_84db_cc3d8232bb20row3_col44\" class=\"data row3 col44\" >0</td>\n",
       "                        <td id=\"T_06569e4d_3aee_11eb_84db_cc3d8232bb20row3_col45\" class=\"data row3 col45\" >0</td>\n",
       "                        <td id=\"T_06569e4d_3aee_11eb_84db_cc3d8232bb20row3_col46\" class=\"data row3 col46\" >0</td>\n",
       "                        <td id=\"T_06569e4d_3aee_11eb_84db_cc3d8232bb20row3_col47\" class=\"data row3 col47\" >11</td>\n",
       "                        <td id=\"T_06569e4d_3aee_11eb_84db_cc3d8232bb20row3_col48\" class=\"data row3 col48\" >0</td>\n",
       "                        <td id=\"T_06569e4d_3aee_11eb_84db_cc3d8232bb20row3_col49\" class=\"data row3 col49\" >80</td>\n",
       "                        <td id=\"T_06569e4d_3aee_11eb_84db_cc3d8232bb20row3_col50\" class=\"data row3 col50\" >0</td>\n",
       "                        <td id=\"T_06569e4d_3aee_11eb_84db_cc3d8232bb20row3_col51\" class=\"data row3 col51\" >0</td>\n",
       "                        <td id=\"T_06569e4d_3aee_11eb_84db_cc3d8232bb20row3_col52\" class=\"data row3 col52\" >0</td>\n",
       "                        <td id=\"T_06569e4d_3aee_11eb_84db_cc3d8232bb20row3_col53\" class=\"data row3 col53\" >0</td>\n",
       "                        <td id=\"T_06569e4d_3aee_11eb_84db_cc3d8232bb20row3_col54\" class=\"data row3 col54\" >0</td>\n",
       "                        <td id=\"T_06569e4d_3aee_11eb_84db_cc3d8232bb20row3_col55\" class=\"data row3 col55\" >78</td>\n",
       "                        <td id=\"T_06569e4d_3aee_11eb_84db_cc3d8232bb20row3_col56\" class=\"data row3 col56\" >0</td>\n",
       "                        <td id=\"T_06569e4d_3aee_11eb_84db_cc3d8232bb20row3_col57\" class=\"data row3 col57\" >0</td>\n",
       "            </tr>\n",
       "            <tr>\n",
       "                        <th id=\"T_06569e4d_3aee_11eb_84db_cc3d8232bb20level0_row4\" class=\"row_heading level0 row4\" >2006</th>\n",
       "                        <td id=\"T_06569e4d_3aee_11eb_84db_cc3d8232bb20row4_col0\" class=\"data row4 col0\" >32</td>\n",
       "                        <td id=\"T_06569e4d_3aee_11eb_84db_cc3d8232bb20row4_col1\" class=\"data row4 col1\" >0</td>\n",
       "                        <td id=\"T_06569e4d_3aee_11eb_84db_cc3d8232bb20row4_col2\" class=\"data row4 col2\" >0</td>\n",
       "                        <td id=\"T_06569e4d_3aee_11eb_84db_cc3d8232bb20row4_col3\" class=\"data row4 col3\" >0</td>\n",
       "                        <td id=\"T_06569e4d_3aee_11eb_84db_cc3d8232bb20row4_col4\" class=\"data row4 col4\" >0</td>\n",
       "                        <td id=\"T_06569e4d_3aee_11eb_84db_cc3d8232bb20row4_col5\" class=\"data row4 col5\" >0</td>\n",
       "                        <td id=\"T_06569e4d_3aee_11eb_84db_cc3d8232bb20row4_col6\" class=\"data row4 col6\" >0</td>\n",
       "                        <td id=\"T_06569e4d_3aee_11eb_84db_cc3d8232bb20row4_col7\" class=\"data row4 col7\" >0</td>\n",
       "                        <td id=\"T_06569e4d_3aee_11eb_84db_cc3d8232bb20row4_col8\" class=\"data row4 col8\" >0</td>\n",
       "                        <td id=\"T_06569e4d_3aee_11eb_84db_cc3d8232bb20row4_col9\" class=\"data row4 col9\" >0</td>\n",
       "                        <td id=\"T_06569e4d_3aee_11eb_84db_cc3d8232bb20row4_col10\" class=\"data row4 col10\" >0</td>\n",
       "                        <td id=\"T_06569e4d_3aee_11eb_84db_cc3d8232bb20row4_col11\" class=\"data row4 col11\" >0</td>\n",
       "                        <td id=\"T_06569e4d_3aee_11eb_84db_cc3d8232bb20row4_col12\" class=\"data row4 col12\" >14</td>\n",
       "                        <td id=\"T_06569e4d_3aee_11eb_84db_cc3d8232bb20row4_col13\" class=\"data row4 col13\" >0</td>\n",
       "                        <td id=\"T_06569e4d_3aee_11eb_84db_cc3d8232bb20row4_col14\" class=\"data row4 col14\" >0</td>\n",
       "                        <td id=\"T_06569e4d_3aee_11eb_84db_cc3d8232bb20row4_col15\" class=\"data row4 col15\" >0</td>\n",
       "                        <td id=\"T_06569e4d_3aee_11eb_84db_cc3d8232bb20row4_col16\" class=\"data row4 col16\" >30</td>\n",
       "                        <td id=\"T_06569e4d_3aee_11eb_84db_cc3d8232bb20row4_col17\" class=\"data row4 col17\" >0</td>\n",
       "                        <td id=\"T_06569e4d_3aee_11eb_84db_cc3d8232bb20row4_col18\" class=\"data row4 col18\" >0</td>\n",
       "                        <td id=\"T_06569e4d_3aee_11eb_84db_cc3d8232bb20row4_col19\" class=\"data row4 col19\" >21</td>\n",
       "                        <td id=\"T_06569e4d_3aee_11eb_84db_cc3d8232bb20row4_col20\" class=\"data row4 col20\" >0</td>\n",
       "                        <td id=\"T_06569e4d_3aee_11eb_84db_cc3d8232bb20row4_col21\" class=\"data row4 col21\" >0</td>\n",
       "                        <td id=\"T_06569e4d_3aee_11eb_84db_cc3d8232bb20row4_col22\" class=\"data row4 col22\" >0</td>\n",
       "                        <td id=\"T_06569e4d_3aee_11eb_84db_cc3d8232bb20row4_col23\" class=\"data row4 col23\" >0</td>\n",
       "                        <td id=\"T_06569e4d_3aee_11eb_84db_cc3d8232bb20row4_col24\" class=\"data row4 col24\" >0</td>\n",
       "                        <td id=\"T_06569e4d_3aee_11eb_84db_cc3d8232bb20row4_col25\" class=\"data row4 col25\" >0</td>\n",
       "                        <td id=\"T_06569e4d_3aee_11eb_84db_cc3d8232bb20row4_col26\" class=\"data row4 col26\" >0</td>\n",
       "                        <td id=\"T_06569e4d_3aee_11eb_84db_cc3d8232bb20row4_col27\" class=\"data row4 col27\" >0</td>\n",
       "                        <td id=\"T_06569e4d_3aee_11eb_84db_cc3d8232bb20row4_col28\" class=\"data row4 col28\" >0</td>\n",
       "                        <td id=\"T_06569e4d_3aee_11eb_84db_cc3d8232bb20row4_col29\" class=\"data row4 col29\" >265</td>\n",
       "                        <td id=\"T_06569e4d_3aee_11eb_84db_cc3d8232bb20row4_col30\" class=\"data row4 col30\" >0</td>\n",
       "                        <td id=\"T_06569e4d_3aee_11eb_84db_cc3d8232bb20row4_col31\" class=\"data row4 col31\" >0</td>\n",
       "                        <td id=\"T_06569e4d_3aee_11eb_84db_cc3d8232bb20row4_col32\" class=\"data row4 col32\" >0</td>\n",
       "                        <td id=\"T_06569e4d_3aee_11eb_84db_cc3d8232bb20row4_col33\" class=\"data row4 col33\" >370</td>\n",
       "                        <td id=\"T_06569e4d_3aee_11eb_84db_cc3d8232bb20row4_col34\" class=\"data row4 col34\" >0</td>\n",
       "                        <td id=\"T_06569e4d_3aee_11eb_84db_cc3d8232bb20row4_col35\" class=\"data row4 col35\" >0</td>\n",
       "                        <td id=\"T_06569e4d_3aee_11eb_84db_cc3d8232bb20row4_col36\" class=\"data row4 col36\" >136</td>\n",
       "                        <td id=\"T_06569e4d_3aee_11eb_84db_cc3d8232bb20row4_col37\" class=\"data row4 col37\" >0</td>\n",
       "                        <td id=\"T_06569e4d_3aee_11eb_84db_cc3d8232bb20row4_col38\" class=\"data row4 col38\" >109</td>\n",
       "                        <td id=\"T_06569e4d_3aee_11eb_84db_cc3d8232bb20row4_col39\" class=\"data row4 col39\" >0</td>\n",
       "                        <td id=\"T_06569e4d_3aee_11eb_84db_cc3d8232bb20row4_col40\" class=\"data row4 col40\" >383</td>\n",
       "                        <td id=\"T_06569e4d_3aee_11eb_84db_cc3d8232bb20row4_col41\" class=\"data row4 col41\" >0</td>\n",
       "                        <td id=\"T_06569e4d_3aee_11eb_84db_cc3d8232bb20row4_col42\" class=\"data row4 col42\" >0</td>\n",
       "                        <td id=\"T_06569e4d_3aee_11eb_84db_cc3d8232bb20row4_col43\" class=\"data row4 col43\" >0</td>\n",
       "                        <td id=\"T_06569e4d_3aee_11eb_84db_cc3d8232bb20row4_col44\" class=\"data row4 col44\" >0</td>\n",
       "                        <td id=\"T_06569e4d_3aee_11eb_84db_cc3d8232bb20row4_col45\" class=\"data row4 col45\" >0</td>\n",
       "                        <td id=\"T_06569e4d_3aee_11eb_84db_cc3d8232bb20row4_col46\" class=\"data row4 col46\" >0</td>\n",
       "                        <td id=\"T_06569e4d_3aee_11eb_84db_cc3d8232bb20row4_col47\" class=\"data row4 col47\" >0</td>\n",
       "                        <td id=\"T_06569e4d_3aee_11eb_84db_cc3d8232bb20row4_col48\" class=\"data row4 col48\" >0</td>\n",
       "                        <td id=\"T_06569e4d_3aee_11eb_84db_cc3d8232bb20row4_col49\" class=\"data row4 col49\" >63</td>\n",
       "                        <td id=\"T_06569e4d_3aee_11eb_84db_cc3d8232bb20row4_col50\" class=\"data row4 col50\" >0</td>\n",
       "                        <td id=\"T_06569e4d_3aee_11eb_84db_cc3d8232bb20row4_col51\" class=\"data row4 col51\" >0</td>\n",
       "                        <td id=\"T_06569e4d_3aee_11eb_84db_cc3d8232bb20row4_col52\" class=\"data row4 col52\" >0</td>\n",
       "                        <td id=\"T_06569e4d_3aee_11eb_84db_cc3d8232bb20row4_col53\" class=\"data row4 col53\" >0</td>\n",
       "                        <td id=\"T_06569e4d_3aee_11eb_84db_cc3d8232bb20row4_col54\" class=\"data row4 col54\" >0</td>\n",
       "                        <td id=\"T_06569e4d_3aee_11eb_84db_cc3d8232bb20row4_col55\" class=\"data row4 col55\" >0</td>\n",
       "                        <td id=\"T_06569e4d_3aee_11eb_84db_cc3d8232bb20row4_col56\" class=\"data row4 col56\" >0</td>\n",
       "                        <td id=\"T_06569e4d_3aee_11eb_84db_cc3d8232bb20row4_col57\" class=\"data row4 col57\" >0</td>\n",
       "            </tr>\n",
       "            <tr>\n",
       "                        <th id=\"T_06569e4d_3aee_11eb_84db_cc3d8232bb20level0_row5\" class=\"row_heading level0 row5\" >2007</th>\n",
       "                        <td id=\"T_06569e4d_3aee_11eb_84db_cc3d8232bb20row5_col0\" class=\"data row5 col0\" >68</td>\n",
       "                        <td id=\"T_06569e4d_3aee_11eb_84db_cc3d8232bb20row5_col1\" class=\"data row5 col1\" >0</td>\n",
       "                        <td id=\"T_06569e4d_3aee_11eb_84db_cc3d8232bb20row5_col2\" class=\"data row5 col2\" >0</td>\n",
       "                        <td id=\"T_06569e4d_3aee_11eb_84db_cc3d8232bb20row5_col3\" class=\"data row5 col3\" >0</td>\n",
       "                        <td id=\"T_06569e4d_3aee_11eb_84db_cc3d8232bb20row5_col4\" class=\"data row5 col4\" >24</td>\n",
       "                        <td id=\"T_06569e4d_3aee_11eb_84db_cc3d8232bb20row5_col5\" class=\"data row5 col5\" >0</td>\n",
       "                        <td id=\"T_06569e4d_3aee_11eb_84db_cc3d8232bb20row5_col6\" class=\"data row5 col6\" >0</td>\n",
       "                        <td id=\"T_06569e4d_3aee_11eb_84db_cc3d8232bb20row5_col7\" class=\"data row5 col7\" >226</td>\n",
       "                        <td id=\"T_06569e4d_3aee_11eb_84db_cc3d8232bb20row5_col8\" class=\"data row5 col8\" >0</td>\n",
       "                        <td id=\"T_06569e4d_3aee_11eb_84db_cc3d8232bb20row5_col9\" class=\"data row5 col9\" >0</td>\n",
       "                        <td id=\"T_06569e4d_3aee_11eb_84db_cc3d8232bb20row5_col10\" class=\"data row5 col10\" >0</td>\n",
       "                        <td id=\"T_06569e4d_3aee_11eb_84db_cc3d8232bb20row5_col11\" class=\"data row5 col11\" >0</td>\n",
       "                        <td id=\"T_06569e4d_3aee_11eb_84db_cc3d8232bb20row5_col12\" class=\"data row5 col12\" >24</td>\n",
       "                        <td id=\"T_06569e4d_3aee_11eb_84db_cc3d8232bb20row5_col13\" class=\"data row5 col13\" >0</td>\n",
       "                        <td id=\"T_06569e4d_3aee_11eb_84db_cc3d8232bb20row5_col14\" class=\"data row5 col14\" >0</td>\n",
       "                        <td id=\"T_06569e4d_3aee_11eb_84db_cc3d8232bb20row5_col15\" class=\"data row5 col15\" >0</td>\n",
       "                        <td id=\"T_06569e4d_3aee_11eb_84db_cc3d8232bb20row5_col16\" class=\"data row5 col16\" >0</td>\n",
       "                        <td id=\"T_06569e4d_3aee_11eb_84db_cc3d8232bb20row5_col17\" class=\"data row5 col17\" >0</td>\n",
       "                        <td id=\"T_06569e4d_3aee_11eb_84db_cc3d8232bb20row5_col18\" class=\"data row5 col18\" >0</td>\n",
       "                        <td id=\"T_06569e4d_3aee_11eb_84db_cc3d8232bb20row5_col19\" class=\"data row5 col19\" >0</td>\n",
       "                        <td id=\"T_06569e4d_3aee_11eb_84db_cc3d8232bb20row5_col20\" class=\"data row5 col20\" >0</td>\n",
       "                        <td id=\"T_06569e4d_3aee_11eb_84db_cc3d8232bb20row5_col21\" class=\"data row5 col21\" >0</td>\n",
       "                        <td id=\"T_06569e4d_3aee_11eb_84db_cc3d8232bb20row5_col22\" class=\"data row5 col22\" >0</td>\n",
       "                        <td id=\"T_06569e4d_3aee_11eb_84db_cc3d8232bb20row5_col23\" class=\"data row5 col23\" >0</td>\n",
       "                        <td id=\"T_06569e4d_3aee_11eb_84db_cc3d8232bb20row5_col24\" class=\"data row5 col24\" >0</td>\n",
       "                        <td id=\"T_06569e4d_3aee_11eb_84db_cc3d8232bb20row5_col25\" class=\"data row5 col25\" >0</td>\n",
       "                        <td id=\"T_06569e4d_3aee_11eb_84db_cc3d8232bb20row5_col26\" class=\"data row5 col26\" >0</td>\n",
       "                        <td id=\"T_06569e4d_3aee_11eb_84db_cc3d8232bb20row5_col27\" class=\"data row5 col27\" >0</td>\n",
       "                        <td id=\"T_06569e4d_3aee_11eb_84db_cc3d8232bb20row5_col28\" class=\"data row5 col28\" >0</td>\n",
       "                        <td id=\"T_06569e4d_3aee_11eb_84db_cc3d8232bb20row5_col29\" class=\"data row5 col29\" >292</td>\n",
       "                        <td id=\"T_06569e4d_3aee_11eb_84db_cc3d8232bb20row5_col30\" class=\"data row5 col30\" >0</td>\n",
       "                        <td id=\"T_06569e4d_3aee_11eb_84db_cc3d8232bb20row5_col31\" class=\"data row5 col31\" >0</td>\n",
       "                        <td id=\"T_06569e4d_3aee_11eb_84db_cc3d8232bb20row5_col32\" class=\"data row5 col32\" >0</td>\n",
       "                        <td id=\"T_06569e4d_3aee_11eb_84db_cc3d8232bb20row5_col33\" class=\"data row5 col33\" >106</td>\n",
       "                        <td id=\"T_06569e4d_3aee_11eb_84db_cc3d8232bb20row5_col34\" class=\"data row5 col34\" >0</td>\n",
       "                        <td id=\"T_06569e4d_3aee_11eb_84db_cc3d8232bb20row5_col35\" class=\"data row5 col35\" >0</td>\n",
       "                        <td id=\"T_06569e4d_3aee_11eb_84db_cc3d8232bb20row5_col36\" class=\"data row5 col36\" >86</td>\n",
       "                        <td id=\"T_06569e4d_3aee_11eb_84db_cc3d8232bb20row5_col37\" class=\"data row5 col37\" >0</td>\n",
       "                        <td id=\"T_06569e4d_3aee_11eb_84db_cc3d8232bb20row5_col38\" class=\"data row5 col38\" >37</td>\n",
       "                        <td id=\"T_06569e4d_3aee_11eb_84db_cc3d8232bb20row5_col39\" class=\"data row5 col39\" >0</td>\n",
       "                        <td id=\"T_06569e4d_3aee_11eb_84db_cc3d8232bb20row5_col40\" class=\"data row5 col40\" >231</td>\n",
       "                        <td id=\"T_06569e4d_3aee_11eb_84db_cc3d8232bb20row5_col41\" class=\"data row5 col41\" >0</td>\n",
       "                        <td id=\"T_06569e4d_3aee_11eb_84db_cc3d8232bb20row5_col42\" class=\"data row5 col42\" >0</td>\n",
       "                        <td id=\"T_06569e4d_3aee_11eb_84db_cc3d8232bb20row5_col43\" class=\"data row5 col43\" >0</td>\n",
       "                        <td id=\"T_06569e4d_3aee_11eb_84db_cc3d8232bb20row5_col44\" class=\"data row5 col44\" >149</td>\n",
       "                        <td id=\"T_06569e4d_3aee_11eb_84db_cc3d8232bb20row5_col45\" class=\"data row5 col45\" >0</td>\n",
       "                        <td id=\"T_06569e4d_3aee_11eb_84db_cc3d8232bb20row5_col46\" class=\"data row5 col46\" >0</td>\n",
       "                        <td id=\"T_06569e4d_3aee_11eb_84db_cc3d8232bb20row5_col47\" class=\"data row5 col47\" >0</td>\n",
       "                        <td id=\"T_06569e4d_3aee_11eb_84db_cc3d8232bb20row5_col48\" class=\"data row5 col48\" >0</td>\n",
       "                        <td id=\"T_06569e4d_3aee_11eb_84db_cc3d8232bb20row5_col49\" class=\"data row5 col49\" >54</td>\n",
       "                        <td id=\"T_06569e4d_3aee_11eb_84db_cc3d8232bb20row5_col50\" class=\"data row5 col50\" >0</td>\n",
       "                        <td id=\"T_06569e4d_3aee_11eb_84db_cc3d8232bb20row5_col51\" class=\"data row5 col51\" >0</td>\n",
       "                        <td id=\"T_06569e4d_3aee_11eb_84db_cc3d8232bb20row5_col52\" class=\"data row5 col52\" >67</td>\n",
       "                        <td id=\"T_06569e4d_3aee_11eb_84db_cc3d8232bb20row5_col53\" class=\"data row5 col53\" >53</td>\n",
       "                        <td id=\"T_06569e4d_3aee_11eb_84db_cc3d8232bb20row5_col54\" class=\"data row5 col54\" >0</td>\n",
       "                        <td id=\"T_06569e4d_3aee_11eb_84db_cc3d8232bb20row5_col55\" class=\"data row5 col55\" >0</td>\n",
       "                        <td id=\"T_06569e4d_3aee_11eb_84db_cc3d8232bb20row5_col56\" class=\"data row5 col56\" >0</td>\n",
       "                        <td id=\"T_06569e4d_3aee_11eb_84db_cc3d8232bb20row5_col57\" class=\"data row5 col57\" >0</td>\n",
       "            </tr>\n",
       "            <tr>\n",
       "                        <th id=\"T_06569e4d_3aee_11eb_84db_cc3d8232bb20level0_row6\" class=\"row_heading level0 row6\" >2008</th>\n",
       "                        <td id=\"T_06569e4d_3aee_11eb_84db_cc3d8232bb20row6_col0\" class=\"data row6 col0\" >0</td>\n",
       "                        <td id=\"T_06569e4d_3aee_11eb_84db_cc3d8232bb20row6_col1\" class=\"data row6 col1\" >0</td>\n",
       "                        <td id=\"T_06569e4d_3aee_11eb_84db_cc3d8232bb20row6_col2\" class=\"data row6 col2\" >0</td>\n",
       "                        <td id=\"T_06569e4d_3aee_11eb_84db_cc3d8232bb20row6_col3\" class=\"data row6 col3\" >0</td>\n",
       "                        <td id=\"T_06569e4d_3aee_11eb_84db_cc3d8232bb20row6_col4\" class=\"data row6 col4\" >0</td>\n",
       "                        <td id=\"T_06569e4d_3aee_11eb_84db_cc3d8232bb20row6_col5\" class=\"data row6 col5\" >0</td>\n",
       "                        <td id=\"T_06569e4d_3aee_11eb_84db_cc3d8232bb20row6_col6\" class=\"data row6 col6\" >0</td>\n",
       "                        <td id=\"T_06569e4d_3aee_11eb_84db_cc3d8232bb20row6_col7\" class=\"data row6 col7\" >0</td>\n",
       "                        <td id=\"T_06569e4d_3aee_11eb_84db_cc3d8232bb20row6_col8\" class=\"data row6 col8\" >0</td>\n",
       "                        <td id=\"T_06569e4d_3aee_11eb_84db_cc3d8232bb20row6_col9\" class=\"data row6 col9\" >0</td>\n",
       "                        <td id=\"T_06569e4d_3aee_11eb_84db_cc3d8232bb20row6_col10\" class=\"data row6 col10\" >0</td>\n",
       "                        <td id=\"T_06569e4d_3aee_11eb_84db_cc3d8232bb20row6_col11\" class=\"data row6 col11\" >0</td>\n",
       "                        <td id=\"T_06569e4d_3aee_11eb_84db_cc3d8232bb20row6_col12\" class=\"data row6 col12\" >0</td>\n",
       "                        <td id=\"T_06569e4d_3aee_11eb_84db_cc3d8232bb20row6_col13\" class=\"data row6 col13\" >0</td>\n",
       "                        <td id=\"T_06569e4d_3aee_11eb_84db_cc3d8232bb20row6_col14\" class=\"data row6 col14\" >0</td>\n",
       "                        <td id=\"T_06569e4d_3aee_11eb_84db_cc3d8232bb20row6_col15\" class=\"data row6 col15\" >0</td>\n",
       "                        <td id=\"T_06569e4d_3aee_11eb_84db_cc3d8232bb20row6_col16\" class=\"data row6 col16\" >0</td>\n",
       "                        <td id=\"T_06569e4d_3aee_11eb_84db_cc3d8232bb20row6_col17\" class=\"data row6 col17\" >0</td>\n",
       "                        <td id=\"T_06569e4d_3aee_11eb_84db_cc3d8232bb20row6_col18\" class=\"data row6 col18\" >0</td>\n",
       "                        <td id=\"T_06569e4d_3aee_11eb_84db_cc3d8232bb20row6_col19\" class=\"data row6 col19\" >0</td>\n",
       "                        <td id=\"T_06569e4d_3aee_11eb_84db_cc3d8232bb20row6_col20\" class=\"data row6 col20\" >0</td>\n",
       "                        <td id=\"T_06569e4d_3aee_11eb_84db_cc3d8232bb20row6_col21\" class=\"data row6 col21\" >12</td>\n",
       "                        <td id=\"T_06569e4d_3aee_11eb_84db_cc3d8232bb20row6_col22\" class=\"data row6 col22\" >0</td>\n",
       "                        <td id=\"T_06569e4d_3aee_11eb_84db_cc3d8232bb20row6_col23\" class=\"data row6 col23\" >0</td>\n",
       "                        <td id=\"T_06569e4d_3aee_11eb_84db_cc3d8232bb20row6_col24\" class=\"data row6 col24\" >0</td>\n",
       "                        <td id=\"T_06569e4d_3aee_11eb_84db_cc3d8232bb20row6_col25\" class=\"data row6 col25\" >0</td>\n",
       "                        <td id=\"T_06569e4d_3aee_11eb_84db_cc3d8232bb20row6_col26\" class=\"data row6 col26\" >11</td>\n",
       "                        <td id=\"T_06569e4d_3aee_11eb_84db_cc3d8232bb20row6_col27\" class=\"data row6 col27\" >0</td>\n",
       "                        <td id=\"T_06569e4d_3aee_11eb_84db_cc3d8232bb20row6_col28\" class=\"data row6 col28\" >0</td>\n",
       "                        <td id=\"T_06569e4d_3aee_11eb_84db_cc3d8232bb20row6_col29\" class=\"data row6 col29\" >241</td>\n",
       "                        <td id=\"T_06569e4d_3aee_11eb_84db_cc3d8232bb20row6_col30\" class=\"data row6 col30\" >0</td>\n",
       "                        <td id=\"T_06569e4d_3aee_11eb_84db_cc3d8232bb20row6_col31\" class=\"data row6 col31\" >0</td>\n",
       "                        <td id=\"T_06569e4d_3aee_11eb_84db_cc3d8232bb20row6_col32\" class=\"data row6 col32\" >0</td>\n",
       "                        <td id=\"T_06569e4d_3aee_11eb_84db_cc3d8232bb20row6_col33\" class=\"data row6 col33\" >0</td>\n",
       "                        <td id=\"T_06569e4d_3aee_11eb_84db_cc3d8232bb20row6_col34\" class=\"data row6 col34\" >0</td>\n",
       "                        <td id=\"T_06569e4d_3aee_11eb_84db_cc3d8232bb20row6_col35\" class=\"data row6 col35\" >0</td>\n",
       "                        <td id=\"T_06569e4d_3aee_11eb_84db_cc3d8232bb20row6_col36\" class=\"data row6 col36\" >0</td>\n",
       "                        <td id=\"T_06569e4d_3aee_11eb_84db_cc3d8232bb20row6_col37\" class=\"data row6 col37\" >0</td>\n",
       "                        <td id=\"T_06569e4d_3aee_11eb_84db_cc3d8232bb20row6_col38\" class=\"data row6 col38\" >0</td>\n",
       "                        <td id=\"T_06569e4d_3aee_11eb_84db_cc3d8232bb20row6_col39\" class=\"data row6 col39\" >0</td>\n",
       "                        <td id=\"T_06569e4d_3aee_11eb_84db_cc3d8232bb20row6_col40\" class=\"data row6 col40\" >11</td>\n",
       "                        <td id=\"T_06569e4d_3aee_11eb_84db_cc3d8232bb20row6_col41\" class=\"data row6 col41\" >0</td>\n",
       "                        <td id=\"T_06569e4d_3aee_11eb_84db_cc3d8232bb20row6_col42\" class=\"data row6 col42\" >0</td>\n",
       "                        <td id=\"T_06569e4d_3aee_11eb_84db_cc3d8232bb20row6_col43\" class=\"data row6 col43\" >65</td>\n",
       "                        <td id=\"T_06569e4d_3aee_11eb_84db_cc3d8232bb20row6_col44\" class=\"data row6 col44\" >27</td>\n",
       "                        <td id=\"T_06569e4d_3aee_11eb_84db_cc3d8232bb20row6_col45\" class=\"data row6 col45\" >0</td>\n",
       "                        <td id=\"T_06569e4d_3aee_11eb_84db_cc3d8232bb20row6_col46\" class=\"data row6 col46\" >0</td>\n",
       "                        <td id=\"T_06569e4d_3aee_11eb_84db_cc3d8232bb20row6_col47\" class=\"data row6 col47\" >0</td>\n",
       "                        <td id=\"T_06569e4d_3aee_11eb_84db_cc3d8232bb20row6_col48\" class=\"data row6 col48\" >0</td>\n",
       "                        <td id=\"T_06569e4d_3aee_11eb_84db_cc3d8232bb20row6_col49\" class=\"data row6 col49\" >0</td>\n",
       "                        <td id=\"T_06569e4d_3aee_11eb_84db_cc3d8232bb20row6_col50\" class=\"data row6 col50\" >0</td>\n",
       "                        <td id=\"T_06569e4d_3aee_11eb_84db_cc3d8232bb20row6_col51\" class=\"data row6 col51\" >0</td>\n",
       "                        <td id=\"T_06569e4d_3aee_11eb_84db_cc3d8232bb20row6_col52\" class=\"data row6 col52\" >435</td>\n",
       "                        <td id=\"T_06569e4d_3aee_11eb_84db_cc3d8232bb20row6_col53\" class=\"data row6 col53\" >0</td>\n",
       "                        <td id=\"T_06569e4d_3aee_11eb_84db_cc3d8232bb20row6_col54\" class=\"data row6 col54\" >0</td>\n",
       "                        <td id=\"T_06569e4d_3aee_11eb_84db_cc3d8232bb20row6_col55\" class=\"data row6 col55\" >0</td>\n",
       "                        <td id=\"T_06569e4d_3aee_11eb_84db_cc3d8232bb20row6_col56\" class=\"data row6 col56\" >0</td>\n",
       "                        <td id=\"T_06569e4d_3aee_11eb_84db_cc3d8232bb20row6_col57\" class=\"data row6 col57\" >0</td>\n",
       "            </tr>\n",
       "            <tr>\n",
       "                        <th id=\"T_06569e4d_3aee_11eb_84db_cc3d8232bb20level0_row7\" class=\"row_heading level0 row7\" >2009</th>\n",
       "                        <td id=\"T_06569e4d_3aee_11eb_84db_cc3d8232bb20row7_col0\" class=\"data row7 col0\" >0</td>\n",
       "                        <td id=\"T_06569e4d_3aee_11eb_84db_cc3d8232bb20row7_col1\" class=\"data row7 col1\" >0</td>\n",
       "                        <td id=\"T_06569e4d_3aee_11eb_84db_cc3d8232bb20row7_col2\" class=\"data row7 col2\" >0</td>\n",
       "                        <td id=\"T_06569e4d_3aee_11eb_84db_cc3d8232bb20row7_col3\" class=\"data row7 col3\" >0</td>\n",
       "                        <td id=\"T_06569e4d_3aee_11eb_84db_cc3d8232bb20row7_col4\" class=\"data row7 col4\" >0</td>\n",
       "                        <td id=\"T_06569e4d_3aee_11eb_84db_cc3d8232bb20row7_col5\" class=\"data row7 col5\" >0</td>\n",
       "                        <td id=\"T_06569e4d_3aee_11eb_84db_cc3d8232bb20row7_col6\" class=\"data row7 col6\" >0</td>\n",
       "                        <td id=\"T_06569e4d_3aee_11eb_84db_cc3d8232bb20row7_col7\" class=\"data row7 col7\" >0</td>\n",
       "                        <td id=\"T_06569e4d_3aee_11eb_84db_cc3d8232bb20row7_col8\" class=\"data row7 col8\" >0</td>\n",
       "                        <td id=\"T_06569e4d_3aee_11eb_84db_cc3d8232bb20row7_col9\" class=\"data row7 col9\" >0</td>\n",
       "                        <td id=\"T_06569e4d_3aee_11eb_84db_cc3d8232bb20row7_col10\" class=\"data row7 col10\" >0</td>\n",
       "                        <td id=\"T_06569e4d_3aee_11eb_84db_cc3d8232bb20row7_col11\" class=\"data row7 col11\" >0</td>\n",
       "                        <td id=\"T_06569e4d_3aee_11eb_84db_cc3d8232bb20row7_col12\" class=\"data row7 col12\" >0</td>\n",
       "                        <td id=\"T_06569e4d_3aee_11eb_84db_cc3d8232bb20row7_col13\" class=\"data row7 col13\" >0</td>\n",
       "                        <td id=\"T_06569e4d_3aee_11eb_84db_cc3d8232bb20row7_col14\" class=\"data row7 col14\" >0</td>\n",
       "                        <td id=\"T_06569e4d_3aee_11eb_84db_cc3d8232bb20row7_col15\" class=\"data row7 col15\" >0</td>\n",
       "                        <td id=\"T_06569e4d_3aee_11eb_84db_cc3d8232bb20row7_col16\" class=\"data row7 col16\" >0</td>\n",
       "                        <td id=\"T_06569e4d_3aee_11eb_84db_cc3d8232bb20row7_col17\" class=\"data row7 col17\" >0</td>\n",
       "                        <td id=\"T_06569e4d_3aee_11eb_84db_cc3d8232bb20row7_col18\" class=\"data row7 col18\" >0</td>\n",
       "                        <td id=\"T_06569e4d_3aee_11eb_84db_cc3d8232bb20row7_col19\" class=\"data row7 col19\" >0</td>\n",
       "                        <td id=\"T_06569e4d_3aee_11eb_84db_cc3d8232bb20row7_col20\" class=\"data row7 col20\" >0</td>\n",
       "                        <td id=\"T_06569e4d_3aee_11eb_84db_cc3d8232bb20row7_col21\" class=\"data row7 col21\" >0</td>\n",
       "                        <td id=\"T_06569e4d_3aee_11eb_84db_cc3d8232bb20row7_col22\" class=\"data row7 col22\" >0</td>\n",
       "                        <td id=\"T_06569e4d_3aee_11eb_84db_cc3d8232bb20row7_col23\" class=\"data row7 col23\" >0</td>\n",
       "                        <td id=\"T_06569e4d_3aee_11eb_84db_cc3d8232bb20row7_col24\" class=\"data row7 col24\" >0</td>\n",
       "                        <td id=\"T_06569e4d_3aee_11eb_84db_cc3d8232bb20row7_col25\" class=\"data row7 col25\" >0</td>\n",
       "                        <td id=\"T_06569e4d_3aee_11eb_84db_cc3d8232bb20row7_col26\" class=\"data row7 col26\" >0</td>\n",
       "                        <td id=\"T_06569e4d_3aee_11eb_84db_cc3d8232bb20row7_col27\" class=\"data row7 col27\" >0</td>\n",
       "                        <td id=\"T_06569e4d_3aee_11eb_84db_cc3d8232bb20row7_col28\" class=\"data row7 col28\" >0</td>\n",
       "                        <td id=\"T_06569e4d_3aee_11eb_84db_cc3d8232bb20row7_col29\" class=\"data row7 col29\" >282</td>\n",
       "                        <td id=\"T_06569e4d_3aee_11eb_84db_cc3d8232bb20row7_col30\" class=\"data row7 col30\" >0</td>\n",
       "                        <td id=\"T_06569e4d_3aee_11eb_84db_cc3d8232bb20row7_col31\" class=\"data row7 col31\" >0</td>\n",
       "                        <td id=\"T_06569e4d_3aee_11eb_84db_cc3d8232bb20row7_col32\" class=\"data row7 col32\" >0</td>\n",
       "                        <td id=\"T_06569e4d_3aee_11eb_84db_cc3d8232bb20row7_col33\" class=\"data row7 col33\" >0</td>\n",
       "                        <td id=\"T_06569e4d_3aee_11eb_84db_cc3d8232bb20row7_col34\" class=\"data row7 col34\" >0</td>\n",
       "                        <td id=\"T_06569e4d_3aee_11eb_84db_cc3d8232bb20row7_col35\" class=\"data row7 col35\" >0</td>\n",
       "                        <td id=\"T_06569e4d_3aee_11eb_84db_cc3d8232bb20row7_col36\" class=\"data row7 col36\" >0</td>\n",
       "                        <td id=\"T_06569e4d_3aee_11eb_84db_cc3d8232bb20row7_col37\" class=\"data row7 col37\" >0</td>\n",
       "                        <td id=\"T_06569e4d_3aee_11eb_84db_cc3d8232bb20row7_col38\" class=\"data row7 col38\" >0</td>\n",
       "                        <td id=\"T_06569e4d_3aee_11eb_84db_cc3d8232bb20row7_col39\" class=\"data row7 col39\" >0</td>\n",
       "                        <td id=\"T_06569e4d_3aee_11eb_84db_cc3d8232bb20row7_col40\" class=\"data row7 col40\" >39</td>\n",
       "                        <td id=\"T_06569e4d_3aee_11eb_84db_cc3d8232bb20row7_col41\" class=\"data row7 col41\" >0</td>\n",
       "                        <td id=\"T_06569e4d_3aee_11eb_84db_cc3d8232bb20row7_col42\" class=\"data row7 col42\" >0</td>\n",
       "                        <td id=\"T_06569e4d_3aee_11eb_84db_cc3d8232bb20row7_col43\" class=\"data row7 col43\" >0</td>\n",
       "                        <td id=\"T_06569e4d_3aee_11eb_84db_cc3d8232bb20row7_col44\" class=\"data row7 col44\" >0</td>\n",
       "                        <td id=\"T_06569e4d_3aee_11eb_84db_cc3d8232bb20row7_col45\" class=\"data row7 col45\" >0</td>\n",
       "                        <td id=\"T_06569e4d_3aee_11eb_84db_cc3d8232bb20row7_col46\" class=\"data row7 col46\" >0</td>\n",
       "                        <td id=\"T_06569e4d_3aee_11eb_84db_cc3d8232bb20row7_col47\" class=\"data row7 col47\" >0</td>\n",
       "                        <td id=\"T_06569e4d_3aee_11eb_84db_cc3d8232bb20row7_col48\" class=\"data row7 col48\" >0</td>\n",
       "                        <td id=\"T_06569e4d_3aee_11eb_84db_cc3d8232bb20row7_col49\" class=\"data row7 col49\" >0</td>\n",
       "                        <td id=\"T_06569e4d_3aee_11eb_84db_cc3d8232bb20row7_col50\" class=\"data row7 col50\" >0</td>\n",
       "                        <td id=\"T_06569e4d_3aee_11eb_84db_cc3d8232bb20row7_col51\" class=\"data row7 col51\" >0</td>\n",
       "                        <td id=\"T_06569e4d_3aee_11eb_84db_cc3d8232bb20row7_col52\" class=\"data row7 col52\" >266</td>\n",
       "                        <td id=\"T_06569e4d_3aee_11eb_84db_cc3d8232bb20row7_col53\" class=\"data row7 col53\" >0</td>\n",
       "                        <td id=\"T_06569e4d_3aee_11eb_84db_cc3d8232bb20row7_col54\" class=\"data row7 col54\" >0</td>\n",
       "                        <td id=\"T_06569e4d_3aee_11eb_84db_cc3d8232bb20row7_col55\" class=\"data row7 col55\" >0</td>\n",
       "                        <td id=\"T_06569e4d_3aee_11eb_84db_cc3d8232bb20row7_col56\" class=\"data row7 col56\" >0</td>\n",
       "                        <td id=\"T_06569e4d_3aee_11eb_84db_cc3d8232bb20row7_col57\" class=\"data row7 col57\" >0</td>\n",
       "            </tr>\n",
       "            <tr>\n",
       "                        <th id=\"T_06569e4d_3aee_11eb_84db_cc3d8232bb20level0_row8\" class=\"row_heading level0 row8\" >2010</th>\n",
       "                        <td id=\"T_06569e4d_3aee_11eb_84db_cc3d8232bb20row8_col0\" class=\"data row8 col0\" >0</td>\n",
       "                        <td id=\"T_06569e4d_3aee_11eb_84db_cc3d8232bb20row8_col1\" class=\"data row8 col1\" >0</td>\n",
       "                        <td id=\"T_06569e4d_3aee_11eb_84db_cc3d8232bb20row8_col2\" class=\"data row8 col2\" >0</td>\n",
       "                        <td id=\"T_06569e4d_3aee_11eb_84db_cc3d8232bb20row8_col3\" class=\"data row8 col3\" >0</td>\n",
       "                        <td id=\"T_06569e4d_3aee_11eb_84db_cc3d8232bb20row8_col4\" class=\"data row8 col4\" >0</td>\n",
       "                        <td id=\"T_06569e4d_3aee_11eb_84db_cc3d8232bb20row8_col5\" class=\"data row8 col5\" >0</td>\n",
       "                        <td id=\"T_06569e4d_3aee_11eb_84db_cc3d8232bb20row8_col6\" class=\"data row8 col6\" >0</td>\n",
       "                        <td id=\"T_06569e4d_3aee_11eb_84db_cc3d8232bb20row8_col7\" class=\"data row8 col7\" >0</td>\n",
       "                        <td id=\"T_06569e4d_3aee_11eb_84db_cc3d8232bb20row8_col8\" class=\"data row8 col8\" >0</td>\n",
       "                        <td id=\"T_06569e4d_3aee_11eb_84db_cc3d8232bb20row8_col9\" class=\"data row8 col9\" >0</td>\n",
       "                        <td id=\"T_06569e4d_3aee_11eb_84db_cc3d8232bb20row8_col10\" class=\"data row8 col10\" >0</td>\n",
       "                        <td id=\"T_06569e4d_3aee_11eb_84db_cc3d8232bb20row8_col11\" class=\"data row8 col11\" >0</td>\n",
       "                        <td id=\"T_06569e4d_3aee_11eb_84db_cc3d8232bb20row8_col12\" class=\"data row8 col12\" >0</td>\n",
       "                        <td id=\"T_06569e4d_3aee_11eb_84db_cc3d8232bb20row8_col13\" class=\"data row8 col13\" >0</td>\n",
       "                        <td id=\"T_06569e4d_3aee_11eb_84db_cc3d8232bb20row8_col14\" class=\"data row8 col14\" >13</td>\n",
       "                        <td id=\"T_06569e4d_3aee_11eb_84db_cc3d8232bb20row8_col15\" class=\"data row8 col15\" >0</td>\n",
       "                        <td id=\"T_06569e4d_3aee_11eb_84db_cc3d8232bb20row8_col16\" class=\"data row8 col16\" >0</td>\n",
       "                        <td id=\"T_06569e4d_3aee_11eb_84db_cc3d8232bb20row8_col17\" class=\"data row8 col17\" >0</td>\n",
       "                        <td id=\"T_06569e4d_3aee_11eb_84db_cc3d8232bb20row8_col18\" class=\"data row8 col18\" >0</td>\n",
       "                        <td id=\"T_06569e4d_3aee_11eb_84db_cc3d8232bb20row8_col19\" class=\"data row8 col19\" >0</td>\n",
       "                        <td id=\"T_06569e4d_3aee_11eb_84db_cc3d8232bb20row8_col20\" class=\"data row8 col20\" >0</td>\n",
       "                        <td id=\"T_06569e4d_3aee_11eb_84db_cc3d8232bb20row8_col21\" class=\"data row8 col21\" >0</td>\n",
       "                        <td id=\"T_06569e4d_3aee_11eb_84db_cc3d8232bb20row8_col22\" class=\"data row8 col22\" >0</td>\n",
       "                        <td id=\"T_06569e4d_3aee_11eb_84db_cc3d8232bb20row8_col23\" class=\"data row8 col23\" >0</td>\n",
       "                        <td id=\"T_06569e4d_3aee_11eb_84db_cc3d8232bb20row8_col24\" class=\"data row8 col24\" >0</td>\n",
       "                        <td id=\"T_06569e4d_3aee_11eb_84db_cc3d8232bb20row8_col25\" class=\"data row8 col25\" >0</td>\n",
       "                        <td id=\"T_06569e4d_3aee_11eb_84db_cc3d8232bb20row8_col26\" class=\"data row8 col26\" >58</td>\n",
       "                        <td id=\"T_06569e4d_3aee_11eb_84db_cc3d8232bb20row8_col27\" class=\"data row8 col27\" >0</td>\n",
       "                        <td id=\"T_06569e4d_3aee_11eb_84db_cc3d8232bb20row8_col28\" class=\"data row8 col28\" >0</td>\n",
       "                        <td id=\"T_06569e4d_3aee_11eb_84db_cc3d8232bb20row8_col29\" class=\"data row8 col29\" >13</td>\n",
       "                        <td id=\"T_06569e4d_3aee_11eb_84db_cc3d8232bb20row8_col30\" class=\"data row8 col30\" >0</td>\n",
       "                        <td id=\"T_06569e4d_3aee_11eb_84db_cc3d8232bb20row8_col31\" class=\"data row8 col31\" >0</td>\n",
       "                        <td id=\"T_06569e4d_3aee_11eb_84db_cc3d8232bb20row8_col32\" class=\"data row8 col32\" >0</td>\n",
       "                        <td id=\"T_06569e4d_3aee_11eb_84db_cc3d8232bb20row8_col33\" class=\"data row8 col33\" >0</td>\n",
       "                        <td id=\"T_06569e4d_3aee_11eb_84db_cc3d8232bb20row8_col34\" class=\"data row8 col34\" >0</td>\n",
       "                        <td id=\"T_06569e4d_3aee_11eb_84db_cc3d8232bb20row8_col35\" class=\"data row8 col35\" >0</td>\n",
       "                        <td id=\"T_06569e4d_3aee_11eb_84db_cc3d8232bb20row8_col36\" class=\"data row8 col36\" >37</td>\n",
       "                        <td id=\"T_06569e4d_3aee_11eb_84db_cc3d8232bb20row8_col37\" class=\"data row8 col37\" >0</td>\n",
       "                        <td id=\"T_06569e4d_3aee_11eb_84db_cc3d8232bb20row8_col38\" class=\"data row8 col38\" >0</td>\n",
       "                        <td id=\"T_06569e4d_3aee_11eb_84db_cc3d8232bb20row8_col39\" class=\"data row8 col39\" >0</td>\n",
       "                        <td id=\"T_06569e4d_3aee_11eb_84db_cc3d8232bb20row8_col40\" class=\"data row8 col40\" >180</td>\n",
       "                        <td id=\"T_06569e4d_3aee_11eb_84db_cc3d8232bb20row8_col41\" class=\"data row8 col41\" >0</td>\n",
       "                        <td id=\"T_06569e4d_3aee_11eb_84db_cc3d8232bb20row8_col42\" class=\"data row8 col42\" >0</td>\n",
       "                        <td id=\"T_06569e4d_3aee_11eb_84db_cc3d8232bb20row8_col43\" class=\"data row8 col43\" >0</td>\n",
       "                        <td id=\"T_06569e4d_3aee_11eb_84db_cc3d8232bb20row8_col44\" class=\"data row8 col44\" >194</td>\n",
       "                        <td id=\"T_06569e4d_3aee_11eb_84db_cc3d8232bb20row8_col45\" class=\"data row8 col45\" >0</td>\n",
       "                        <td id=\"T_06569e4d_3aee_11eb_84db_cc3d8232bb20row8_col46\" class=\"data row8 col46\" >178</td>\n",
       "                        <td id=\"T_06569e4d_3aee_11eb_84db_cc3d8232bb20row8_col47\" class=\"data row8 col47\" >0</td>\n",
       "                        <td id=\"T_06569e4d_3aee_11eb_84db_cc3d8232bb20row8_col48\" class=\"data row8 col48\" >15</td>\n",
       "                        <td id=\"T_06569e4d_3aee_11eb_84db_cc3d8232bb20row8_col49\" class=\"data row8 col49\" >0</td>\n",
       "                        <td id=\"T_06569e4d_3aee_11eb_84db_cc3d8232bb20row8_col50\" class=\"data row8 col50\" >0</td>\n",
       "                        <td id=\"T_06569e4d_3aee_11eb_84db_cc3d8232bb20row8_col51\" class=\"data row8 col51\" >0</td>\n",
       "                        <td id=\"T_06569e4d_3aee_11eb_84db_cc3d8232bb20row8_col52\" class=\"data row8 col52\" >244</td>\n",
       "                        <td id=\"T_06569e4d_3aee_11eb_84db_cc3d8232bb20row8_col53\" class=\"data row8 col53\" >0</td>\n",
       "                        <td id=\"T_06569e4d_3aee_11eb_84db_cc3d8232bb20row8_col54\" class=\"data row8 col54\" >0</td>\n",
       "                        <td id=\"T_06569e4d_3aee_11eb_84db_cc3d8232bb20row8_col55\" class=\"data row8 col55\" >0</td>\n",
       "                        <td id=\"T_06569e4d_3aee_11eb_84db_cc3d8232bb20row8_col56\" class=\"data row8 col56\" >0</td>\n",
       "                        <td id=\"T_06569e4d_3aee_11eb_84db_cc3d8232bb20row8_col57\" class=\"data row8 col57\" >0</td>\n",
       "            </tr>\n",
       "            <tr>\n",
       "                        <th id=\"T_06569e4d_3aee_11eb_84db_cc3d8232bb20level0_row9\" class=\"row_heading level0 row9\" >2011</th>\n",
       "                        <td id=\"T_06569e4d_3aee_11eb_84db_cc3d8232bb20row9_col0\" class=\"data row9 col0\" >0</td>\n",
       "                        <td id=\"T_06569e4d_3aee_11eb_84db_cc3d8232bb20row9_col1\" class=\"data row9 col1\" >0</td>\n",
       "                        <td id=\"T_06569e4d_3aee_11eb_84db_cc3d8232bb20row9_col2\" class=\"data row9 col2\" >0</td>\n",
       "                        <td id=\"T_06569e4d_3aee_11eb_84db_cc3d8232bb20row9_col3\" class=\"data row9 col3\" >0</td>\n",
       "                        <td id=\"T_06569e4d_3aee_11eb_84db_cc3d8232bb20row9_col4\" class=\"data row9 col4\" >0</td>\n",
       "                        <td id=\"T_06569e4d_3aee_11eb_84db_cc3d8232bb20row9_col5\" class=\"data row9 col5\" >0</td>\n",
       "                        <td id=\"T_06569e4d_3aee_11eb_84db_cc3d8232bb20row9_col6\" class=\"data row9 col6\" >0</td>\n",
       "                        <td id=\"T_06569e4d_3aee_11eb_84db_cc3d8232bb20row9_col7\" class=\"data row9 col7\" >0</td>\n",
       "                        <td id=\"T_06569e4d_3aee_11eb_84db_cc3d8232bb20row9_col8\" class=\"data row9 col8\" >0</td>\n",
       "                        <td id=\"T_06569e4d_3aee_11eb_84db_cc3d8232bb20row9_col9\" class=\"data row9 col9\" >0</td>\n",
       "                        <td id=\"T_06569e4d_3aee_11eb_84db_cc3d8232bb20row9_col10\" class=\"data row9 col10\" >0</td>\n",
       "                        <td id=\"T_06569e4d_3aee_11eb_84db_cc3d8232bb20row9_col11\" class=\"data row9 col11\" >0</td>\n",
       "                        <td id=\"T_06569e4d_3aee_11eb_84db_cc3d8232bb20row9_col12\" class=\"data row9 col12\" >0</td>\n",
       "                        <td id=\"T_06569e4d_3aee_11eb_84db_cc3d8232bb20row9_col13\" class=\"data row9 col13\" >0</td>\n",
       "                        <td id=\"T_06569e4d_3aee_11eb_84db_cc3d8232bb20row9_col14\" class=\"data row9 col14\" >0</td>\n",
       "                        <td id=\"T_06569e4d_3aee_11eb_84db_cc3d8232bb20row9_col15\" class=\"data row9 col15\" >0</td>\n",
       "                        <td id=\"T_06569e4d_3aee_11eb_84db_cc3d8232bb20row9_col16\" class=\"data row9 col16\" >0</td>\n",
       "                        <td id=\"T_06569e4d_3aee_11eb_84db_cc3d8232bb20row9_col17\" class=\"data row9 col17\" >0</td>\n",
       "                        <td id=\"T_06569e4d_3aee_11eb_84db_cc3d8232bb20row9_col18\" class=\"data row9 col18\" >0</td>\n",
       "                        <td id=\"T_06569e4d_3aee_11eb_84db_cc3d8232bb20row9_col19\" class=\"data row9 col19\" >0</td>\n",
       "                        <td id=\"T_06569e4d_3aee_11eb_84db_cc3d8232bb20row9_col20\" class=\"data row9 col20\" >0</td>\n",
       "                        <td id=\"T_06569e4d_3aee_11eb_84db_cc3d8232bb20row9_col21\" class=\"data row9 col21\" >0</td>\n",
       "                        <td id=\"T_06569e4d_3aee_11eb_84db_cc3d8232bb20row9_col22\" class=\"data row9 col22\" >0</td>\n",
       "                        <td id=\"T_06569e4d_3aee_11eb_84db_cc3d8232bb20row9_col23\" class=\"data row9 col23\" >0</td>\n",
       "                        <td id=\"T_06569e4d_3aee_11eb_84db_cc3d8232bb20row9_col24\" class=\"data row9 col24\" >0</td>\n",
       "                        <td id=\"T_06569e4d_3aee_11eb_84db_cc3d8232bb20row9_col25\" class=\"data row9 col25\" >0</td>\n",
       "                        <td id=\"T_06569e4d_3aee_11eb_84db_cc3d8232bb20row9_col26\" class=\"data row9 col26\" >99</td>\n",
       "                        <td id=\"T_06569e4d_3aee_11eb_84db_cc3d8232bb20row9_col27\" class=\"data row9 col27\" >0</td>\n",
       "                        <td id=\"T_06569e4d_3aee_11eb_84db_cc3d8232bb20row9_col28\" class=\"data row9 col28\" >0</td>\n",
       "                        <td id=\"T_06569e4d_3aee_11eb_84db_cc3d8232bb20row9_col29\" class=\"data row9 col29\" >37</td>\n",
       "                        <td id=\"T_06569e4d_3aee_11eb_84db_cc3d8232bb20row9_col30\" class=\"data row9 col30\" >0</td>\n",
       "                        <td id=\"T_06569e4d_3aee_11eb_84db_cc3d8232bb20row9_col31\" class=\"data row9 col31\" >0</td>\n",
       "                        <td id=\"T_06569e4d_3aee_11eb_84db_cc3d8232bb20row9_col32\" class=\"data row9 col32\" >0</td>\n",
       "                        <td id=\"T_06569e4d_3aee_11eb_84db_cc3d8232bb20row9_col33\" class=\"data row9 col33\" >0</td>\n",
       "                        <td id=\"T_06569e4d_3aee_11eb_84db_cc3d8232bb20row9_col34\" class=\"data row9 col34\" >0</td>\n",
       "                        <td id=\"T_06569e4d_3aee_11eb_84db_cc3d8232bb20row9_col35\" class=\"data row9 col35\" >0</td>\n",
       "                        <td id=\"T_06569e4d_3aee_11eb_84db_cc3d8232bb20row9_col36\" class=\"data row9 col36\" >15</td>\n",
       "                        <td id=\"T_06569e4d_3aee_11eb_84db_cc3d8232bb20row9_col37\" class=\"data row9 col37\" >0</td>\n",
       "                        <td id=\"T_06569e4d_3aee_11eb_84db_cc3d8232bb20row9_col38\" class=\"data row9 col38\" >0</td>\n",
       "                        <td id=\"T_06569e4d_3aee_11eb_84db_cc3d8232bb20row9_col39\" class=\"data row9 col39\" >0</td>\n",
       "                        <td id=\"T_06569e4d_3aee_11eb_84db_cc3d8232bb20row9_col40\" class=\"data row9 col40\" >151</td>\n",
       "                        <td id=\"T_06569e4d_3aee_11eb_84db_cc3d8232bb20row9_col41\" class=\"data row9 col41\" >0</td>\n",
       "                        <td id=\"T_06569e4d_3aee_11eb_84db_cc3d8232bb20row9_col42\" class=\"data row9 col42\" >0</td>\n",
       "                        <td id=\"T_06569e4d_3aee_11eb_84db_cc3d8232bb20row9_col43\" class=\"data row9 col43\" >0</td>\n",
       "                        <td id=\"T_06569e4d_3aee_11eb_84db_cc3d8232bb20row9_col44\" class=\"data row9 col44\" >0</td>\n",
       "                        <td id=\"T_06569e4d_3aee_11eb_84db_cc3d8232bb20row9_col45\" class=\"data row9 col45\" >0</td>\n",
       "                        <td id=\"T_06569e4d_3aee_11eb_84db_cc3d8232bb20row9_col46\" class=\"data row9 col46\" >0</td>\n",
       "                        <td id=\"T_06569e4d_3aee_11eb_84db_cc3d8232bb20row9_col47\" class=\"data row9 col47\" >32</td>\n",
       "                        <td id=\"T_06569e4d_3aee_11eb_84db_cc3d8232bb20row9_col48\" class=\"data row9 col48\" >11</td>\n",
       "                        <td id=\"T_06569e4d_3aee_11eb_84db_cc3d8232bb20row9_col49\" class=\"data row9 col49\" >0</td>\n",
       "                        <td id=\"T_06569e4d_3aee_11eb_84db_cc3d8232bb20row9_col50\" class=\"data row9 col50\" >0</td>\n",
       "                        <td id=\"T_06569e4d_3aee_11eb_84db_cc3d8232bb20row9_col51\" class=\"data row9 col51\" >0</td>\n",
       "                        <td id=\"T_06569e4d_3aee_11eb_84db_cc3d8232bb20row9_col52\" class=\"data row9 col52\" >323</td>\n",
       "                        <td id=\"T_06569e4d_3aee_11eb_84db_cc3d8232bb20row9_col53\" class=\"data row9 col53\" >0</td>\n",
       "                        <td id=\"T_06569e4d_3aee_11eb_84db_cc3d8232bb20row9_col54\" class=\"data row9 col54\" >0</td>\n",
       "                        <td id=\"T_06569e4d_3aee_11eb_84db_cc3d8232bb20row9_col55\" class=\"data row9 col55\" >0</td>\n",
       "                        <td id=\"T_06569e4d_3aee_11eb_84db_cc3d8232bb20row9_col56\" class=\"data row9 col56\" >0</td>\n",
       "                        <td id=\"T_06569e4d_3aee_11eb_84db_cc3d8232bb20row9_col57\" class=\"data row9 col57\" >0</td>\n",
       "            </tr>\n",
       "            <tr>\n",
       "                        <th id=\"T_06569e4d_3aee_11eb_84db_cc3d8232bb20level0_row10\" class=\"row_heading level0 row10\" >2012</th>\n",
       "                        <td id=\"T_06569e4d_3aee_11eb_84db_cc3d8232bb20row10_col0\" class=\"data row10 col0\" >0</td>\n",
       "                        <td id=\"T_06569e4d_3aee_11eb_84db_cc3d8232bb20row10_col1\" class=\"data row10 col1\" >0</td>\n",
       "                        <td id=\"T_06569e4d_3aee_11eb_84db_cc3d8232bb20row10_col2\" class=\"data row10 col2\" >0</td>\n",
       "                        <td id=\"T_06569e4d_3aee_11eb_84db_cc3d8232bb20row10_col3\" class=\"data row10 col3\" >18</td>\n",
       "                        <td id=\"T_06569e4d_3aee_11eb_84db_cc3d8232bb20row10_col4\" class=\"data row10 col4\" >0</td>\n",
       "                        <td id=\"T_06569e4d_3aee_11eb_84db_cc3d8232bb20row10_col5\" class=\"data row10 col5\" >0</td>\n",
       "                        <td id=\"T_06569e4d_3aee_11eb_84db_cc3d8232bb20row10_col6\" class=\"data row10 col6\" >0</td>\n",
       "                        <td id=\"T_06569e4d_3aee_11eb_84db_cc3d8232bb20row10_col7\" class=\"data row10 col7\" >0</td>\n",
       "                        <td id=\"T_06569e4d_3aee_11eb_84db_cc3d8232bb20row10_col8\" class=\"data row10 col8\" >0</td>\n",
       "                        <td id=\"T_06569e4d_3aee_11eb_84db_cc3d8232bb20row10_col9\" class=\"data row10 col9\" >0</td>\n",
       "                        <td id=\"T_06569e4d_3aee_11eb_84db_cc3d8232bb20row10_col10\" class=\"data row10 col10\" >0</td>\n",
       "                        <td id=\"T_06569e4d_3aee_11eb_84db_cc3d8232bb20row10_col11\" class=\"data row10 col11\" >0</td>\n",
       "                        <td id=\"T_06569e4d_3aee_11eb_84db_cc3d8232bb20row10_col12\" class=\"data row10 col12\" >0</td>\n",
       "                        <td id=\"T_06569e4d_3aee_11eb_84db_cc3d8232bb20row10_col13\" class=\"data row10 col13\" >0</td>\n",
       "                        <td id=\"T_06569e4d_3aee_11eb_84db_cc3d8232bb20row10_col14\" class=\"data row10 col14\" >0</td>\n",
       "                        <td id=\"T_06569e4d_3aee_11eb_84db_cc3d8232bb20row10_col15\" class=\"data row10 col15\" >0</td>\n",
       "                        <td id=\"T_06569e4d_3aee_11eb_84db_cc3d8232bb20row10_col16\" class=\"data row10 col16\" >0</td>\n",
       "                        <td id=\"T_06569e4d_3aee_11eb_84db_cc3d8232bb20row10_col17\" class=\"data row10 col17\" >0</td>\n",
       "                        <td id=\"T_06569e4d_3aee_11eb_84db_cc3d8232bb20row10_col18\" class=\"data row10 col18\" >285</td>\n",
       "                        <td id=\"T_06569e4d_3aee_11eb_84db_cc3d8232bb20row10_col19\" class=\"data row10 col19\" >0</td>\n",
       "                        <td id=\"T_06569e4d_3aee_11eb_84db_cc3d8232bb20row10_col20\" class=\"data row10 col20\" >0</td>\n",
       "                        <td id=\"T_06569e4d_3aee_11eb_84db_cc3d8232bb20row10_col21\" class=\"data row10 col21\" >0</td>\n",
       "                        <td id=\"T_06569e4d_3aee_11eb_84db_cc3d8232bb20row10_col22\" class=\"data row10 col22\" >32</td>\n",
       "                        <td id=\"T_06569e4d_3aee_11eb_84db_cc3d8232bb20row10_col23\" class=\"data row10 col23\" >0</td>\n",
       "                        <td id=\"T_06569e4d_3aee_11eb_84db_cc3d8232bb20row10_col24\" class=\"data row10 col24\" >0</td>\n",
       "                        <td id=\"T_06569e4d_3aee_11eb_84db_cc3d8232bb20row10_col25\" class=\"data row10 col25\" >0</td>\n",
       "                        <td id=\"T_06569e4d_3aee_11eb_84db_cc3d8232bb20row10_col26\" class=\"data row10 col26\" >0</td>\n",
       "                        <td id=\"T_06569e4d_3aee_11eb_84db_cc3d8232bb20row10_col27\" class=\"data row10 col27\" >0</td>\n",
       "                        <td id=\"T_06569e4d_3aee_11eb_84db_cc3d8232bb20row10_col28\" class=\"data row10 col28\" >0</td>\n",
       "                        <td id=\"T_06569e4d_3aee_11eb_84db_cc3d8232bb20row10_col29\" class=\"data row10 col29\" >0</td>\n",
       "                        <td id=\"T_06569e4d_3aee_11eb_84db_cc3d8232bb20row10_col30\" class=\"data row10 col30\" >0</td>\n",
       "                        <td id=\"T_06569e4d_3aee_11eb_84db_cc3d8232bb20row10_col31\" class=\"data row10 col31\" >0</td>\n",
       "                        <td id=\"T_06569e4d_3aee_11eb_84db_cc3d8232bb20row10_col32\" class=\"data row10 col32\" >0</td>\n",
       "                        <td id=\"T_06569e4d_3aee_11eb_84db_cc3d8232bb20row10_col33\" class=\"data row10 col33\" >0</td>\n",
       "                        <td id=\"T_06569e4d_3aee_11eb_84db_cc3d8232bb20row10_col34\" class=\"data row10 col34\" >0</td>\n",
       "                        <td id=\"T_06569e4d_3aee_11eb_84db_cc3d8232bb20row10_col35\" class=\"data row10 col35\" >0</td>\n",
       "                        <td id=\"T_06569e4d_3aee_11eb_84db_cc3d8232bb20row10_col36\" class=\"data row10 col36\" >0</td>\n",
       "                        <td id=\"T_06569e4d_3aee_11eb_84db_cc3d8232bb20row10_col37\" class=\"data row10 col37\" >0</td>\n",
       "                        <td id=\"T_06569e4d_3aee_11eb_84db_cc3d8232bb20row10_col38\" class=\"data row10 col38\" >0</td>\n",
       "                        <td id=\"T_06569e4d_3aee_11eb_84db_cc3d8232bb20row10_col39\" class=\"data row10 col39\" >0</td>\n",
       "                        <td id=\"T_06569e4d_3aee_11eb_84db_cc3d8232bb20row10_col40\" class=\"data row10 col40\" >0</td>\n",
       "                        <td id=\"T_06569e4d_3aee_11eb_84db_cc3d8232bb20row10_col41\" class=\"data row10 col41\" >0</td>\n",
       "                        <td id=\"T_06569e4d_3aee_11eb_84db_cc3d8232bb20row10_col42\" class=\"data row10 col42\" >0</td>\n",
       "                        <td id=\"T_06569e4d_3aee_11eb_84db_cc3d8232bb20row10_col43\" class=\"data row10 col43\" >0</td>\n",
       "                        <td id=\"T_06569e4d_3aee_11eb_84db_cc3d8232bb20row10_col44\" class=\"data row10 col44\" >0</td>\n",
       "                        <td id=\"T_06569e4d_3aee_11eb_84db_cc3d8232bb20row10_col45\" class=\"data row10 col45\" >0</td>\n",
       "                        <td id=\"T_06569e4d_3aee_11eb_84db_cc3d8232bb20row10_col46\" class=\"data row10 col46\" >0</td>\n",
       "                        <td id=\"T_06569e4d_3aee_11eb_84db_cc3d8232bb20row10_col47\" class=\"data row10 col47\" >0</td>\n",
       "                        <td id=\"T_06569e4d_3aee_11eb_84db_cc3d8232bb20row10_col48\" class=\"data row10 col48\" >0</td>\n",
       "                        <td id=\"T_06569e4d_3aee_11eb_84db_cc3d8232bb20row10_col49\" class=\"data row10 col49\" >0</td>\n",
       "                        <td id=\"T_06569e4d_3aee_11eb_84db_cc3d8232bb20row10_col50\" class=\"data row10 col50\" >0</td>\n",
       "                        <td id=\"T_06569e4d_3aee_11eb_84db_cc3d8232bb20row10_col51\" class=\"data row10 col51\" >0</td>\n",
       "                        <td id=\"T_06569e4d_3aee_11eb_84db_cc3d8232bb20row10_col52\" class=\"data row10 col52\" >871</td>\n",
       "                        <td id=\"T_06569e4d_3aee_11eb_84db_cc3d8232bb20row10_col53\" class=\"data row10 col53\" >0</td>\n",
       "                        <td id=\"T_06569e4d_3aee_11eb_84db_cc3d8232bb20row10_col54\" class=\"data row10 col54\" >0</td>\n",
       "                        <td id=\"T_06569e4d_3aee_11eb_84db_cc3d8232bb20row10_col55\" class=\"data row10 col55\" >0</td>\n",
       "                        <td id=\"T_06569e4d_3aee_11eb_84db_cc3d8232bb20row10_col56\" class=\"data row10 col56\" >0</td>\n",
       "                        <td id=\"T_06569e4d_3aee_11eb_84db_cc3d8232bb20row10_col57\" class=\"data row10 col57\" >0</td>\n",
       "            </tr>\n",
       "            <tr>\n",
       "                        <th id=\"T_06569e4d_3aee_11eb_84db_cc3d8232bb20level0_row11\" class=\"row_heading level0 row11\" >2013</th>\n",
       "                        <td id=\"T_06569e4d_3aee_11eb_84db_cc3d8232bb20row11_col0\" class=\"data row11 col0\" >0</td>\n",
       "                        <td id=\"T_06569e4d_3aee_11eb_84db_cc3d8232bb20row11_col1\" class=\"data row11 col1\" >12</td>\n",
       "                        <td id=\"T_06569e4d_3aee_11eb_84db_cc3d8232bb20row11_col2\" class=\"data row11 col2\" >0</td>\n",
       "                        <td id=\"T_06569e4d_3aee_11eb_84db_cc3d8232bb20row11_col3\" class=\"data row11 col3\" >0</td>\n",
       "                        <td id=\"T_06569e4d_3aee_11eb_84db_cc3d8232bb20row11_col4\" class=\"data row11 col4\" >0</td>\n",
       "                        <td id=\"T_06569e4d_3aee_11eb_84db_cc3d8232bb20row11_col5\" class=\"data row11 col5\" >0</td>\n",
       "                        <td id=\"T_06569e4d_3aee_11eb_84db_cc3d8232bb20row11_col6\" class=\"data row11 col6\" >0</td>\n",
       "                        <td id=\"T_06569e4d_3aee_11eb_84db_cc3d8232bb20row11_col7\" class=\"data row11 col7\" >0</td>\n",
       "                        <td id=\"T_06569e4d_3aee_11eb_84db_cc3d8232bb20row11_col8\" class=\"data row11 col8\" >0</td>\n",
       "                        <td id=\"T_06569e4d_3aee_11eb_84db_cc3d8232bb20row11_col9\" class=\"data row11 col9\" >301</td>\n",
       "                        <td id=\"T_06569e4d_3aee_11eb_84db_cc3d8232bb20row11_col10\" class=\"data row11 col10\" >0</td>\n",
       "                        <td id=\"T_06569e4d_3aee_11eb_84db_cc3d8232bb20row11_col11\" class=\"data row11 col11\" >0</td>\n",
       "                        <td id=\"T_06569e4d_3aee_11eb_84db_cc3d8232bb20row11_col12\" class=\"data row11 col12\" >0</td>\n",
       "                        <td id=\"T_06569e4d_3aee_11eb_84db_cc3d8232bb20row11_col13\" class=\"data row11 col13\" >0</td>\n",
       "                        <td id=\"T_06569e4d_3aee_11eb_84db_cc3d8232bb20row11_col14\" class=\"data row11 col14\" >0</td>\n",
       "                        <td id=\"T_06569e4d_3aee_11eb_84db_cc3d8232bb20row11_col15\" class=\"data row11 col15\" >0</td>\n",
       "                        <td id=\"T_06569e4d_3aee_11eb_84db_cc3d8232bb20row11_col16\" class=\"data row11 col16\" >0</td>\n",
       "                        <td id=\"T_06569e4d_3aee_11eb_84db_cc3d8232bb20row11_col17\" class=\"data row11 col17\" >0</td>\n",
       "                        <td id=\"T_06569e4d_3aee_11eb_84db_cc3d8232bb20row11_col18\" class=\"data row11 col18\" >54</td>\n",
       "                        <td id=\"T_06569e4d_3aee_11eb_84db_cc3d8232bb20row11_col19\" class=\"data row11 col19\" >29</td>\n",
       "                        <td id=\"T_06569e4d_3aee_11eb_84db_cc3d8232bb20row11_col20\" class=\"data row11 col20\" >0</td>\n",
       "                        <td id=\"T_06569e4d_3aee_11eb_84db_cc3d8232bb20row11_col21\" class=\"data row11 col21\" >0</td>\n",
       "                        <td id=\"T_06569e4d_3aee_11eb_84db_cc3d8232bb20row11_col22\" class=\"data row11 col22\" >53</td>\n",
       "                        <td id=\"T_06569e4d_3aee_11eb_84db_cc3d8232bb20row11_col23\" class=\"data row11 col23\" >0</td>\n",
       "                        <td id=\"T_06569e4d_3aee_11eb_84db_cc3d8232bb20row11_col24\" class=\"data row11 col24\" >0</td>\n",
       "                        <td id=\"T_06569e4d_3aee_11eb_84db_cc3d8232bb20row11_col25\" class=\"data row11 col25\" >0</td>\n",
       "                        <td id=\"T_06569e4d_3aee_11eb_84db_cc3d8232bb20row11_col26\" class=\"data row11 col26\" >0</td>\n",
       "                        <td id=\"T_06569e4d_3aee_11eb_84db_cc3d8232bb20row11_col27\" class=\"data row11 col27\" >0</td>\n",
       "                        <td id=\"T_06569e4d_3aee_11eb_84db_cc3d8232bb20row11_col28\" class=\"data row11 col28\" >0</td>\n",
       "                        <td id=\"T_06569e4d_3aee_11eb_84db_cc3d8232bb20row11_col29\" class=\"data row11 col29\" >630</td>\n",
       "                        <td id=\"T_06569e4d_3aee_11eb_84db_cc3d8232bb20row11_col30\" class=\"data row11 col30\" >0</td>\n",
       "                        <td id=\"T_06569e4d_3aee_11eb_84db_cc3d8232bb20row11_col31\" class=\"data row11 col31\" >0</td>\n",
       "                        <td id=\"T_06569e4d_3aee_11eb_84db_cc3d8232bb20row11_col32\" class=\"data row11 col32\" >0</td>\n",
       "                        <td id=\"T_06569e4d_3aee_11eb_84db_cc3d8232bb20row11_col33\" class=\"data row11 col33\" >0</td>\n",
       "                        <td id=\"T_06569e4d_3aee_11eb_84db_cc3d8232bb20row11_col34\" class=\"data row11 col34\" >0</td>\n",
       "                        <td id=\"T_06569e4d_3aee_11eb_84db_cc3d8232bb20row11_col35\" class=\"data row11 col35\" >0</td>\n",
       "                        <td id=\"T_06569e4d_3aee_11eb_84db_cc3d8232bb20row11_col36\" class=\"data row11 col36\" >0</td>\n",
       "                        <td id=\"T_06569e4d_3aee_11eb_84db_cc3d8232bb20row11_col37\" class=\"data row11 col37\" >0</td>\n",
       "                        <td id=\"T_06569e4d_3aee_11eb_84db_cc3d8232bb20row11_col38\" class=\"data row11 col38\" >0</td>\n",
       "                        <td id=\"T_06569e4d_3aee_11eb_84db_cc3d8232bb20row11_col39\" class=\"data row11 col39\" >0</td>\n",
       "                        <td id=\"T_06569e4d_3aee_11eb_84db_cc3d8232bb20row11_col40\" class=\"data row11 col40\" >174</td>\n",
       "                        <td id=\"T_06569e4d_3aee_11eb_84db_cc3d8232bb20row11_col41\" class=\"data row11 col41\" >0</td>\n",
       "                        <td id=\"T_06569e4d_3aee_11eb_84db_cc3d8232bb20row11_col42\" class=\"data row11 col42\" >0</td>\n",
       "                        <td id=\"T_06569e4d_3aee_11eb_84db_cc3d8232bb20row11_col43\" class=\"data row11 col43\" >0</td>\n",
       "                        <td id=\"T_06569e4d_3aee_11eb_84db_cc3d8232bb20row11_col44\" class=\"data row11 col44\" >0</td>\n",
       "                        <td id=\"T_06569e4d_3aee_11eb_84db_cc3d8232bb20row11_col45\" class=\"data row11 col45\" >0</td>\n",
       "                        <td id=\"T_06569e4d_3aee_11eb_84db_cc3d8232bb20row11_col46\" class=\"data row11 col46\" >0</td>\n",
       "                        <td id=\"T_06569e4d_3aee_11eb_84db_cc3d8232bb20row11_col47\" class=\"data row11 col47\" >0</td>\n",
       "                        <td id=\"T_06569e4d_3aee_11eb_84db_cc3d8232bb20row11_col48\" class=\"data row11 col48\" >0</td>\n",
       "                        <td id=\"T_06569e4d_3aee_11eb_84db_cc3d8232bb20row11_col49\" class=\"data row11 col49\" >0</td>\n",
       "                        <td id=\"T_06569e4d_3aee_11eb_84db_cc3d8232bb20row11_col50\" class=\"data row11 col50\" >0</td>\n",
       "                        <td id=\"T_06569e4d_3aee_11eb_84db_cc3d8232bb20row11_col51\" class=\"data row11 col51\" >0</td>\n",
       "                        <td id=\"T_06569e4d_3aee_11eb_84db_cc3d8232bb20row11_col52\" class=\"data row11 col52\" >464</td>\n",
       "                        <td id=\"T_06569e4d_3aee_11eb_84db_cc3d8232bb20row11_col53\" class=\"data row11 col53\" >0</td>\n",
       "                        <td id=\"T_06569e4d_3aee_11eb_84db_cc3d8232bb20row11_col54\" class=\"data row11 col54\" >0</td>\n",
       "                        <td id=\"T_06569e4d_3aee_11eb_84db_cc3d8232bb20row11_col55\" class=\"data row11 col55\" >115</td>\n",
       "                        <td id=\"T_06569e4d_3aee_11eb_84db_cc3d8232bb20row11_col56\" class=\"data row11 col56\" >0</td>\n",
       "                        <td id=\"T_06569e4d_3aee_11eb_84db_cc3d8232bb20row11_col57\" class=\"data row11 col57\" >0</td>\n",
       "            </tr>\n",
       "            <tr>\n",
       "                        <th id=\"T_06569e4d_3aee_11eb_84db_cc3d8232bb20level0_row12\" class=\"row_heading level0 row12\" >2014</th>\n",
       "                        <td id=\"T_06569e4d_3aee_11eb_84db_cc3d8232bb20row12_col0\" class=\"data row12 col0\" >290</td>\n",
       "                        <td id=\"T_06569e4d_3aee_11eb_84db_cc3d8232bb20row12_col1\" class=\"data row12 col1\" >71</td>\n",
       "                        <td id=\"T_06569e4d_3aee_11eb_84db_cc3d8232bb20row12_col2\" class=\"data row12 col2\" >0</td>\n",
       "                        <td id=\"T_06569e4d_3aee_11eb_84db_cc3d8232bb20row12_col3\" class=\"data row12 col3\" >0</td>\n",
       "                        <td id=\"T_06569e4d_3aee_11eb_84db_cc3d8232bb20row12_col4\" class=\"data row12 col4\" >0</td>\n",
       "                        <td id=\"T_06569e4d_3aee_11eb_84db_cc3d8232bb20row12_col5\" class=\"data row12 col5\" >0</td>\n",
       "                        <td id=\"T_06569e4d_3aee_11eb_84db_cc3d8232bb20row12_col6\" class=\"data row12 col6\" >0</td>\n",
       "                        <td id=\"T_06569e4d_3aee_11eb_84db_cc3d8232bb20row12_col7\" class=\"data row12 col7\" >0</td>\n",
       "                        <td id=\"T_06569e4d_3aee_11eb_84db_cc3d8232bb20row12_col8\" class=\"data row12 col8\" >22</td>\n",
       "                        <td id=\"T_06569e4d_3aee_11eb_84db_cc3d8232bb20row12_col9\" class=\"data row12 col9\" >58</td>\n",
       "                        <td id=\"T_06569e4d_3aee_11eb_84db_cc3d8232bb20row12_col10\" class=\"data row12 col10\" >0</td>\n",
       "                        <td id=\"T_06569e4d_3aee_11eb_84db_cc3d8232bb20row12_col11\" class=\"data row12 col11\" >0</td>\n",
       "                        <td id=\"T_06569e4d_3aee_11eb_84db_cc3d8232bb20row12_col12\" class=\"data row12 col12\" >0</td>\n",
       "                        <td id=\"T_06569e4d_3aee_11eb_84db_cc3d8232bb20row12_col13\" class=\"data row12 col13\" >0</td>\n",
       "                        <td id=\"T_06569e4d_3aee_11eb_84db_cc3d8232bb20row12_col14\" class=\"data row12 col14\" >0</td>\n",
       "                        <td id=\"T_06569e4d_3aee_11eb_84db_cc3d8232bb20row12_col15\" class=\"data row12 col15\" >13</td>\n",
       "                        <td id=\"T_06569e4d_3aee_11eb_84db_cc3d8232bb20row12_col16\" class=\"data row12 col16\" >0</td>\n",
       "                        <td id=\"T_06569e4d_3aee_11eb_84db_cc3d8232bb20row12_col17\" class=\"data row12 col17\" >0</td>\n",
       "                        <td id=\"T_06569e4d_3aee_11eb_84db_cc3d8232bb20row12_col18\" class=\"data row12 col18\" >0</td>\n",
       "                        <td id=\"T_06569e4d_3aee_11eb_84db_cc3d8232bb20row12_col19\" class=\"data row12 col19\" >249</td>\n",
       "                        <td id=\"T_06569e4d_3aee_11eb_84db_cc3d8232bb20row12_col20\" class=\"data row12 col20\" >0</td>\n",
       "                        <td id=\"T_06569e4d_3aee_11eb_84db_cc3d8232bb20row12_col21\" class=\"data row12 col21\" >0</td>\n",
       "                        <td id=\"T_06569e4d_3aee_11eb_84db_cc3d8232bb20row12_col22\" class=\"data row12 col22\" >23</td>\n",
       "                        <td id=\"T_06569e4d_3aee_11eb_84db_cc3d8232bb20row12_col23\" class=\"data row12 col23\" >0</td>\n",
       "                        <td id=\"T_06569e4d_3aee_11eb_84db_cc3d8232bb20row12_col24\" class=\"data row12 col24\" >0</td>\n",
       "                        <td id=\"T_06569e4d_3aee_11eb_84db_cc3d8232bb20row12_col25\" class=\"data row12 col25\" >0</td>\n",
       "                        <td id=\"T_06569e4d_3aee_11eb_84db_cc3d8232bb20row12_col26\" class=\"data row12 col26\" >11</td>\n",
       "                        <td id=\"T_06569e4d_3aee_11eb_84db_cc3d8232bb20row12_col27\" class=\"data row12 col27\" >0</td>\n",
       "                        <td id=\"T_06569e4d_3aee_11eb_84db_cc3d8232bb20row12_col28\" class=\"data row12 col28\" >0</td>\n",
       "                        <td id=\"T_06569e4d_3aee_11eb_84db_cc3d8232bb20row12_col29\" class=\"data row12 col29\" >559</td>\n",
       "                        <td id=\"T_06569e4d_3aee_11eb_84db_cc3d8232bb20row12_col30\" class=\"data row12 col30\" >0</td>\n",
       "                        <td id=\"T_06569e4d_3aee_11eb_84db_cc3d8232bb20row12_col31\" class=\"data row12 col31\" >0</td>\n",
       "                        <td id=\"T_06569e4d_3aee_11eb_84db_cc3d8232bb20row12_col32\" class=\"data row12 col32\" >0</td>\n",
       "                        <td id=\"T_06569e4d_3aee_11eb_84db_cc3d8232bb20row12_col33\" class=\"data row12 col33\" >66</td>\n",
       "                        <td id=\"T_06569e4d_3aee_11eb_84db_cc3d8232bb20row12_col34\" class=\"data row12 col34\" >94</td>\n",
       "                        <td id=\"T_06569e4d_3aee_11eb_84db_cc3d8232bb20row12_col35\" class=\"data row12 col35\" >0</td>\n",
       "                        <td id=\"T_06569e4d_3aee_11eb_84db_cc3d8232bb20row12_col36\" class=\"data row12 col36\" >0</td>\n",
       "                        <td id=\"T_06569e4d_3aee_11eb_84db_cc3d8232bb20row12_col37\" class=\"data row12 col37\" >152</td>\n",
       "                        <td id=\"T_06569e4d_3aee_11eb_84db_cc3d8232bb20row12_col38\" class=\"data row12 col38\" >0</td>\n",
       "                        <td id=\"T_06569e4d_3aee_11eb_84db_cc3d8232bb20row12_col39\" class=\"data row12 col39\" >0</td>\n",
       "                        <td id=\"T_06569e4d_3aee_11eb_84db_cc3d8232bb20row12_col40\" class=\"data row12 col40\" >140</td>\n",
       "                        <td id=\"T_06569e4d_3aee_11eb_84db_cc3d8232bb20row12_col41\" class=\"data row12 col41\" >154</td>\n",
       "                        <td id=\"T_06569e4d_3aee_11eb_84db_cc3d8232bb20row12_col42\" class=\"data row12 col42\" >37</td>\n",
       "                        <td id=\"T_06569e4d_3aee_11eb_84db_cc3d8232bb20row12_col43\" class=\"data row12 col43\" >0</td>\n",
       "                        <td id=\"T_06569e4d_3aee_11eb_84db_cc3d8232bb20row12_col44\" class=\"data row12 col44\" >0</td>\n",
       "                        <td id=\"T_06569e4d_3aee_11eb_84db_cc3d8232bb20row12_col45\" class=\"data row12 col45\" >41</td>\n",
       "                        <td id=\"T_06569e4d_3aee_11eb_84db_cc3d8232bb20row12_col46\" class=\"data row12 col46\" >0</td>\n",
       "                        <td id=\"T_06569e4d_3aee_11eb_84db_cc3d8232bb20row12_col47\" class=\"data row12 col47\" >0</td>\n",
       "                        <td id=\"T_06569e4d_3aee_11eb_84db_cc3d8232bb20row12_col48\" class=\"data row12 col48\" >0</td>\n",
       "                        <td id=\"T_06569e4d_3aee_11eb_84db_cc3d8232bb20row12_col49\" class=\"data row12 col49\" >0</td>\n",
       "                        <td id=\"T_06569e4d_3aee_11eb_84db_cc3d8232bb20row12_col50\" class=\"data row12 col50\" >85</td>\n",
       "                        <td id=\"T_06569e4d_3aee_11eb_84db_cc3d8232bb20row12_col51\" class=\"data row12 col51\" >33</td>\n",
       "                        <td id=\"T_06569e4d_3aee_11eb_84db_cc3d8232bb20row12_col52\" class=\"data row12 col52\" >655</td>\n",
       "                        <td id=\"T_06569e4d_3aee_11eb_84db_cc3d8232bb20row12_col53\" class=\"data row12 col53\" >70</td>\n",
       "                        <td id=\"T_06569e4d_3aee_11eb_84db_cc3d8232bb20row12_col54\" class=\"data row12 col54\" >0</td>\n",
       "                        <td id=\"T_06569e4d_3aee_11eb_84db_cc3d8232bb20row12_col55\" class=\"data row12 col55\" >0</td>\n",
       "                        <td id=\"T_06569e4d_3aee_11eb_84db_cc3d8232bb20row12_col56\" class=\"data row12 col56\" >0</td>\n",
       "                        <td id=\"T_06569e4d_3aee_11eb_84db_cc3d8232bb20row12_col57\" class=\"data row12 col57\" >36</td>\n",
       "            </tr>\n",
       "            <tr>\n",
       "                        <th id=\"T_06569e4d_3aee_11eb_84db_cc3d8232bb20level0_row13\" class=\"row_heading level0 row13\" >2015</th>\n",
       "                        <td id=\"T_06569e4d_3aee_11eb_84db_cc3d8232bb20row13_col0\" class=\"data row13 col0\" >0</td>\n",
       "                        <td id=\"T_06569e4d_3aee_11eb_84db_cc3d8232bb20row13_col1\" class=\"data row13 col1\" >0</td>\n",
       "                        <td id=\"T_06569e4d_3aee_11eb_84db_cc3d8232bb20row13_col2\" class=\"data row13 col2\" >0</td>\n",
       "                        <td id=\"T_06569e4d_3aee_11eb_84db_cc3d8232bb20row13_col3\" class=\"data row13 col3\" >0</td>\n",
       "                        <td id=\"T_06569e4d_3aee_11eb_84db_cc3d8232bb20row13_col4\" class=\"data row13 col4\" >0</td>\n",
       "                        <td id=\"T_06569e4d_3aee_11eb_84db_cc3d8232bb20row13_col5\" class=\"data row13 col5\" >0</td>\n",
       "                        <td id=\"T_06569e4d_3aee_11eb_84db_cc3d8232bb20row13_col6\" class=\"data row13 col6\" >0</td>\n",
       "                        <td id=\"T_06569e4d_3aee_11eb_84db_cc3d8232bb20row13_col7\" class=\"data row13 col7\" >0</td>\n",
       "                        <td id=\"T_06569e4d_3aee_11eb_84db_cc3d8232bb20row13_col8\" class=\"data row13 col8\" >0</td>\n",
       "                        <td id=\"T_06569e4d_3aee_11eb_84db_cc3d8232bb20row13_col9\" class=\"data row13 col9\" >22</td>\n",
       "                        <td id=\"T_06569e4d_3aee_11eb_84db_cc3d8232bb20row13_col10\" class=\"data row13 col10\" >0</td>\n",
       "                        <td id=\"T_06569e4d_3aee_11eb_84db_cc3d8232bb20row13_col11\" class=\"data row13 col11\" >0</td>\n",
       "                        <td id=\"T_06569e4d_3aee_11eb_84db_cc3d8232bb20row13_col12\" class=\"data row13 col12\" >0</td>\n",
       "                        <td id=\"T_06569e4d_3aee_11eb_84db_cc3d8232bb20row13_col13\" class=\"data row13 col13\" >17</td>\n",
       "                        <td id=\"T_06569e4d_3aee_11eb_84db_cc3d8232bb20row13_col14\" class=\"data row13 col14\" >0</td>\n",
       "                        <td id=\"T_06569e4d_3aee_11eb_84db_cc3d8232bb20row13_col15\" class=\"data row13 col15\" >0</td>\n",
       "                        <td id=\"T_06569e4d_3aee_11eb_84db_cc3d8232bb20row13_col16\" class=\"data row13 col16\" >0</td>\n",
       "                        <td id=\"T_06569e4d_3aee_11eb_84db_cc3d8232bb20row13_col17\" class=\"data row13 col17\" >0</td>\n",
       "                        <td id=\"T_06569e4d_3aee_11eb_84db_cc3d8232bb20row13_col18\" class=\"data row13 col18\" >0</td>\n",
       "                        <td id=\"T_06569e4d_3aee_11eb_84db_cc3d8232bb20row13_col19\" class=\"data row13 col19\" >1238</td>\n",
       "                        <td id=\"T_06569e4d_3aee_11eb_84db_cc3d8232bb20row13_col20\" class=\"data row13 col20\" >0</td>\n",
       "                        <td id=\"T_06569e4d_3aee_11eb_84db_cc3d8232bb20row13_col21\" class=\"data row13 col21\" >0</td>\n",
       "                        <td id=\"T_06569e4d_3aee_11eb_84db_cc3d8232bb20row13_col22\" class=\"data row13 col22\" >0</td>\n",
       "                        <td id=\"T_06569e4d_3aee_11eb_84db_cc3d8232bb20row13_col23\" class=\"data row13 col23\" >0</td>\n",
       "                        <td id=\"T_06569e4d_3aee_11eb_84db_cc3d8232bb20row13_col24\" class=\"data row13 col24\" >0</td>\n",
       "                        <td id=\"T_06569e4d_3aee_11eb_84db_cc3d8232bb20row13_col25\" class=\"data row13 col25\" >0</td>\n",
       "                        <td id=\"T_06569e4d_3aee_11eb_84db_cc3d8232bb20row13_col26\" class=\"data row13 col26\" >28</td>\n",
       "                        <td id=\"T_06569e4d_3aee_11eb_84db_cc3d8232bb20row13_col27\" class=\"data row13 col27\" >55</td>\n",
       "                        <td id=\"T_06569e4d_3aee_11eb_84db_cc3d8232bb20row13_col28\" class=\"data row13 col28\" >0</td>\n",
       "                        <td id=\"T_06569e4d_3aee_11eb_84db_cc3d8232bb20row13_col29\" class=\"data row13 col29\" >737</td>\n",
       "                        <td id=\"T_06569e4d_3aee_11eb_84db_cc3d8232bb20row13_col30\" class=\"data row13 col30\" >0</td>\n",
       "                        <td id=\"T_06569e4d_3aee_11eb_84db_cc3d8232bb20row13_col31\" class=\"data row13 col31\" >0</td>\n",
       "                        <td id=\"T_06569e4d_3aee_11eb_84db_cc3d8232bb20row13_col32\" class=\"data row13 col32\" >0</td>\n",
       "                        <td id=\"T_06569e4d_3aee_11eb_84db_cc3d8232bb20row13_col33\" class=\"data row13 col33\" >0</td>\n",
       "                        <td id=\"T_06569e4d_3aee_11eb_84db_cc3d8232bb20row13_col34\" class=\"data row13 col34\" >0</td>\n",
       "                        <td id=\"T_06569e4d_3aee_11eb_84db_cc3d8232bb20row13_col35\" class=\"data row13 col35\" >0</td>\n",
       "                        <td id=\"T_06569e4d_3aee_11eb_84db_cc3d8232bb20row13_col36\" class=\"data row13 col36\" >12</td>\n",
       "                        <td id=\"T_06569e4d_3aee_11eb_84db_cc3d8232bb20row13_col37\" class=\"data row13 col37\" >0</td>\n",
       "                        <td id=\"T_06569e4d_3aee_11eb_84db_cc3d8232bb20row13_col38\" class=\"data row13 col38\" >0</td>\n",
       "                        <td id=\"T_06569e4d_3aee_11eb_84db_cc3d8232bb20row13_col39\" class=\"data row13 col39\" >0</td>\n",
       "                        <td id=\"T_06569e4d_3aee_11eb_84db_cc3d8232bb20row13_col40\" class=\"data row13 col40\" >576</td>\n",
       "                        <td id=\"T_06569e4d_3aee_11eb_84db_cc3d8232bb20row13_col41\" class=\"data row13 col41\" >14</td>\n",
       "                        <td id=\"T_06569e4d_3aee_11eb_84db_cc3d8232bb20row13_col42\" class=\"data row13 col42\" >0</td>\n",
       "                        <td id=\"T_06569e4d_3aee_11eb_84db_cc3d8232bb20row13_col43\" class=\"data row13 col43\" >0</td>\n",
       "                        <td id=\"T_06569e4d_3aee_11eb_84db_cc3d8232bb20row13_col44\" class=\"data row13 col44\" >0</td>\n",
       "                        <td id=\"T_06569e4d_3aee_11eb_84db_cc3d8232bb20row13_col45\" class=\"data row13 col45\" >0</td>\n",
       "                        <td id=\"T_06569e4d_3aee_11eb_84db_cc3d8232bb20row13_col46\" class=\"data row13 col46\" >0</td>\n",
       "                        <td id=\"T_06569e4d_3aee_11eb_84db_cc3d8232bb20row13_col47\" class=\"data row13 col47\" >11</td>\n",
       "                        <td id=\"T_06569e4d_3aee_11eb_84db_cc3d8232bb20row13_col48\" class=\"data row13 col48\" >0</td>\n",
       "                        <td id=\"T_06569e4d_3aee_11eb_84db_cc3d8232bb20row13_col49\" class=\"data row13 col49\" >0</td>\n",
       "                        <td id=\"T_06569e4d_3aee_11eb_84db_cc3d8232bb20row13_col50\" class=\"data row13 col50\" >0</td>\n",
       "                        <td id=\"T_06569e4d_3aee_11eb_84db_cc3d8232bb20row13_col51\" class=\"data row13 col51\" >0</td>\n",
       "                        <td id=\"T_06569e4d_3aee_11eb_84db_cc3d8232bb20row13_col52\" class=\"data row13 col52\" >107</td>\n",
       "                        <td id=\"T_06569e4d_3aee_11eb_84db_cc3d8232bb20row13_col53\" class=\"data row13 col53\" >0</td>\n",
       "                        <td id=\"T_06569e4d_3aee_11eb_84db_cc3d8232bb20row13_col54\" class=\"data row13 col54\" >632</td>\n",
       "                        <td id=\"T_06569e4d_3aee_11eb_84db_cc3d8232bb20row13_col55\" class=\"data row13 col55\" >0</td>\n",
       "                        <td id=\"T_06569e4d_3aee_11eb_84db_cc3d8232bb20row13_col56\" class=\"data row13 col56\" >0</td>\n",
       "                        <td id=\"T_06569e4d_3aee_11eb_84db_cc3d8232bb20row13_col57\" class=\"data row13 col57\" >0</td>\n",
       "            </tr>\n",
       "            <tr>\n",
       "                        <th id=\"T_06569e4d_3aee_11eb_84db_cc3d8232bb20level0_row14\" class=\"row_heading level0 row14\" >2016</th>\n",
       "                        <td id=\"T_06569e4d_3aee_11eb_84db_cc3d8232bb20row14_col0\" class=\"data row14 col0\" >13</td>\n",
       "                        <td id=\"T_06569e4d_3aee_11eb_84db_cc3d8232bb20row14_col1\" class=\"data row14 col1\" >0</td>\n",
       "                        <td id=\"T_06569e4d_3aee_11eb_84db_cc3d8232bb20row14_col2\" class=\"data row14 col2\" >0</td>\n",
       "                        <td id=\"T_06569e4d_3aee_11eb_84db_cc3d8232bb20row14_col3\" class=\"data row14 col3\" >0</td>\n",
       "                        <td id=\"T_06569e4d_3aee_11eb_84db_cc3d8232bb20row14_col4\" class=\"data row14 col4\" >0</td>\n",
       "                        <td id=\"T_06569e4d_3aee_11eb_84db_cc3d8232bb20row14_col5\" class=\"data row14 col5\" >0</td>\n",
       "                        <td id=\"T_06569e4d_3aee_11eb_84db_cc3d8232bb20row14_col6\" class=\"data row14 col6\" >0</td>\n",
       "                        <td id=\"T_06569e4d_3aee_11eb_84db_cc3d8232bb20row14_col7\" class=\"data row14 col7\" >0</td>\n",
       "                        <td id=\"T_06569e4d_3aee_11eb_84db_cc3d8232bb20row14_col8\" class=\"data row14 col8\" >0</td>\n",
       "                        <td id=\"T_06569e4d_3aee_11eb_84db_cc3d8232bb20row14_col9\" class=\"data row14 col9\" >0</td>\n",
       "                        <td id=\"T_06569e4d_3aee_11eb_84db_cc3d8232bb20row14_col10\" class=\"data row14 col10\" >0</td>\n",
       "                        <td id=\"T_06569e4d_3aee_11eb_84db_cc3d8232bb20row14_col11\" class=\"data row14 col11\" >0</td>\n",
       "                        <td id=\"T_06569e4d_3aee_11eb_84db_cc3d8232bb20row14_col12\" class=\"data row14 col12\" >0</td>\n",
       "                        <td id=\"T_06569e4d_3aee_11eb_84db_cc3d8232bb20row14_col13\" class=\"data row14 col13\" >0</td>\n",
       "                        <td id=\"T_06569e4d_3aee_11eb_84db_cc3d8232bb20row14_col14\" class=\"data row14 col14\" >0</td>\n",
       "                        <td id=\"T_06569e4d_3aee_11eb_84db_cc3d8232bb20row14_col15\" class=\"data row14 col15\" >0</td>\n",
       "                        <td id=\"T_06569e4d_3aee_11eb_84db_cc3d8232bb20row14_col16\" class=\"data row14 col16\" >0</td>\n",
       "                        <td id=\"T_06569e4d_3aee_11eb_84db_cc3d8232bb20row14_col17\" class=\"data row14 col17\" >0</td>\n",
       "                        <td id=\"T_06569e4d_3aee_11eb_84db_cc3d8232bb20row14_col18\" class=\"data row14 col18\" >0</td>\n",
       "                        <td id=\"T_06569e4d_3aee_11eb_84db_cc3d8232bb20row14_col19\" class=\"data row14 col19\" >240</td>\n",
       "                        <td id=\"T_06569e4d_3aee_11eb_84db_cc3d8232bb20row14_col20\" class=\"data row14 col20\" >0</td>\n",
       "                        <td id=\"T_06569e4d_3aee_11eb_84db_cc3d8232bb20row14_col21\" class=\"data row14 col21\" >0</td>\n",
       "                        <td id=\"T_06569e4d_3aee_11eb_84db_cc3d8232bb20row14_col22\" class=\"data row14 col22\" >0</td>\n",
       "                        <td id=\"T_06569e4d_3aee_11eb_84db_cc3d8232bb20row14_col23\" class=\"data row14 col23\" >111</td>\n",
       "                        <td id=\"T_06569e4d_3aee_11eb_84db_cc3d8232bb20row14_col24\" class=\"data row14 col24\" >0</td>\n",
       "                        <td id=\"T_06569e4d_3aee_11eb_84db_cc3d8232bb20row14_col25\" class=\"data row14 col25\" >209</td>\n",
       "                        <td id=\"T_06569e4d_3aee_11eb_84db_cc3d8232bb20row14_col26\" class=\"data row14 col26\" >0</td>\n",
       "                        <td id=\"T_06569e4d_3aee_11eb_84db_cc3d8232bb20row14_col27\" class=\"data row14 col27\" >18</td>\n",
       "                        <td id=\"T_06569e4d_3aee_11eb_84db_cc3d8232bb20row14_col28\" class=\"data row14 col28\" >0</td>\n",
       "                        <td id=\"T_06569e4d_3aee_11eb_84db_cc3d8232bb20row14_col29\" class=\"data row14 col29\" >574</td>\n",
       "                        <td id=\"T_06569e4d_3aee_11eb_84db_cc3d8232bb20row14_col30\" class=\"data row14 col30\" >0</td>\n",
       "                        <td id=\"T_06569e4d_3aee_11eb_84db_cc3d8232bb20row14_col31\" class=\"data row14 col31\" >0</td>\n",
       "                        <td id=\"T_06569e4d_3aee_11eb_84db_cc3d8232bb20row14_col32\" class=\"data row14 col32\" >20</td>\n",
       "                        <td id=\"T_06569e4d_3aee_11eb_84db_cc3d8232bb20row14_col33\" class=\"data row14 col33\" >172</td>\n",
       "                        <td id=\"T_06569e4d_3aee_11eb_84db_cc3d8232bb20row14_col34\" class=\"data row14 col34\" >0</td>\n",
       "                        <td id=\"T_06569e4d_3aee_11eb_84db_cc3d8232bb20row14_col35\" class=\"data row14 col35\" >1988</td>\n",
       "                        <td id=\"T_06569e4d_3aee_11eb_84db_cc3d8232bb20row14_col36\" class=\"data row14 col36\" >40</td>\n",
       "                        <td id=\"T_06569e4d_3aee_11eb_84db_cc3d8232bb20row14_col37\" class=\"data row14 col37\" >87</td>\n",
       "                        <td id=\"T_06569e4d_3aee_11eb_84db_cc3d8232bb20row14_col38\" class=\"data row14 col38\" >0</td>\n",
       "                        <td id=\"T_06569e4d_3aee_11eb_84db_cc3d8232bb20row14_col39\" class=\"data row14 col39\" >0</td>\n",
       "                        <td id=\"T_06569e4d_3aee_11eb_84db_cc3d8232bb20row14_col40\" class=\"data row14 col40\" >416</td>\n",
       "                        <td id=\"T_06569e4d_3aee_11eb_84db_cc3d8232bb20row14_col41\" class=\"data row14 col41\" >89</td>\n",
       "                        <td id=\"T_06569e4d_3aee_11eb_84db_cc3d8232bb20row14_col42\" class=\"data row14 col42\" >0</td>\n",
       "                        <td id=\"T_06569e4d_3aee_11eb_84db_cc3d8232bb20row14_col43\" class=\"data row14 col43\" >0</td>\n",
       "                        <td id=\"T_06569e4d_3aee_11eb_84db_cc3d8232bb20row14_col44\" class=\"data row14 col44\" >0</td>\n",
       "                        <td id=\"T_06569e4d_3aee_11eb_84db_cc3d8232bb20row14_col45\" class=\"data row14 col45\" >0</td>\n",
       "                        <td id=\"T_06569e4d_3aee_11eb_84db_cc3d8232bb20row14_col46\" class=\"data row14 col46\" >76</td>\n",
       "                        <td id=\"T_06569e4d_3aee_11eb_84db_cc3d8232bb20row14_col47\" class=\"data row14 col47\" >0</td>\n",
       "                        <td id=\"T_06569e4d_3aee_11eb_84db_cc3d8232bb20row14_col48\" class=\"data row14 col48\" >0</td>\n",
       "                        <td id=\"T_06569e4d_3aee_11eb_84db_cc3d8232bb20row14_col49\" class=\"data row14 col49\" >0</td>\n",
       "                        <td id=\"T_06569e4d_3aee_11eb_84db_cc3d8232bb20row14_col50\" class=\"data row14 col50\" >0</td>\n",
       "                        <td id=\"T_06569e4d_3aee_11eb_84db_cc3d8232bb20row14_col51\" class=\"data row14 col51\" >0</td>\n",
       "                        <td id=\"T_06569e4d_3aee_11eb_84db_cc3d8232bb20row14_col52\" class=\"data row14 col52\" >495</td>\n",
       "                        <td id=\"T_06569e4d_3aee_11eb_84db_cc3d8232bb20row14_col53\" class=\"data row14 col53\" >0</td>\n",
       "                        <td id=\"T_06569e4d_3aee_11eb_84db_cc3d8232bb20row14_col54\" class=\"data row14 col54\" >1251</td>\n",
       "                        <td id=\"T_06569e4d_3aee_11eb_84db_cc3d8232bb20row14_col55\" class=\"data row14 col55\" >0</td>\n",
       "                        <td id=\"T_06569e4d_3aee_11eb_84db_cc3d8232bb20row14_col56\" class=\"data row14 col56\" >0</td>\n",
       "                        <td id=\"T_06569e4d_3aee_11eb_84db_cc3d8232bb20row14_col57\" class=\"data row14 col57\" >0</td>\n",
       "            </tr>\n",
       "            <tr>\n",
       "                        <th id=\"T_06569e4d_3aee_11eb_84db_cc3d8232bb20level0_row15\" class=\"row_heading level0 row15\" >2017</th>\n",
       "                        <td id=\"T_06569e4d_3aee_11eb_84db_cc3d8232bb20row15_col0\" class=\"data row15 col0\" >36</td>\n",
       "                        <td id=\"T_06569e4d_3aee_11eb_84db_cc3d8232bb20row15_col1\" class=\"data row15 col1\" >0</td>\n",
       "                        <td id=\"T_06569e4d_3aee_11eb_84db_cc3d8232bb20row15_col2\" class=\"data row15 col2\" >0</td>\n",
       "                        <td id=\"T_06569e4d_3aee_11eb_84db_cc3d8232bb20row15_col3\" class=\"data row15 col3\" >0</td>\n",
       "                        <td id=\"T_06569e4d_3aee_11eb_84db_cc3d8232bb20row15_col4\" class=\"data row15 col4\" >0</td>\n",
       "                        <td id=\"T_06569e4d_3aee_11eb_84db_cc3d8232bb20row15_col5\" class=\"data row15 col5\" >0</td>\n",
       "                        <td id=\"T_06569e4d_3aee_11eb_84db_cc3d8232bb20row15_col6\" class=\"data row15 col6\" >0</td>\n",
       "                        <td id=\"T_06569e4d_3aee_11eb_84db_cc3d8232bb20row15_col7\" class=\"data row15 col7\" >0</td>\n",
       "                        <td id=\"T_06569e4d_3aee_11eb_84db_cc3d8232bb20row15_col8\" class=\"data row15 col8\" >0</td>\n",
       "                        <td id=\"T_06569e4d_3aee_11eb_84db_cc3d8232bb20row15_col9\" class=\"data row15 col9\" >0</td>\n",
       "                        <td id=\"T_06569e4d_3aee_11eb_84db_cc3d8232bb20row15_col10\" class=\"data row15 col10\" >65</td>\n",
       "                        <td id=\"T_06569e4d_3aee_11eb_84db_cc3d8232bb20row15_col11\" class=\"data row15 col11\" >0</td>\n",
       "                        <td id=\"T_06569e4d_3aee_11eb_84db_cc3d8232bb20row15_col12\" class=\"data row15 col12\" >0</td>\n",
       "                        <td id=\"T_06569e4d_3aee_11eb_84db_cc3d8232bb20row15_col13\" class=\"data row15 col13\" >0</td>\n",
       "                        <td id=\"T_06569e4d_3aee_11eb_84db_cc3d8232bb20row15_col14\" class=\"data row15 col14\" >0</td>\n",
       "                        <td id=\"T_06569e4d_3aee_11eb_84db_cc3d8232bb20row15_col15\" class=\"data row15 col15\" >0</td>\n",
       "                        <td id=\"T_06569e4d_3aee_11eb_84db_cc3d8232bb20row15_col16\" class=\"data row15 col16\" >0</td>\n",
       "                        <td id=\"T_06569e4d_3aee_11eb_84db_cc3d8232bb20row15_col17\" class=\"data row15 col17\" >31</td>\n",
       "                        <td id=\"T_06569e4d_3aee_11eb_84db_cc3d8232bb20row15_col18\" class=\"data row15 col18\" >0</td>\n",
       "                        <td id=\"T_06569e4d_3aee_11eb_84db_cc3d8232bb20row15_col19\" class=\"data row15 col19\" >0</td>\n",
       "                        <td id=\"T_06569e4d_3aee_11eb_84db_cc3d8232bb20row15_col20\" class=\"data row15 col20\" >0</td>\n",
       "                        <td id=\"T_06569e4d_3aee_11eb_84db_cc3d8232bb20row15_col21\" class=\"data row15 col21\" >0</td>\n",
       "                        <td id=\"T_06569e4d_3aee_11eb_84db_cc3d8232bb20row15_col22\" class=\"data row15 col22\" >0</td>\n",
       "                        <td id=\"T_06569e4d_3aee_11eb_84db_cc3d8232bb20row15_col23\" class=\"data row15 col23\" >0</td>\n",
       "                        <td id=\"T_06569e4d_3aee_11eb_84db_cc3d8232bb20row15_col24\" class=\"data row15 col24\" >15</td>\n",
       "                        <td id=\"T_06569e4d_3aee_11eb_84db_cc3d8232bb20row15_col25\" class=\"data row15 col25\" >0</td>\n",
       "                        <td id=\"T_06569e4d_3aee_11eb_84db_cc3d8232bb20row15_col26\" class=\"data row15 col26\" >15</td>\n",
       "                        <td id=\"T_06569e4d_3aee_11eb_84db_cc3d8232bb20row15_col27\" class=\"data row15 col27\" >0</td>\n",
       "                        <td id=\"T_06569e4d_3aee_11eb_84db_cc3d8232bb20row15_col28\" class=\"data row15 col28\" >11</td>\n",
       "                        <td id=\"T_06569e4d_3aee_11eb_84db_cc3d8232bb20row15_col29\" class=\"data row15 col29\" >471</td>\n",
       "                        <td id=\"T_06569e4d_3aee_11eb_84db_cc3d8232bb20row15_col30\" class=\"data row15 col30\" >0</td>\n",
       "                        <td id=\"T_06569e4d_3aee_11eb_84db_cc3d8232bb20row15_col31\" class=\"data row15 col31\" >0</td>\n",
       "                        <td id=\"T_06569e4d_3aee_11eb_84db_cc3d8232bb20row15_col32\" class=\"data row15 col32\" >0</td>\n",
       "                        <td id=\"T_06569e4d_3aee_11eb_84db_cc3d8232bb20row15_col33\" class=\"data row15 col33\" >205</td>\n",
       "                        <td id=\"T_06569e4d_3aee_11eb_84db_cc3d8232bb20row15_col34\" class=\"data row15 col34\" >0</td>\n",
       "                        <td id=\"T_06569e4d_3aee_11eb_84db_cc3d8232bb20row15_col35\" class=\"data row15 col35\" >0</td>\n",
       "                        <td id=\"T_06569e4d_3aee_11eb_84db_cc3d8232bb20row15_col36\" class=\"data row15 col36\" >0</td>\n",
       "                        <td id=\"T_06569e4d_3aee_11eb_84db_cc3d8232bb20row15_col37\" class=\"data row15 col37\" >0</td>\n",
       "                        <td id=\"T_06569e4d_3aee_11eb_84db_cc3d8232bb20row15_col38\" class=\"data row15 col38\" >0</td>\n",
       "                        <td id=\"T_06569e4d_3aee_11eb_84db_cc3d8232bb20row15_col39\" class=\"data row15 col39\" >0</td>\n",
       "                        <td id=\"T_06569e4d_3aee_11eb_84db_cc3d8232bb20row15_col40\" class=\"data row15 col40\" >171</td>\n",
       "                        <td id=\"T_06569e4d_3aee_11eb_84db_cc3d8232bb20row15_col41\" class=\"data row15 col41\" >21</td>\n",
       "                        <td id=\"T_06569e4d_3aee_11eb_84db_cc3d8232bb20row15_col42\" class=\"data row15 col42\" >0</td>\n",
       "                        <td id=\"T_06569e4d_3aee_11eb_84db_cc3d8232bb20row15_col43\" class=\"data row15 col43\" >0</td>\n",
       "                        <td id=\"T_06569e4d_3aee_11eb_84db_cc3d8232bb20row15_col44\" class=\"data row15 col44\" >0</td>\n",
       "                        <td id=\"T_06569e4d_3aee_11eb_84db_cc3d8232bb20row15_col45\" class=\"data row15 col45\" >0</td>\n",
       "                        <td id=\"T_06569e4d_3aee_11eb_84db_cc3d8232bb20row15_col46\" class=\"data row15 col46\" >126</td>\n",
       "                        <td id=\"T_06569e4d_3aee_11eb_84db_cc3d8232bb20row15_col47\" class=\"data row15 col47\" >0</td>\n",
       "                        <td id=\"T_06569e4d_3aee_11eb_84db_cc3d8232bb20row15_col48\" class=\"data row15 col48\" >0</td>\n",
       "                        <td id=\"T_06569e4d_3aee_11eb_84db_cc3d8232bb20row15_col49\" class=\"data row15 col49\" >0</td>\n",
       "                        <td id=\"T_06569e4d_3aee_11eb_84db_cc3d8232bb20row15_col50\" class=\"data row15 col50\" >0</td>\n",
       "                        <td id=\"T_06569e4d_3aee_11eb_84db_cc3d8232bb20row15_col51\" class=\"data row15 col51\" >0</td>\n",
       "                        <td id=\"T_06569e4d_3aee_11eb_84db_cc3d8232bb20row15_col52\" class=\"data row15 col52\" >1043</td>\n",
       "                        <td id=\"T_06569e4d_3aee_11eb_84db_cc3d8232bb20row15_col53\" class=\"data row15 col53\" >0</td>\n",
       "                        <td id=\"T_06569e4d_3aee_11eb_84db_cc3d8232bb20row15_col54\" class=\"data row15 col54\" >1116</td>\n",
       "                        <td id=\"T_06569e4d_3aee_11eb_84db_cc3d8232bb20row15_col55\" class=\"data row15 col55\" >0</td>\n",
       "                        <td id=\"T_06569e4d_3aee_11eb_84db_cc3d8232bb20row15_col56\" class=\"data row15 col56\" >16</td>\n",
       "                        <td id=\"T_06569e4d_3aee_11eb_84db_cc3d8232bb20row15_col57\" class=\"data row15 col57\" >0</td>\n",
       "            </tr>\n",
       "            <tr>\n",
       "                        <th id=\"T_06569e4d_3aee_11eb_84db_cc3d8232bb20level0_row16\" class=\"row_heading level0 row16\" >2018</th>\n",
       "                        <td id=\"T_06569e4d_3aee_11eb_84db_cc3d8232bb20row16_col0\" class=\"data row16 col0\" >0</td>\n",
       "                        <td id=\"T_06569e4d_3aee_11eb_84db_cc3d8232bb20row16_col1\" class=\"data row16 col1\" >0</td>\n",
       "                        <td id=\"T_06569e4d_3aee_11eb_84db_cc3d8232bb20row16_col2\" class=\"data row16 col2\" >0</td>\n",
       "                        <td id=\"T_06569e4d_3aee_11eb_84db_cc3d8232bb20row16_col3\" class=\"data row16 col3\" >0</td>\n",
       "                        <td id=\"T_06569e4d_3aee_11eb_84db_cc3d8232bb20row16_col4\" class=\"data row16 col4\" >0</td>\n",
       "                        <td id=\"T_06569e4d_3aee_11eb_84db_cc3d8232bb20row16_col5\" class=\"data row16 col5\" >0</td>\n",
       "                        <td id=\"T_06569e4d_3aee_11eb_84db_cc3d8232bb20row16_col6\" class=\"data row16 col6\" >26</td>\n",
       "                        <td id=\"T_06569e4d_3aee_11eb_84db_cc3d8232bb20row16_col7\" class=\"data row16 col7\" >0</td>\n",
       "                        <td id=\"T_06569e4d_3aee_11eb_84db_cc3d8232bb20row16_col8\" class=\"data row16 col8\" >0</td>\n",
       "                        <td id=\"T_06569e4d_3aee_11eb_84db_cc3d8232bb20row16_col9\" class=\"data row16 col9\" >19</td>\n",
       "                        <td id=\"T_06569e4d_3aee_11eb_84db_cc3d8232bb20row16_col10\" class=\"data row16 col10\" >14</td>\n",
       "                        <td id=\"T_06569e4d_3aee_11eb_84db_cc3d8232bb20row16_col11\" class=\"data row16 col11\" >0</td>\n",
       "                        <td id=\"T_06569e4d_3aee_11eb_84db_cc3d8232bb20row16_col12\" class=\"data row16 col12\" >0</td>\n",
       "                        <td id=\"T_06569e4d_3aee_11eb_84db_cc3d8232bb20row16_col13\" class=\"data row16 col13\" >0</td>\n",
       "                        <td id=\"T_06569e4d_3aee_11eb_84db_cc3d8232bb20row16_col14\" class=\"data row16 col14\" >0</td>\n",
       "                        <td id=\"T_06569e4d_3aee_11eb_84db_cc3d8232bb20row16_col15\" class=\"data row16 col15\" >0</td>\n",
       "                        <td id=\"T_06569e4d_3aee_11eb_84db_cc3d8232bb20row16_col16\" class=\"data row16 col16\" >0</td>\n",
       "                        <td id=\"T_06569e4d_3aee_11eb_84db_cc3d8232bb20row16_col17\" class=\"data row16 col17\" >0</td>\n",
       "                        <td id=\"T_06569e4d_3aee_11eb_84db_cc3d8232bb20row16_col18\" class=\"data row16 col18\" >0</td>\n",
       "                        <td id=\"T_06569e4d_3aee_11eb_84db_cc3d8232bb20row16_col19\" class=\"data row16 col19\" >0</td>\n",
       "                        <td id=\"T_06569e4d_3aee_11eb_84db_cc3d8232bb20row16_col20\" class=\"data row16 col20\" >0</td>\n",
       "                        <td id=\"T_06569e4d_3aee_11eb_84db_cc3d8232bb20row16_col21\" class=\"data row16 col21\" >0</td>\n",
       "                        <td id=\"T_06569e4d_3aee_11eb_84db_cc3d8232bb20row16_col22\" class=\"data row16 col22\" >0</td>\n",
       "                        <td id=\"T_06569e4d_3aee_11eb_84db_cc3d8232bb20row16_col23\" class=\"data row16 col23\" >0</td>\n",
       "                        <td id=\"T_06569e4d_3aee_11eb_84db_cc3d8232bb20row16_col24\" class=\"data row16 col24\" >914</td>\n",
       "                        <td id=\"T_06569e4d_3aee_11eb_84db_cc3d8232bb20row16_col25\" class=\"data row16 col25\" >0</td>\n",
       "                        <td id=\"T_06569e4d_3aee_11eb_84db_cc3d8232bb20row16_col26\" class=\"data row16 col26\" >0</td>\n",
       "                        <td id=\"T_06569e4d_3aee_11eb_84db_cc3d8232bb20row16_col27\" class=\"data row16 col27\" >0</td>\n",
       "                        <td id=\"T_06569e4d_3aee_11eb_84db_cc3d8232bb20row16_col28\" class=\"data row16 col28\" >0</td>\n",
       "                        <td id=\"T_06569e4d_3aee_11eb_84db_cc3d8232bb20row16_col29\" class=\"data row16 col29\" >67</td>\n",
       "                        <td id=\"T_06569e4d_3aee_11eb_84db_cc3d8232bb20row16_col30\" class=\"data row16 col30\" >94</td>\n",
       "                        <td id=\"T_06569e4d_3aee_11eb_84db_cc3d8232bb20row16_col31\" class=\"data row16 col31\" >0</td>\n",
       "                        <td id=\"T_06569e4d_3aee_11eb_84db_cc3d8232bb20row16_col32\" class=\"data row16 col32\" >0</td>\n",
       "                        <td id=\"T_06569e4d_3aee_11eb_84db_cc3d8232bb20row16_col33\" class=\"data row16 col33\" >0</td>\n",
       "                        <td id=\"T_06569e4d_3aee_11eb_84db_cc3d8232bb20row16_col34\" class=\"data row16 col34\" >0</td>\n",
       "                        <td id=\"T_06569e4d_3aee_11eb_84db_cc3d8232bb20row16_col35\" class=\"data row16 col35\" >0</td>\n",
       "                        <td id=\"T_06569e4d_3aee_11eb_84db_cc3d8232bb20row16_col36\" class=\"data row16 col36\" >0</td>\n",
       "                        <td id=\"T_06569e4d_3aee_11eb_84db_cc3d8232bb20row16_col37\" class=\"data row16 col37\" >0</td>\n",
       "                        <td id=\"T_06569e4d_3aee_11eb_84db_cc3d8232bb20row16_col38\" class=\"data row16 col38\" >0</td>\n",
       "                        <td id=\"T_06569e4d_3aee_11eb_84db_cc3d8232bb20row16_col39\" class=\"data row16 col39\" >0</td>\n",
       "                        <td id=\"T_06569e4d_3aee_11eb_84db_cc3d8232bb20row16_col40\" class=\"data row16 col40\" >0</td>\n",
       "                        <td id=\"T_06569e4d_3aee_11eb_84db_cc3d8232bb20row16_col41\" class=\"data row16 col41\" >0</td>\n",
       "                        <td id=\"T_06569e4d_3aee_11eb_84db_cc3d8232bb20row16_col42\" class=\"data row16 col42\" >0</td>\n",
       "                        <td id=\"T_06569e4d_3aee_11eb_84db_cc3d8232bb20row16_col43\" class=\"data row16 col43\" >16</td>\n",
       "                        <td id=\"T_06569e4d_3aee_11eb_84db_cc3d8232bb20row16_col44\" class=\"data row16 col44\" >0</td>\n",
       "                        <td id=\"T_06569e4d_3aee_11eb_84db_cc3d8232bb20row16_col45\" class=\"data row16 col45\" >0</td>\n",
       "                        <td id=\"T_06569e4d_3aee_11eb_84db_cc3d8232bb20row16_col46\" class=\"data row16 col46\" >0</td>\n",
       "                        <td id=\"T_06569e4d_3aee_11eb_84db_cc3d8232bb20row16_col47\" class=\"data row16 col47\" >0</td>\n",
       "                        <td id=\"T_06569e4d_3aee_11eb_84db_cc3d8232bb20row16_col48\" class=\"data row16 col48\" >0</td>\n",
       "                        <td id=\"T_06569e4d_3aee_11eb_84db_cc3d8232bb20row16_col49\" class=\"data row16 col49\" >0</td>\n",
       "                        <td id=\"T_06569e4d_3aee_11eb_84db_cc3d8232bb20row16_col50\" class=\"data row16 col50\" >0</td>\n",
       "                        <td id=\"T_06569e4d_3aee_11eb_84db_cc3d8232bb20row16_col51\" class=\"data row16 col51\" >0</td>\n",
       "                        <td id=\"T_06569e4d_3aee_11eb_84db_cc3d8232bb20row16_col52\" class=\"data row16 col52\" >393</td>\n",
       "                        <td id=\"T_06569e4d_3aee_11eb_84db_cc3d8232bb20row16_col53\" class=\"data row16 col53\" >0</td>\n",
       "                        <td id=\"T_06569e4d_3aee_11eb_84db_cc3d8232bb20row16_col54\" class=\"data row16 col54\" >691</td>\n",
       "                        <td id=\"T_06569e4d_3aee_11eb_84db_cc3d8232bb20row16_col55\" class=\"data row16 col55\" >0</td>\n",
       "                        <td id=\"T_06569e4d_3aee_11eb_84db_cc3d8232bb20row16_col56\" class=\"data row16 col56\" >0</td>\n",
       "                        <td id=\"T_06569e4d_3aee_11eb_84db_cc3d8232bb20row16_col57\" class=\"data row16 col57\" >0</td>\n",
       "            </tr>\n",
       "            <tr>\n",
       "                        <th id=\"T_06569e4d_3aee_11eb_84db_cc3d8232bb20level0_row17\" class=\"row_heading level0 row17\" >2019</th>\n",
       "                        <td id=\"T_06569e4d_3aee_11eb_84db_cc3d8232bb20row17_col0\" class=\"data row17 col0\" >0</td>\n",
       "                        <td id=\"T_06569e4d_3aee_11eb_84db_cc3d8232bb20row17_col1\" class=\"data row17 col1\" >0</td>\n",
       "                        <td id=\"T_06569e4d_3aee_11eb_84db_cc3d8232bb20row17_col2\" class=\"data row17 col2\" >0</td>\n",
       "                        <td id=\"T_06569e4d_3aee_11eb_84db_cc3d8232bb20row17_col3\" class=\"data row17 col3\" >0</td>\n",
       "                        <td id=\"T_06569e4d_3aee_11eb_84db_cc3d8232bb20row17_col4\" class=\"data row17 col4\" >0</td>\n",
       "                        <td id=\"T_06569e4d_3aee_11eb_84db_cc3d8232bb20row17_col5\" class=\"data row17 col5\" >0</td>\n",
       "                        <td id=\"T_06569e4d_3aee_11eb_84db_cc3d8232bb20row17_col6\" class=\"data row17 col6\" >0</td>\n",
       "                        <td id=\"T_06569e4d_3aee_11eb_84db_cc3d8232bb20row17_col7\" class=\"data row17 col7\" >0</td>\n",
       "                        <td id=\"T_06569e4d_3aee_11eb_84db_cc3d8232bb20row17_col8\" class=\"data row17 col8\" >0</td>\n",
       "                        <td id=\"T_06569e4d_3aee_11eb_84db_cc3d8232bb20row17_col9\" class=\"data row17 col9\" >0</td>\n",
       "                        <td id=\"T_06569e4d_3aee_11eb_84db_cc3d8232bb20row17_col10\" class=\"data row17 col10\" >0</td>\n",
       "                        <td id=\"T_06569e4d_3aee_11eb_84db_cc3d8232bb20row17_col11\" class=\"data row17 col11\" >0</td>\n",
       "                        <td id=\"T_06569e4d_3aee_11eb_84db_cc3d8232bb20row17_col12\" class=\"data row17 col12\" >0</td>\n",
       "                        <td id=\"T_06569e4d_3aee_11eb_84db_cc3d8232bb20row17_col13\" class=\"data row17 col13\" >0</td>\n",
       "                        <td id=\"T_06569e4d_3aee_11eb_84db_cc3d8232bb20row17_col14\" class=\"data row17 col14\" >0</td>\n",
       "                        <td id=\"T_06569e4d_3aee_11eb_84db_cc3d8232bb20row17_col15\" class=\"data row17 col15\" >0</td>\n",
       "                        <td id=\"T_06569e4d_3aee_11eb_84db_cc3d8232bb20row17_col16\" class=\"data row17 col16\" >0</td>\n",
       "                        <td id=\"T_06569e4d_3aee_11eb_84db_cc3d8232bb20row17_col17\" class=\"data row17 col17\" >0</td>\n",
       "                        <td id=\"T_06569e4d_3aee_11eb_84db_cc3d8232bb20row17_col18\" class=\"data row17 col18\" >0</td>\n",
       "                        <td id=\"T_06569e4d_3aee_11eb_84db_cc3d8232bb20row17_col19\" class=\"data row17 col19\" >0</td>\n",
       "                        <td id=\"T_06569e4d_3aee_11eb_84db_cc3d8232bb20row17_col20\" class=\"data row17 col20\" >0</td>\n",
       "                        <td id=\"T_06569e4d_3aee_11eb_84db_cc3d8232bb20row17_col21\" class=\"data row17 col21\" >0</td>\n",
       "                        <td id=\"T_06569e4d_3aee_11eb_84db_cc3d8232bb20row17_col22\" class=\"data row17 col22\" >0</td>\n",
       "                        <td id=\"T_06569e4d_3aee_11eb_84db_cc3d8232bb20row17_col23\" class=\"data row17 col23\" >0</td>\n",
       "                        <td id=\"T_06569e4d_3aee_11eb_84db_cc3d8232bb20row17_col24\" class=\"data row17 col24\" >0</td>\n",
       "                        <td id=\"T_06569e4d_3aee_11eb_84db_cc3d8232bb20row17_col25\" class=\"data row17 col25\" >0</td>\n",
       "                        <td id=\"T_06569e4d_3aee_11eb_84db_cc3d8232bb20row17_col26\" class=\"data row17 col26\" >0</td>\n",
       "                        <td id=\"T_06569e4d_3aee_11eb_84db_cc3d8232bb20row17_col27\" class=\"data row17 col27\" >0</td>\n",
       "                        <td id=\"T_06569e4d_3aee_11eb_84db_cc3d8232bb20row17_col28\" class=\"data row17 col28\" >0</td>\n",
       "                        <td id=\"T_06569e4d_3aee_11eb_84db_cc3d8232bb20row17_col29\" class=\"data row17 col29\" >0</td>\n",
       "                        <td id=\"T_06569e4d_3aee_11eb_84db_cc3d8232bb20row17_col30\" class=\"data row17 col30\" >0</td>\n",
       "                        <td id=\"T_06569e4d_3aee_11eb_84db_cc3d8232bb20row17_col31\" class=\"data row17 col31\" >0</td>\n",
       "                        <td id=\"T_06569e4d_3aee_11eb_84db_cc3d8232bb20row17_col32\" class=\"data row17 col32\" >0</td>\n",
       "                        <td id=\"T_06569e4d_3aee_11eb_84db_cc3d8232bb20row17_col33\" class=\"data row17 col33\" >0</td>\n",
       "                        <td id=\"T_06569e4d_3aee_11eb_84db_cc3d8232bb20row17_col34\" class=\"data row17 col34\" >0</td>\n",
       "                        <td id=\"T_06569e4d_3aee_11eb_84db_cc3d8232bb20row17_col35\" class=\"data row17 col35\" >0</td>\n",
       "                        <td id=\"T_06569e4d_3aee_11eb_84db_cc3d8232bb20row17_col36\" class=\"data row17 col36\" >0</td>\n",
       "                        <td id=\"T_06569e4d_3aee_11eb_84db_cc3d8232bb20row17_col37\" class=\"data row17 col37\" >0</td>\n",
       "                        <td id=\"T_06569e4d_3aee_11eb_84db_cc3d8232bb20row17_col38\" class=\"data row17 col38\" >0</td>\n",
       "                        <td id=\"T_06569e4d_3aee_11eb_84db_cc3d8232bb20row17_col39\" class=\"data row17 col39\" >0</td>\n",
       "                        <td id=\"T_06569e4d_3aee_11eb_84db_cc3d8232bb20row17_col40\" class=\"data row17 col40\" >0</td>\n",
       "                        <td id=\"T_06569e4d_3aee_11eb_84db_cc3d8232bb20row17_col41\" class=\"data row17 col41\" >0</td>\n",
       "                        <td id=\"T_06569e4d_3aee_11eb_84db_cc3d8232bb20row17_col42\" class=\"data row17 col42\" >0</td>\n",
       "                        <td id=\"T_06569e4d_3aee_11eb_84db_cc3d8232bb20row17_col43\" class=\"data row17 col43\" >0</td>\n",
       "                        <td id=\"T_06569e4d_3aee_11eb_84db_cc3d8232bb20row17_col44\" class=\"data row17 col44\" >0</td>\n",
       "                        <td id=\"T_06569e4d_3aee_11eb_84db_cc3d8232bb20row17_col45\" class=\"data row17 col45\" >0</td>\n",
       "                        <td id=\"T_06569e4d_3aee_11eb_84db_cc3d8232bb20row17_col46\" class=\"data row17 col46\" >0</td>\n",
       "                        <td id=\"T_06569e4d_3aee_11eb_84db_cc3d8232bb20row17_col47\" class=\"data row17 col47\" >0</td>\n",
       "                        <td id=\"T_06569e4d_3aee_11eb_84db_cc3d8232bb20row17_col48\" class=\"data row17 col48\" >0</td>\n",
       "                        <td id=\"T_06569e4d_3aee_11eb_84db_cc3d8232bb20row17_col49\" class=\"data row17 col49\" >0</td>\n",
       "                        <td id=\"T_06569e4d_3aee_11eb_84db_cc3d8232bb20row17_col50\" class=\"data row17 col50\" >0</td>\n",
       "                        <td id=\"T_06569e4d_3aee_11eb_84db_cc3d8232bb20row17_col51\" class=\"data row17 col51\" >0</td>\n",
       "                        <td id=\"T_06569e4d_3aee_11eb_84db_cc3d8232bb20row17_col52\" class=\"data row17 col52\" >0</td>\n",
       "                        <td id=\"T_06569e4d_3aee_11eb_84db_cc3d8232bb20row17_col53\" class=\"data row17 col53\" >28</td>\n",
       "                        <td id=\"T_06569e4d_3aee_11eb_84db_cc3d8232bb20row17_col54\" class=\"data row17 col54\" >0</td>\n",
       "                        <td id=\"T_06569e4d_3aee_11eb_84db_cc3d8232bb20row17_col55\" class=\"data row17 col55\" >0</td>\n",
       "                        <td id=\"T_06569e4d_3aee_11eb_84db_cc3d8232bb20row17_col56\" class=\"data row17 col56\" >0</td>\n",
       "                        <td id=\"T_06569e4d_3aee_11eb_84db_cc3d8232bb20row17_col57\" class=\"data row17 col57\" >0</td>\n",
       "            </tr>\n",
       "    </tbody></table>"
      ],
      "text/plain": [
       "<pandas.io.formats.style.Styler at 0x134f54ddb50>"
      ]
     },
     "execution_count": 45,
     "metadata": {},
     "output_type": "execute_result"
    }
   ],
   "source": [
    "gf = sns.light_palette('blue', as_cmap=True)\n",
    "pvTable = pd.pivot_table(df,\n",
    "                         values='citizenship',\n",
    "                         index='yearOfRegistration',\n",
    "                         columns= 'CountryOfExploitation',\n",
    "                         aggfunc='count',\n",
    "                         fill_value=0)\n",
    "pvTable.style.background_gradient(cmap=gf)"
   ]
  },
  {
   "cell_type": "markdown",
   "metadata": {},
   "source": [
    "### Victim Demographics breakdown"
   ]
  },
  {
   "cell_type": "code",
   "execution_count": 46,
   "metadata": {},
   "outputs": [
    {
     "data": {
      "application/vnd.plotly.v1+json": {
       "config": {
        "plotlyServerURL": "https://plot.ly"
       },
       "data": [
        {
         "branchvalues": "total",
         "customdata": [
          [
           "Female"
          ],
          [
           "Male"
          ],
          [
           "Female"
          ],
          [
           "Male"
          ],
          [
           "Female"
          ],
          [
           "Male"
          ],
          [
           "Female"
          ],
          [
           "Male"
          ],
          [
           "Female"
          ],
          [
           "Male"
          ],
          [
           "Female"
          ],
          [
           "Male"
          ],
          [
           "Female"
          ],
          [
           "Male"
          ],
          [
           "Female"
          ],
          [
           "Male"
          ],
          [
           "Female"
          ],
          [
           "Male"
          ],
          [
           "Female"
          ],
          [
           "Male"
          ]
         ],
         "domain": {
          "x": [
           0,
           1
          ],
          "y": [
           0,
           1
          ]
         },
         "hovertemplate": "labels=%{label}<br>Victims=%{value}<br>parent=%{parent}<br>id=%{id}<br>gender=%{customdata[0]}<extra></extra>",
         "ids": [
          "Female/00--08",
          "Male/48+",
          "Female/48+",
          "Male/39--47",
          "Female/39--47",
          "Male/30--38",
          "Female/30--38",
          "Male/27--29",
          "Female/27--29",
          "Male/24--26",
          "Female/24--26",
          "Male/21--23",
          "Female/21--23",
          "Male/18--20",
          "Female/18--20",
          "Male/09--17",
          "Female/09--17",
          "Male/00--08",
          "Female",
          "Male"
         ],
         "labels": [
          "00--08",
          "48+",
          "48+",
          "39--47",
          "39--47",
          "30--38",
          "30--38",
          "27--29",
          "27--29",
          "24--26",
          "24--26",
          "21--23",
          "21--23",
          "18--20",
          "18--20",
          "09--17",
          "09--17",
          "00--08",
          "Female",
          "Male"
         ],
         "marker": {
          "colors": [
           "#636efa",
           "#EF553B",
           "#636efa",
           "#EF553B",
           "#636efa",
           "#EF553B",
           "#636efa",
           "#EF553B",
           "#636efa",
           "#EF553B",
           "#636efa",
           "#EF553B",
           "#636efa",
           "#EF553B",
           "#636efa",
           "#EF553B",
           "#636efa",
           "#EF553B",
           "#636efa",
           "#EF553B"
          ]
         },
         "name": "",
         "parents": [
          "Female",
          "Male",
          "Female",
          "Male",
          "Female",
          "Male",
          "Female",
          "Male",
          "Female",
          "Male",
          "Female",
          "Male",
          "Female",
          "Male",
          "Female",
          "Male",
          "Female",
          "Male",
          "",
          ""
         ],
         "type": "sunburst",
         "values": [
          841,
          695,
          865,
          1455,
          1366,
          2869,
          4222,
          772,
          1869,
          648,
          2816,
          479,
          3734,
          221,
          4227,
          1891,
          6754,
          715,
          26694,
          9745
         ]
        }
       ],
       "layout": {
        "height": 600,
        "legend": {
         "tracegroupgap": 0
        },
        "template": {
         "data": {
          "bar": [
           {
            "error_x": {
             "color": "#2a3f5f"
            },
            "error_y": {
             "color": "#2a3f5f"
            },
            "marker": {
             "line": {
              "color": "#E5ECF6",
              "width": 0.5
             }
            },
            "type": "bar"
           }
          ],
          "barpolar": [
           {
            "marker": {
             "line": {
              "color": "#E5ECF6",
              "width": 0.5
             }
            },
            "type": "barpolar"
           }
          ],
          "carpet": [
           {
            "aaxis": {
             "endlinecolor": "#2a3f5f",
             "gridcolor": "white",
             "linecolor": "white",
             "minorgridcolor": "white",
             "startlinecolor": "#2a3f5f"
            },
            "baxis": {
             "endlinecolor": "#2a3f5f",
             "gridcolor": "white",
             "linecolor": "white",
             "minorgridcolor": "white",
             "startlinecolor": "#2a3f5f"
            },
            "type": "carpet"
           }
          ],
          "choropleth": [
           {
            "colorbar": {
             "outlinewidth": 0,
             "ticks": ""
            },
            "type": "choropleth"
           }
          ],
          "contour": [
           {
            "colorbar": {
             "outlinewidth": 0,
             "ticks": ""
            },
            "colorscale": [
             [
              0,
              "#0d0887"
             ],
             [
              0.1111111111111111,
              "#46039f"
             ],
             [
              0.2222222222222222,
              "#7201a8"
             ],
             [
              0.3333333333333333,
              "#9c179e"
             ],
             [
              0.4444444444444444,
              "#bd3786"
             ],
             [
              0.5555555555555556,
              "#d8576b"
             ],
             [
              0.6666666666666666,
              "#ed7953"
             ],
             [
              0.7777777777777778,
              "#fb9f3a"
             ],
             [
              0.8888888888888888,
              "#fdca26"
             ],
             [
              1,
              "#f0f921"
             ]
            ],
            "type": "contour"
           }
          ],
          "contourcarpet": [
           {
            "colorbar": {
             "outlinewidth": 0,
             "ticks": ""
            },
            "type": "contourcarpet"
           }
          ],
          "heatmap": [
           {
            "colorbar": {
             "outlinewidth": 0,
             "ticks": ""
            },
            "colorscale": [
             [
              0,
              "#0d0887"
             ],
             [
              0.1111111111111111,
              "#46039f"
             ],
             [
              0.2222222222222222,
              "#7201a8"
             ],
             [
              0.3333333333333333,
              "#9c179e"
             ],
             [
              0.4444444444444444,
              "#bd3786"
             ],
             [
              0.5555555555555556,
              "#d8576b"
             ],
             [
              0.6666666666666666,
              "#ed7953"
             ],
             [
              0.7777777777777778,
              "#fb9f3a"
             ],
             [
              0.8888888888888888,
              "#fdca26"
             ],
             [
              1,
              "#f0f921"
             ]
            ],
            "type": "heatmap"
           }
          ],
          "heatmapgl": [
           {
            "colorbar": {
             "outlinewidth": 0,
             "ticks": ""
            },
            "colorscale": [
             [
              0,
              "#0d0887"
             ],
             [
              0.1111111111111111,
              "#46039f"
             ],
             [
              0.2222222222222222,
              "#7201a8"
             ],
             [
              0.3333333333333333,
              "#9c179e"
             ],
             [
              0.4444444444444444,
              "#bd3786"
             ],
             [
              0.5555555555555556,
              "#d8576b"
             ],
             [
              0.6666666666666666,
              "#ed7953"
             ],
             [
              0.7777777777777778,
              "#fb9f3a"
             ],
             [
              0.8888888888888888,
              "#fdca26"
             ],
             [
              1,
              "#f0f921"
             ]
            ],
            "type": "heatmapgl"
           }
          ],
          "histogram": [
           {
            "marker": {
             "colorbar": {
              "outlinewidth": 0,
              "ticks": ""
             }
            },
            "type": "histogram"
           }
          ],
          "histogram2d": [
           {
            "colorbar": {
             "outlinewidth": 0,
             "ticks": ""
            },
            "colorscale": [
             [
              0,
              "#0d0887"
             ],
             [
              0.1111111111111111,
              "#46039f"
             ],
             [
              0.2222222222222222,
              "#7201a8"
             ],
             [
              0.3333333333333333,
              "#9c179e"
             ],
             [
              0.4444444444444444,
              "#bd3786"
             ],
             [
              0.5555555555555556,
              "#d8576b"
             ],
             [
              0.6666666666666666,
              "#ed7953"
             ],
             [
              0.7777777777777778,
              "#fb9f3a"
             ],
             [
              0.8888888888888888,
              "#fdca26"
             ],
             [
              1,
              "#f0f921"
             ]
            ],
            "type": "histogram2d"
           }
          ],
          "histogram2dcontour": [
           {
            "colorbar": {
             "outlinewidth": 0,
             "ticks": ""
            },
            "colorscale": [
             [
              0,
              "#0d0887"
             ],
             [
              0.1111111111111111,
              "#46039f"
             ],
             [
              0.2222222222222222,
              "#7201a8"
             ],
             [
              0.3333333333333333,
              "#9c179e"
             ],
             [
              0.4444444444444444,
              "#bd3786"
             ],
             [
              0.5555555555555556,
              "#d8576b"
             ],
             [
              0.6666666666666666,
              "#ed7953"
             ],
             [
              0.7777777777777778,
              "#fb9f3a"
             ],
             [
              0.8888888888888888,
              "#fdca26"
             ],
             [
              1,
              "#f0f921"
             ]
            ],
            "type": "histogram2dcontour"
           }
          ],
          "mesh3d": [
           {
            "colorbar": {
             "outlinewidth": 0,
             "ticks": ""
            },
            "type": "mesh3d"
           }
          ],
          "parcoords": [
           {
            "line": {
             "colorbar": {
              "outlinewidth": 0,
              "ticks": ""
             }
            },
            "type": "parcoords"
           }
          ],
          "pie": [
           {
            "automargin": true,
            "type": "pie"
           }
          ],
          "scatter": [
           {
            "marker": {
             "colorbar": {
              "outlinewidth": 0,
              "ticks": ""
             }
            },
            "type": "scatter"
           }
          ],
          "scatter3d": [
           {
            "line": {
             "colorbar": {
              "outlinewidth": 0,
              "ticks": ""
             }
            },
            "marker": {
             "colorbar": {
              "outlinewidth": 0,
              "ticks": ""
             }
            },
            "type": "scatter3d"
           }
          ],
          "scattercarpet": [
           {
            "marker": {
             "colorbar": {
              "outlinewidth": 0,
              "ticks": ""
             }
            },
            "type": "scattercarpet"
           }
          ],
          "scattergeo": [
           {
            "marker": {
             "colorbar": {
              "outlinewidth": 0,
              "ticks": ""
             }
            },
            "type": "scattergeo"
           }
          ],
          "scattergl": [
           {
            "marker": {
             "colorbar": {
              "outlinewidth": 0,
              "ticks": ""
             }
            },
            "type": "scattergl"
           }
          ],
          "scattermapbox": [
           {
            "marker": {
             "colorbar": {
              "outlinewidth": 0,
              "ticks": ""
             }
            },
            "type": "scattermapbox"
           }
          ],
          "scatterpolar": [
           {
            "marker": {
             "colorbar": {
              "outlinewidth": 0,
              "ticks": ""
             }
            },
            "type": "scatterpolar"
           }
          ],
          "scatterpolargl": [
           {
            "marker": {
             "colorbar": {
              "outlinewidth": 0,
              "ticks": ""
             }
            },
            "type": "scatterpolargl"
           }
          ],
          "scatterternary": [
           {
            "marker": {
             "colorbar": {
              "outlinewidth": 0,
              "ticks": ""
             }
            },
            "type": "scatterternary"
           }
          ],
          "surface": [
           {
            "colorbar": {
             "outlinewidth": 0,
             "ticks": ""
            },
            "colorscale": [
             [
              0,
              "#0d0887"
             ],
             [
              0.1111111111111111,
              "#46039f"
             ],
             [
              0.2222222222222222,
              "#7201a8"
             ],
             [
              0.3333333333333333,
              "#9c179e"
             ],
             [
              0.4444444444444444,
              "#bd3786"
             ],
             [
              0.5555555555555556,
              "#d8576b"
             ],
             [
              0.6666666666666666,
              "#ed7953"
             ],
             [
              0.7777777777777778,
              "#fb9f3a"
             ],
             [
              0.8888888888888888,
              "#fdca26"
             ],
             [
              1,
              "#f0f921"
             ]
            ],
            "type": "surface"
           }
          ],
          "table": [
           {
            "cells": {
             "fill": {
              "color": "#EBF0F8"
             },
             "line": {
              "color": "white"
             }
            },
            "header": {
             "fill": {
              "color": "#C8D4E3"
             },
             "line": {
              "color": "white"
             }
            },
            "type": "table"
           }
          ]
         },
         "layout": {
          "annotationdefaults": {
           "arrowcolor": "#2a3f5f",
           "arrowhead": 0,
           "arrowwidth": 1
          },
          "autotypenumbers": "strict",
          "coloraxis": {
           "colorbar": {
            "outlinewidth": 0,
            "ticks": ""
           }
          },
          "colorscale": {
           "diverging": [
            [
             0,
             "#8e0152"
            ],
            [
             0.1,
             "#c51b7d"
            ],
            [
             0.2,
             "#de77ae"
            ],
            [
             0.3,
             "#f1b6da"
            ],
            [
             0.4,
             "#fde0ef"
            ],
            [
             0.5,
             "#f7f7f7"
            ],
            [
             0.6,
             "#e6f5d0"
            ],
            [
             0.7,
             "#b8e186"
            ],
            [
             0.8,
             "#7fbc41"
            ],
            [
             0.9,
             "#4d9221"
            ],
            [
             1,
             "#276419"
            ]
           ],
           "sequential": [
            [
             0,
             "#0d0887"
            ],
            [
             0.1111111111111111,
             "#46039f"
            ],
            [
             0.2222222222222222,
             "#7201a8"
            ],
            [
             0.3333333333333333,
             "#9c179e"
            ],
            [
             0.4444444444444444,
             "#bd3786"
            ],
            [
             0.5555555555555556,
             "#d8576b"
            ],
            [
             0.6666666666666666,
             "#ed7953"
            ],
            [
             0.7777777777777778,
             "#fb9f3a"
            ],
            [
             0.8888888888888888,
             "#fdca26"
            ],
            [
             1,
             "#f0f921"
            ]
           ],
           "sequentialminus": [
            [
             0,
             "#0d0887"
            ],
            [
             0.1111111111111111,
             "#46039f"
            ],
            [
             0.2222222222222222,
             "#7201a8"
            ],
            [
             0.3333333333333333,
             "#9c179e"
            ],
            [
             0.4444444444444444,
             "#bd3786"
            ],
            [
             0.5555555555555556,
             "#d8576b"
            ],
            [
             0.6666666666666666,
             "#ed7953"
            ],
            [
             0.7777777777777778,
             "#fb9f3a"
            ],
            [
             0.8888888888888888,
             "#fdca26"
            ],
            [
             1,
             "#f0f921"
            ]
           ]
          },
          "colorway": [
           "#636efa",
           "#EF553B",
           "#00cc96",
           "#ab63fa",
           "#FFA15A",
           "#19d3f3",
           "#FF6692",
           "#B6E880",
           "#FF97FF",
           "#FECB52"
          ],
          "font": {
           "color": "#2a3f5f"
          },
          "geo": {
           "bgcolor": "white",
           "lakecolor": "white",
           "landcolor": "#E5ECF6",
           "showlakes": true,
           "showland": true,
           "subunitcolor": "white"
          },
          "hoverlabel": {
           "align": "left"
          },
          "hovermode": "closest",
          "mapbox": {
           "style": "light"
          },
          "paper_bgcolor": "white",
          "plot_bgcolor": "#E5ECF6",
          "polar": {
           "angularaxis": {
            "gridcolor": "white",
            "linecolor": "white",
            "ticks": ""
           },
           "bgcolor": "#E5ECF6",
           "radialaxis": {
            "gridcolor": "white",
            "linecolor": "white",
            "ticks": ""
           }
          },
          "scene": {
           "xaxis": {
            "backgroundcolor": "#E5ECF6",
            "gridcolor": "white",
            "gridwidth": 2,
            "linecolor": "white",
            "showbackground": true,
            "ticks": "",
            "zerolinecolor": "white"
           },
           "yaxis": {
            "backgroundcolor": "#E5ECF6",
            "gridcolor": "white",
            "gridwidth": 2,
            "linecolor": "white",
            "showbackground": true,
            "ticks": "",
            "zerolinecolor": "white"
           },
           "zaxis": {
            "backgroundcolor": "#E5ECF6",
            "gridcolor": "white",
            "gridwidth": 2,
            "linecolor": "white",
            "showbackground": true,
            "ticks": "",
            "zerolinecolor": "white"
           }
          },
          "shapedefaults": {
           "line": {
            "color": "#2a3f5f"
           }
          },
          "ternary": {
           "aaxis": {
            "gridcolor": "white",
            "linecolor": "white",
            "ticks": ""
           },
           "baxis": {
            "gridcolor": "white",
            "linecolor": "white",
            "ticks": ""
           },
           "bgcolor": "#E5ECF6",
           "caxis": {
            "gridcolor": "white",
            "linecolor": "white",
            "ticks": ""
           }
          },
          "title": {
           "x": 0.05
          },
          "xaxis": {
           "automargin": true,
           "gridcolor": "white",
           "linecolor": "white",
           "ticks": "",
           "title": {
            "standoff": 15
           },
           "zerolinecolor": "white",
           "zerolinewidth": 2
          },
          "yaxis": {
           "automargin": true,
           "gridcolor": "white",
           "linecolor": "white",
           "ticks": "",
           "title": {
            "standoff": 15
           },
           "zerolinecolor": "white",
           "zerolinewidth": 2
          }
         }
        },
        "title": {
         "text": "Gender and Age of Human Trafficking Victims"
        },
        "width": 600
       }
      },
      "text/html": [
       "<div>                            <div id=\"33bb3002-98bb-480e-a34a-5b8924ecee7b\" class=\"plotly-graph-div\" style=\"height:600px; width:600px;\"></div>            <script type=\"text/javascript\">                require([\"plotly\"], function(Plotly) {                    window.PLOTLYENV=window.PLOTLYENV || {};                                    if (document.getElementById(\"33bb3002-98bb-480e-a34a-5b8924ecee7b\")) {                    Plotly.newPlot(                        \"33bb3002-98bb-480e-a34a-5b8924ecee7b\",                        [{\"branchvalues\": \"total\", \"customdata\": [[\"Female\"], [\"Male\"], [\"Female\"], [\"Male\"], [\"Female\"], [\"Male\"], [\"Female\"], [\"Male\"], [\"Female\"], [\"Male\"], [\"Female\"], [\"Male\"], [\"Female\"], [\"Male\"], [\"Female\"], [\"Male\"], [\"Female\"], [\"Male\"], [\"Female\"], [\"Male\"]], \"domain\": {\"x\": [0.0, 1.0], \"y\": [0.0, 1.0]}, \"hovertemplate\": \"labels=%{label}<br>Victims=%{value}<br>parent=%{parent}<br>id=%{id}<br>gender=%{customdata[0]}<extra></extra>\", \"ids\": [\"Female/00--08\", \"Male/48+\", \"Female/48+\", \"Male/39--47\", \"Female/39--47\", \"Male/30--38\", \"Female/30--38\", \"Male/27--29\", \"Female/27--29\", \"Male/24--26\", \"Female/24--26\", \"Male/21--23\", \"Female/21--23\", \"Male/18--20\", \"Female/18--20\", \"Male/09--17\", \"Female/09--17\", \"Male/00--08\", \"Female\", \"Male\"], \"labels\": [\"00--08\", \"48+\", \"48+\", \"39--47\", \"39--47\", \"30--38\", \"30--38\", \"27--29\", \"27--29\", \"24--26\", \"24--26\", \"21--23\", \"21--23\", \"18--20\", \"18--20\", \"09--17\", \"09--17\", \"00--08\", \"Female\", \"Male\"], \"marker\": {\"colors\": [\"#636efa\", \"#EF553B\", \"#636efa\", \"#EF553B\", \"#636efa\", \"#EF553B\", \"#636efa\", \"#EF553B\", \"#636efa\", \"#EF553B\", \"#636efa\", \"#EF553B\", \"#636efa\", \"#EF553B\", \"#636efa\", \"#EF553B\", \"#636efa\", \"#EF553B\", \"#636efa\", \"#EF553B\"]}, \"name\": \"\", \"parents\": [\"Female\", \"Male\", \"Female\", \"Male\", \"Female\", \"Male\", \"Female\", \"Male\", \"Female\", \"Male\", \"Female\", \"Male\", \"Female\", \"Male\", \"Female\", \"Male\", \"Female\", \"Male\", \"\", \"\"], \"type\": \"sunburst\", \"values\": [841, 695, 865, 1455, 1366, 2869, 4222, 772, 1869, 648, 2816, 479, 3734, 221, 4227, 1891, 6754, 715, 26694, 9745]}],                        {\"height\": 600, \"legend\": {\"tracegroupgap\": 0}, \"template\": {\"data\": {\"bar\": [{\"error_x\": {\"color\": \"#2a3f5f\"}, \"error_y\": {\"color\": \"#2a3f5f\"}, \"marker\": {\"line\": {\"color\": \"#E5ECF6\", \"width\": 0.5}}, \"type\": \"bar\"}], \"barpolar\": [{\"marker\": {\"line\": {\"color\": \"#E5ECF6\", \"width\": 0.5}}, \"type\": \"barpolar\"}], \"carpet\": [{\"aaxis\": {\"endlinecolor\": \"#2a3f5f\", \"gridcolor\": \"white\", \"linecolor\": \"white\", \"minorgridcolor\": \"white\", \"startlinecolor\": \"#2a3f5f\"}, \"baxis\": {\"endlinecolor\": \"#2a3f5f\", \"gridcolor\": \"white\", \"linecolor\": \"white\", \"minorgridcolor\": \"white\", \"startlinecolor\": \"#2a3f5f\"}, \"type\": \"carpet\"}], \"choropleth\": [{\"colorbar\": {\"outlinewidth\": 0, \"ticks\": \"\"}, \"type\": \"choropleth\"}], \"contour\": [{\"colorbar\": {\"outlinewidth\": 0, \"ticks\": \"\"}, \"colorscale\": [[0.0, \"#0d0887\"], [0.1111111111111111, \"#46039f\"], [0.2222222222222222, \"#7201a8\"], [0.3333333333333333, \"#9c179e\"], [0.4444444444444444, \"#bd3786\"], [0.5555555555555556, \"#d8576b\"], [0.6666666666666666, \"#ed7953\"], [0.7777777777777778, \"#fb9f3a\"], [0.8888888888888888, \"#fdca26\"], [1.0, \"#f0f921\"]], \"type\": \"contour\"}], \"contourcarpet\": [{\"colorbar\": {\"outlinewidth\": 0, \"ticks\": \"\"}, \"type\": \"contourcarpet\"}], \"heatmap\": [{\"colorbar\": {\"outlinewidth\": 0, \"ticks\": \"\"}, \"colorscale\": [[0.0, \"#0d0887\"], [0.1111111111111111, \"#46039f\"], [0.2222222222222222, \"#7201a8\"], [0.3333333333333333, \"#9c179e\"], [0.4444444444444444, \"#bd3786\"], [0.5555555555555556, \"#d8576b\"], [0.6666666666666666, \"#ed7953\"], [0.7777777777777778, \"#fb9f3a\"], [0.8888888888888888, \"#fdca26\"], [1.0, \"#f0f921\"]], \"type\": \"heatmap\"}], \"heatmapgl\": [{\"colorbar\": {\"outlinewidth\": 0, \"ticks\": \"\"}, \"colorscale\": [[0.0, \"#0d0887\"], [0.1111111111111111, \"#46039f\"], [0.2222222222222222, \"#7201a8\"], [0.3333333333333333, \"#9c179e\"], [0.4444444444444444, \"#bd3786\"], [0.5555555555555556, \"#d8576b\"], [0.6666666666666666, \"#ed7953\"], [0.7777777777777778, \"#fb9f3a\"], [0.8888888888888888, \"#fdca26\"], [1.0, \"#f0f921\"]], \"type\": \"heatmapgl\"}], \"histogram\": [{\"marker\": {\"colorbar\": {\"outlinewidth\": 0, \"ticks\": \"\"}}, \"type\": \"histogram\"}], \"histogram2d\": [{\"colorbar\": {\"outlinewidth\": 0, \"ticks\": \"\"}, \"colorscale\": [[0.0, \"#0d0887\"], [0.1111111111111111, \"#46039f\"], [0.2222222222222222, \"#7201a8\"], [0.3333333333333333, \"#9c179e\"], [0.4444444444444444, \"#bd3786\"], [0.5555555555555556, \"#d8576b\"], [0.6666666666666666, \"#ed7953\"], [0.7777777777777778, \"#fb9f3a\"], [0.8888888888888888, \"#fdca26\"], [1.0, \"#f0f921\"]], \"type\": \"histogram2d\"}], \"histogram2dcontour\": [{\"colorbar\": {\"outlinewidth\": 0, \"ticks\": \"\"}, \"colorscale\": [[0.0, \"#0d0887\"], [0.1111111111111111, \"#46039f\"], [0.2222222222222222, \"#7201a8\"], [0.3333333333333333, \"#9c179e\"], [0.4444444444444444, \"#bd3786\"], [0.5555555555555556, \"#d8576b\"], [0.6666666666666666, \"#ed7953\"], [0.7777777777777778, \"#fb9f3a\"], [0.8888888888888888, \"#fdca26\"], [1.0, \"#f0f921\"]], \"type\": \"histogram2dcontour\"}], \"mesh3d\": [{\"colorbar\": {\"outlinewidth\": 0, \"ticks\": \"\"}, \"type\": \"mesh3d\"}], \"parcoords\": [{\"line\": {\"colorbar\": {\"outlinewidth\": 0, \"ticks\": \"\"}}, \"type\": \"parcoords\"}], \"pie\": [{\"automargin\": true, \"type\": \"pie\"}], \"scatter\": [{\"marker\": {\"colorbar\": {\"outlinewidth\": 0, \"ticks\": \"\"}}, \"type\": \"scatter\"}], \"scatter3d\": [{\"line\": {\"colorbar\": {\"outlinewidth\": 0, \"ticks\": \"\"}}, \"marker\": {\"colorbar\": {\"outlinewidth\": 0, \"ticks\": \"\"}}, \"type\": \"scatter3d\"}], \"scattercarpet\": [{\"marker\": {\"colorbar\": {\"outlinewidth\": 0, \"ticks\": \"\"}}, \"type\": \"scattercarpet\"}], \"scattergeo\": [{\"marker\": {\"colorbar\": {\"outlinewidth\": 0, \"ticks\": \"\"}}, \"type\": \"scattergeo\"}], \"scattergl\": [{\"marker\": {\"colorbar\": {\"outlinewidth\": 0, \"ticks\": \"\"}}, \"type\": \"scattergl\"}], \"scattermapbox\": [{\"marker\": {\"colorbar\": {\"outlinewidth\": 0, \"ticks\": \"\"}}, \"type\": \"scattermapbox\"}], \"scatterpolar\": [{\"marker\": {\"colorbar\": {\"outlinewidth\": 0, \"ticks\": \"\"}}, \"type\": \"scatterpolar\"}], \"scatterpolargl\": [{\"marker\": {\"colorbar\": {\"outlinewidth\": 0, \"ticks\": \"\"}}, \"type\": \"scatterpolargl\"}], \"scatterternary\": [{\"marker\": {\"colorbar\": {\"outlinewidth\": 0, \"ticks\": \"\"}}, \"type\": \"scatterternary\"}], \"surface\": [{\"colorbar\": {\"outlinewidth\": 0, \"ticks\": \"\"}, \"colorscale\": [[0.0, \"#0d0887\"], [0.1111111111111111, \"#46039f\"], [0.2222222222222222, \"#7201a8\"], [0.3333333333333333, \"#9c179e\"], [0.4444444444444444, \"#bd3786\"], [0.5555555555555556, \"#d8576b\"], [0.6666666666666666, \"#ed7953\"], [0.7777777777777778, \"#fb9f3a\"], [0.8888888888888888, \"#fdca26\"], [1.0, \"#f0f921\"]], \"type\": \"surface\"}], \"table\": [{\"cells\": {\"fill\": {\"color\": \"#EBF0F8\"}, \"line\": {\"color\": \"white\"}}, \"header\": {\"fill\": {\"color\": \"#C8D4E3\"}, \"line\": {\"color\": \"white\"}}, \"type\": \"table\"}]}, \"layout\": {\"annotationdefaults\": {\"arrowcolor\": \"#2a3f5f\", \"arrowhead\": 0, \"arrowwidth\": 1}, \"autotypenumbers\": \"strict\", \"coloraxis\": {\"colorbar\": {\"outlinewidth\": 0, \"ticks\": \"\"}}, \"colorscale\": {\"diverging\": [[0, \"#8e0152\"], [0.1, \"#c51b7d\"], [0.2, \"#de77ae\"], [0.3, \"#f1b6da\"], [0.4, \"#fde0ef\"], [0.5, \"#f7f7f7\"], [0.6, \"#e6f5d0\"], [0.7, \"#b8e186\"], [0.8, \"#7fbc41\"], [0.9, \"#4d9221\"], [1, \"#276419\"]], \"sequential\": [[0.0, \"#0d0887\"], [0.1111111111111111, \"#46039f\"], [0.2222222222222222, \"#7201a8\"], [0.3333333333333333, \"#9c179e\"], [0.4444444444444444, \"#bd3786\"], [0.5555555555555556, \"#d8576b\"], [0.6666666666666666, \"#ed7953\"], [0.7777777777777778, \"#fb9f3a\"], [0.8888888888888888, \"#fdca26\"], [1.0, \"#f0f921\"]], \"sequentialminus\": [[0.0, \"#0d0887\"], [0.1111111111111111, \"#46039f\"], [0.2222222222222222, \"#7201a8\"], [0.3333333333333333, \"#9c179e\"], [0.4444444444444444, \"#bd3786\"], [0.5555555555555556, \"#d8576b\"], [0.6666666666666666, \"#ed7953\"], [0.7777777777777778, \"#fb9f3a\"], [0.8888888888888888, \"#fdca26\"], [1.0, \"#f0f921\"]]}, \"colorway\": [\"#636efa\", \"#EF553B\", \"#00cc96\", \"#ab63fa\", \"#FFA15A\", \"#19d3f3\", \"#FF6692\", \"#B6E880\", \"#FF97FF\", \"#FECB52\"], \"font\": {\"color\": \"#2a3f5f\"}, \"geo\": {\"bgcolor\": \"white\", \"lakecolor\": \"white\", \"landcolor\": \"#E5ECF6\", \"showlakes\": true, \"showland\": true, \"subunitcolor\": \"white\"}, \"hoverlabel\": {\"align\": \"left\"}, \"hovermode\": \"closest\", \"mapbox\": {\"style\": \"light\"}, \"paper_bgcolor\": \"white\", \"plot_bgcolor\": \"#E5ECF6\", \"polar\": {\"angularaxis\": {\"gridcolor\": \"white\", \"linecolor\": \"white\", \"ticks\": \"\"}, \"bgcolor\": \"#E5ECF6\", \"radialaxis\": {\"gridcolor\": \"white\", \"linecolor\": \"white\", \"ticks\": \"\"}}, \"scene\": {\"xaxis\": {\"backgroundcolor\": \"#E5ECF6\", \"gridcolor\": \"white\", \"gridwidth\": 2, \"linecolor\": \"white\", \"showbackground\": true, \"ticks\": \"\", \"zerolinecolor\": \"white\"}, \"yaxis\": {\"backgroundcolor\": \"#E5ECF6\", \"gridcolor\": \"white\", \"gridwidth\": 2, \"linecolor\": \"white\", \"showbackground\": true, \"ticks\": \"\", \"zerolinecolor\": \"white\"}, \"zaxis\": {\"backgroundcolor\": \"#E5ECF6\", \"gridcolor\": \"white\", \"gridwidth\": 2, \"linecolor\": \"white\", \"showbackground\": true, \"ticks\": \"\", \"zerolinecolor\": \"white\"}}, \"shapedefaults\": {\"line\": {\"color\": \"#2a3f5f\"}}, \"ternary\": {\"aaxis\": {\"gridcolor\": \"white\", \"linecolor\": \"white\", \"ticks\": \"\"}, \"baxis\": {\"gridcolor\": \"white\", \"linecolor\": \"white\", \"ticks\": \"\"}, \"bgcolor\": \"#E5ECF6\", \"caxis\": {\"gridcolor\": \"white\", \"linecolor\": \"white\", \"ticks\": \"\"}}, \"title\": {\"x\": 0.05}, \"xaxis\": {\"automargin\": true, \"gridcolor\": \"white\", \"linecolor\": \"white\", \"ticks\": \"\", \"title\": {\"standoff\": 15}, \"zerolinecolor\": \"white\", \"zerolinewidth\": 2}, \"yaxis\": {\"automargin\": true, \"gridcolor\": \"white\", \"linecolor\": \"white\", \"ticks\": \"\", \"title\": {\"standoff\": 15}, \"zerolinecolor\": \"white\", \"zerolinewidth\": 2}}}, \"title\": {\"text\": \"Gender and Age of Human Trafficking Victims\"}, \"width\": 600},                        {\"responsive\": true}                    ).then(function(){\n",
       "                            \n",
       "var gd = document.getElementById('33bb3002-98bb-480e-a34a-5b8924ecee7b');\n",
       "var x = new MutationObserver(function (mutations, observer) {{\n",
       "        var display = window.getComputedStyle(gd).display;\n",
       "        if (!display || display === 'none') {{\n",
       "            console.log([gd, 'removed!']);\n",
       "            Plotly.purge(gd);\n",
       "            observer.disconnect();\n",
       "        }}\n",
       "}});\n",
       "\n",
       "// Listen for the removal of the full notebook cells\n",
       "var notebookContainer = gd.closest('#notebook-container');\n",
       "if (notebookContainer) {{\n",
       "    x.observe(notebookContainer, {childList: true});\n",
       "}}\n",
       "\n",
       "// Listen for the clearing of the current output cell\n",
       "var outputEl = gd.closest('.output');\n",
       "if (outputEl) {{\n",
       "    x.observe(outputEl, {childList: true});\n",
       "}}\n",
       "\n",
       "                        })                };                });            </script>        </div>"
      ]
     },
     "metadata": {},
     "output_type": "display_data"
    }
   ],
   "source": [
    "df['Victims'] = 1\n",
    "fig = px.sunburst(df[df.ageBroad.notna()], path=['gender', 'ageBroad'], values='Victims', color='gender',\n",
    "                  title='Gender and Age of Human Trafficking Victims')\n",
    "fig.update_layout(width=600, height=600)\n",
    "fig.show()"
   ]
  },
  {
   "cell_type": "markdown",
   "metadata": {},
   "source": [
    "### Total Number of Origin Countries Analyzed"
   ]
  },
  {
   "cell_type": "code",
   "execution_count": 94,
   "metadata": {},
   "outputs": [
    {
     "data": {
      "text/plain": [
       "44"
      ]
     },
     "execution_count": 94,
     "metadata": {},
     "output_type": "execute_result"
    }
   ],
   "source": [
    "df.loc[:, 'citizenship'].nunique()"
   ]
  },
  {
   "cell_type": "markdown",
   "metadata": {},
   "source": [
    "### Machine Learning\n",
    "\n",
    "Clean up the data for analysis.\n",
    "The target is to determine the type of exploration.\n",
    "correlateted features were removed."
   ]
  },
  {
   "cell_type": "code",
   "execution_count": 47,
   "metadata": {},
   "outputs": [
    {
     "data": {
      "text/plain": [
       "'df2 = df.copy()                                                # still requires work\\ndf2 = df2.loc[df.yearOfRegistration > 2016\\ndf2 = df2.drop([\\'meansOfControlConcatenated\\',\\n                    \\'isForcedLabour\\',\\n                    \\'isSexualExploit\\',\\n                    \\'isOtherExploit\\',\\n                    \\'isSexAndLabour\\',\\n                    \\'isForcedMarriage\\',\\n                    \\'isForcedMilitary\\',\\n                    \\'isOrganRemoval\\',\\n                    \\'typeOfLabourAgriculture\\',\\n                    \\'typeOfLabourAquafarming\\',\\n                    \\'typeOfLabourBegging\\',\\n                    \\'typeOfLabourConstruction\\',\\n                    \\'typeOfLabourDomesticWork\\',\\n                    \\'typeOfLabourHospitality\\',\\n                    \\'typeOfLabourIllicitActivities\\',\\n                    \\'typeOfLabourManufacturing\\',\\n                    \\'typeOfLabourMiningOrDrilling\\',\\n                    \\'typeOfLabourPeddling\\',\\n                    \\'typeOfLabourTransportation\\',\\n                    \\'typeOfLabourOther\\',\\n                    \\'typeOfLabourNotSpecified\\',\\n                    \\'typeOfLabourConcatenated\\',\\n                    \\'typeOfSexProstitution\\',\\n                    \\'typeOfSexPornography\\',\\n                    \\'typeOfSexRemoteInteractiveServices\\',\\n                    \\'typeOfSexPrivateSexualServices\\',\\n                    \\'typeOfSexConcatenated\\'], axis=1)\\n\\ndf2.shape\\n\\nfor column in ctdc2.columns:\\n    if ctdc2[column].dtype == type(object):\\n        le = preprocessing.LabelEncoder()\\n        ctdc2[column] = le.fit_transform(ctdc2[column])\\n\\nctdc_target = ctdc2[\\'typeOfExploitConcatenated\\']\\ntarget_labels = [\\'Forced Labour\\', \\'Forced Marriage\\', \\'Forced Military\\',\\n                 \\'Organ Removal\\', \\'Other Exploit\\', \\'Sex and Labour\\',\\n                 \\'Sexual Exploit\\']\\nctdc3 = ctdc2.copy()\\nctdc3 = ctdc3.drop([\\'typeOfExploitConcatenated\\'], axis=1)\\nX = ctdc3\\ny = ctdc_target\\ndecision_tree = DecisionTreeClassifier(random_state=0, max_depth=3)\\ndecision_tree = decision_tree.fit(X, y)\\n\\ntree_data = tree.export_graphviz(decision_tree, out_file=None,\\n                                 feature_names=ctdc3.columns,\\n                                 class_names=target_labels,\\n                                 filled=True, rounded=True,\\n                                 special_characters=True)\\ngraph = graphviz.Source(tree_data)\\ngraph.render(\"CTDC Decision Tree\", view=True)'"
      ]
     },
     "execution_count": 47,
     "metadata": {},
     "output_type": "execute_result"
    }
   ],
   "source": [
    "'''df2 = df.copy()                                                # still requires work\n",
    "df2 = df2.loc[df.yearOfRegistration > 2016\n",
    "df2 = df2.drop(['meansOfControlConcatenated',\n",
    "                    'isForcedLabour',\n",
    "                    'isSexualExploit',\n",
    "                    'isOtherExploit',\n",
    "                    'isSexAndLabour',\n",
    "                    'isForcedMarriage',\n",
    "                    'isForcedMilitary',\n",
    "                    'isOrganRemoval',\n",
    "                    'typeOfLabourAgriculture',\n",
    "                    'typeOfLabourAquafarming',\n",
    "                    'typeOfLabourBegging',\n",
    "                    'typeOfLabourConstruction',\n",
    "                    'typeOfLabourDomesticWork',\n",
    "                    'typeOfLabourHospitality',\n",
    "                    'typeOfLabourIllicitActivities',\n",
    "                    'typeOfLabourManufacturing',\n",
    "                    'typeOfLabourMiningOrDrilling',\n",
    "                    'typeOfLabourPeddling',\n",
    "                    'typeOfLabourTransportation',\n",
    "                    'typeOfLabourOther',\n",
    "                    'typeOfLabourNotSpecified',\n",
    "                    'typeOfLabourConcatenated',\n",
    "                    'typeOfSexProstitution',\n",
    "                    'typeOfSexPornography',\n",
    "                    'typeOfSexRemoteInteractiveServices',\n",
    "                    'typeOfSexPrivateSexualServices',\n",
    "                    'typeOfSexConcatenated'], axis=1)\n",
    "\n",
    "df2.shape\n",
    "\n",
    "for column in ctdc2.columns:\n",
    "    if ctdc2[column].dtype == type(object):\n",
    "        le = preprocessing.LabelEncoder()\n",
    "        ctdc2[column] = le.fit_transform(ctdc2[column])\n",
    "\n",
    "ctdc_target = ctdc2['typeOfExploitConcatenated']\n",
    "target_labels = ['Forced Labour', 'Forced Marriage', 'Forced Military',\n",
    "                 'Organ Removal', 'Other Exploit', 'Sex and Labour',\n",
    "                 'Sexual Exploit']\n",
    "ctdc3 = ctdc2.copy()\n",
    "ctdc3 = ctdc3.drop(['typeOfExploitConcatenated'], axis=1)\n",
    "X = ctdc3\n",
    "y = ctdc_target\n",
    "decision_tree = DecisionTreeClassifier(random_state=0, max_depth=3)\n",
    "decision_tree = decision_tree.fit(X, y)\n",
    "\n",
    "tree_data = tree.export_graphviz(decision_tree, out_file=None,\n",
    "                                 feature_names=ctdc3.columns,\n",
    "                                 class_names=target_labels,\n",
    "                                 filled=True, rounded=True,\n",
    "                                 special_characters=True)\n",
    "graph = graphviz.Source(tree_data)\n",
    "graph.render(\"CTDC Decision Tree\", view=True)'''\n"
   ]
  },
  {
   "cell_type": "markdown",
   "metadata": {},
   "source": [
    "#pd.set_option(\"display.max_rows\", None, \"display.max_columns\", None)\n"
   ]
  }
 ],
 "metadata": {
  "kernelspec": {
   "display_name": "Python 3",
   "language": "python",
   "name": "python3"
  },
  "language_info": {
   "codemirror_mode": {
    "name": "ipython",
    "version": 3
   },
   "file_extension": ".py",
   "mimetype": "text/x-python",
   "name": "python",
   "nbconvert_exporter": "python",
   "pygments_lexer": "ipython3",
   "version": "3.8.5"
  },
  "nbTranslate": {
   "displayLangs": [
    "de"
   ],
   "hotkey": "alt-t",
   "langInMainMenu": true,
   "sourceLang": "en",
   "targetLang": "de",
   "useGoogleTranslate": true
  },
  "toc": {
   "base_numbering": "1",
   "nav_menu": {},
   "number_sections": true,
   "sideBar": true,
   "skip_h1_title": false,
   "title_cell": "Table of Contents",
   "title_sidebar": "Table of Contents",
   "toc_cell": false,
   "toc_position": {},
   "toc_section_display": false,
   "toc_window_display": false
  }
 },
 "nbformat": 4,
 "nbformat_minor": 4
}
